{
 "cells": [
  {
   "cell_type": "code",
   "execution_count": 66,
   "metadata": {},
   "outputs": [],
   "source": [
    "import datetime \n",
    "\n",
    "future_static_fields = ['FUT_DLV_DT_LAST', 'FUT_DLV_DT_FIRST', 'FUT_CNVS_FACTOR', 'FUT_CTD_ISIN',\n",
    "                            'FUT_FIRST_TRADE_DT', 'LAST_TRADEABLE_DT', 'BAD_FLD']\n",
    "     \n",
    "bond_fut_hist_fields = ['PX_OPEN', 'PX_HIGH', 'PX_LOW', 'PX_LAST', \"PX_VOLUME\", 'OPEN_INT', \"FUT_CTD_CUSIP\", \"FUT_CNVS_FACTOR\", \n",
    "                        \"FUT_IMPLIED_REPO_RT\", \"FUT_ACTUAL_REPO_RT\", \"CONVENTIONAL_CTD_FORWARD_FRSK\"]\n",
    "\n",
    "pricing_fields = ['MODEL PRICE', 'ADJUSTED MODEL PRICE', 'MODEL PRICE ADJUSTMENT', 'MONETARY VALUE', 'PV',\n",
    "                      'CTD YIELD TO MATURITY', 'DV01', 'DV01 CONTRACT', 'DV01 100', 'INVOICED AMOUNT', 'CTD BOND',\n",
    "                      'CTD CONVERSION FACTOR', 'ASSUMED DELIVERY DATE', 'LAST TRADING DATE', 'NOTIONAL', 'UPDATED',\n",
    "                      'ID']\n",
    " \n",
    "bulk_field = \"FUT_CHAIN\"\n",
    "ticker = \"TYZ3 Comdty\"  \n",
    "today_dt = datetime.datetime.today()\n",
    "start_dt = datetime.datetime(2013, 1, 1)"
   ]
  },
  {
   "cell_type": "markdown",
   "metadata": {},
   "source": [
    "#### tia.bbg"
   ]
  },
  {
   "cell_type": "code",
   "execution_count": null,
   "metadata": {},
   "outputs": [],
   "source": [
    "from tia.bbg import LocalTerminal"
   ]
  },
  {
   "cell_type": "code",
   "execution_count": 75,
   "metadata": {},
   "outputs": [
    {
     "data": {
      "text/html": [
       "<div>\n",
       "<style scoped>\n",
       "    .dataframe tbody tr th:only-of-type {\n",
       "        vertical-align: middle;\n",
       "    }\n",
       "\n",
       "    .dataframe tbody tr th {\n",
       "        vertical-align: top;\n",
       "    }\n",
       "\n",
       "    .dataframe thead th {\n",
       "        text-align: right;\n",
       "    }\n",
       "</style>\n",
       "<table border=\"1\" class=\"dataframe\">\n",
       "  <thead>\n",
       "    <tr style=\"text-align: right;\">\n",
       "      <th></th>\n",
       "      <th>PX_OPEN</th>\n",
       "    </tr>\n",
       "    <tr>\n",
       "      <th>date</th>\n",
       "      <th></th>\n",
       "    </tr>\n",
       "  </thead>\n",
       "  <tbody>\n",
       "    <tr>\n",
       "      <th>2023-05-09</th>\n",
       "      <td>116.796875</td>\n",
       "    </tr>\n",
       "    <tr>\n",
       "      <th>2023-05-30</th>\n",
       "      <td>115.062500</td>\n",
       "    </tr>\n",
       "    <tr>\n",
       "      <th>2023-06-02</th>\n",
       "      <td>114.562500</td>\n",
       "    </tr>\n",
       "    <tr>\n",
       "      <th>2023-06-05</th>\n",
       "      <td>114.312500</td>\n",
       "    </tr>\n",
       "    <tr>\n",
       "      <th>2023-06-07</th>\n",
       "      <td>114.015625</td>\n",
       "    </tr>\n",
       "    <tr>\n",
       "      <th>...</th>\n",
       "      <td>...</td>\n",
       "    </tr>\n",
       "    <tr>\n",
       "      <th>2023-11-09</th>\n",
       "      <td>108.437500</td>\n",
       "    </tr>\n",
       "    <tr>\n",
       "      <th>2023-11-10</th>\n",
       "      <td>107.562500</td>\n",
       "    </tr>\n",
       "    <tr>\n",
       "      <th>2023-11-13</th>\n",
       "      <td>107.343750</td>\n",
       "    </tr>\n",
       "    <tr>\n",
       "      <th>2023-11-14</th>\n",
       "      <td>107.359375</td>\n",
       "    </tr>\n",
       "    <tr>\n",
       "      <th>2023-11-15</th>\n",
       "      <td>108.796875</td>\n",
       "    </tr>\n",
       "  </tbody>\n",
       "</table>\n",
       "<p>117 rows × 1 columns</p>\n",
       "</div>"
      ],
      "text/plain": [
       "               PX_OPEN\n",
       "date                  \n",
       "2023-05-09  116.796875\n",
       "2023-05-30  115.062500\n",
       "2023-06-02  114.562500\n",
       "2023-06-05  114.312500\n",
       "2023-06-07  114.015625\n",
       "...                ...\n",
       "2023-11-09  108.437500\n",
       "2023-11-10  107.562500\n",
       "2023-11-13  107.343750\n",
       "2023-11-14  107.359375\n",
       "2023-11-15  108.796875\n",
       "\n",
       "[117 rows x 1 columns]"
      ]
     },
     "execution_count": 75,
     "metadata": {},
     "output_type": "execute_result"
    }
   ],
   "source": [
    "# Historical\n",
    "historyresponse = LocalTerminal.get_historical(ticker, bond_fut_hist_fields[0], start=start_dt, end=today_dt,\n",
    "                                                       ignore_security_error=True,\n",
    "                                                       ignore_field_error=True)\n",
    "history = historyresponse.as_frame()\n",
    "history.columns = [bond_fut_hist_fields[0]]\n",
    "history"
   ]
  },
  {
   "cell_type": "markdown",
   "metadata": {},
   "source": [
    "#### blp Module"
   ]
  },
  {
   "cell_type": "code",
   "execution_count": 50,
   "metadata": {},
   "outputs": [],
   "source": [
    "from blp import blp\n",
    "import re\n",
    "\n",
    "blpparser = blp.BlpParser(raise_security_errors=False)\n",
    "bquery = blp.BlpQuery(parser=blpparser).start()\n",
    "\n",
    "def get_ref(ticker, fields):\n",
    "    while len(fields) > 0:\n",
    "        try:\n",
    "            data = bquery.bdp(ticker, fields)\n",
    "            break\n",
    "        except TypeError as e:\n",
    "            if 'fieldException' in str(e):\n",
    "                match = re.search(\"'fieldId': '([^']+)'\", str(e))\n",
    "                err_fld = match.group(1)\n",
    "                fields.remove(err_fld)\n",
    "        except Exception as e:\n",
    "            if 'Session Not Started' in str(e):\n",
    "                print('Session Not Started')\n",
    "            else:\n",
    "                print(e)\n",
    "            break\n",
    "    return data.to_dict(orient='records')[0]\n",
    "\n",
    "def get_history(ticker, fld, start_dt, end_dt):\n",
    "    while True:\n",
    "        try:\n",
    "            data = bquery.bdh(ticker, fld, start_dt.strftime(\"%Y%m%d\"), end_dt.strftime(\"%Y%m%d\"))\n",
    "            return data\n",
    "        except Exception as e:\n",
    "            return None\n",
    "    "
   ]
  },
  {
   "cell_type": "code",
   "execution_count": 63,
   "metadata": {},
   "outputs": [
    {
     "data": {
      "text/plain": [
       "{'security': 'TYZ3 Comdty',\n",
       " 'FUT_DLV_DT_LAST': Timestamp('2023-12-29 00:00:00'),\n",
       " 'FUT_DLV_DT_FIRST': Timestamp('2023-12-01 00:00:00'),\n",
       " 'FUT_CNVS_FACTOR': 0.9003,\n",
       " 'FUT_CTD_ISIN': 'US91282CHW47',\n",
       " 'FUT_FIRST_TRADE_DT': Timestamp('2023-03-23 00:00:00'),\n",
       " 'LAST_TRADEABLE_DT': Timestamp('2023-12-19 00:00:00')}"
      ]
     },
     "execution_count": 63,
     "metadata": {},
     "output_type": "execute_result"
    }
   ],
   "source": [
    "get_ref(ticker, future_static_fields)"
   ]
  },
  {
   "cell_type": "code",
   "execution_count": 96,
   "metadata": {},
   "outputs": [],
   "source": [
    "today_str = today_dt.strftime(\"%Y%m%d\")\n",
    "start_str = start_dt.strftime(\"%Y%m%d\")\n",
    "df = bquery.bdh([ticker], [bond_fut_hist_fields[0]], start_str, today_str,)\n",
    "df.set_index('date', inplace=True)\n",
    "df.drop('security', axis=1, inplace=True)\n",
    "df"
   ]
  },
  {
   "cell_type": "code",
   "execution_count": 98,
   "metadata": {},
   "outputs": [
    {
     "data": {
      "text/html": [
       "<div>\n",
       "<style scoped>\n",
       "    .dataframe tbody tr th:only-of-type {\n",
       "        vertical-align: middle;\n",
       "    }\n",
       "\n",
       "    .dataframe tbody tr th {\n",
       "        vertical-align: top;\n",
       "    }\n",
       "\n",
       "    .dataframe thead th {\n",
       "        text-align: right;\n",
       "    }\n",
       "</style>\n",
       "<table border=\"1\" class=\"dataframe\">\n",
       "  <thead>\n",
       "    <tr style=\"text-align: right;\">\n",
       "      <th></th>\n",
       "      <th>Security Description</th>\n",
       "    </tr>\n",
       "  </thead>\n",
       "  <tbody>\n",
       "    <tr>\n",
       "      <th>0</th>\n",
       "      <td>TYZ3 Comdty</td>\n",
       "    </tr>\n",
       "    <tr>\n",
       "      <th>1</th>\n",
       "      <td>TYH4 Comdty</td>\n",
       "    </tr>\n",
       "    <tr>\n",
       "      <th>2</th>\n",
       "      <td>TYM4 Comdty</td>\n",
       "    </tr>\n",
       "  </tbody>\n",
       "</table>\n",
       "</div>"
      ],
      "text/plain": [
       "  Security Description\n",
       "0          TYZ3 Comdty\n",
       "1          TYH4 Comdty\n",
       "2          TYM4 Comdty"
      ]
     },
     "execution_count": 98,
     "metadata": {},
     "output_type": "execute_result"
    }
   ],
   "source": [
    "bquery.bds(ticker, bulk_field)"
   ]
  }
 ],
 "metadata": {
  "kernelspec": {
   "display_name": "base",
   "language": "python",
   "name": "python3"
  },
  "language_info": {
   "codemirror_mode": {
    "name": "ipython",
    "version": 3
   },
   "file_extension": ".py",
   "mimetype": "text/x-python",
   "name": "python",
   "nbconvert_exporter": "python",
   "pygments_lexer": "ipython3",
   "version": "3.10.9"
  },
  "orig_nbformat": 4
 },
 "nbformat": 4,
 "nbformat_minor": 2
}
