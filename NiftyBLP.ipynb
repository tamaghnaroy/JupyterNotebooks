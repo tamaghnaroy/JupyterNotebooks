{
 "cells": [
  {
   "cell_type": "code",
   "execution_count": 6,
   "metadata": {},
   "outputs": [],
   "source": [
    "import numpy as np\n",
    "import pandas as pd\n",
    "from blp import blp\n",
    "import warnings\n",
    "from datetime import datetime, date\n",
    "\n",
    "start_date = pd.to_datetime(date(2010, 1, 1))\n",
    "end_date = pd.to_datetime(date.today())\n",
    "\n",
    "bquery = blp.BlpQuery().start()\n",
    "data_df = bquery.bdh(\"NIFTY Index\", [\"PX_OPEN\", \"PX_HIGH\", \"PX_LOW\", \"PX_LAST\"],start_date=start_date.strftime('%Y%m%d'), end_date=end_date.strftime('%Y%m%d'))\n",
    "\n",
    "bquery.stop()"
   ]
  },
  {
   "cell_type": "code",
   "execution_count": 7,
   "metadata": {},
   "outputs": [],
   "source": [
    "data_df.to_csv('nifty_data.csv')"
   ]
  }
 ],
 "metadata": {
  "kernelspec": {
   "display_name": "base",
   "language": "python",
   "name": "python3"
  },
  "language_info": {
   "codemirror_mode": {
    "name": "ipython",
    "version": 3
   },
   "file_extension": ".py",
   "mimetype": "text/x-python",
   "name": "python",
   "nbconvert_exporter": "python",
   "pygments_lexer": "ipython3",
   "version": "3.12.4"
  }
 },
 "nbformat": 4,
 "nbformat_minor": 2
}
