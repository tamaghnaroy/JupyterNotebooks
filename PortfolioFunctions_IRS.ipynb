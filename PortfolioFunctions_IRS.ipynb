{
 "cells": [
  {
   "cell_type": "code",
   "execution_count": 1,
   "metadata": {},
   "outputs": [
    {
     "name": "stdout",
     "output_type": "stream",
     "text": [
      "Python 3.7.6 (default, Jan  8 2020, 20:23:39) [MSC v.1916 64 bit (AMD64)] on win32\n"
     ]
    },
    {
     "name": "stderr",
     "output_type": "stream",
     "text": [
      "C:\\Users\\troy\\Anaconda3\\lib\\site-packages\\IPython\\core\\interactiveshell.py:3444: DtypeWarning: Columns (29,44,45,47,48,50,51,66,72,73,74) have mixed types.Specify dtype option on import or set low_memory=False.\n",
      "  exec(code_obj, self.user_global_ns, self.user_ns)\n"
     ]
    },
    {
     "name": "stdout",
     "output_type": "stream",
     "text": [
      "[]\n"
     ]
    }
   ],
   "source": [
    "%load_ext autoreload\n",
    "%autoreload 2\n",
    "\n",
    "import sys; print('Python %s on %s' % (sys.version, sys.platform))\n",
    "sys.path.extend(['C:\\\\Users\\\\troy\\\\Documents\\\\Code\\\\Libraries', 'C:\\\\Users\\\\troy\\\\Documents\\\\Excel Sheets', 'C:/Users/troy/Documents/Code/Libraries'])\n",
    "from datetime import date, datetime\n",
    "import numpy as np\n",
    "import pandas as pd\n",
    "import ipywidgets as widgets\n",
    "import matplotlib.pyplot as plt\n",
    "import autoreload\n",
    "\n",
    "import dash_bootstrap_components as dbc\n",
    "import plotly.express as px\n",
    "from jupyter_dash import JupyterDash\n",
    "import dash_core_components as dcc\n",
    "import dash_html_components as html\n",
    "import dash_table\n",
    "from dash.dependencies import Input, Output\n",
    "\n",
    "from FinAPI.PortfolioAnalysis.AnalyzePortfolio import Portfolio\n",
    "\n",
    "today = date(2022, 2, 11)\n",
    "objPortfolio = Portfolio(today)"
   ]
  },
  {
   "cell_type": "markdown",
   "metadata": {},
   "source": [
    "## Diagnosis of CSV Read"
   ]
  },
  {
   "cell_type": "code",
   "execution_count": 20,
   "metadata": {},
   "outputs": [
    {
     "name": "stderr",
     "output_type": "stream",
     "text": [
      "C:\\Users\\troy\\Anaconda3\\lib\\site-packages\\IPython\\core\\interactiveshell.py:3173: DtypeWarning: Columns (29,44,45,47,48,50,51,66,72,73,74) have mixed types.Specify dtype option on import or set low_memory=False.\n",
      "  interactivity=interactivity, compiler=compiler, result=result)\n"
     ]
    },
    {
     "data": {
      "text/plain": [
       "''"
      ]
     },
     "execution_count": 20,
     "metadata": {},
     "output_type": "execute_result"
    }
   ],
   "source": [
    "trade_dump_folder = r\"C:\\Users\\troy\\Documents\\Excel Sheets\\Blotter Dump\"\n",
    "filename = \"Dump_%s.csv\" % today.strftime(\"%Y%m%d\")\n",
    "expected_file_path = os.path.join(trade_dump_folder, filename)\n",
    "df = pd.read_csv(expected_file_path, encoding='latin1', thousands=',',\n",
    "                             skipinitialspace=True)\n",
    "\n",
    "# Parse Dates\n",
    "parse_dates = ['Trade Date', 'Settlement Date', 'Maturity Date', 'AutoClose Date',\n",
    "                       'Premium Date', 'Barrier1 Effective Date', 'Barrier1 Maturity Date',\n",
    "                       'Barrier2 Effective Date', 'Barrier2 Maturity Date', 'First Notice Date',\n",
    "                       'Upcoming Fixing Date', 'Repo Close Date']\n",
    "\n",
    "warnings = []\n",
    "for c in parse_dates:\n",
    "    try:\n",
    "        df[c] = pd.to_datetime(df[c])\n",
    "    except Exception as e:\n",
    "        warnings.append(\"Column %s could not be parsed to a date time column: err msg - %s\" % (c, e))\n",
    "\n",
    "# Parse Columns acccording to the specified dtype\n",
    "\n",
    "dtypes = {'Block Id': 'Int64',\n",
    "            'MarketBlockId': 'Int64',\n",
    "            'Asset Type': 'str',\n",
    "            'TradeID': 'Int64',\n",
    "            'Trade Name': 'str',\n",
    "            'Security Id': 'str',\n",
    "            'Account Name': 'str',\n",
    "            'Trader Name': 'str',\n",
    "            'Theme Name': 'str',\n",
    "            'Asset Class': 'str',\n",
    "            'Entered By User Name': 'str',\n",
    "            'Approved By User Name': 'str',\n",
    "            'Verified By User Name': 'str',\n",
    "            'Tradar Id': 'Int64',\n",
    "            'Trade Date': 'str',\n",
    "            'Settlement Date': 'str',\n",
    "            'Upcoming Fixing Date': 'str',\n",
    "            'Repo Close Date': 'str',\n",
    "            'Maturity Date': 'str',\n",
    "            'Is Trade Open': 'str',\n",
    "            'Auto Open Close': 'str',\n",
    "            'ISIN': 'str',\n",
    "            'BBG Type': 'str',\n",
    "            'Description': 'str',\n",
    "            'Currency Code': 'str',\n",
    "            'Notional': 'str',\n",
    "            'Secondary CCY': 'str',\n",
    "            'Secondary Notional': 'str',\n",
    "            'Trade Type': 'str',\n",
    "            'Trade Price': 'str',\n",
    "            'Rate': 'float',\n",
    "            'Counter Party': 'str',\n",
    "            'Trade BBG Type': 'str',\n",
    "            'Country Name': 'str',\n",
    "            'Capital Allocation': 'float',\n",
    "            'Trade Name Capital Perc': 'float',\n",
    "            'Number Of Contracts': 'float',\n",
    "            'Bond Issuer': 'str',\n",
    "            'Tradar Pay Account': 'str',\n",
    "            'Tradar Account': 'str',\n",
    "            'Op Notes': 'str',\n",
    "            'AutoClose Date': 'str',\n",
    "            'FXSwap Package': 'str',\n",
    "            'Barrier1': 'float',\n",
    "            'Barrier1 Effective Date': 'str',\n",
    "            'Barrier1 Maturity Date': 'str',\n",
    "            'Barrier2': 'float',\n",
    "            'Barrier2 Effective Date': 'str',\n",
    "            'Barrier2 Maturity Date': 'str',\n",
    "            'Strike2': 'float',\n",
    "            'CuttOfTime2': 'str',\n",
    "            'Receive Ccy2': 'str',\n",
    "            'Pay Ccy2': 'str',\n",
    "            'Option PayOut2': 'str',\n",
    "            'Premium': 'float',\n",
    "            'Upfront': 'float',\n",
    "            'CutOffTime': 'str',\n",
    "            'Option Type': 'str',\n",
    "            'Option Style': 'str',\n",
    "            'Option PayOut': 'str',\n",
    "            'Currency 1': 'str',\n",
    "            'Currency 2': 'str',\n",
    "            'Currency1 Notional': 'str',\n",
    "            'Currency2 Notional': 'str',\n",
    "            'Upfront Ccy': 'str',\n",
    "            'Premium Date': 'str',\n",
    "            'Accrued Interest': 'str',\n",
    "            'Fixing Trade Id': 'Int64',\n",
    "            'Benchmark 1': 'str',\n",
    "            'Benchmark 2': 'str',\n",
    "            'Is Matured': 'bool',\n",
    "            'Is NDIRS': 'bool',\n",
    "            'Repo Settlement Amount': 'float',\n",
    "            'First Notice Date': 'str'\n",
    "        }\n",
    "\n",
    "def manual_strip(df_col, type_val):\n",
    "    df_col = df_col.str.strip()\n",
    "    df_col = df_col.str.replace(',','',regex=True)\n",
    "    df_col = df_col.replace( '[)]','', regex=True)\n",
    "    df_col = df_col.replace('[(]','-', regex=True)\n",
    "    df_col = df_col.astype(type_val)\n",
    "    return df_col\n",
    "\n",
    "for c in dtypes:\n",
    "    try:\n",
    "        df[c] = df[c].astype(dtypes[c])\n",
    "    except Exception as e:\n",
    "        try:\n",
    "            df[c] = manual_strip(df[c], dtypes[c])\n",
    "        except Exception as e:\n",
    "            warnings.append(\"Column %s could not be parsed to a %s column: err msg - %s\" % (c, dtypes[c], e))\n",
    "\n",
    "warning_msg = \"\\n\".join(warnings)\n",
    "warning_msg"
   ]
  },
  {
   "cell_type": "markdown",
   "metadata": {},
   "source": [
    "## PIvot Table Diagnosis"
   ]
  },
  {
   "cell_type": "code",
   "execution_count": 2,
   "metadata": {},
   "outputs": [
    {
     "name": "stdout",
     "output_type": "stream",
     "text": [
      "(11466, 77)\n",
      "(11466, 77)\n",
      "(11466, 77)\n",
      "(11466, 77)\n",
      "(6327, 77)\n",
      "(6327, 77)\n",
      "(5229, 77)\n"
     ]
    }
   ],
   "source": [
    "# objPortfolio.create_position_pivot_with_filters('troy', 'ALL', 'ALL', 'ALL', True, False, True)\n",
    "trader = 'troy'\n",
    "asset_type = 'ALL'\n",
    "asset_class = 'ALL'\n",
    "theme_name = 'ALL'\n",
    "only_open = True\n",
    "only_options = False\n",
    "remove_matured = True\n",
    "df = objPortfolio.get_trades_by_trader(objPortfolio.raw_data, 'troy')\n",
    "print(df.shape)\n",
    "if asset_type.upper() != \"ALL\":\n",
    "    df = objPortfolio.filter_asset_type(df, asset_type)\n",
    "print(df.shape)\n",
    "if asset_class.upper() != \"ALL\":\n",
    "    df = objPortfolio.filter_asset_class(df, asset_class)\n",
    "print(df.shape)\n",
    "if theme_name.upper() != \"ALL\":\n",
    "    df = objPortfolio.filter_theme_names(df, theme_name)\n",
    "print(df.shape)\n",
    "if only_open:\n",
    "    df = objPortfolio.filter_only_open_trades(df)\n",
    "print(df.shape)\n",
    "if only_options:\n",
    "    df = objPortfolio.get_option_trades(df)\n",
    "print(df.shape)\n",
    "if remove_matured:\n",
    "    df = objPortfolio.filter_out_matured_trades(df)\n",
    "print(df.shape)"
   ]
  },
  {
   "cell_type": "code",
   "execution_count": 20,
   "metadata": {},
   "outputs": [],
   "source": [
    "col = objPortfolio.raw_data['Is Trade Open'].isin(['TRUE', 'True', 'true'])"
   ]
  },
  {
   "cell_type": "markdown",
   "metadata": {},
   "source": [
    "## Aggregated Swaps"
   ]
  },
  {
   "cell_type": "code",
   "execution_count": 33,
   "metadata": {},
   "outputs": [],
   "source": [
    "trader_df = objPortfolio.get_trades_by_trader(objPortfolio.raw_data, trader_name='troy')\n",
    "swap_df = trader_df[trader_df['Asset Type'] == 'Interest Rate Swap']\n",
    "\n",
    "column_names = ['Trade Name', 'Block Id', 'Security Id', 'Notional', 'Currency Code', 'Trade Price', 'Upfront', 'Trade Date', \n",
    "'Settlement Date', 'Maturity Date', 'Account Name', 'Benchmark 2']\n",
    "\n",
    "account_alloc_irs = pd.pivot_table(data=swap_df, values='Notional',\n",
    "                                index=['Trade Name', 'Block Id', 'Security Id'], columns='Account Name', margins=False, \n",
    "                                           aggfunc='sum').reset_index().fillna(0)                 \n",
    "account_names = [v for v in account_alloc_irs.columns if v not in [\"Total\", \"Trade Name\", \"Security Id\", 'Block Id']]\n",
    "# Comprehensive list of swaps with notionals summed up for each blockid, so we have a list of traded swaps\n",
    "agg_swap_df = swap_df[column_names].groupby(['Trade Name', 'Block Id', 'Security Id', 'Currency Code', \n",
    "                                             'Settlement Date', 'Maturity Date', 'Trade Price', 'Benchmark 2'])\\\n",
    "                                   .agg(dict(Notional='sum', Upfront='sum'))\\\n",
    "                                   .reset_index()\\\n",
    "                                   .sort_values(by=['Trade Name', 'Currency Code', 'Block Id', 'Settlement Date', 'Maturity Date'])\n",
    "agg_swap_df = agg_swap_df.merge(account_alloc_irs)\n",
    "# Group the swaps with securityID, we can aggregate notionals accross multiple trades to identify collapsed and non-collapsed swaps\n",
    "agg_dict = {'Notional': 'sum', \n",
    "                                    'Block Id': 'count',\n",
    "                                    'Upfront':'sum',\n",
    "                                    'Settlement Date': lambda x: x.iloc[-1],\n",
    "                                    'Maturity Date': lambda x: x.iloc[-1], \n",
    "                                    'Currency Code': lambda x: x.iloc[-1], \n",
    "                                    'Trade Price': lambda x: x.iloc[-1],\n",
    "                                    'Benchmark 2': lambda x: x.iloc[-1]}\n",
    "agg_dict.update({a:'sum' for a in account_names})\n",
    "collapse_report = agg_swap_df.groupby(['Trade Name', 'Security Id'])\\\n",
    "                              .agg(agg_dict).reset_index()\n",
    "\n",
    "# Remove collapsed swaps to create a list of swaps which are still alive with potential collapses\n",
    "non_zero_swap_df = collapse_report[collapse_report.Notional != 0.].sort_values(by=['Trade Name', 'Currency Code']).drop('Block Id', axis=1)\n",
    "\n",
    "# agg_swap_df2 = agg_swap_df.merge(account_alloc_irs)\n",
    "# collapse_report2 = collapse_report.merge(account_alloc_irs)\n",
    "\n",
    "final_columns = ['Trade Name', 'Security Id', 'Notional', 'Upfront', 'Settlement Date', 'Maturity Date',\n",
    "                         'Currency Code', 'Trade Price', 'Benchmark 2'] + account_names\n",
    "\n"
   ]
  },
  {
   "cell_type": "markdown",
   "metadata": {},
   "source": [
    "## Different types of Existing trades"
   ]
  },
  {
   "cell_type": "code",
   "execution_count": 36,
   "metadata": {},
   "outputs": [
    {
     "data": {
      "text/plain": [
       "['USD v EUR 15y10y DSRMTRRR MLP', 'USD v EUR 15y10y spread DSRMTR']"
      ]
     },
     "execution_count": 36,
     "metadata": {},
     "output_type": "execute_result"
    }
   ],
   "source": [
    "# Split swaps into EFP and Curve Trades\n",
    "efp_trades = []\n",
    "delta_hedges = []\n",
    "curve_trades = []\n",
    "vanilla_basis_mixed_trades = []\n",
    "cross_market_trades = []\n",
    "\n",
    "\n",
    "for trade_name in non_zero_swap_df['Trade Name'].unique():\n",
    "    asset_types = trader_df[trader_df['Trade Name']==trade_name]['Asset Type'].unique()\n",
    "    if 'Futures' in asset_types:\n",
    "        efp_trades.append(trade_name)\n",
    "    elif 'Swaption' in asset_types:\n",
    "        delta_hedges.append(trade_name)\n",
    "    elif 'Basis Swap' in asset_types:\n",
    "        vanilla_basis_mixed_trades.append(trade_name)\n",
    "    else:\n",
    "        # Single Currency or Cross Currency trades\n",
    "        currency_codes = trader_df[trader_df['Trade Name']==trade_name]['Currency Code'].unique()\n",
    "        if len(currency_codes)==1:\n",
    "            curve_trades.append(trade_name)\n",
    "        else:\n",
    "            cross_market_trades.append(trade_name)\n",
    "\n",
    "# Split the Swap Trades into separate dataframe for each categories\n",
    "efp_trade_df = non_zero_swap_df[non_zero_swap_df['Trade Name'].isin(efp_trades)]\n",
    "delta_hedge_df = non_zero_swap_df[non_zero_swap_df['Trade Name'].isin(delta_hedges)]\n",
    "curve_trade_df = non_zero_swap_df[non_zero_swap_df['Trade Name'].isin(curve_trades)]\n",
    "vanilla_basis_mixed_trade_df = non_zero_swap_df[non_zero_swap_df['Trade Name'].isin(vanilla_basis_mixed_trades)]\n",
    "cross_market_trade_df = non_zero_swap_df[non_zero_swap_df['Trade Name'].isin(cross_market_trades)]\n",
    "\n",
    "account_alloc_irs = objPortfolio.create_position_pivot(swap_df)\n",
    "\n",
    "curve_trade_df = curve_trade_df.merge(account_alloc_irs)\n",
    "vanilla_basis_mixed_trade_df = vanilla_basis_mixed_trade_df.merge(account_alloc_irs)\n",
    "cross_market_trade_df = cross_market_trade_df.merge(account_alloc_irs)\n",
    "\n",
    "data_cols = ['Trade Name', 'Block Id', 'Security Id', 'Currency Code', 'Settlement Date', 'Maturity Date', 'Trade Price', 'Benchmark 2']\n",
    "cross_market_trades\n"
   ]
  },
  {
   "cell_type": "markdown",
   "metadata": {},
   "source": [
    "# ED Futures Ladder and Trades"
   ]
  },
  {
   "cell_type": "code",
   "execution_count": 8,
   "metadata": {},
   "outputs": [],
   "source": [
    "from tia.bbg import LocalTerminal"
   ]
  },
  {
   "cell_type": "code",
   "execution_count": 13,
   "metadata": {},
   "outputs": [
    {
     "data": {
      "text/plain": [
       "array(['FFH2K2 vs. FFK2N2 Jun Hike TRRMRR'], dtype=object)"
      ]
     },
     "execution_count": 13,
     "metadata": {},
     "output_type": "execute_result"
    }
   ],
   "source": [
    "trader_df = objPortfolio.get_trades_by_trader(objPortfolio.raw_data, trader_name='troy')\n",
    "subset_df  = trader_df[trader_df['Asset Type']=='Futures']\n",
    "\n",
    "# FF List \n",
    "tickers = [\"FF%s Comdty\" % i for i in range(1, 26)]\n",
    "cur_static_field = ['FUT_CUR_GEN_TICKER', 'INT_RATE_FUT_START_DT', 'INT_RATE_FUT_END_DT']\n",
    "snap_fields = ['PX_MID', 'PX_LAST', 'PX_YEST_CLOSE']\n",
    "resp = LocalTerminal.get_reference_data(tickers, cur_static_field)\n",
    "df = resp.as_frame().sort_values(by='INT_RATE_FUT_START_DT')\n",
    "future_code = [\"%s%s\" % (v[2], d.strftime('%y')) for v, d in zip(df['FUT_CUR_GEN_TICKER'], df['INT_RATE_FUT_START_DT'])]\n",
    "df = df.assign(Code=future_code)\n",
    "\n",
    "resp = LocalTerminal.get_reference_data(tickers, snap_fields)\n",
    "price_df = resp.as_frame()\n",
    "\n",
    "snap_df = df.join(price_df)\n",
    "isin_list = list(snap_df['FUT_CUR_GEN_TICKER'])"
   ]
  },
  {
   "cell_type": "code",
   "execution_count": 14,
   "metadata": {},
   "outputs": [
    {
     "name": "stdout",
     "output_type": "stream",
     "text": [
      "1\n"
     ]
    }
   ],
   "source": [
    "# Filter Trades containing Fed fund Futures\n",
    "ff_subset = subset_df[subset_df.ISIN.isin(isin_list)]\n",
    "trade_names = np.unique(ff_subset['Trade Name'])\n",
    "for trade_name in trade_names:\n",
    "    sub_df = trader_df[trader_df['Trade Name']==trade_name]\n",
    "    num_asset_types = len(np.unique(sub_df['Asset Type']))\n",
    "    print(num_asset_types)"
   ]
  }
 ],
 "metadata": {
  "interpreter": {
   "hash": "9f8e798d97ababbf3b95e5a5b82e373ccd2408dc780abea163772be4d3605ae5"
  },
  "kernelspec": {
   "display_name": "Python 3.7.6 64-bit ('base': conda)",
   "name": "python3"
  },
  "language_info": {
   "codemirror_mode": {
    "name": "ipython",
    "version": 3
   },
   "file_extension": ".py",
   "mimetype": "text/x-python",
   "name": "python",
   "nbconvert_exporter": "python",
   "pygments_lexer": "ipython3",
   "version": "3.7.6"
  },
  "orig_nbformat": 4
 },
 "nbformat": 4,
 "nbformat_minor": 2
}
