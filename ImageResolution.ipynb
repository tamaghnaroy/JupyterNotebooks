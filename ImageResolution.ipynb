{
 "cells": [
  {
   "cell_type": "code",
   "execution_count": 1,
   "metadata": {},
   "outputs": [
    {
     "ename": "error",
     "evalue": "bad allocation",
     "output_type": "error",
     "traceback": [
      "\u001b[1;31m---------------------------------------------------------------------------\u001b[0m",
      "\u001b[1;31merror\u001b[0m                                     Traceback (most recent call last)",
      "\u001b[1;32mc:\\Code\\JupyterNotebooks\\JupyterNotebooks\\ImageResolution.ipynb Cell 1\u001b[0m line \u001b[0;36m1\n\u001b[0;32m     <a href='vscode-notebook-cell:/c%3A/Code/JupyterNotebooks/JupyterNotebooks/ImageResolution.ipynb#W0sZmlsZQ%3D%3D?line=14'>15</a>\u001b[0m sr\u001b[39m.\u001b[39msetModel(\u001b[39m\"\u001b[39m\u001b[39mlapsrn\u001b[39m\u001b[39m\"\u001b[39m, \u001b[39m8\u001b[39m)\n\u001b[0;32m     <a href='vscode-notebook-cell:/c%3A/Code/JupyterNotebooks/JupyterNotebooks/ImageResolution.ipynb#W0sZmlsZQ%3D%3D?line=16'>17</a>\u001b[0m \u001b[39m# Upscale the image\u001b[39;00m\n\u001b[1;32m---> <a href='vscode-notebook-cell:/c%3A/Code/JupyterNotebooks/JupyterNotebooks/ImageResolution.ipynb#W0sZmlsZQ%3D%3D?line=17'>18</a>\u001b[0m result \u001b[39m=\u001b[39m sr\u001b[39m.\u001b[39;49mupsample(image)\n\u001b[0;32m     <a href='vscode-notebook-cell:/c%3A/Code/JupyterNotebooks/JupyterNotebooks/ImageResolution.ipynb#W0sZmlsZQ%3D%3D?line=19'>20</a>\u001b[0m \u001b[39m# Save the image\u001b[39;00m\n\u001b[0;32m     <a href='vscode-notebook-cell:/c%3A/Code/JupyterNotebooks/JupyterNotebooks/ImageResolution.ipynb#W0sZmlsZQ%3D%3D?line=20'>21</a>\u001b[0m cv2\u001b[39m.\u001b[39mimwrite(\u001b[39m\"\u001b[39m\u001b[39mE:\u001b[39m\u001b[39m\\\\\u001b[39;00m\u001b[39mTWS API\u001b[39m\u001b[39m\\\\\u001b[39;00m\u001b[39msource\u001b[39m\u001b[39m\\\\\u001b[39;00m\u001b[39mpythonclient\u001b[39m\u001b[39m\\\\\u001b[39;00m\u001b[39mPoses\u001b[39m\u001b[39m\\\\\u001b[39;00m\u001b[39mabela\u001b[39m\u001b[39m\\\\\u001b[39;00m\u001b[39mCapture_upscaled.jpg\u001b[39m\u001b[39m\"\u001b[39m, result)\n",
      "\u001b[1;31merror\u001b[0m: bad allocation"
     ]
    }
   ],
   "source": [
    "import cv2\n",
    "from cv2 import dnn_superres\n",
    "\n",
    "# Create an SR object\n",
    "sr = dnn_superres.DnnSuperResImpl_create()\n",
    "\n",
    "# Read image\n",
    "image = cv2.imread('')\n",
    "\n",
    "# Read the desired model\n",
    "path = \"C:\\\\Users\\\\tamaghna\\\\Downloads\\\\ResolutionModels\\\\LapSRN_x8.pb\"\n",
    "sr.readModel(path)\n",
    "\n",
    "# Set the desired model and scale to get correct pre- and post-processing\n",
    "sr.setModel(\"lapsrn\", 8)\n",
    "\n",
    "# Upscale the image\n",
    "result = sr.upsample(image)\n",
    "\n",
    "# Save the image\n",
    "cv2.imwrite(\"\", result)"
   ]
  }
 ],
 "metadata": {
  "kernelspec": {
   "display_name": "base",
   "language": "python",
   "name": "python3"
  },
  "language_info": {
   "codemirror_mode": {
    "name": "ipython",
    "version": 3
   },
   "file_extension": ".py",
   "mimetype": "text/x-python",
   "name": "python",
   "nbconvert_exporter": "python",
   "pygments_lexer": "ipython3",
   "version": "3.10.9"
  }
 },
 "nbformat": 4,
 "nbformat_minor": 2
}
