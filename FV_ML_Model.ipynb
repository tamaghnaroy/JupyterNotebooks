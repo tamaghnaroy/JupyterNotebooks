{
 "cells": [
  {
   "cell_type": "code",
   "execution_count": 3,
   "metadata": {},
   "outputs": [
    {
     "name": "stdout",
     "output_type": "stream",
     "text": [
      "Python 3.7.6 (default, Jan  8 2020, 20:23:39) [MSC v.1916 64 bit (AMD64)] on win32\n"
     ]
    }
   ],
   "source": [
    "%load_ext autoreload\n",
    "%autoreload 2\n",
    "\n",
    "import sys; print('Python %s on %s' % (sys.version, sys.platform))\n",
    "sys.path.extend(['C:\\\\Users\\\\troy\\\\Documents\\\\Code\\\\Libraries', 'C:\\\\Users\\\\troy\\\\Documents\\\\Excel Sheets', 'C:/Users/troy/Documents/Code/Libraries'])\n",
    "from datetime import date, datetime\n",
    "import numpy as np\n",
    "import pandas as pd\n",
    "import ipywidgets as widgets\n",
    "import matplotlib.pyplot as plt\n",
    "import autoreload\n",
    "\n",
    "import dash_bootstrap_components as dbc\n",
    "import plotly.express as px\n",
    "from jupyter_dash import JupyterDash\n",
    "import dash_core_components as dcc\n",
    "import dash_html_components as html\n",
    "import dash_table\n",
    "from dash.dependencies import Input, Output\n",
    "\n",
    "from tia.bbg import LocalTerminal"
   ]
  },
  {
   "cell_type": "code",
   "execution_count": 74,
   "metadata": {},
   "outputs": [],
   "source": [
    "start_date = date(2020, 12, 1)\n",
    "end_date = date(2021, 12, 31)\n",
    "\n",
    "ticker = \"USSW5 Curncy\"\n",
    "fields = ['PX_OPEN', 'PX_HIGH', 'PX_LOW', 'PX_LAST']\n",
    "\n",
    "resp = LocalTerminal.get_historical(ticker, fields, start_date, end_date)\n",
    "data = resp.as_frame()[ticker]"
   ]
  },
  {
   "cell_type": "code",
   "execution_count": 102,
   "metadata": {},
   "outputs": [
    {
     "data": {
      "text/plain": [
       "93.95"
      ]
     },
     "execution_count": 102,
     "metadata": {},
     "output_type": "execute_result"
    }
   ],
   "source": [
    "close = data.loc[date(2020, 12, 31):, 'PX_LAST']\n",
    "\n",
    "cumm_chg = close - close[0]\n",
    "drawdown = cumm_chg.cummax() - cumm_chg\n",
    "max_drawdown = drawdown.max()\n",
    "\n",
    "buy_and_hold_pnl_bps = cumm_chg[-1] * 100\n",
    "buy_and_hold_pnl_bps"
   ]
  },
  {
   "cell_type": "code",
   "execution_count": 80,
   "metadata": {},
   "outputs": [
    {
     "name": "stdout",
     "output_type": "stream",
     "text": [
      "17.94 4.611000000000002 2.0725000000000047 0.2949999999999897 -1.5750000000000015 -3.6869999999999936 -18.889999999999986\n"
     ]
    },
    {
     "data": {
      "text/plain": [
       "(-3.989999999999993, 93.95)"
      ]
     },
     "execution_count": 80,
     "metadata": {},
     "output_type": "execute_result"
    }
   ],
   "source": [
    "daily_chg = close.diff().fillna(0) *100\n",
    "print(max(daily_chg), np.percentile(daily_chg, 90), np.percentile(daily_chg, 75), np.percentile(daily_chg, 50), np.percentile(daily_chg, 25), np.percentile(daily_chg, 10), min(daily_chg))\n",
    "\n",
    "daily_chg2 = daily_chg.copy()\n",
    "daily_chg2[daily_chg2>np.percentile(daily_chg2, 96.5)] = 0\n",
    "np.sum(daily_chg2), buy_and_hold_pnl_bps"
   ]
  },
  {
   "cell_type": "code",
   "execution_count": 81,
   "metadata": {},
   "outputs": [
    {
     "data": {
      "text/plain": [
       "(date\n",
       " 2021-01-13    -3.37\n",
       " 2021-02-10    -2.41\n",
       " 2021-03-10    -1.45\n",
       " 2021-04-13    -5.24\n",
       " 2021-05-12     6.42\n",
       " 2021-06-10    -3.52\n",
       " 2021-07-13     5.49\n",
       " 2021-08-11    -2.08\n",
       " 2021-09-14    -1.51\n",
       " 2021-10-13    -0.84\n",
       " 2021-11-10    12.90\n",
       " 2021-12-10    -2.02\n",
       " Name: PX_LAST, dtype: float64,\n",
       " date\n",
       " 2021-01-13    -3.37\n",
       " 2021-02-10    -5.78\n",
       " 2021-03-10    -7.23\n",
       " 2021-04-13   -12.47\n",
       " 2021-05-12    -6.05\n",
       " 2021-06-10    -9.57\n",
       " 2021-07-13    -4.08\n",
       " 2021-08-11    -6.16\n",
       " 2021-09-14    -7.67\n",
       " 2021-10-13    -8.51\n",
       " 2021-11-10     4.39\n",
       " 2021-12-10     2.37\n",
       " Name: PX_LAST, dtype: float64)"
      ]
     },
     "execution_count": 81,
     "metadata": {},
     "output_type": "execute_result"
    }
   ],
   "source": [
    "fomc = [(1, 25, 29), (3, 15, 19), (4, 26, 30), (6, 14, 18), (7, 26, 30), (9, 20, 24), (11, 1, 5), (12, 13, 17)]\n",
    "fomc_weekdates = []\n",
    "for m, d1, d2 in fomc:\n",
    "    for i in range(d1, d2+1):\n",
    "        fomc_weekdates.append(date(2021, m, i))\n",
    "\n",
    "cpi_dates = [(1, 13), (2, 10), (3, 10), (4, 13), (5, 12), (6, 10), (7, 13), (8, 11), (9, 14), (10, 13), (11, 10), (12, 10)]\n",
    "cpi_dates = [date(2021, m, d) for m, d in cpi_dates]\n",
    "\n",
    "nfp_dates = [(1, 8), (2, 5), (3, 5), (4, 2), (5, 7), (6, 4), (7, 2), (8, 6), (9, 3), (10, 8), (11, 5), (12, 3)]\n",
    "nfp_dates = [date(2021, m, d) for m, d in nfp_dates]\n",
    "\n",
    "daily_chg = close.diff().fillna(0) *100\n",
    "\n",
    "daily_chg3 = daily_chg.copy()\n",
    "daily_chg3[fomc_weekdates] = 0\n",
    "np.sum(daily_chg3), buy_and_hold_pnl_bps\n",
    "\n",
    "# Impact of CPI dates\n",
    "daily_chg3 = daily_chg.copy()\n",
    "daily_chg3[cpi_dates] = 0\n",
    "np.sum(daily_chg3), buy_and_hold_pnl_bps\n",
    "\n",
    "# Impact of NFP dates\n",
    "daily_chg3 = daily_chg.copy()\n",
    "daily_chg3[nfp_dates] = 0\n",
    "np.sum(daily_chg3), buy_and_hold_pnl_bps\n",
    "\n",
    "daily_chg[cpi_dates], daily_chg[cpi_dates].cumsum()"
   ]
  },
  {
   "cell_type": "markdown",
   "metadata": {},
   "source": [
    "## Vol Control"
   ]
  },
  {
   "cell_type": "code",
   "execution_count": 101,
   "metadata": {},
   "outputs": [
    {
     "data": {
      "text/plain": [
       "[<matplotlib.lines.Line2D at 0x130c7966988>]"
      ]
     },
     "execution_count": 101,
     "metadata": {},
     "output_type": "execute_result"
    },
    {
     "data": {
      "image/png": "[encoded data removed]",
      "text/plain": [
       "<Figure size 432x288 with 1 Axes>"
      ]
     },
     "metadata": {
      "needs_background": "light"
     },
     "output_type": "display_data"
    }
   ],
   "source": [
    "daily_chg = close.diff().fillna(0) *100\n",
    "\n",
    "close_vol = data['PX_LAST'].diff().fillna(0).rolling(20).std()\n",
    "target_vol = 0.04\n",
    "pos = target_vol / close_vol[date(2020, 12, 31):]\n",
    "wgts = pos.shift(1).fillna(1)\n",
    "base_risk = 300000 / (4 * target_vol * 100)\n",
    "\n",
    "wgt_chgs = daily_chg * wgts\n",
    "plt.plot(wgt_chgs.cumsum())\n"
   ]
  }
 ],
 "metadata": {
  "interpreter": {
   "hash": "9f8e798d97ababbf3b95e5a5b82e373ccd2408dc780abea163772be4d3605ae5"
  },
  "kernelspec": {
   "display_name": "Python 3.7.6 64-bit ('base': conda)",
   "language": "python",
   "name": "python3"
  },
  "language_info": {
   "codemirror_mode": {
    "name": "ipython",
    "version": 3
   },
   "file_extension": ".py",
   "mimetype": "text/x-python",
   "name": "python",
   "nbconvert_exporter": "python",
   "pygments_lexer": "ipython3",
   "version": "3.7.6"
  },
  "orig_nbformat": 4
 },
 "nbformat": 4,
 "nbformat_minor": 2
}
