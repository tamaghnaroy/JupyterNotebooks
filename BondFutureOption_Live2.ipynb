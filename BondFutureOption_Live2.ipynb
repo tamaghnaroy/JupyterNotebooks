{
 "cells": [
  {
   "cell_type": "code",
   "execution_count": 2,
   "metadata": {},
   "outputs": [],
   "source": [
    "%load_ext autoreload\n",
    "%autoreload 2\n",
    "\n",
    "home_or_office = \"home\"\n",
    "\n",
    "import sys\n",
    "if home_or_office ==\"home\":\n",
    "    sys.path.extend(['C:\\\\Code\\\\Libraries', 'C:/Code/Libraries'])\n",
    "else:\n",
    "    sys.path.extend(['C:\\\\Users\\\\troy\\\\Documents\\\\Code\\\\Libraries', 'C:\\\\Users\\\\troy\\\\Documents\\\\Excel Sheets', \n",
    "                     'C:/Users/troy/Documents/Code/Libraries'])\n",
    "\n",
    "from datetime import date, datetime\n",
    "import os\n",
    "import numpy as np\n",
    "import pandas as pd\n",
    "import collections\n",
    "\n",
    "import plotly.graph_objects as go\n",
    "import plotly.express as px\n",
    "import plotly.io as pio\n",
    "\n",
    "from tia.bbg import LocalTerminal\n",
    "\n",
    "import FinAPI.Utilities.PlotlyCharting as plotlyUtils\n",
    "\n",
    "pio.renderers.default = \"vscode\""
   ]
  },
  {
   "cell_type": "markdown",
   "metadata": {},
   "source": [
    "### Future Object"
   ]
  },
  {
   "cell_type": "code",
   "execution_count": 4,
   "metadata": {},
   "outputs": [
    {
     "ename": "NameError",
     "evalue": "name 'BondOptionTicker' is not defined",
     "output_type": "error",
     "traceback": [
      "\u001b[1;31m---------------------------------------------------------------------------\u001b[0m",
      "\u001b[1;31mNameError\u001b[0m                                 Traceback (most recent call last)",
      "\u001b[1;32mc:\\Code\\JupyterNotebooks\\JupyterNotebooks\\BondFutureOption_Live2.ipynb Cell 3\u001b[0m line \u001b[0;36m1\n\u001b[1;32m----> <a href='vscode-notebook-cell:/c%3A/Code/JupyterNotebooks/JupyterNotebooks/BondFutureOption_Live2.ipynb#W2sZmlsZQ%3D%3D?line=0'>1</a>\u001b[0m \u001b[39mfrom\u001b[39;00m \u001b[39mFinAPI\u001b[39;00m\u001b[39m.\u001b[39;00m\u001b[39mBondFutureOption\u001b[39;00m\u001b[39m.\u001b[39;00m\u001b[39mBondFutSurface\u001b[39;00m \u001b[39mimport\u001b[39;00m FuturesData\n\u001b[0;32m      <a href='vscode-notebook-cell:/c%3A/Code/JupyterNotebooks/JupyterNotebooks/BondFutureOption_Live2.ipynb#W2sZmlsZQ%3D%3D?line=2'>3</a>\u001b[0m today \u001b[39m=\u001b[39m datetime\u001b[39m.\u001b[39mtoday()\n\u001b[0;32m      <a href='vscode-notebook-cell:/c%3A/Code/JupyterNotebooks/JupyterNotebooks/BondFutureOption_Live2.ipynb#W2sZmlsZQ%3D%3D?line=3'>4</a>\u001b[0m yest \u001b[39m=\u001b[39m date(\u001b[39m2023\u001b[39m, \u001b[39m12\u001b[39m, \u001b[39m5\u001b[39m)\n",
      "File \u001b[1;32mC:\\Code\\Libraries\\FinAPI\\BondFutureOption\\BondFutSurface.py:406\u001b[0m\n\u001b[0;32m    404\u001b[0m \n\u001b[0;32m    405\u001b[0m \n\u001b[1;32m--> 406\u001b[0m s USDBondOptionTicker:\n\u001b[0;32m    407\u001b[0m fut_code = None\n\u001b[0;32m    408\u001b[0m month_code = None\n",
      "File \u001b[1;32mC:\\Code\\Libraries\\FinAPI\\BondFutureOption\\BondFutSurface.py:504\u001b[0m, in \u001b[0;36mUSDBondOptionTicker\u001b[1;34m()\u001b[0m\n\u001b[0;32m    502\u001b[0m     return exp_code\n\u001b[0;32m    503\u001b[0m \n\u001b[1;32m--> 504\u001b[0m def mutate_flavor(self, flavor=None) -> BondOptionTicker:\n\u001b[0;32m    505\u001b[0m     if flavor is None:\n\u001b[0;32m    506\u001b[0m         typ_code = \"P\" if self.flavor.upper() == \"C\" else \"C\"\n",
      "\u001b[1;31mNameError\u001b[0m: name 'BondOptionTicker' is not defined"
     ]
    }
   ],
   "source": [
    "from FinAPI.BondFutureOption.BondFutSurface import FuturesData\n",
    "\n",
    "today = datetime.today()\n",
    "yest = date(2023, 12, 5)\n",
    "future_code = \"FVH24\""
   ]
  },
  {
   "cell_type": "code",
   "execution_count": 3,
   "metadata": {},
   "outputs": [
    {
     "name": "stderr",
     "output_type": "stream",
     "text": [
      "[2023-12-01 21:51:22,500] DEBUG [HistoryManager] [HistoryManager.py] [read_ticker_ts][184] [PID:2228 TID:15708] Cannot find the file C:\\Code\\Libraries\\FinAPI\\HistoricalData\\Data\\AdhocHistory\\FVH24_PX_OPEN.csv corresponding to the ticker FVH24 COMDTY\n",
      "[2023-12-01 21:51:22,503] ERROR [HistoryMaager] [HistoryMaager.py] [get_history][648] [PID:2228 TID:15708] 'NoeType' object has o attribute 'ame'\n",
      "'Traceback (most recet call last):\\  File \"C:\\\\Code\\\\Libraries\\\\FiAPI\\\\HistoricalData\\\\HistoryMaager.py\", lie 624, i get_history\\    ts.ame = ticker.split()[0]\\AttributeError: \\'NoeType\\' object has o attribute \\'ame\\''\n",
      "[2023-12-01 21:51:22,508] DEBUG [HistoryManager] [HistoryManager.py] [update_history_csv][479] [PID:2228 TID:15708] BloombergHistory: Updating History for bbg ticker: FVH24 COMDTY\n",
      "[2023-12-01 21:51:22,515] DEBUG [HistoryManager] [HistoryManager.py] [update_history_csv][499] [PID:2228 TID:15708] --- using def_start , start and end dates as 1901-01-01 00:00:00, None and 2023-12-01\n",
      "[2023-12-01 21:51:22,517] DEBUG [HistoryManager] [HistoryManager.py] [update_history_csv][507] [PID:2228 TID:15708] No data is present - start and end dates as 1901-01-01 00:00:00, 2023-12-01\n",
      "[2023-12-01 21:51:24,247] DEBUG [HistoryManager] [HistoryManager.py] [update_history_csv][479] [PID:2228 TID:15708] BloombergHistory: Updating History for bbg ticker: FVH24 COMDTY\n",
      "[2023-12-01 21:51:24,297] DEBUG [HistoryManager] [HistoryManager.py] [update_history_csv][499] [PID:2228 TID:15708] --- using def_start , start and end dates as 2023-09-28 00:00:00, 2023-09-28 00:00:00 and 2023-12-01\n",
      "[2023-12-01 21:51:24,298] DEBUG [HistoryManager] [HistoryManager.py] [update_history_csv][543] [PID:2228 TID:15708] Data Present, trying to download missing data before the cached start_date - start and end dates as 2023-09-28 00:00:00, 2023-09-28 00:00:00\n",
      "[2023-12-01 21:51:24,299] DEBUG [HistoryManager] [HistoryManager.py] [update_history_csv][580] [PID:2228 TID:15708] Data Present, trying to download data after the cached end date - start and end dates as 2023-12-01 00:00:00, None\n",
      "[2023-12-01 21:51:25,577] DEBUG [HistoryManager] [HistoryManager.py] [read_ticker_ts][184] [PID:2228 TID:15708] Cannot find the file C:\\Code\\Libraries\\FinAPI\\HistoricalData\\Data\\AdhocHistory\\FVH24_PX_HIGH.csv corresponding to the ticker FVH24 COMDTY\n",
      "[2023-12-01 21:51:25,579] ERROR [HistoryMaager] [HistoryMaager.py] [get_history][648] [PID:2228 TID:15708] 'NoeType' object has o attribute 'ame'\n",
      "'Traceback (most recet call last):\\  File \"C:\\\\Code\\\\Libraries\\\\FiAPI\\\\HistoricalData\\\\HistoryMaager.py\", lie 624, i get_history\\    ts.ame = ticker.split()[0]\\AttributeError: \\'NoeType\\' object has o attribute \\'ame\\''\n",
      "[2023-12-01 21:51:25,581] DEBUG [HistoryManager] [HistoryManager.py] [update_history_csv][479] [PID:2228 TID:15708] BloombergHistory: Updating History for bbg ticker: FVH24 COMDTY\n",
      "[2023-12-01 21:51:25,583] DEBUG [HistoryManager] [HistoryManager.py] [update_history_csv][499] [PID:2228 TID:15708] --- using def_start , start and end dates as 1901-01-01 00:00:00, None and 2023-12-01\n",
      "[2023-12-01 21:51:25,587] DEBUG [HistoryManager] [HistoryManager.py] [update_history_csv][507] [PID:2228 TID:15708] No data is present - start and end dates as 1901-01-01 00:00:00, 2023-12-01\n",
      "[2023-12-01 21:51:26,941] DEBUG [HistoryManager] [HistoryManager.py] [update_history_csv][479] [PID:2228 TID:15708] BloombergHistory: Updating History for bbg ticker: FVH24 COMDTY\n",
      "[2023-12-01 21:51:26,967] DEBUG [HistoryManager] [HistoryManager.py] [update_history_csv][499] [PID:2228 TID:15708] --- using def_start , start and end dates as 2023-09-28 00:00:00, 2023-09-28 00:00:00 and 2023-12-01\n",
      "[2023-12-01 21:51:26,970] DEBUG [HistoryManager] [HistoryManager.py] [update_history_csv][543] [PID:2228 TID:15708] Data Present, trying to download missing data before the cached start_date - start and end dates as 2023-09-28 00:00:00, 2023-09-28 00:00:00\n",
      "[2023-12-01 21:51:26,971] DEBUG [HistoryManager] [HistoryManager.py] [update_history_csv][580] [PID:2228 TID:15708] Data Present, trying to download data after the cached end date - start and end dates as 2023-12-01 00:00:00, None\n",
      "[2023-12-01 21:51:28,081] DEBUG [HistoryManager] [HistoryManager.py] [read_ticker_ts][184] [PID:2228 TID:15708] Cannot find the file C:\\Code\\Libraries\\FinAPI\\HistoricalData\\Data\\AdhocHistory\\FVH24_PX_LOW.csv corresponding to the ticker FVH24 COMDTY\n",
      "[2023-12-01 21:51:28,082] ERROR [HistoryMaager] [HistoryMaager.py] [get_history][648] [PID:2228 TID:15708] 'NoeType' object has o attribute 'ame'\n",
      "'Traceback (most recet call last):\\  File \"C:\\\\Code\\\\Libraries\\\\FiAPI\\\\HistoricalData\\\\HistoryMaager.py\", lie 624, i get_history\\    ts.ame = ticker.split()[0]\\AttributeError: \\'NoeType\\' object has o attribute \\'ame\\''\n",
      "[2023-12-01 21:51:28,087] DEBUG [HistoryManager] [HistoryManager.py] [update_history_csv][479] [PID:2228 TID:15708] BloombergHistory: Updating History for bbg ticker: FVH24 COMDTY\n",
      "[2023-12-01 21:51:28,090] DEBUG [HistoryManager] [HistoryManager.py] [update_history_csv][499] [PID:2228 TID:15708] --- using def_start , start and end dates as 1901-01-01 00:00:00, None and 2023-12-01\n",
      "[2023-12-01 21:51:28,092] DEBUG [HistoryManager] [HistoryManager.py] [update_history_csv][507] [PID:2228 TID:15708] No data is present - start and end dates as 1901-01-01 00:00:00, 2023-12-01\n",
      "[2023-12-01 21:51:29,315] DEBUG [HistoryManager] [HistoryManager.py] [update_history_csv][479] [PID:2228 TID:15708] BloombergHistory: Updating History for bbg ticker: FVH24 COMDTY\n",
      "[2023-12-01 21:51:29,359] DEBUG [HistoryManager] [HistoryManager.py] [update_history_csv][499] [PID:2228 TID:15708] --- using def_start , start and end dates as 2023-09-28 00:00:00, 2023-09-28 00:00:00 and 2023-12-01\n",
      "[2023-12-01 21:51:29,360] DEBUG [HistoryManager] [HistoryManager.py] [update_history_csv][543] [PID:2228 TID:15708] Data Present, trying to download missing data before the cached start_date - start and end dates as 2023-09-28 00:00:00, 2023-09-28 00:00:00\n",
      "[2023-12-01 21:51:29,362] DEBUG [HistoryManager] [HistoryManager.py] [update_history_csv][580] [PID:2228 TID:15708] Data Present, trying to download data after the cached end date - start and end dates as 2023-12-01 00:00:00, None\n",
      "[2023-12-01 21:51:30,590] DEBUG [HistoryManager] [HistoryManager.py] [read_ticker_ts][184] [PID:2228 TID:15708] Cannot find the file C:\\Code\\Libraries\\FinAPI\\HistoricalData\\Data\\AdhocHistory\\FVH24_PX_LAST.csv corresponding to the ticker FVH24 COMDTY\n",
      "[2023-12-01 21:51:30,593] ERROR [HistoryMaager] [HistoryMaager.py] [get_history][648] [PID:2228 TID:15708] 'NoeType' object has o attribute 'ame'\n",
      "'Traceback (most recet call last):\\  File \"C:\\\\Code\\\\Libraries\\\\FiAPI\\\\HistoricalData\\\\HistoryMaager.py\", lie 624, i get_history\\    ts.ame = ticker.split()[0]\\AttributeError: \\'NoeType\\' object has o attribute \\'ame\\''\n",
      "[2023-12-01 21:51:30,595] DEBUG [HistoryManager] [HistoryManager.py] [update_history_csv][479] [PID:2228 TID:15708] BloombergHistory: Updating History for bbg ticker: FVH24 COMDTY\n",
      "[2023-12-01 21:51:30,598] DEBUG [HistoryManager] [HistoryManager.py] [update_history_csv][499] [PID:2228 TID:15708] --- using def_start , start and end dates as 1901-01-01 00:00:00, None and 2023-12-01\n",
      "[2023-12-01 21:51:30,602] DEBUG [HistoryManager] [HistoryManager.py] [update_history_csv][507] [PID:2228 TID:15708] No data is present - start and end dates as 1901-01-01 00:00:00, 2023-12-01\n",
      "[2023-12-01 21:51:31,931] DEBUG [HistoryManager] [HistoryManager.py] [read_ticker_ts][184] [PID:2228 TID:15708] Cannot find the file C:\\Code\\Libraries\\FinAPI\\HistoricalData\\Data\\AdhocHistory\\FVH24_PX_VOLUME.csv corresponding to the ticker FVH24 COMDTY\n",
      "[2023-12-01 21:51:31,934] ERROR [HistoryMaager] [HistoryMaager.py] [get_history][648] [PID:2228 TID:15708] 'NoeType' object has o attribute 'ame'\n",
      "'Traceback (most recet call last):\\  File \"C:\\\\Code\\\\Libraries\\\\FiAPI\\\\HistoricalData\\\\HistoryMaager.py\", lie 624, i get_history\\    ts.ame = ticker.split()[0]\\AttributeError: \\'NoeType\\' object has o attribute \\'ame\\''\n",
      "[2023-12-01 21:51:31,936] DEBUG [HistoryManager] [HistoryManager.py] [update_history_csv][479] [PID:2228 TID:15708] BloombergHistory: Updating History for bbg ticker: FVH24 COMDTY\n",
      "[2023-12-01 21:51:31,940] DEBUG [HistoryManager] [HistoryManager.py] [update_history_csv][499] [PID:2228 TID:15708] --- using def_start , start and end dates as 1901-01-01 00:00:00, None and 2023-12-01\n",
      "[2023-12-01 21:51:31,942] DEBUG [HistoryManager] [HistoryManager.py] [update_history_csv][507] [PID:2228 TID:15708] No data is present - start and end dates as 1901-01-01 00:00:00, 2023-12-01\n",
      "[2023-12-01 21:51:33,149] DEBUG [HistoryManager] [HistoryManager.py] [update_history_csv][479] [PID:2228 TID:15708] BloombergHistory: Updating History for bbg ticker: FVH24 COMDTY\n",
      "[2023-12-01 21:51:33,185] DEBUG [HistoryManager] [HistoryManager.py] [update_history_csv][499] [PID:2228 TID:15708] --- using def_start , start and end dates as 2023-09-14 00:00:00, 2023-09-14 00:00:00 and 2023-12-01\n",
      "[2023-12-01 21:51:33,186] DEBUG [HistoryManager] [HistoryManager.py] [update_history_csv][543] [PID:2228 TID:15708] Data Present, trying to download missing data before the cached start_date - start and end dates as 2023-09-14 00:00:00, 2023-09-14 00:00:00\n",
      "[2023-12-01 21:51:33,188] DEBUG [HistoryManager] [HistoryManager.py] [update_history_csv][580] [PID:2228 TID:15708] Data Present, trying to download data after the cached end date - start and end dates as 2023-12-01 00:00:00, None\n",
      "[2023-12-01 21:51:34,301] DEBUG [HistoryManager] [HistoryManager.py] [read_ticker_ts][184] [PID:2228 TID:15708] Cannot find the file C:\\Code\\Libraries\\FinAPI\\HistoricalData\\Data\\AdhocHistory\\FVH24_OPEN_INT.csv corresponding to the ticker FVH24 COMDTY\n",
      "[2023-12-01 21:51:34,302] ERROR [HistoryMaager] [HistoryMaager.py] [get_history][648] [PID:2228 TID:15708] 'NoeType' object has o attribute 'ame'\n",
      "'Traceback (most recet call last):\\  File \"C:\\\\Code\\\\Libraries\\\\FiAPI\\\\HistoricalData\\\\HistoryMaager.py\", lie 624, i get_history\\    ts.ame = ticker.split()[0]\\AttributeError: \\'NoeType\\' object has o attribute \\'ame\\''\n",
      "[2023-12-01 21:51:34,304] DEBUG [HistoryManager] [HistoryManager.py] [update_history_csv][479] [PID:2228 TID:15708] BloombergHistory: Updating History for bbg ticker: FVH24 COMDTY\n",
      "[2023-12-01 21:51:34,308] DEBUG [HistoryManager] [HistoryManager.py] [update_history_csv][499] [PID:2228 TID:15708] --- using def_start , start and end dates as 1901-01-01 00:00:00, None and 2023-12-01\n",
      "[2023-12-01 21:51:34,310] DEBUG [HistoryManager] [HistoryManager.py] [update_history_csv][507] [PID:2228 TID:15708] No data is present - start and end dates as 1901-01-01 00:00:00, 2023-12-01\n",
      "[2023-12-01 21:51:35,481] DEBUG [HistoryManager] [HistoryManager.py] [update_history_csv][479] [PID:2228 TID:15708] BloombergHistory: Updating History for bbg ticker: FVH24 COMDTY\n",
      "[2023-12-01 21:51:35,536] DEBUG [HistoryManager] [HistoryManager.py] [update_history_csv][499] [PID:2228 TID:15708] --- using def_start , start and end dates as 2023-09-14 00:00:00, 2023-09-14 00:00:00 and 2023-12-01\n",
      "[2023-12-01 21:51:35,538] DEBUG [HistoryManager] [HistoryManager.py] [update_history_csv][543] [PID:2228 TID:15708] Data Present, trying to download missing data before the cached start_date - start and end dates as 2023-09-14 00:00:00, 2023-09-14 00:00:00\n",
      "[2023-12-01 21:51:35,541] DEBUG [HistoryManager] [HistoryManager.py] [update_history_csv][580] [PID:2228 TID:15708] Data Present, trying to download data after the cached end date - start and end dates as 2023-11-30 00:00:00, None\n",
      "[2023-12-01 21:51:36,713] DEBUG [HistoryManager] [HistoryManager.py] [read_ticker_ts][184] [PID:2228 TID:15708] Cannot find the file C:\\Code\\Libraries\\FinAPI\\HistoricalData\\Data\\AdhocHistory\\FVH24_FUT_CTD_CUSIP.csv corresponding to the ticker FVH24 COMDTY\n",
      "[2023-12-01 21:51:36,715] ERROR [HistoryMaager] [HistoryMaager.py] [get_history][648] [PID:2228 TID:15708] 'NoeType' object has o attribute 'ame'\n",
      "'Traceback (most recet call last):\\  File \"C:\\\\Code\\\\Libraries\\\\FiAPI\\\\HistoricalData\\\\HistoryMaager.py\", lie 624, i get_history\\    ts.ame = ticker.split()[0]\\AttributeError: \\'NoeType\\' object has o attribute \\'ame\\''\n",
      "[2023-12-01 21:51:36,716] DEBUG [HistoryManager] [HistoryManager.py] [update_history_csv][479] [PID:2228 TID:15708] BloombergHistory: Updating History for bbg ticker: FVH24 COMDTY\n",
      "[2023-12-01 21:51:36,721] DEBUG [HistoryManager] [HistoryManager.py] [update_history_csv][499] [PID:2228 TID:15708] --- using def_start , start and end dates as 1901-01-01 00:00:00, None and 2023-12-01\n",
      "[2023-12-01 21:51:36,725] DEBUG [HistoryManager] [HistoryManager.py] [update_history_csv][507] [PID:2228 TID:15708] No data is present - start and end dates as 1901-01-01 00:00:00, 2023-12-01\n",
      "[2023-12-01 21:51:38,027] DEBUG [HistoryManager] [HistoryManager.py] [read_ticker_ts][184] [PID:2228 TID:15708] Cannot find the file C:\\Code\\Libraries\\FinAPI\\HistoricalData\\Data\\AdhocHistory\\FVH24_FUT_CNVS_FACTOR.csv corresponding to the ticker FVH24 COMDTY\n",
      "[2023-12-01 21:51:38,029] ERROR [HistoryMaager] [HistoryMaager.py] [get_history][648] [PID:2228 TID:15708] 'NoeType' object has o attribute 'ame'\n",
      "'Traceback (most recet call last):\\  File \"C:\\\\Code\\\\Libraries\\\\FiAPI\\\\HistoricalData\\\\HistoryMaager.py\", lie 624, i get_history\\    ts.ame = ticker.split()[0]\\AttributeError: \\'NoeType\\' object has o attribute \\'ame\\''\n",
      "[2023-12-01 21:51:38,031] DEBUG [HistoryManager] [HistoryManager.py] [update_history_csv][479] [PID:2228 TID:15708] BloombergHistory: Updating History for bbg ticker: FVH24 COMDTY\n",
      "[2023-12-01 21:51:38,035] DEBUG [HistoryManager] [HistoryManager.py] [update_history_csv][499] [PID:2228 TID:15708] --- using def_start , start and end dates as 1901-01-01 00:00:00, None and 2023-12-01\n",
      "[2023-12-01 21:51:38,037] DEBUG [HistoryManager] [HistoryManager.py] [update_history_csv][507] [PID:2228 TID:15708] No data is present - start and end dates as 1901-01-01 00:00:00, 2023-12-01\n",
      "[2023-12-01 21:51:39,574] DEBUG [HistoryManager] [HistoryManager.py] [read_ticker_ts][184] [PID:2228 TID:15708] Cannot find the file C:\\Code\\Libraries\\FinAPI\\HistoricalData\\Data\\AdhocHistory\\FVH24_FUT_IMPLIED_REPO_RT.csv corresponding to the ticker FVH24 COMDTY\n",
      "[2023-12-01 21:51:39,575] ERROR [HistoryMaager] [HistoryMaager.py] [get_history][648] [PID:2228 TID:15708] 'NoeType' object has o attribute 'ame'\n",
      "'Traceback (most recet call last):\\  File \"C:\\\\Code\\\\Libraries\\\\FiAPI\\\\HistoricalData\\\\HistoryMaager.py\", lie 624, i get_history\\    ts.ame = ticker.split()[0]\\AttributeError: \\'NoeType\\' object has o attribute \\'ame\\''\n",
      "[2023-12-01 21:51:39,577] DEBUG [HistoryManager] [HistoryManager.py] [update_history_csv][479] [PID:2228 TID:15708] BloombergHistory: Updating History for bbg ticker: FVH24 COMDTY\n",
      "[2023-12-01 21:51:39,579] DEBUG [HistoryManager] [HistoryManager.py] [update_history_csv][499] [PID:2228 TID:15708] --- using def_start , start and end dates as 1901-01-01 00:00:00, None and 2023-12-01\n",
      "[2023-12-01 21:51:39,580] DEBUG [HistoryManager] [HistoryManager.py] [update_history_csv][507] [PID:2228 TID:15708] No data is present - start and end dates as 1901-01-01 00:00:00, 2023-12-01\n",
      "[2023-12-01 21:51:40,860] DEBUG [HistoryManager] [HistoryManager.py] [read_ticker_ts][184] [PID:2228 TID:15708] Cannot find the file C:\\Code\\Libraries\\FinAPI\\HistoricalData\\Data\\AdhocHistory\\FVH24_FUT_ACTUAL_REPO_RT.csv corresponding to the ticker FVH24 COMDTY\n",
      "[2023-12-01 21:51:40,862] ERROR [HistoryMaager] [HistoryMaager.py] [get_history][648] [PID:2228 TID:15708] 'NoeType' object has o attribute 'ame'\n",
      "'Traceback (most recet call last):\\  File \"C:\\\\Code\\\\Libraries\\\\FiAPI\\\\HistoricalData\\\\HistoryMaager.py\", lie 624, i get_history\\    ts.ame = ticker.split()[0]\\AttributeError: \\'NoeType\\' object has o attribute \\'ame\\''\n",
      "[2023-12-01 21:51:40,865] DEBUG [HistoryManager] [HistoryManager.py] [update_history_csv][479] [PID:2228 TID:15708] BloombergHistory: Updating History for bbg ticker: FVH24 COMDTY\n",
      "[2023-12-01 21:51:40,873] DEBUG [HistoryManager] [HistoryManager.py] [update_history_csv][499] [PID:2228 TID:15708] --- using def_start , start and end dates as 1901-01-01 00:00:00, None and 2023-12-01\n",
      "[2023-12-01 21:51:40,875] DEBUG [HistoryManager] [HistoryManager.py] [update_history_csv][507] [PID:2228 TID:15708] No data is present - start and end dates as 1901-01-01 00:00:00, 2023-12-01\n",
      "[2023-12-01 21:51:42,340] DEBUG [HistoryManager] [HistoryManager.py] [read_ticker_ts][184] [PID:2228 TID:15708] Cannot find the file C:\\Code\\Libraries\\FinAPI\\HistoricalData\\Data\\AdhocHistory\\FVH24_CONVENTIONAL_CTD_FORWARD_FRSK.csv corresponding to the ticker FVH24 COMDTY\n",
      "[2023-12-01 21:51:42,342] ERROR [HistoryMaager] [HistoryMaager.py] [get_history][648] [PID:2228 TID:15708] 'NoeType' object has o attribute 'ame'\n",
      "'Traceback (most recet call last):\\  File \"C:\\\\Code\\\\Libraries\\\\FiAPI\\\\HistoricalData\\\\HistoryMaager.py\", lie 624, i get_history\\    ts.ame = ticker.split()[0]\\AttributeError: \\'NoeType\\' object has o attribute \\'ame\\''\n",
      "[2023-12-01 21:51:42,344] DEBUG [HistoryManager] [HistoryManager.py] [update_history_csv][479] [PID:2228 TID:15708] BloombergHistory: Updating History for bbg ticker: FVH24 COMDTY\n",
      "[2023-12-01 21:51:42,346] DEBUG [HistoryManager] [HistoryManager.py] [update_history_csv][499] [PID:2228 TID:15708] --- using def_start , start and end dates as 1901-01-01 00:00:00, None and 2023-12-01\n",
      "[2023-12-01 21:51:42,353] DEBUG [HistoryManager] [HistoryManager.py] [update_history_csv][507] [PID:2228 TID:15708] No data is present - start and end dates as 1901-01-01 00:00:00, 2023-12-01\n"
     ]
    },
    {
     "name": "stdout",
     "output_type": "stream",
     "text": [
      "106.91015625 4.077577490124317 4.367028472879476 0.042430068612738986 5795981 406039.0\n",
      "106.4765625 4.058246708632247 4.389893235412112 0.04349595860614491 129106.0 73327.0\n"
     ]
    }
   ],
   "source": [
    "# create the futures object, the second argument is to update hitory\n",
    "objFut = FuturesData(future_code, True)\n",
    "\n",
    "# Properties - live current values of the snap\n",
    "print(objFut.snap_mid, objFut.fwddv01, objFut.spotdv01, objFut.ytm, objFut.open_interest, objFut.volume)\n",
    "\n",
    "# For getting a historical snap - First snap the market at the particular date\n",
    "hist_snap = objFut.snap(data_dt=datetime(2023, 11, 14))\n",
    "\n",
    "# Then use the same properties as above to access the values of the snap\n",
    "print(objFut.snap_mid, objFut.fwddv01, objFut.spotdv01, objFut.ytm, objFut.open_interest, objFut.volume)\n",
    "\n",
    "# History Dataframe\n",
    "hist_df = objFut.price_candles"
   ]
  },
  {
   "cell_type": "code",
   "execution_count": 4,
   "metadata": {},
   "outputs": [
    {
     "name": "stdout",
     "output_type": "stream",
     "text": [
      "----- Raw SNAP ------\n",
      "{'PX_OPEN': 105.3828125, 'PX_HIGH': 106.515625, 'PX_LOW': 105.375, 'PX_LAST': 106.4765625, 'PX_VOLUME': 73327.0, 'OPEN_INT': 129106.0, 'FUT_CTD_CUSIP': '91282CHE', 'FUT_CNVS_FACTOR': 0.9135, 'FUT_IMPLIED_REPO_RT': 5.05539, 'FUT_ACTUAL_REPO_RT': 5.403, 'CONVENTIONAL_CTD_FORWARD_FRSK': 4.0582, 'VALUE_DT': datetime.datetime(2023, 11, 14, 0, 0), 'PRICE': 106.4765625}\n",
      "------- Indiv Properties ------\n",
      "106.4765625 4.058246708632247 4.389893235412112 0.04349595860614491 5.05539 129106.0 73327.0\n"
     ]
    }
   ],
   "source": [
    "objFut.debug_print()"
   ]
  },
  {
   "cell_type": "code",
   "execution_count": 5,
   "metadata": {},
   "outputs": [
    {
     "data": {
      "application/vnd.plotly.v1+json": {
       "config": {
        "plotlyServerURL": "https://plot.ly"
       },
       "data": [
        {
         "close": [
          105.671875,
          105.6953125,
          105.75,
          105.3359375,
          105.5625,
          104.6015625,
          104.3984375,
          104.265625,
          104.671875,
          104.9375,
          104.796875,
          104.40625,
          104.8828125,
          105.015625,
          104.8671875,
          104.8046875,
          105.3046875,
          105.5546875,
          106.21875,
          105.6796875,
          105.984375,
          106.03125,
          105.5390625,
          105.3984375,
          105.4140625,
          106.4765625,
          106,
          106.4296875,
          106.2890625,
          106.3359375,
          106.4375,
          106.3203125,
          106.0625,
          106.4375,
          106.9296875,
          107.203125,
          106.8515625,
          106.9140625
         ],
         "high": [
          105.34375,
          105.875,
          105.78125,
          105.859375,
          105.6015625,
          104.609375,
          104.625,
          104.375,
          104.734375,
          104.8671875,
          104.96875,
          104.859375,
          104.9140625,
          105.0546875,
          104.875,
          105.03125,
          105.46875,
          105.8515625,
          106.3671875,
          106.15625,
          106.09375,
          106.109375,
          106.1484375,
          105.78125,
          105.4609375,
          106.515625,
          106.5078125,
          106.5,
          106.6953125,
          106.390625,
          106.5625,
          106.6484375,
          106.40625,
          106.46875,
          106.953125,
          107.3515625,
          107.3125,
          107.1015625
         ],
         "low": [
          105.34375,
          105.5546875,
          105.65625,
          105.34375,
          105.546875,
          104.59375,
          104.34375,
          104.15625,
          104.46875,
          104.4765625,
          104.6875,
          104.3671875,
          104.578125,
          104.8203125,
          104.8359375,
          104.75,
          104.765625,
          105.5,
          105.5234375,
          105.6640625,
          105.75,
          105.796875,
          105.4609375,
          105.3046875,
          105.15625,
          105.375,
          105.90625,
          106.0234375,
          106.203125,
          106.1328125,
          106.2734375,
          106.1953125,
          106.0078125,
          105.9296875,
          106.296875,
          106.921875,
          106.7734375,
          106.8671875
         ],
         "open": [
          105.34375,
          105.7578125,
          105.65625,
          105.859375,
          105.6015625,
          104.59375,
          104.6171875,
          104.3046875,
          104.5390625,
          104.578125,
          104.96875,
          104.859375,
          104.578125,
          104.8203125,
          104.875,
          104.9453125,
          104.765625,
          105.53125,
          105.5234375,
          106.15625,
          105.765625,
          105.9609375,
          106.078125,
          105.4453125,
          105.3671875,
          105.3828125,
          106.3828125,
          106.03125,
          106.46875,
          106.28125,
          106.359375,
          106.484375,
          106.359375,
          106.0859375,
          106.421875,
          106.9375,
          107.2265625,
          106.984375
         ],
         "type": "candlestick",
         "x": [
          "2023-09-28T00:00:00",
          "2023-10-10T00:00:00",
          "2023-10-11T00:00:00",
          "2023-10-12T00:00:00",
          "2023-10-13T00:00:00",
          "2023-10-17T00:00:00",
          "2023-10-18T00:00:00",
          "2023-10-19T00:00:00",
          "2023-10-20T00:00:00",
          "2023-10-23T00:00:00",
          "2023-10-24T00:00:00",
          "2023-10-25T00:00:00",
          "2023-10-26T00:00:00",
          "2023-10-27T00:00:00",
          "2023-10-30T00:00:00",
          "2023-10-31T00:00:00",
          "2023-11-01T00:00:00",
          "2023-11-02T00:00:00",
          "2023-11-03T00:00:00",
          "2023-11-06T00:00:00",
          "2023-11-07T00:00:00",
          "2023-11-08T00:00:00",
          "2023-11-09T00:00:00",
          "2023-11-10T00:00:00",
          "2023-11-13T00:00:00",
          "2023-11-14T00:00:00",
          "2023-11-15T00:00:00",
          "2023-11-16T00:00:00",
          "2023-11-17T00:00:00",
          "2023-11-20T00:00:00",
          "2023-11-21T00:00:00",
          "2023-11-22T00:00:00",
          "2023-11-24T00:00:00",
          "2023-11-27T00:00:00",
          "2023-11-28T00:00:00",
          "2023-11-29T00:00:00",
          "2023-11-30T00:00:00",
          "2023-12-01T00:00:00"
         ]
        }
       ],
       "layout": {
        "template": {
         "data": {
          "bar": [
           {
            "error_x": {
             "color": "#2a3f5f"
            },
            "error_y": {
             "color": "#2a3f5f"
            },
            "marker": {
             "line": {
              "color": "#E5ECF6",
              "width": 0.5
             },
             "pattern": {
              "fillmode": "overlay",
              "size": 10,
              "solidity": 0.2
             }
            },
            "type": "bar"
           }
          ],
          "barpolar": [
           {
            "marker": {
             "line": {
              "color": "#E5ECF6",
              "width": 0.5
             },
             "pattern": {
              "fillmode": "overlay",
              "size": 10,
              "solidity": 0.2
             }
            },
            "type": "barpolar"
           }
          ],
          "carpet": [
           {
            "aaxis": {
             "endlinecolor": "#2a3f5f",
             "gridcolor": "white",
             "linecolor": "white",
             "minorgridcolor": "white",
             "startlinecolor": "#2a3f5f"
            },
            "baxis": {
             "endlinecolor": "#2a3f5f",
             "gridcolor": "white",
             "linecolor": "white",
             "minorgridcolor": "white",
             "startlinecolor": "#2a3f5f"
            },
            "type": "carpet"
           }
          ],
          "choropleth": [
           {
            "colorbar": {
             "outlinewidth": 0,
             "ticks": ""
            },
            "type": "choropleth"
           }
          ],
          "contour": [
           {
            "colorbar": {
             "outlinewidth": 0,
             "ticks": ""
            },
            "colorscale": [
             [
              0,
              "#0d0887"
             ],
             [
              0.1111111111111111,
              "#46039f"
             ],
             [
              0.2222222222222222,
              "#7201a8"
             ],
             [
              0.3333333333333333,
              "#9c179e"
             ],
             [
              0.4444444444444444,
              "#bd3786"
             ],
             [
              0.5555555555555556,
              "#d8576b"
             ],
             [
              0.6666666666666666,
              "#ed7953"
             ],
             [
              0.7777777777777778,
              "#fb9f3a"
             ],
             [
              0.8888888888888888,
              "#fdca26"
             ],
             [
              1,
              "#f0f921"
             ]
            ],
            "type": "contour"
           }
          ],
          "contourcarpet": [
           {
            "colorbar": {
             "outlinewidth": 0,
             "ticks": ""
            },
            "type": "contourcarpet"
           }
          ],
          "heatmap": [
           {
            "colorbar": {
             "outlinewidth": 0,
             "ticks": ""
            },
            "colorscale": [
             [
              0,
              "#0d0887"
             ],
             [
              0.1111111111111111,
              "#46039f"
             ],
             [
              0.2222222222222222,
              "#7201a8"
             ],
             [
              0.3333333333333333,
              "#9c179e"
             ],
             [
              0.4444444444444444,
              "#bd3786"
             ],
             [
              0.5555555555555556,
              "#d8576b"
             ],
             [
              0.6666666666666666,
              "#ed7953"
             ],
             [
              0.7777777777777778,
              "#fb9f3a"
             ],
             [
              0.8888888888888888,
              "#fdca26"
             ],
             [
              1,
              "#f0f921"
             ]
            ],
            "type": "heatmap"
           }
          ],
          "heatmapgl": [
           {
            "colorbar": {
             "outlinewidth": 0,
             "ticks": ""
            },
            "colorscale": [
             [
              0,
              "#0d0887"
             ],
             [
              0.1111111111111111,
              "#46039f"
             ],
             [
              0.2222222222222222,
              "#7201a8"
             ],
             [
              0.3333333333333333,
              "#9c179e"
             ],
             [
              0.4444444444444444,
              "#bd3786"
             ],
             [
              0.5555555555555556,
              "#d8576b"
             ],
             [
              0.6666666666666666,
              "#ed7953"
             ],
             [
              0.7777777777777778,
              "#fb9f3a"
             ],
             [
              0.8888888888888888,
              "#fdca26"
             ],
             [
              1,
              "#f0f921"
             ]
            ],
            "type": "heatmapgl"
           }
          ],
          "histogram": [
           {
            "marker": {
             "pattern": {
              "fillmode": "overlay",
              "size": 10,
              "solidity": 0.2
             }
            },
            "type": "histogram"
           }
          ],
          "histogram2d": [
           {
            "colorbar": {
             "outlinewidth": 0,
             "ticks": ""
            },
            "colorscale": [
             [
              0,
              "#0d0887"
             ],
             [
              0.1111111111111111,
              "#46039f"
             ],
             [
              0.2222222222222222,
              "#7201a8"
             ],
             [
              0.3333333333333333,
              "#9c179e"
             ],
             [
              0.4444444444444444,
              "#bd3786"
             ],
             [
              0.5555555555555556,
              "#d8576b"
             ],
             [
              0.6666666666666666,
              "#ed7953"
             ],
             [
              0.7777777777777778,
              "#fb9f3a"
             ],
             [
              0.8888888888888888,
              "#fdca26"
             ],
             [
              1,
              "#f0f921"
             ]
            ],
            "type": "histogram2d"
           }
          ],
          "histogram2dcontour": [
           {
            "colorbar": {
             "outlinewidth": 0,
             "ticks": ""
            },
            "colorscale": [
             [
              0,
              "#0d0887"
             ],
             [
              0.1111111111111111,
              "#46039f"
             ],
             [
              0.2222222222222222,
              "#7201a8"
             ],
             [
              0.3333333333333333,
              "#9c179e"
             ],
             [
              0.4444444444444444,
              "#bd3786"
             ],
             [
              0.5555555555555556,
              "#d8576b"
             ],
             [
              0.6666666666666666,
              "#ed7953"
             ],
             [
              0.7777777777777778,
              "#fb9f3a"
             ],
             [
              0.8888888888888888,
              "#fdca26"
             ],
             [
              1,
              "#f0f921"
             ]
            ],
            "type": "histogram2dcontour"
           }
          ],
          "mesh3d": [
           {
            "colorbar": {
             "outlinewidth": 0,
             "ticks": ""
            },
            "type": "mesh3d"
           }
          ],
          "parcoords": [
           {
            "line": {
             "colorbar": {
              "outlinewidth": 0,
              "ticks": ""
             }
            },
            "type": "parcoords"
           }
          ],
          "pie": [
           {
            "automargin": true,
            "type": "pie"
           }
          ],
          "scatter": [
           {
            "fillpattern": {
             "fillmode": "overlay",
             "size": 10,
             "solidity": 0.2
            },
            "type": "scatter"
           }
          ],
          "scatter3d": [
           {
            "line": {
             "colorbar": {
              "outlinewidth": 0,
              "ticks": ""
             }
            },
            "marker": {
             "colorbar": {
              "outlinewidth": 0,
              "ticks": ""
             }
            },
            "type": "scatter3d"
           }
          ],
          "scattercarpet": [
           {
            "marker": {
             "colorbar": {
              "outlinewidth": 0,
              "ticks": ""
             }
            },
            "type": "scattercarpet"
           }
          ],
          "scattergeo": [
           {
            "marker": {
             "colorbar": {
              "outlinewidth": 0,
              "ticks": ""
             }
            },
            "type": "scattergeo"
           }
          ],
          "scattergl": [
           {
            "marker": {
             "colorbar": {
              "outlinewidth": 0,
              "ticks": ""
             }
            },
            "type": "scattergl"
           }
          ],
          "scattermapbox": [
           {
            "marker": {
             "colorbar": {
              "outlinewidth": 0,
              "ticks": ""
             }
            },
            "type": "scattermapbox"
           }
          ],
          "scatterpolar": [
           {
            "marker": {
             "colorbar": {
              "outlinewidth": 0,
              "ticks": ""
             }
            },
            "type": "scatterpolar"
           }
          ],
          "scatterpolargl": [
           {
            "marker": {
             "colorbar": {
              "outlinewidth": 0,
              "ticks": ""
             }
            },
            "type": "scatterpolargl"
           }
          ],
          "scatterternary": [
           {
            "marker": {
             "colorbar": {
              "outlinewidth": 0,
              "ticks": ""
             }
            },
            "type": "scatterternary"
           }
          ],
          "surface": [
           {
            "colorbar": {
             "outlinewidth": 0,
             "ticks": ""
            },
            "colorscale": [
             [
              0,
              "#0d0887"
             ],
             [
              0.1111111111111111,
              "#46039f"
             ],
             [
              0.2222222222222222,
              "#7201a8"
             ],
             [
              0.3333333333333333,
              "#9c179e"
             ],
             [
              0.4444444444444444,
              "#bd3786"
             ],
             [
              0.5555555555555556,
              "#d8576b"
             ],
             [
              0.6666666666666666,
              "#ed7953"
             ],
             [
              0.7777777777777778,
              "#fb9f3a"
             ],
             [
              0.8888888888888888,
              "#fdca26"
             ],
             [
              1,
              "#f0f921"
             ]
            ],
            "type": "surface"
           }
          ],
          "table": [
           {
            "cells": {
             "fill": {
              "color": "#EBF0F8"
             },
             "line": {
              "color": "white"
             }
            },
            "header": {
             "fill": {
              "color": "#C8D4E3"
             },
             "line": {
              "color": "white"
             }
            },
            "type": "table"
           }
          ]
         },
         "layout": {
          "annotationdefaults": {
           "arrowcolor": "#2a3f5f",
           "arrowhead": 0,
           "arrowwidth": 1
          },
          "autotypenumbers": "strict",
          "coloraxis": {
           "colorbar": {
            "outlinewidth": 0,
            "ticks": ""
           }
          },
          "colorscale": {
           "diverging": [
            [
             0,
             "#8e0152"
            ],
            [
             0.1,
             "#c51b7d"
            ],
            [
             0.2,
             "#de77ae"
            ],
            [
             0.3,
             "#f1b6da"
            ],
            [
             0.4,
             "#fde0ef"
            ],
            [
             0.5,
             "#f7f7f7"
            ],
            [
             0.6,
             "#e6f5d0"
            ],
            [
             0.7,
             "#b8e186"
            ],
            [
             0.8,
             "#7fbc41"
            ],
            [
             0.9,
             "#4d9221"
            ],
            [
             1,
             "#276419"
            ]
           ],
           "sequential": [
            [
             0,
             "#0d0887"
            ],
            [
             0.1111111111111111,
             "#46039f"
            ],
            [
             0.2222222222222222,
             "#7201a8"
            ],
            [
             0.3333333333333333,
             "#9c179e"
            ],
            [
             0.4444444444444444,
             "#bd3786"
            ],
            [
             0.5555555555555556,
             "#d8576b"
            ],
            [
             0.6666666666666666,
             "#ed7953"
            ],
            [
             0.7777777777777778,
             "#fb9f3a"
            ],
            [
             0.8888888888888888,
             "#fdca26"
            ],
            [
             1,
             "#f0f921"
            ]
           ],
           "sequentialminus": [
            [
             0,
             "#0d0887"
            ],
            [
             0.1111111111111111,
             "#46039f"
            ],
            [
             0.2222222222222222,
             "#7201a8"
            ],
            [
             0.3333333333333333,
             "#9c179e"
            ],
            [
             0.4444444444444444,
             "#bd3786"
            ],
            [
             0.5555555555555556,
             "#d8576b"
            ],
            [
             0.6666666666666666,
             "#ed7953"
            ],
            [
             0.7777777777777778,
             "#fb9f3a"
            ],
            [
             0.8888888888888888,
             "#fdca26"
            ],
            [
             1,
             "#f0f921"
            ]
           ]
          },
          "colorway": [
           "#636efa",
           "#EF553B",
           "#00cc96",
           "#ab63fa",
           "#FFA15A",
           "#19d3f3",
           "#FF6692",
           "#B6E880",
           "#FF97FF",
           "#FECB52"
          ],
          "font": {
           "color": "#2a3f5f"
          },
          "geo": {
           "bgcolor": "white",
           "lakecolor": "white",
           "landcolor": "#E5ECF6",
           "showlakes": true,
           "showland": true,
           "subunitcolor": "white"
          },
          "hoverlabel": {
           "align": "left"
          },
          "hovermode": "closest",
          "mapbox": {
           "style": "light"
          },
          "paper_bgcolor": "white",
          "plot_bgcolor": "#E5ECF6",
          "polar": {
           "angularaxis": {
            "gridcolor": "white",
            "linecolor": "white",
            "ticks": ""
           },
           "bgcolor": "#E5ECF6",
           "radialaxis": {
            "gridcolor": "white",
            "linecolor": "white",
            "ticks": ""
           }
          },
          "scene": {
           "xaxis": {
            "backgroundcolor": "#E5ECF6",
            "gridcolor": "white",
            "gridwidth": 2,
            "linecolor": "white",
            "showbackground": true,
            "ticks": "",
            "zerolinecolor": "white"
           },
           "yaxis": {
            "backgroundcolor": "#E5ECF6",
            "gridcolor": "white",
            "gridwidth": 2,
            "linecolor": "white",
            "showbackground": true,
            "ticks": "",
            "zerolinecolor": "white"
           },
           "zaxis": {
            "backgroundcolor": "#E5ECF6",
            "gridcolor": "white",
            "gridwidth": 2,
            "linecolor": "white",
            "showbackground": true,
            "ticks": "",
            "zerolinecolor": "white"
           }
          },
          "shapedefaults": {
           "line": {
            "color": "#2a3f5f"
           }
          },
          "ternary": {
           "aaxis": {
            "gridcolor": "white",
            "linecolor": "white",
            "ticks": ""
           },
           "baxis": {
            "gridcolor": "white",
            "linecolor": "white",
            "ticks": ""
           },
           "bgcolor": "#E5ECF6",
           "caxis": {
            "gridcolor": "white",
            "linecolor": "white",
            "ticks": ""
           }
          },
          "title": {
           "x": 0.05
          },
          "xaxis": {
           "automargin": true,
           "gridcolor": "white",
           "linecolor": "white",
           "ticks": "",
           "title": {
            "standoff": 15
           },
           "zerolinecolor": "white",
           "zerolinewidth": 2
          },
          "yaxis": {
           "automargin": true,
           "gridcolor": "white",
           "linecolor": "white",
           "ticks": "",
           "title": {
            "standoff": 15
           },
           "zerolinecolor": "white",
           "zerolinewidth": 2
          }
         }
        },
        "title": {
         "text": "OHLC Chart"
        },
        "xaxis": {
         "rangeslider": {
          "visible": false
         },
         "title": {
          "text": "Date"
         }
        },
        "yaxis": {
         "title": {
          "text": "Price"
         }
        }
       }
      }
     },
     "metadata": {},
     "output_type": "display_data"
    }
   ],
   "source": [
    "hist_df.head()\n",
    "\n",
    "df = hist_df.dropna()\n",
    "# get the cart\n",
    "fig = plotlyUtils.create_candlestick(hist_df, ohlc_cols=['OPEN', 'HIGH', 'LOW', 'CLOSE'])\n",
    "# plot the chart\n",
    "fig.show()"
   ]
  },
  {
   "cell_type": "code",
   "execution_count": 6,
   "metadata": {},
   "outputs": [
    {
     "data": {
      "text/plain": [
       "<matplotlib.lines.Line2D at 0x15a5d90f7c0>"
      ]
     },
     "execution_count": 6,
     "metadata": {},
     "output_type": "execute_result"
    },
    {
     "data": {
      "image/png": "[encoded data removed]",
      "text/plain": [
       "<Figure size 640x480 with 1 Axes>"
      ]
     },
     "metadata": {},
     "output_type": "display_data"
    }
   ],
   "source": [
    "import matplotlib.pyplot as plt\n",
    "objFut.fwd_yield_history.plot()\n",
    "plt.axhline(0.05)"
   ]
  },
  {
   "cell_type": "code",
   "execution_count": 72,
   "metadata": {},
   "outputs": [
    {
     "data": {
      "text/plain": [
       "{'strike': 107.0,\n",
       " 'typ_code': 'C',\n",
       " 'fut_code': '1M',\n",
       " 'exp_code': '1MZ4',\n",
       " 'month_code': 'Z',\n",
       " 'year_code': '4',\n",
       " 'weeknum': None,\n",
       " 'is_wedweekly': False}"
      ]
     },
     "execution_count": 72,
     "metadata": {},
     "output_type": "execute_result"
    }
   ],
   "source": [
    "def parse_option_ticker(option_ticker):\n",
    "    \"\"\"\n",
    "    Parse a bloomberg ticker into the components - strike, type_code, fut_code, exp_code, month_code, year_code,\n",
    "    weeknum, is_wedweekly\n",
    "\n",
    "    :param option_ticker: bbg ticker of the type TYJ1C <strike> Comdty or TYWF21C2 <strike> Comdty\n",
    "    :return: dictionary containing the parsed params\n",
    "    \"\"\"\n",
    "    parts = option_ticker.split(' ')\n",
    "    strike = float(parts[1])\n",
    "    if len(parts[0]) == 8:\n",
    "        # e.g, TYWF21C2, this is a wednesday weekly code\n",
    "        # The format of the ticker is <base:2><W><MonthCode:1><YY:2><Flavor:1><Weeknum:1> <Strike> Comdty\n",
    "        ticker_code = parts[0]\n",
    "        fut_code = ticker_code[:2]\n",
    "        typ_code = ticker_code[6:7]\n",
    "        month_code = ticker_code[3:4]\n",
    "        year_code = ticker_code[4:6]\n",
    "        weeknum = ticker_code[7:8]\n",
    "        is_wedweekly = True\n",
    "        exp_code = \"W_\" + ticker_code[3:6] + '_' + ticker_code[-1]\n",
    "    else:\n",
    "        # e.g, TYJ1, TYH1, 1MF1, 2MG1 is a serial, quarterly or friday weekly\n",
    "        fut_code = parts[0][:2]\n",
    "        typ_code = parts[0][-1]\n",
    "        exp_code = parts[0][:-1]\n",
    "        month_code = parts[0][2:3]\n",
    "        year_code = parts[0][3:4]\n",
    "        weeknum = None\n",
    "        is_wedweekly = False\n",
    "    return dict(strike=strike, typ_code=typ_code, fut_code=fut_code, exp_code=exp_code,\n",
    "                month_code=month_code, year_code=year_code, weeknum=weeknum, is_wedweekly=is_wedweekly)\n",
    "\n",
    "ticker = \"1MZ4C 107 Comdty\"\n",
    "parse_option_ticker(ticker)"
   ]
  },
  {
   "cell_type": "markdown",
   "metadata": {},
   "source": [
    "### Option Data"
   ]
  },
  {
   "cell_type": "code",
   "execution_count": 23,
   "metadata": {},
   "outputs": [
    {
     "data": {
      "text/plain": [
       "107.6171875"
      ]
     },
     "execution_count": 23,
     "metadata": {},
     "output_type": "execute_result"
    }
   ],
   "source": [
    "objFut.snap()\n",
    "objFut.snap_mid"
   ]
  },
  {
   "cell_type": "code",
   "execution_count": 24,
   "metadata": {},
   "outputs": [
    {
     "name": "stderr",
     "output_type": "stream",
     "text": [
      "[2023-12-03 02:13:04,998] DEBUG [NxFreeBondFutOpt] [BondFutSurface.py] [retrive_valid_tickers][540] [PID:2228 TID:15708] \n",
      "[2023-12-03 02:13:05,001] DEBUG [NxFreeBondFutOpt] [BondFutSurface.py] [retrive_valid_tickers][555] [PID:2228 TID:15708] Possible tickers: ['1IG4P 108 Comdty', '1IF4P 108 Comdty', '1IZ3P 108 Comdty', '1IX3P 108 Comdty', '2IG4P 108 Comdty', '2IF4P 108 Comdty', '2IZ3P 108 Comdty', '2IX3P 108 Comdty', '3IG4P 108 Comdty', '3IF4P 108 Comdty', '3IZ3P 108 Comdty', '3IX3P 108 Comdty', '4IG4P 108 Comdty', '4IF4P 108 Comdty', '4IZ3P 108 Comdty', '4IX3P 108 Comdty', '5IG4P 108 Comdty', '5IF4P 108 Comdty', '5IZ3P 108 Comdty', '5IX3P 108 Comdty', 'FVF4P 108 Comdty', 'FVG4P 108 Comdty', 'FVH4P 108 Comdty', 'FVWG24C1 108 Comdty', 'FVWG24C2 108 Comdty', 'FVWG24C3 108 Comdty', 'FVWG24C4 108 Comdty', 'FVWG24C5 108 Comdty', 'FVWF24C1 108 Comdty', 'FVWF24C2 108 Comdty', 'FVWF24C3 108 Comdty', 'FVWF24C4 108 Comdty', 'FVWF24C5 108 Comdty', 'FVWZ23C1 108 Comdty', 'FVWZ23C2 108 Comdty', 'FVWZ23C3 108 Comdty', 'FVWZ23C4 108 Comdty', 'FVWZ23C5 108 Comdty', 'FVWX23C1 108 Comdty', 'FVWX23C2 108 Comdty', 'FVWX23C3 108 Comdty', 'FVWX23C4 108 Comdty', 'FVWX23C5 108 Comdty']\n",
      "[2023-12-03 02:13:06,218] ERROR [HistoryManager] [HistoryManager.py] [get_info][1116] [PID:2228 TID:15708] SecurityError: (1IG4P 108 Comdty, BAD_SEC, Unknown/Invalid Security  [nid:19434])\n",
      "[2023-12-03 02:13:07,299] ERROR [HistoryManager] [HistoryManager.py] [get_info][1116] [PID:2228 TID:15708] SecurityError: (1IF4P 108 Comdty, BAD_SEC, Unknown/Invalid Security  [nid:19533])\n",
      "[2023-12-03 02:13:10,610] ERROR [HistoryManager] [HistoryManager.py] [get_info][1116] [PID:2228 TID:15708] SecurityError: (2IG4P 108 Comdty, BAD_SEC, Unknown/Invalid Security  [nid:21928])\n",
      "[2023-12-03 02:13:11,719] ERROR [HistoryManager] [HistoryManager.py] [get_info][1116] [PID:2228 TID:15708] SecurityError: (2IF4P 108 Comdty, BAD_SEC, Unknown/Invalid Security  [nid:19432])\n",
      "[2023-12-03 02:13:15,108] ERROR [HistoryManager] [HistoryManager.py] [get_info][1116] [PID:2228 TID:15708] SecurityError: (3IG4P 108 Comdty, BAD_SEC, Unknown/Invalid Security  [nid:19560])\n",
      "[2023-12-03 02:13:16,154] ERROR [HistoryManager] [HistoryManager.py] [get_info][1116] [PID:2228 TID:15708] SecurityError: (3IF4P 108 Comdty, BAD_SEC, Unknown/Invalid Security  [nid:24057])\n",
      "[2023-12-03 02:13:19,443] ERROR [HistoryManager] [HistoryManager.py] [get_info][1116] [PID:2228 TID:15708] SecurityError: (4IG4P 108 Comdty, BAD_SEC, Unknown/Invalid Security  [nid:19354])\n",
      "[2023-12-03 02:13:20,578] ERROR [HistoryManager] [HistoryManager.py] [get_info][1116] [PID:2228 TID:15708] FieldError: (4IF4P 108 Comdty, REAL_UNDERLYING_TICKER, BAD_FLD, Field not applicable to security)\n",
      "[2023-12-03 02:13:21,655] ERROR [HistoryManager] [HistoryManager.py] [get_info][1116] [PID:2228 TID:15708] SecurityError: (4IZ3P 108 Comdty, BAD_SEC, Unknown/Invalid Security  [nid:21927])\n",
      "[2023-12-03 02:13:22,854] ERROR [HistoryManager] [HistoryManager.py] [get_info][1116] [PID:2228 TID:15708] FieldError: (4IX3P 108 Comdty, REAL_UNDERLYING_TICKER, BAD_FLD, Field not applicable to security)\n",
      "[2023-12-03 02:13:23,899] ERROR [HistoryManager] [HistoryManager.py] [get_info][1116] [PID:2228 TID:15708] SecurityError: (5IG4P 108 Comdty, BAD_SEC, Unknown/Invalid Security  [nid:23890])\n",
      "[2023-12-03 02:13:24,943] ERROR [HistoryManager] [HistoryManager.py] [get_info][1116] [PID:2228 TID:15708] SecurityError: (5IF4P 108 Comdty, BAD_SEC, Unknown/Invalid Security  [nid:23210])\n",
      "[2023-12-03 02:13:26,005] ERROR [HistoryManager] [HistoryManager.py] [get_info][1116] [PID:2228 TID:15708] SecurityError: (5IZ3P 108 Comdty, BAD_SEC, Unknown/Invalid Security  [nid:23121])\n",
      "[2023-12-03 02:13:27,029] ERROR [HistoryManager] [HistoryManager.py] [get_info][1116] [PID:2228 TID:15708] SecurityError: (5IX3P 108 Comdty, BAD_SEC, Unknown/Invalid Security  [nid:23121])\n",
      "[2023-12-03 02:13:31,554] ERROR [HistoryManager] [HistoryManager.py] [get_info][1116] [PID:2228 TID:15708] SecurityError: (FVWG24C1 108 Comdty, BAD_SEC, Unknown/Invalid Security  [nid:19434])\n",
      "[2023-12-03 02:13:32,597] ERROR [HistoryManager] [HistoryManager.py] [get_info][1116] [PID:2228 TID:15708] SecurityError: (FVWG24C2 108 Comdty, BAD_SEC, Unknown/Invalid Security  [nid:23926])\n",
      "[2023-12-03 02:13:33,638] ERROR [HistoryManager] [HistoryManager.py] [get_info][1116] [PID:2228 TID:15708] SecurityError: (FVWG24C3 108 Comdty, BAD_SEC, Unknown/Invalid Security  [nid:19432])\n",
      "[2023-12-03 02:13:34,745] ERROR [HistoryManager] [HistoryManager.py] [get_info][1116] [PID:2228 TID:15708] SecurityError: (FVWG24C4 108 Comdty, BAD_SEC, Unknown/Invalid Security  [nid:24137])\n",
      "[2023-12-03 02:13:35,824] ERROR [HistoryManager] [HistoryManager.py] [get_info][1116] [PID:2228 TID:15708] SecurityError: (FVWG24C5 108 Comdty, BAD_SEC, Unknown/Invalid Security  [nid:23120])\n",
      "[2023-12-03 02:13:36,905] ERROR [HistoryManager] [HistoryManager.py] [get_info][1116] [PID:2228 TID:15708] SecurityError: (FVWF24C1 108 Comdty, BAD_SEC, Unknown/Invalid Security  [nid:23462])\n",
      "[2023-12-03 02:13:38,012] ERROR [HistoryManager] [HistoryManager.py] [get_info][1116] [PID:2228 TID:15708] SecurityError: (FVWF24C2 108 Comdty, BAD_SEC, Unknown/Invalid Security  [nid:19435])\n",
      "[2023-12-03 02:13:39,060] ERROR [HistoryManager] [HistoryManager.py] [get_info][1116] [PID:2228 TID:15708] SecurityError: (FVWF24C3 108 Comdty, BAD_SEC, Unknown/Invalid Security  [nid:21927])\n",
      "[2023-12-03 02:13:40,102] ERROR [HistoryManager] [HistoryManager.py] [get_info][1116] [PID:2228 TID:15708] SecurityError: (FVWF24C4 108 Comdty, BAD_SEC, Unknown/Invalid Security  [nid:19534])\n",
      "[2023-12-03 02:13:41,173] ERROR [HistoryManager] [HistoryManager.py] [get_info][1116] [PID:2228 TID:15708] SecurityError: (FVWF24C5 108 Comdty, BAD_SEC, Unknown/Invalid Security  [nid:21927])\n",
      "[2023-12-03 02:13:44,607] ERROR [HistoryManager] [HistoryManager.py] [get_info][1116] [PID:2228 TID:15708] SecurityError: (FVWZ23C3 108 Comdty, BAD_SEC, Unknown/Invalid Security  [nid:19465])\n",
      "[2023-12-03 02:13:45,761] ERROR [HistoryManager] [HistoryManager.py] [get_info][1116] [PID:2228 TID:15708] SecurityError: (FVWZ23C4 108 Comdty, BAD_SEC, Unknown/Invalid Security  [nid:23120])\n",
      "[2023-12-03 02:13:46,874] ERROR [HistoryManager] [HistoryManager.py] [get_info][1116] [PID:2228 TID:15708] SecurityError: (FVWZ23C5 108 Comdty, BAD_SEC, Unknown/Invalid Security  [nid:19533])\n",
      "[2023-12-03 02:13:52,852] DEBUG [NxFreeBondFutOpt] [BondFutSurface.py] [retrive_valid_tickers][573] [PID:2228 TID:15708] Expiry dates from BBG:                     last_tradeable_dt opt_first_trade_dt OPT_UNDL_TICKER  \\\n",
      "1IG4P 108 Comdty                  NaT                NaT             NaN   \n",
      "1IF4P 108 Comdty                  NaT                NaT             NaN   \n",
      "1IZ3P 108 Comdty           2023-12-01         2023-11-06            1IH4   \n",
      "1IX3P 108 Comdty           2023-11-03         2023-10-09            1IZ3   \n",
      "2IG4P 108 Comdty                  NaT                NaT             NaN   \n",
      "2IF4P 108 Comdty                  NaT                NaT             NaN   \n",
      "2IZ3P 108 Comdty           2023-12-08         2023-11-13            2IH4   \n",
      "2IX3P 108 Comdty           2023-11-10         2023-10-16            2IZ3   \n",
      "3IG4P 108 Comdty                  NaT                NaT             NaN   \n",
      "3IF4P 108 Comdty                  NaT                NaT             NaN   \n",
      "3IZ3P 108 Comdty           2023-12-15         2023-11-20            3IH4   \n",
      "3IX3P 108 Comdty           2023-11-17         2023-10-23            3IZ3   \n",
      "4IG4P 108 Comdty                  NaT                NaT             NaN   \n",
      "4IF4P 108 Comdty                  NaT                NaT             NaN   \n",
      "4IZ3P 108 Comdty                  NaT                NaT             NaN   \n",
      "4IX3P 108 Comdty                  NaT                NaT             NaN   \n",
      "5IG4P 108 Comdty                  NaT                NaT             NaN   \n",
      "5IF4P 108 Comdty                  NaT                NaT             NaN   \n",
      "5IZ3P 108 Comdty                  NaT                NaT             NaN   \n",
      "5IX3P 108 Comdty                  NaT                NaT             NaN   \n",
      "FVF4P 108 Comdty           2023-12-22         2023-07-24            FVH4   \n",
      "FVG4P 108 Comdty           2024-01-26         2023-09-25            FVH4   \n",
      "FVH4P 108 Comdty           2024-02-23         2023-07-03            FVH4   \n",
      "FVWG24C1 108 Comdty               NaT                NaT             NaN   \n",
      "FVWG24C2 108 Comdty               NaT                NaT             NaN   \n",
      "FVWG24C3 108 Comdty               NaT                NaT             NaN   \n",
      "FVWG24C4 108 Comdty               NaT                NaT             NaN   \n",
      "FVWG24C5 108 Comdty               NaT                NaT             NaN   \n",
      "FVWF24C1 108 Comdty               NaT                NaT             NaN   \n",
      "FVWF24C2 108 Comdty               NaT                NaT             NaN   \n",
      "FVWF24C3 108 Comdty               NaT                NaT             NaN   \n",
      "FVWF24C4 108 Comdty               NaT                NaT             NaN   \n",
      "FVWF24C5 108 Comdty               NaT                NaT             NaN   \n",
      "FVWZ23C1 108 Comdty        2023-12-06         2023-11-24           FVWH4   \n",
      "FVWZ23C2 108 Comdty        2023-12-13         2023-11-30           FVWH4   \n",
      "FVWZ23C3 108 Comdty               NaT                NaT             NaN   \n",
      "FVWZ23C4 108 Comdty               NaT                NaT             NaN   \n",
      "FVWZ23C5 108 Comdty               NaT                NaT             NaN   \n",
      "FVWX23C1 108 Comdty        2023-11-01         2023-10-19           FVWZ3   \n",
      "FVWX23C2 108 Comdty        2023-11-08         2023-10-26           FVWZ3   \n",
      "FVWX23C3 108 Comdty        2023-11-15         2023-11-02           FVWZ3   \n",
      "FVWX23C4 108 Comdty        2023-11-22         2023-11-09           FVWZ3   \n",
      "FVWX23C5 108 Comdty        2023-11-29         2023-11-16           FVWH4   \n",
      "\n",
      "                    REAL_UNDERLYING_TICKER  \n",
      "1IG4P 108 Comdty                       NaN  \n",
      "1IF4P 108 Comdty                       NaN  \n",
      "1IZ3P 108 Comdty                      FVH4  \n",
      "1IX3P 108 Comdty                      FVZ3  \n",
      "2IG4P 108 Comdty                       NaN  \n",
      "2IF4P 108 Comdty                       NaN  \n",
      "2IZ3P 108 Comdty                      FVH4  \n",
      "2IX3P 108 Comdty                      FVZ3  \n",
      "3IG4P 108 Comdty                       NaN  \n",
      "3IF4P 108 Comdty                       NaN  \n",
      "3IZ3P 108 Comdty                      FVH4  \n",
      "3IX3P 108 Comdty                      FVZ3  \n",
      "4IG4P 108 Comdty                       NaN  \n",
      "4IF4P 108 Comdty                       NaN  \n",
      "4IZ3P 108 Comdty                       NaN  \n",
      "4IX3P 108 Comdty                       NaN  \n",
      "5IG4P 108 Comdty                       NaN  \n",
      "5IF4P 108 Comdty                       NaN  \n",
      "5IZ3P 108 Comdty                       NaN  \n",
      "5IX3P 108 Comdty                       NaN  \n",
      "FVF4P 108 Comdty                      FVH4  \n",
      "FVG4P 108 Comdty                      FVH4  \n",
      "FVH4P 108 Comdty                      FVH4  \n",
      "FVWG24C1 108 Comdty                    NaN  \n",
      "FVWG24C2 108 Comdty                    NaN  \n",
      "FVWG24C3 108 Comdty                    NaN  \n",
      "FVWG24C4 108 Comdty                    NaN  \n",
      "FVWG24C5 108 Comdty                    NaN  \n",
      "FVWF24C1 108 Comdty                    NaN  \n",
      "FVWF24C2 108 Comdty                    NaN  \n",
      "FVWF24C3 108 Comdty                    NaN  \n",
      "FVWF24C4 108 Comdty                    NaN  \n",
      "FVWF24C5 108 Comdty                    NaN  \n",
      "FVWZ23C1 108 Comdty                   FVH4  \n",
      "FVWZ23C2 108 Comdty                   FVH4  \n",
      "FVWZ23C3 108 Comdty                    NaN  \n",
      "FVWZ23C4 108 Comdty                    NaN  \n",
      "FVWZ23C5 108 Comdty                    NaN  \n",
      "FVWX23C1 108 Comdty                   FVZ3  \n",
      "FVWX23C2 108 Comdty                   FVZ3  \n",
      "FVWX23C3 108 Comdty                   FVZ3  \n",
      "FVWX23C4 108 Comdty                   FVZ3  \n",
      "FVWX23C5 108 Comdty                   FVH4  \n"
     ]
    }
   ],
   "source": [
    "from FinAPI.BondFutureOption.BondFutSurface import OptionBBGDataSource\n",
    "\n",
    "valid_expiries = OptionBBGDataSource.retrive_valid_tickers(objFut, objFut.snap_mid, objFut.today, True)"
   ]
  },
  {
   "cell_type": "code",
   "execution_count": 25,
   "metadata": {},
   "outputs": [
    {
     "data": {
      "text/html": [
       "<div>\n",
       "<style scoped>\n",
       "    .dataframe tbody tr th:only-of-type {\n",
       "        vertical-align: middle;\n",
       "    }\n",
       "\n",
       "    .dataframe tbody tr th {\n",
       "        vertical-align: top;\n",
       "    }\n",
       "\n",
       "    .dataframe thead th {\n",
       "        text-align: right;\n",
       "    }\n",
       "</style>\n",
       "<table border=\"1\" class=\"dataframe\">\n",
       "  <thead>\n",
       "    <tr style=\"text-align: right;\">\n",
       "      <th></th>\n",
       "      <th>last_tradeable_dt</th>\n",
       "      <th>opt_first_trade_dt</th>\n",
       "      <th>OPT_UNDL_TICKER</th>\n",
       "      <th>REAL_UNDERLYING_TICKER</th>\n",
       "      <th>expiry_type</th>\n",
       "      <th>strike_spread</th>\n",
       "      <th>tickers</th>\n",
       "      <th>days_to_expiry</th>\n",
       "      <th>year_fracs</th>\n",
       "      <th>exp_code</th>\n",
       "    </tr>\n",
       "  </thead>\n",
       "  <tbody>\n",
       "    <tr>\n",
       "      <th>2023-12-01</th>\n",
       "      <td>2023-12-01</td>\n",
       "      <td>2023-11-06</td>\n",
       "      <td>1IH4</td>\n",
       "      <td>FVH4</td>\n",
       "      <td>Friday Weekly</td>\n",
       "      <td>0.25</td>\n",
       "      <td>1IZ3P 108 Comdty</td>\n",
       "      <td>0</td>\n",
       "      <td>0.000000</td>\n",
       "      <td>1IZ3</td>\n",
       "    </tr>\n",
       "    <tr>\n",
       "      <th>2023-12-06</th>\n",
       "      <td>2023-12-06</td>\n",
       "      <td>2023-11-24</td>\n",
       "      <td>FVWH4</td>\n",
       "      <td>FVH4</td>\n",
       "      <td>Wednesday Weekly</td>\n",
       "      <td>0.25</td>\n",
       "      <td>FVWZ23C1 108 Comdty</td>\n",
       "      <td>5</td>\n",
       "      <td>0.013699</td>\n",
       "      <td>W_Z23_1</td>\n",
       "    </tr>\n",
       "    <tr>\n",
       "      <th>2023-12-08</th>\n",
       "      <td>2023-12-08</td>\n",
       "      <td>2023-11-13</td>\n",
       "      <td>2IH4</td>\n",
       "      <td>FVH4</td>\n",
       "      <td>Friday Weekly</td>\n",
       "      <td>0.25</td>\n",
       "      <td>2IZ3P 108 Comdty</td>\n",
       "      <td>7</td>\n",
       "      <td>0.019178</td>\n",
       "      <td>2IZ3</td>\n",
       "    </tr>\n",
       "    <tr>\n",
       "      <th>2023-12-13</th>\n",
       "      <td>2023-12-13</td>\n",
       "      <td>2023-11-30</td>\n",
       "      <td>FVWH4</td>\n",
       "      <td>FVH4</td>\n",
       "      <td>Wednesday Weekly</td>\n",
       "      <td>0.25</td>\n",
       "      <td>FVWZ23C2 108 Comdty</td>\n",
       "      <td>12</td>\n",
       "      <td>0.032877</td>\n",
       "      <td>W_Z23_2</td>\n",
       "    </tr>\n",
       "    <tr>\n",
       "      <th>2023-12-15</th>\n",
       "      <td>2023-12-15</td>\n",
       "      <td>2023-11-20</td>\n",
       "      <td>3IH4</td>\n",
       "      <td>FVH4</td>\n",
       "      <td>Friday Weekly</td>\n",
       "      <td>0.25</td>\n",
       "      <td>3IZ3P 108 Comdty</td>\n",
       "      <td>14</td>\n",
       "      <td>0.038356</td>\n",
       "      <td>3IZ3</td>\n",
       "    </tr>\n",
       "    <tr>\n",
       "      <th>2023-12-22</th>\n",
       "      <td>2023-12-22</td>\n",
       "      <td>2023-07-24</td>\n",
       "      <td>FVH4</td>\n",
       "      <td>FVH4</td>\n",
       "      <td>Serial Quarterly</td>\n",
       "      <td>0.25</td>\n",
       "      <td>FVF4P 108 Comdty</td>\n",
       "      <td>21</td>\n",
       "      <td>0.057534</td>\n",
       "      <td>FVF4</td>\n",
       "    </tr>\n",
       "    <tr>\n",
       "      <th>2024-01-26</th>\n",
       "      <td>2024-01-26</td>\n",
       "      <td>2023-09-25</td>\n",
       "      <td>FVH4</td>\n",
       "      <td>FVH4</td>\n",
       "      <td>Serial Quarterly</td>\n",
       "      <td>0.25</td>\n",
       "      <td>FVG4P 108 Comdty</td>\n",
       "      <td>56</td>\n",
       "      <td>0.153425</td>\n",
       "      <td>FVG4</td>\n",
       "    </tr>\n",
       "    <tr>\n",
       "      <th>2024-02-23</th>\n",
       "      <td>2024-02-23</td>\n",
       "      <td>2023-07-03</td>\n",
       "      <td>FVH4</td>\n",
       "      <td>FVH4</td>\n",
       "      <td>Serial Quarterly</td>\n",
       "      <td>0.25</td>\n",
       "      <td>FVH4P 108 Comdty</td>\n",
       "      <td>84</td>\n",
       "      <td>0.230137</td>\n",
       "      <td>FVH4</td>\n",
       "    </tr>\n",
       "  </tbody>\n",
       "</table>\n",
       "</div>"
      ],
      "text/plain": [
       "           last_tradeable_dt opt_first_trade_dt OPT_UNDL_TICKER  \\\n",
       "2023-12-01        2023-12-01         2023-11-06            1IH4   \n",
       "2023-12-06        2023-12-06         2023-11-24           FVWH4   \n",
       "2023-12-08        2023-12-08         2023-11-13            2IH4   \n",
       "2023-12-13        2023-12-13         2023-11-30           FVWH4   \n",
       "2023-12-15        2023-12-15         2023-11-20            3IH4   \n",
       "2023-12-22        2023-12-22         2023-07-24            FVH4   \n",
       "2024-01-26        2024-01-26         2023-09-25            FVH4   \n",
       "2024-02-23        2024-02-23         2023-07-03            FVH4   \n",
       "\n",
       "           REAL_UNDERLYING_TICKER       expiry_type  strike_spread  \\\n",
       "2023-12-01                   FVH4     Friday Weekly           0.25   \n",
       "2023-12-06                   FVH4  Wednesday Weekly           0.25   \n",
       "2023-12-08                   FVH4     Friday Weekly           0.25   \n",
       "2023-12-13                   FVH4  Wednesday Weekly           0.25   \n",
       "2023-12-15                   FVH4     Friday Weekly           0.25   \n",
       "2023-12-22                   FVH4  Serial Quarterly           0.25   \n",
       "2024-01-26                   FVH4  Serial Quarterly           0.25   \n",
       "2024-02-23                   FVH4  Serial Quarterly           0.25   \n",
       "\n",
       "                        tickers  days_to_expiry  year_fracs exp_code  \n",
       "2023-12-01     1IZ3P 108 Comdty               0    0.000000     1IZ3  \n",
       "2023-12-06  FVWZ23C1 108 Comdty               5    0.013699  W_Z23_1  \n",
       "2023-12-08     2IZ3P 108 Comdty               7    0.019178     2IZ3  \n",
       "2023-12-13  FVWZ23C2 108 Comdty              12    0.032877  W_Z23_2  \n",
       "2023-12-15     3IZ3P 108 Comdty              14    0.038356     3IZ3  \n",
       "2023-12-22     FVF4P 108 Comdty              21    0.057534     FVF4  \n",
       "2024-01-26     FVG4P 108 Comdty              56    0.153425     FVG4  \n",
       "2024-02-23     FVH4P 108 Comdty              84    0.230137     FVH4  "
      ]
     },
     "execution_count": 25,
     "metadata": {},
     "output_type": "execute_result"
    }
   ],
   "source": [
    "valid_expiries"
   ]
  },
  {
   "cell_type": "code",
   "execution_count": 37,
   "metadata": {},
   "outputs": [
    {
     "name": "stderr",
     "output_type": "stream",
     "text": [
      "[2023-12-03 02:50:24,099] DEBUG [NxFreeBondFutOpt] [BondFutSurface.py] [create_tickers_vol_surface][683] [PID:2228 TID:15708] strike universe: {108.75, 109.25, 109.5, 105.5, 106.0, 106.5, 105.75, 106.25, 106.75, 107.0, 107.25, 107.5, 107.75, 108.0, 108.25, 108.5, 109.0}\n"
     ]
    },
    {
     "name": "stdout",
     "output_type": "stream",
     "text": [
      "0.040988161257759184 0.03598816125775919 0.04598816125775918\n",
      "0.040988161257759184 0.03598816125775919 0.04598816125775918\n",
      "0.040988161257759184 0.03598816125775919 0.04598816125775918\n",
      "0.040988161257759184 0.03598816125775919 0.04598816125775918\n",
      "0.040988161257759184 0.03598816125775919 0.04598816125775918\n",
      "0.040988161257759184 0.03598816125775919 0.04598816125775918\n",
      "0.040988161257759184 0.03598816125775919 0.04598816125775918\n",
      "0.040988161257759184 0.03598816125775919 0.04598816125775918\n"
     ]
    }
   ],
   "source": [
    "ticker_dict, strike_universe = OptionBBGDataSource.create_tickers_vol_surface(objFut, objFut.snap_mid, valid_expiries)"
   ]
  },
  {
   "cell_type": "code",
   "execution_count": 38,
   "metadata": {},
   "outputs": [
    {
     "data": {
      "text/plain": [
       "(0.040702790951414505, 0.040988161257759184)"
      ]
     },
     "execution_count": 38,
     "metadata": {},
     "output_type": "execute_result"
    }
   ],
   "source": [
    "ref_strike = int(np.round(objFut.snap_mid / 0.5)) * 0.5\n",
    "objFut.yld(107+19.75/32), objFut.yld(ref_strike)"
   ]
  },
  {
   "cell_type": "code",
   "execution_count": 44,
   "metadata": {},
   "outputs": [
    {
     "data": {
      "text/plain": [
       "'24'"
      ]
     },
     "execution_count": 44,
     "metadata": {},
     "output_type": "execute_result"
    }
   ],
   "source": [
    "objFut.year_code_yy"
   ]
  }
 ],
 "metadata": {
  "kernelspec": {
   "display_name": "base",
   "language": "python",
   "name": "python3"
  },
  "language_info": {
   "codemirror_mode": {
    "name": "ipython",
    "version": 3
   },
   "file_extension": ".py",
   "mimetype": "text/x-python",
   "name": "python",
   "nbconvert_exporter": "python",
   "pygments_lexer": "ipython3",
   "version": "3.10.9"
  }
 },
 "nbformat": 4,
 "nbformat_minor": 2
}
