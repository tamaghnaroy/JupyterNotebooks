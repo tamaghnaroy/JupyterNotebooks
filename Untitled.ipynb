{
 "cells": [
  {
   "cell_type": "code",
   "execution_count": 2,
   "metadata": {},
   "outputs": [],
   "source": [
    "import datetime\n",
    "\n",
    "from nxpy import pro"
   ]
  },
  {
   "cell_type": "code",
   "execution_count": null,
   "metadata": {},
   "outputs": [],
   "source": [
    "\n",
    "class Example:\n",
    "    def __init__(self):\n",
    "        self._app = pro.Application()\n",
    "\n",
    "    def _app_data(self, data, data_id):\n",
    "        warning = pro.ApplicationWarning()\n",
    "        self._app.data(data, data_id, warning)\n",
    "        if warning.count_fatals() > 0:\n",
    "            raise Exception(str(warning))\n",
    "        return data_id\n",
    "    \n",
    "     def _app_call(self, call, call_id):\n",
    "        call.add_value('ID', call_id)\n",
    "        warning = pro.ApplicationWarning()\n",
    "        self._app.call(call, warning)\n",
    "        if warning.count_fatals() > 0:\n",
    "            raise Exception(str(warning))\n",
    "        return call_id\n",
    "    \n",
    "    "
   ]
  }
 ],
 "metadata": {
  "kernelspec": {
   "display_name": "Python 3",
   "language": "python",
   "name": "python3"
  },
  "language_info": {
   "codemirror_mode": {
    "name": "ipython",
    "version": 3
   },
   "file_extension": ".py",
   "mimetype": "text/x-python",
   "name": "python",
   "nbconvert_exporter": "python",
   "pygments_lexer": "ipython3",
   "version": "3.7.6"
  }
 },
 "nbformat": 4,
 "nbformat_minor": 4
}
