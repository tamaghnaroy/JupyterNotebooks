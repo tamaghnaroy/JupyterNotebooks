{
 "cells": [
  {
   "cell_type": "code",
   "execution_count": 2,
   "metadata": {},
   "outputs": [
    {
     "name": "stdout",
     "output_type": "stream",
     "text": [
      "The autoreload extension is already loaded. To reload it, use:\n",
      "  %reload_ext autoreload\n",
      "Python 3.10.9 | packaged by Anaconda, Inc. | (main, Mar  1 2023, 18:18:15) [MSC v.1916 64 bit (AMD64)] on win32\n"
     ]
    }
   ],
   "source": [
    "%load_ext autoreload\n",
    "%autoreload 2\n",
    "\n",
    "import sys; print('Python %s on %s' % (sys.version, sys.platform))\n",
    "\n",
    "home_or_office = \"home_desktop\"\n",
    "\n",
    "import sys\n",
    "if home_or_office ==\"home_desktop\":\n",
    "    sys.path.extend(['C:\\\\Code\\\\Libraries', 'C:/Code/Libraries'])\n",
    "elif home_or_office == \"home_laptop\":\n",
    "    sys.path.extend(['C:\\\\Users\\\\HKGL003\\\\Documents\\\\GitHub\\\\Libraries'])\n",
    "else:\n",
    "    sys.path.extend(['C:\\\\Users\\\\troy\\\\Documents\\\\Code\\\\Libraries', 'C:\\\\Users\\\\troy\\\\Documents\\\\Excel Sheets', \n",
    "                     'C:/Users/troy/Documents/Code/Libraries'])\n",
    "\n",
    "\n",
    "from datetime import date, datetime, timedelta\n",
    "from tia.bbg import LocalTerminal\n",
    "\n",
    "import QuantLib as ql\n",
    "from FinAPI.QuantlibWrapper.Calendar import BBGCalendar"
   ]
  },
  {
   "cell_type": "code",
   "execution_count": 4,
   "metadata": {},
   "outputs": [],
   "source": [
    "# Quantlib Calendars\n",
    "\n",
    "calendar = ql.TARGET()\n"
   ]
  },
  {
   "cell_type": "code",
   "execution_count": 4,
   "metadata": {},
   "outputs": [
    {
     "name": "stdout",
     "output_type": "stream",
     "text": [
      "True\n",
      "False\n",
      "True\n",
      "True\n"
     ]
    }
   ],
   "source": [
    "calendar_name = \"US\"\n",
    "objCalendar = BBGCalendar(calendar_name)\n",
    "calendar = objCalendar.calendar\n",
    "\n",
    "# Test a business day\n",
    "date1 = ql.Date(17, 5, 2023)  # Wednesday\n",
    "print(calendar.isBusinessDay(date1))\n",
    "\n",
    "# Test a non-business day\n",
    "date2 = ql.Date(20, 5, 2023)  # Saturday\n",
    "print(calendar.isBusinessDay(date2))\n",
    "\n",
    "# Test specific holidays\n",
    "holidays = [\n",
    "    ql.Date(1, 1, 2023),  # New Year's Day\n",
    "    ql.Date(25, 12, 2023),  # Christmas Day\n",
    "]\n",
    "\n",
    "for holiday in holidays:\n",
    "    print(calendar.isHoliday(holiday))"
   ]
  },
  {
   "cell_type": "code",
   "execution_count": 5,
   "metadata": {},
   "outputs": [
    {
     "name": "stdout",
     "output_type": "stream",
     "text": [
      "True\n",
      "False\n",
      "True\n",
      "True\n"
     ]
    }
   ],
   "source": [
    "## Testing the Calendar key:  These are more intuitive names for the calendars from BBG\n",
    "\n",
    "calendar_name_dictionary = {\"CBOT\": \"CB\", \"CME\": \"CB\", \"NYSE\": \"NY\", \"USG\": \"GT\",\n",
    "                            \"NYSELIFFE\": \"LZ\", \"NYSEICE\": \"LZ\", \"US\": \"US\", \"NEWYORK\": \"NY\", \"FRB\": \"GT\"}\n",
    "\n",
    "calendar_name = \"NYSE\"\n",
    "objCalendar = BBGCalendar(calendar_name)\n",
    "calendar = objCalendar.calendar\n",
    "\n",
    "# Test a business day\n",
    "date1 = ql.Date(17, 5, 2023)  # Wednesday\n",
    "print(calendar.isBusinessDay(date1))\n",
    "\n",
    "# Test a non-business day\n",
    "date2 = ql.Date(20, 5, 2023)  # Saturday\n",
    "print(calendar.isBusinessDay(date2))\n",
    "\n",
    "# Test specific holidays\n",
    "holidays = [\n",
    "    ql.Date(16, 1, 2023),  # Martin Luther's Day\n",
    "    ql.Date(25, 12, 2023),  # Christmas Day\n",
    "]\n",
    "\n",
    "for holiday in holidays:\n",
    "    print(calendar.isHoliday(holiday))"
   ]
  }
 ],
 "metadata": {
  "kernelspec": {
   "display_name": "Python 3",
   "language": "python",
   "name": "python3"
  },
  "language_info": {
   "codemirror_mode": {
    "name": "ipython",
    "version": 3
   },
   "file_extension": ".py",
   "mimetype": "text/x-python",
   "name": "python",
   "nbconvert_exporter": "python",
   "pygments_lexer": "ipython3",
   "version": "3.10.9"
  },
  "orig_nbformat": 4
 },
 "nbformat": 4,
 "nbformat_minor": 2
}
