{
 "cells": [
  {
   "cell_type": "code",
   "execution_count": 1,
   "metadata": {
    "ExecuteTime": {
     "end_time": "2017-08-28T12:55:46.705692Z",
     "start_time": "2017-08-28T12:55:45.713673Z"
    },
    "collapsed": true
   },
   "outputs": [],
   "source": [
    "import numpy as np\n",
    "import pandas as pd\n",
    "import sys\n",
    "\n",
    "sys.path.append(r'C:\\Users\\tamaghna\\Documents\\pCloud Sync\\Python\\Projects\\Ipython')\n",
    "\n",
    "from Simulation import *\n",
    "\n",
    "%matplotlib inline\n",
    "import matplotlib.pyplot as plt\n",
    "\n"
   ]
  },
  {
   "cell_type": "code",
   "execution_count": 14,
   "metadata": {
    "ExecuteTime": {
     "end_time": "2017-08-28T13:44:10.231236Z",
     "start_time": "2017-08-28T13:44:10.057233Z"
    }
   },
   "outputs": [
    {
     "data": {
      "text/plain": [
       "[<matplotlib.lines.Line2D at 0xa1fcb38>]"
      ]
     },
     "execution_count": 14,
     "metadata": {},
     "output_type": "execute_result"
    },
    {
     "data": {
      "image/png": "[encoded data removed]",
      "text/plain": [
       "<matplotlib.figure.Figure at 0x9f11470>"
      ]
     },
     "metadata": {},
     "output_type": "display_data"
    }
   ],
   "source": [
    "T = 1000\n",
    "incr = 0.004\n",
    "s1 = np.append(np.zeros(int(T*0.25)), incr * np.ones(int(T*0.25)))\n",
    "s1 = np.append(s1, np.zeros(int(T*0.5)))\n",
    "s1 = s1.cumsum()\n",
    "\n",
    "s2 = np.append(np.zeros(int(T*0.5)), incr * np.ones(int(T*0.25)))\n",
    "s2 = np.append(s2, np.zeros(int(T*0.25)))\n",
    "s2 = s2.cumsum()\n",
    "\n",
    "s3 = np.append(np.zeros(int(T*0.75)), incr * np.ones(int(T*0.25)))\n",
    "s3 = s3.cumsum()\n",
    "\n",
    "plt.plot(s1)\n",
    "plt.plot(s2)\n",
    "plt.plot(s3)"
   ]
  }
 ],
 "metadata": {
  "kernelspec": {
   "display_name": "Python 3",
   "language": "python",
   "name": "python3"
  },
  "language_info": {
   "codemirror_mode": {
    "name": "ipython",
    "version": 3
   },
   "file_extension": ".py",
   "mimetype": "text/x-python",
   "name": "python",
   "nbconvert_exporter": "python",
   "pygments_lexer": "ipython3",
   "version": "3.5.3"
  },
  "toc": {
   "colors": {
    "hover_highlight": "#DAA520",
    "navigate_num": "#000000",
    "navigate_text": "#333333",
    "running_highlight": "#FF0000",
    "selected_highlight": "#FFD700",
    "sidebar_border": "#EEEEEE",
    "wrapper_background": "#FFFFFF"
   },
   "moveMenuLeft": true,
   "nav_menu": {
    "height": "12px",
    "width": "252px"
   },
   "navigate_menu": true,
   "number_sections": true,
   "sideBar": true,
   "threshold": 4,
   "toc_cell": false,
   "toc_section_display": "block",
   "toc_window_display": false,
   "widenNotebook": false
  }
 },
 "nbformat": 4,
 "nbformat_minor": 2
}
