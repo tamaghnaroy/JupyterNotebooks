{
 "cells": [
  {
   "cell_type": "code",
   "execution_count": 1,
   "metadata": {
    "ExecuteTime": {
     "end_time": "2017-08-22T12:36:08.808549Z",
     "start_time": "2017-08-22T12:36:05.195993Z"
    },
    "collapsed": true
   },
   "outputs": [],
   "source": [
    "%matplotlib inline\n",
    "\n",
    "import numpy as np\n",
    "import matplotlib.pyplot as plt\n",
    "\n",
    "def covariance(i, H):\n",
    "    if i==0:\n",
    "        return 1\n",
    "    else:\n",
    "        return ((i-1)**(2*H) - 2*i**(2*H) + (i+1)**(2*H))/2\n",
    "\n",
    "def fBM_Levinson(m, H, L=1, cumm=1,_seed=None):\n",
    "    k=np.array(range(m))\n",
    "    if _seed:\n",
    "        np.random.seed(_seed)\n",
    "    scaling = (L/m) ** (2*H)\n",
    "    \n",
    "    # -- Covariance\n",
    "    cov = [covariance(i, H) for i in range(m)]\n",
    "    \n",
    "    # -- Initialization of the algorithm\n",
    "    y = np.random.normal(0,1,m)\n",
    "    fGn = np.zeros(m)\n",
    "    v1 = np.array(cov)\n",
    "    v2 = np.array([0] + cov[1:] + [0])\n",
    "    k = v2[1]\n",
    "    aa = np.sqrt(cov[0])\n",
    "    \n",
    "    # -- Levinson's algorithm\n",
    "    for j in range(1,m):\n",
    "        aa = aa * np.sqrt(1 - k*k)\n",
    "        v = k * v2[j:m] + v1[j-1:m-1]\n",
    "        v2[j:m] = v2[j:m] + k * v1[j-1:m-1]\n",
    "        v1[j:m] = v\n",
    "        bb = y[j] / aa\n",
    "        fGn[j:m] = fGn[j:m] + bb * v1[j:m]\n",
    "        k = -v2[j+1]/(aa*aa)\n",
    "    \n",
    "    # -- scaling and output\n",
    "    for i in range(m):\n",
    "        fGn[i] = scaling * fGn[i]\n",
    "        if cumm and i>0:\n",
    "            fGn[i] = fGn[i] + fGn[i-1]\n",
    "    \n",
    "    return fGn\n"
   ]
  },
  {
   "cell_type": "code",
   "execution_count": 3,
   "metadata": {
    "ExecuteTime": {
     "end_time": "2017-08-22T12:37:33.029842Z",
     "start_time": "2017-08-22T12:37:31.189814Z"
    }
   },
   "outputs": [
    {
     "data": {
      "text/plain": [
       "array([  4.57524248,   7.17533521,   5.6030677 ,   8.94146202,\n",
       "         3.63444952,   6.95915401,   7.43364316,   6.19381467,\n",
       "         9.91363146,   6.29934209,   5.3788057 ,   4.01106955,\n",
       "         8.88676262,  15.60599001,   8.60361862,   5.51126346,\n",
       "         8.17543116,   7.37624635,  10.56650595,  11.03216768,\n",
       "        16.62665377,   7.50378581,   7.63730914,  15.40024266,\n",
       "         8.7179683 ,   5.0159027 ,   3.67457114,  11.15849054,\n",
       "         6.08300485,   3.23098284])"
      ]
     },
     "execution_count": 3,
     "metadata": {},
     "output_type": "execute_result"
    }
   ],
   "source": [
    "#Input params\n",
    "m = 1000\n",
    "H = 0.3\n",
    "cumm = 1\n",
    "L = m\n",
    "seed = 5543\n",
    "\n",
    "s = np.zeros(30)\n",
    "for i in range(30):\n",
    "    output = fBM_Levinson(m,H,L, _seed=None,cumm=cumm)\n",
    "    s[i] = np.std(output)"
   ]
  },
  {
   "cell_type": "code",
   "execution_count": null,
   "metadata": {
    "collapsed": true
   },
   "outputs": [],
   "source": []
  },
  {
   "cell_type": "code",
   "execution_count": null,
   "metadata": {
    "collapsed": true
   },
   "outputs": [],
   "source": []
  }
 ],
 "metadata": {
  "kernelspec": {
   "display_name": "Python 3",
   "language": "python",
   "name": "python3"
  },
  "language_info": {
   "codemirror_mode": {
    "name": "ipython",
    "version": 3
   },
   "file_extension": ".py",
   "mimetype": "text/x-python",
   "name": "python",
   "nbconvert_exporter": "python",
   "pygments_lexer": "ipython3",
   "version": "3.5.3"
  },
  "toc": {
   "colors": {
    "hover_highlight": "#DAA520",
    "navigate_num": "#000000",
    "navigate_text": "#333333",
    "running_highlight": "#FF0000",
    "selected_highlight": "#FFD700",
    "sidebar_border": "#EEEEEE",
    "wrapper_background": "#FFFFFF"
   },
   "moveMenuLeft": true,
   "nav_menu": {
    "height": "12px",
    "width": "252px"
   },
   "navigate_menu": true,
   "number_sections": true,
   "sideBar": true,
   "threshold": 4,
   "toc_cell": false,
   "toc_section_display": "block",
   "toc_window_display": false,
   "widenNotebook": false
  }
 },
 "nbformat": 4,
 "nbformat_minor": 1
}
