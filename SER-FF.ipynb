{
 "cells": [
  {
   "cell_type": "code",
   "execution_count": 2,
   "metadata": {},
   "outputs": [
    {
     "name": "stdout",
     "output_type": "stream",
     "text": [
      "The autoreload extension is already loaded. To reload it, use:\n",
      "  %reload_ext autoreload\n"
     ]
    }
   ],
   "source": [
    "%load_ext autoreload\n",
    "%autoreload 2\n",
    "\n",
    "home_or_office = \"home\"\n",
    "\n",
    "import sys\n",
    "if home_or_office ==\"home\":\n",
    "    sys.path.extend(['C:\\\\Code\\\\Libraries', 'C:/Code/Libraries'])\n",
    "else:\n",
    "    sys.path.extend(['C:\\\\Users\\\\troy\\\\Documents\\\\Code\\\\Libraries', 'C:\\\\Users\\\\troy\\\\Documents\\\\Excel Sheets', \n",
    "                     'C:/Users/troy/Documents/Code/Libraries'])\n",
    "\n",
    "from datetime import date, datetime\n",
    "import os\n",
    "import numpy as np\n",
    "import pandas as pd\n",
    "import collections\n",
    "\n",
    "import plotly.graph_objects as go\n",
    "import plotly.express as px\n",
    "import plotly.io as pio\n",
    "\n",
    "from tia.bbg import LocalTerminal\n",
    "\n",
    "pio.renderers.default = \"vscode\""
   ]
  },
  {
   "cell_type": "code",
   "execution_count": 12,
   "metadata": {},
   "outputs": [],
   "source": [
    "SOFR = \"SOFRRATE Index\"\n",
    "FF = \"FEDL01 Index\"\n",
    "\n",
    "df = LocalTerminal.get_historical([SOFR, FF], [\"PX_LAST\"], start = date(2017, 1, 1), end = date(2020, 12, 31)).as_frame()\n",
    "df = df.dropna()\n",
    "df.columns = [SOFR, FF]\n",
    "df[\"spread\"] = df[SOFR] - df[FF]"
   ]
  },
  {
   "cell_type": "code",
   "execution_count": 22,
   "metadata": {},
   "outputs": [
    {
     "data": {
      "text/plain": [
       "0.07200000000000033"
      ]
     },
     "execution_count": 22,
     "metadata": {},
     "output_type": "execute_result"
    }
   ],
   "source": [
    "rel = df.loc[:pd.Timestamp(\"2019-03-16\"), \"spread\"].values\n",
    "np.percentile(rel, 90)"
   ]
  }
 ],
 "metadata": {
  "kernelspec": {
   "display_name": "base",
   "language": "python",
   "name": "python3"
  },
  "language_info": {
   "codemirror_mode": {
    "name": "ipython",
    "version": 3
   },
   "file_extension": ".py",
   "mimetype": "text/x-python",
   "name": "python",
   "nbconvert_exporter": "python",
   "pygments_lexer": "ipython3",
   "version": "3.10.9"
  }
 },
 "nbformat": 4,
 "nbformat_minor": 2
}
