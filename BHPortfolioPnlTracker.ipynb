{
 "cells": [
  {
   "cell_type": "code",
   "execution_count": 38,
   "metadata": {},
   "outputs": [],
   "source": [
    "# PNL decomposition\n",
    "from datetime import datetime, date\n",
    "import numpy as np\n",
    "import pandas as pd\n",
    "from io import StringIO\n",
    "\n",
    "import plotly.graph_objects as go\n",
    "import plotly.colors as pc\n",
    "\n",
    "def evaluate_expression(df, expression):\n",
    "    \"\"\"\n",
    "    Helper function to evaluate an expression string.\n",
    "    The expression can reference columns in the DataFrame and perform operations on them.\n",
    "    \"\"\"\n",
    "    return eval(expression, {'df': df})\n",
    "\n",
    "def plot_cumulative_sum(df, column_expressions=None):\n",
    "    \"\"\"\n",
    "    Function to plot cumulative sum of all columns in a time series dataframe with detailed hover info.\n",
    "    Allows creation of new columns based on dictionary expressions.\n",
    "    \n",
    "    :param df: DataFrame with time as index and columns representing categories to sum cumulatively\n",
    "    :param column_expressions: Dictionary of new column definitions (e.g., {'new_col': 'col1 + 0.5 * col2'})\n",
    "    \"\"\"\n",
    "    # If there are new column expressions, create the new columns\n",
    "    if column_expressions:\n",
    "        for new_col, expression in column_expressions.items():\n",
    "            df[new_col] = evaluate_expression(df, expression)\n",
    "    \n",
    "    # Initialize a figure\n",
    "    fig = go.Figure()\n",
    "\n",
    "    # Generate a list of colors using Plotly's color scale\n",
    "    colors = ['#636EFA', '#EF553B', '#00CC96', '#AB63FA', '#FFA15A', '#19D3F3', '#FF6692', '#B6E880', '#FF97FF', '#FECB52',\n",
    "            '#1f77b4', '#ff7f0e', '#2ca02c', '#d62728', '#9467bd', '#8c564b', '#e377c2', '#7f7f7f', '#bcbd22', '#17becf',\n",
    "            '#FF3F3F', '#FFD700', '#6495ED', '#4CAF50', '#D2691E', '#EE82EE', '#FFA500', '#32CD32', '#FF1493', '#4169E1',\n",
    "            '#AEC6CF', '#FFB347', '#FF6961', '#77DD77', '#F49AC2', '#FFD1DC', '#B39EB5', '#FFDAE9', '#CFCFC4', '#E0E4CC',\n",
    "            '#1b9e77', '#d95f02', '#7570b3', '#e7298a', '#66a61e', '#e6ab02', '#a6761d', '#666666',\n",
    "            '#e41a1c', '#377eb8', '#4daf4a', '#984ea3', '#ff7f00', '#ffff33', '#a65628', '#f781bf', '#999999',\n",
    "            '#66c2a5', '#fc8d62', '#8da0cb', '#e78ac3', '#a6d854', '#ffd92f', '#e5c494', '#b3b3b3',\n",
    "            '#8dd3c7', '#ffffb3', '#bebada', '#fb8072', '#80b1d3', '#fdb462', '#b3de69', '#fccde5', '#d9d9d9', '#bc80bd', '#ccebc5', '#ffed6f',\n",
    "            '#7fc97f', '#beaed4', '#fdc086', '#ffff99', '#386cb0', '#f0027f', '#bf5b17']\n",
    "\n",
    "    num_colors = len(colors)\n",
    "\n",
    "    # Iterate through all columns (excluding 'Total' if it exists) and assign a unique color\n",
    "    for i, column in enumerate(df.columns):\n",
    "        if column != 'Total':\n",
    "            # Compute cumulative sum of each column\n",
    "            cumulative_sum = df[column].cumsum()\n",
    "\n",
    "            # Add line plot for each column with hover info and unique color\n",
    "            fig.add_trace(go.Scatter(\n",
    "                x=df.index, \n",
    "                y=cumulative_sum, \n",
    "                mode='lines', \n",
    "                name=column,\n",
    "                hovertemplate=(\n",
    "                    f\"<b>{column}</b><br>\" +  # Column name\n",
    "                    \"Date: %{x}<br>\" +        # Date\n",
    "                    \"Value: %{y:.2f}<extra></extra>\"  # Cumulative value\n",
    "                ),\n",
    "                line=dict(color=colors[i % num_colors])  # Assign a color from the palette\n",
    "            ))\n",
    "\n",
    "    # Set title and labels with tight layout\n",
    "    fig.update_layout(\n",
    "        title=\"Cumulative Sum of All Columns Over Time\",\n",
    "        xaxis_title=\"Date\",\n",
    "        yaxis_title=\"Cumulative Sum\",\n",
    "        hovermode=\"x unified\",\n",
    "        margin=dict(l=40, r=40, t=50, b=40),  # Tight margins\n",
    "        autosize=True,\n",
    "        template='plotly_white',  # Clean template\n",
    "        height=500,  # Set height\n",
    "        width=900,   # Set width\n",
    "    )\n",
    "\n",
    "    # Show the plot\n",
    "    fig.show()\n",
    "\n",
    "def parse_pnl_string(csv_data):\n",
    "    data = StringIO(csv_data)\n",
    "    df = pd.read_csv(data, sep='\\t', header=None, names=['key', 'value'], thousands=',')\n",
    "    return df\n"
   ]
  },
  {
   "cell_type": "code",
   "execution_count": 17,
   "metadata": {},
   "outputs": [],
   "source": [
    "pnl = {date(2024, 10, 1):  \"\"\"\n",
    "TA:EUR:IR\t64,924\n",
    "TA:GBP:IR\t-6,007\n",
    "TA:CHF:FX\t19,549\n",
    "TA:JPY:IR\t118,263\n",
    "TA:AUD:IR\t137\n",
    "TA:FX:DELTA\t-20,304\n",
    "TA:FX:VOL_RV\t-208\n",
    "TA:IR:CHF\t65\n",
    "TA:FX:USD\t-86\n",
    "TA:JPY:FX\t-141\n",
    "BROKER:ADJ\t-4\n",
    "CASH_USAGE\t-251\n",
    "TA:EQ:US\t-69\n",
    "TA:IR:GBP\t1\n",
    "TA:IR:USD:CURVE\t24,935\n",
    "TA:IR:ZER0_VAL\t-8\n",
    "TA:IR:ZERO_VAL\t331\n",
    "TA:KRW:IR\t80\n",
    "TA:USD:IR\t-3,950\n",
    "TA:USD:IR:HTM\t444\n",
    "TA:USD:IR:RV\t29\n",
    "USD SELLDOWN\t4,073\n",
    "BNP FXPB\t-0\n",
    "\"\"\", \n",
    "date(2024, 10, 2): \"\"\"\n",
    "TA:EUR:IR\t120,062\n",
    "TA:GBP:IR\t708\n",
    "TA:CHF:FX\t19,783\n",
    "TA:JPY:IR\t-14,163\n",
    "TA:AUD:IR\t46\n",
    "TA:FX:DELTA\t-24,351\n",
    "TA:FX:VOL_RV\t-376\n",
    "TA:IR:CHF\t22\n",
    "TA:FX:USD\t62\n",
    "TA:JPY:FX\t-45\n",
    "BROKER:ADJ\t-1\n",
    "CASH_USAGE\t-235\n",
    "TA:EQ:US\t-23\n",
    "TA:IR:GBP\t0\n",
    "TA:IR:USD:CURVE\t-89,992\n",
    "TA:IR:ZER0_VAL\t-3\n",
    "TA:IR:ZERO_VAL\t643\n",
    "TA:KRW:IR\t27\n",
    "TA:USD:IR\t60,887\n",
    "TA:USD:IR:HTM\t148\n",
    "TA:USD:IR:RV\t10\n",
    "USD SELLDOWN\t1,356\n",
    "BNP FXPB\t-0\"\"\",\n",
    "date(2024, 10, 3): \"\"\"\n",
    "TA:EUR:IR\t1,376\n",
    "TA:GBP:IR\t-3,460\n",
    "TA:CHF:FX\t36,038\n",
    "TA:JPY:IR\t-31,639\n",
    "TA:AUD:IR\t46\n",
    "TA:FX:DELTA\t-37,997\n",
    "TA:FX:VOL_RV\t-2,647\n",
    "TA:IR:CHF\t22\n",
    "TA:FX:USD\t-17\n",
    "TA:JPY:FX\t-39\n",
    "BROKER:ADJ\t-1\n",
    "CASH_USAGE\t-235\n",
    "TA:EQ:US\t-23\n",
    "TA:IR:GBP\t0\n",
    "TA:IR:USD:CURVE\t28,763\n",
    "TA:IR:ZER0_VAL\t-3\n",
    "TA:IR:ZERO_VAL\t295\n",
    "TA:KRW:IR\t27\n",
    "TA:USD:IR\t-133,548\n",
    "TA:USD:IR:HTM\t148\n",
    "TA:USD:IR:RV\t10\n",
    "USD SELLDOWN\t1,355\n",
    "BNP FXPB\t-0\n",
    "\"\"\", \n",
    "date(2024, 10, 4): \"\"\"\n",
    "TA:EUR:IR\t-58,044\n",
    "TA:GBP:IR\t-58,517\n",
    "TA:CHF:FX\t15,207\n",
    "TA:JPY:IR\t-3,885\n",
    "TA:AUD:IR\t46\n",
    "TA:FX:DELTA\t-17,078\n",
    "TA:FX:VOL_RV\t-429\n",
    "TA:IR:CHF\t22\n",
    "TA:FX:USD\t22\n",
    "TA:JPY:FX\t-46\n",
    "BROKER:ADJ\t-1\n",
    "CASH_USAGE\t-235\n",
    "TA:EQ:US\t-23\n",
    "TA:IR:GBP\t0\n",
    "TA:IR:USD:CURVE\t22,196\n",
    "TA:IR:ZER0_VAL\t-3\n",
    "TA:IR:ZERO_VAL\t280\n",
    "TA:KRW:IR\t27\n",
    "TA:USD:IR\t-84,925\n",
    "TA:USD:IR:HTM\t148\n",
    "TA:USD:IR:RV\t10\n",
    "USD SELLDOWN\t1,356\n",
    "BNP FXPB\t-0\n",
    "\"\"\",\n",
    "date(2024, 10, 7): \"\"\"\n",
    "TA:EUR:IR\t-11,432\n",
    "TA:GBP:IR\t20,850\n",
    "TA:CHF:FX\t-3,767\n",
    "TA:JPY:IR\t1,194\n",
    "TA:AUD:IR\t137\n",
    "TA:FX:DELTA\t2,550\n",
    "TA:FX:VOL_RV\t-317\n",
    "TA:IR:CHF\t65\n",
    "TA:FX:USD\t-114\n",
    "TA:JPY:FX\t-141\n",
    "BROKER:ADJ\t-4\n",
    "CASH_USAGE\t-25\n",
    "TA:EQ:US\t-69\n",
    "TA:IR:GBP\t1\n",
    "TA:IR:USD:CURVE\t16,234\n",
    "TA:IR:ZER0_VAL\t-8\n",
    "TA:IR:ZERO_VAL\t-3,454\n",
    "TA:KRW:IR\t80\n",
    "TA:USD:IR\t6,449\n",
    "TA:USD:IR:HTM\t443\n",
    "TA:USD:IR:RV\t29\n",
    "USD SELLDOWN\t4,068\n",
    "BNP FXPB\t-0\n",
    "\"\"\",\n",
    "date(2024, 10, 8): \"\"\"\n",
    "TA:EUR:IR\t14,470\n",
    "TA:GBP:IR\t21,358\n",
    "TA:CHF:FX\t-40,397\n",
    "TA:JPY:IR\t33,882\n",
    "TA:AUD:IR\t137\n",
    "TA:FX:DELTA\t38,056\n",
    "TA:FX:VOL_RV\t495\n",
    "TA:IR:CHF\t65\n",
    "TA:FX:USD\t-132\n",
    "TA:JPY:FX\t-145\n",
    "BROKER:ADJ\t-4\n",
    "CASH_USAGE\t-218\n",
    "TA:EQ:US\t-69\n",
    "TA:IR:GBP\t1\n",
    "TA:IR:USD:CURVE\t114,397\n",
    "TA:IR:ZER0_VAL\t-8\n",
    "TA:IR:ZERO_VAL\t17,501\n",
    "TA:KRW:IR\t80\n",
    "TA:USD:IR\t36,185\n",
    "TA:USD:IR:HTM\t443\n",
    "TA:USD:IR:RV\t29\n",
    "USD SELLDOWN\t4,071\n",
    "BNP FXPB\t-0\n",
    "\"\"\",\n",
    "date(2024, 10, 9): \"\"\"\n",
    "TA:EUR:IR\t-13,617\n",
    "TA:GBP:IR\t-185,625\n",
    "TA:CHF:FX\t17,102\n",
    "TA:JPY:IR\t-13,977\n",
    "TA:AUD:IR\t46\n",
    "TA:FX:DELTA\t-17,758\n",
    "TA:FX:VOL_RV\t-3\n",
    "TA:IR:CHF\t22\n",
    "TA:FX:USD\t-18\n",
    "TA:JPY:FX\t-46\n",
    "BROKER:ADJ\t-1\n",
    "CASH_USAGE\t-201\n",
    "TA:EQ:US\t-23\n",
    "TA:IR:GBP\t0\n",
    "TA:IR:USD:CURVE\t47,701\n",
    "TA:IR:ZER0_VAL\t-3\n",
    "TA:IR:ZERO_VAL\t-10,772\n",
    "TA:KRW:IR\t27\n",
    "TA:USD:IR\t-14,668\n",
    "TA:USD:IR:HTM\t148\n",
    "TA:USD:IR:RV\t10\n",
    "USD SELLDOWN\t1,356\n",
    "BNP FXPB\t-0\n",
    "\"\"\",\n",
    "date(2024, 10, 10): \"\"\"\n",
    "TA:EUR:IR\t-43,621\n",
    "TA:GBP:IR\t-222,757\n",
    "TA:CHF:FX\t20,944\n",
    "TA:JPY:IR\t-3,874\n",
    "TA:AUD:IR\t46\n",
    "TA:FX:DELTA\t-20,676\n",
    "TA:FX:VOL_RV\t-939\n",
    "TA:IR:CHF\t22\n",
    "TA:FX:USD\t-6\n",
    "TA:JPY:FX\t-44\n",
    "BROKER:ADJ\t-1\n",
    "CASH_USAGE\t-201\n",
    "TA:EQ:US\t-23\n",
    "TA:IR:GBP\t0\n",
    "TA:IR:USD:CURVE\t-34,323\n",
    "TA:IR:ZER0_VAL\t-3\n",
    "TA:IR:ZERO_VAL\t6,184\n",
    "TA:KRW:IR\t27\n",
    "TA:USD:IR\t-22,005\n",
    "TA:USD:IR:HTM\t148\n",
    "TA:USD:IR:RV\t10\n",
    "USD SELLDOWN\t1,356\n",
    "BNP FXPB\t-0\n",
    "\"\"\",\n",
    "date(2024, 10, 11): \"\"\"\n",
    "TA:EUR:IR\t-27,548\n",
    "TA:GBP:IR\t-234,880\n",
    "TA:CHF:FX\t-16,172\n",
    "TA:JPY:IR\t-11,949\n",
    "TA:AUD:IR\t46\n",
    "TA:FX:DELTA\t16,061\n",
    "TA:FX:VOL_RV\t232\n",
    "TA:IR:CHF\t22\n",
    "TA:FX:USD\t-14\n",
    "TA:JPY:FX\t-49\n",
    "BROKER:ADJ\t-1\n",
    "CASH_USAGE\t-201\n",
    "TA:EQ:US\t-23\n",
    "TA:IR:GBP\t0\n",
    "TA:IR:USD:CURVE\t32,481\n",
    "TA:IR:ZER0_VAL\t-3\n",
    "TA:IR:ZERO_VAL\t1,737\n",
    "TA:KRW:IR\t27\n",
    "TA:USD:IR\t-57,886\n",
    "TA:USD:IR:HTM\t148\n",
    "TA:USD:IR:RV\t10\n",
    "USD SELLDOWN\t1,358\n",
    "BNP FXPB\t-0\n",
    "\"\"\",\n",
    "date(2024, 10, 14): \"\"\"\n",
    "TA:EUR:IR\t25,266\n",
    "TA:GBP:IR\t-150,764\n",
    "TA:CHF:FX\t-370\n",
    "TA:JPY:IR\t-468\n",
    "TA:AUD:IR\t137\n",
    "TA:FX:DELTA\t-1,038\n",
    "TA:FX:VOL_RV\t16\n",
    "TA:IR:CHF\t65\n",
    "TA:FX:USD\t-120\n",
    "TA:JPY:FX\t-142\n",
    "BROKER:ADJ\t-4\n",
    "CASH_USAGE\t-25\n",
    "TA:EQ:US\t-69\n",
    "TA:IR:GBP\t1\n",
    "TA:IR:USD:CURVE\t2,854\n",
    "TA:IR:ZER0_VAL\t-8\n",
    "TA:IR:ZERO_VAL\t8,382\n",
    "TA:KRW:IR\t80\n",
    "TA:USD:IR\t-14,074\n",
    "TA:USD:IR:HTM\t444\n",
    "TA:USD:IR:RV\t29\n",
    "USD SELLDOWN\t4,073\n",
    "BNP FXPB\t-0\n",
    "\"\"\",\n",
    "date(2024, 10, 15): \"\"\"\n",
    "TA:EUR:IR\t-10,392\n",
    "TA:GBP:IR\t-169,341\n",
    "TA:CHF:FX\t58,623\n",
    "TA:JPY:IR\t403\n",
    "TA:AUD:IR\t137\n",
    "TA:FX:DELTA\t-57,841\n",
    "TA:FX:VOL_RV\t-742\n",
    "TA:IR:CHF\t65\n",
    "TA:FX:USD\t-85\n",
    "TA:JPY:FX\t-138\n",
    "BROKER:ADJ\t-4\n",
    "CASH_USAGE\t-25\n",
    "TA:EQ:US\t-69\n",
    "TA:IR:GBP\t1\n",
    "TA:IR:USD:CURVE\t15,695\n",
    "TA:IR:ZER0_VAL\t-8\n",
    "TA:IR:ZERO_VAL\t8,388\n",
    "TA:KRW:IR\t80\n",
    "TA:USD:IR\t-76,854\n",
    "TA:USD:IR:HTM\t444\n",
    "TA:USD:IR:RV\t29\n",
    "USD SELLDOWN\t4,074\n",
    "BNP FXPB\t-0\n",
    "\"\"\"\n",
    "}"
   ]
  },
  {
   "cell_type": "code",
   "execution_count": 39,
   "metadata": {},
   "outputs": [
    {
     "data": {
      "application/vnd.plotly.v1+json": {
       "config": {
        "plotlyServerURL": "https://plot.ly"
       },
       "data": [
        {
         "hovertemplate": "<b>TA:EUR:IR</b><br>Date: %{x}<br>Value: %{y:.2f}<extra></extra>",
         "line": {
          "color": "#636EFA"
         },
         "mode": "lines",
         "name": "TA:EUR:IR",
         "type": "scatter",
         "x": [
          "2024-10-01",
          "2024-10-02",
          "2024-10-03",
          "2024-10-04",
          "2024-10-07",
          "2024-10-08",
          "2024-10-09",
          "2024-10-10",
          "2024-10-11",
          "2024-10-14",
          "2024-10-15"
         ],
         "y": [
          64924,
          184986,
          186362,
          128318,
          116886,
          131356,
          117739,
          74118,
          46570,
          71836,
          61444
         ]
        },
        {
         "hovertemplate": "<b>TA:GBP:IR</b><br>Date: %{x}<br>Value: %{y:.2f}<extra></extra>",
         "line": {
          "color": "#EF553B"
         },
         "mode": "lines",
         "name": "TA:GBP:IR",
         "type": "scatter",
         "x": [
          "2024-10-01",
          "2024-10-02",
          "2024-10-03",
          "2024-10-04",
          "2024-10-07",
          "2024-10-08",
          "2024-10-09",
          "2024-10-10",
          "2024-10-11",
          "2024-10-14",
          "2024-10-15"
         ],
         "y": [
          -6007,
          -5299,
          -8759,
          -67276,
          -46426,
          -25068,
          -210693,
          -433450,
          -668330,
          -819094,
          -988435
         ]
        },
        {
         "hovertemplate": "<b>TA:CHF:FX</b><br>Date: %{x}<br>Value: %{y:.2f}<extra></extra>",
         "line": {
          "color": "#00CC96"
         },
         "mode": "lines",
         "name": "TA:CHF:FX",
         "type": "scatter",
         "x": [
          "2024-10-01",
          "2024-10-02",
          "2024-10-03",
          "2024-10-04",
          "2024-10-07",
          "2024-10-08",
          "2024-10-09",
          "2024-10-10",
          "2024-10-11",
          "2024-10-14",
          "2024-10-15"
         ],
         "y": [
          19549,
          39332,
          75370,
          90577,
          86810,
          46413,
          63515,
          84459,
          68287,
          67917,
          126540
         ]
        },
        {
         "hovertemplate": "<b>TA:JPY:IR</b><br>Date: %{x}<br>Value: %{y:.2f}<extra></extra>",
         "line": {
          "color": "#AB63FA"
         },
         "mode": "lines",
         "name": "TA:JPY:IR",
         "type": "scatter",
         "x": [
          "2024-10-01",
          "2024-10-02",
          "2024-10-03",
          "2024-10-04",
          "2024-10-07",
          "2024-10-08",
          "2024-10-09",
          "2024-10-10",
          "2024-10-11",
          "2024-10-14",
          "2024-10-15"
         ],
         "y": [
          118263,
          104100,
          72461,
          68576,
          69770,
          103652,
          89675,
          85801,
          73852,
          73384,
          73787
         ]
        },
        {
         "hovertemplate": "<b>TA:AUD:IR</b><br>Date: %{x}<br>Value: %{y:.2f}<extra></extra>",
         "line": {
          "color": "#FFA15A"
         },
         "mode": "lines",
         "name": "TA:AUD:IR",
         "type": "scatter",
         "x": [
          "2024-10-01",
          "2024-10-02",
          "2024-10-03",
          "2024-10-04",
          "2024-10-07",
          "2024-10-08",
          "2024-10-09",
          "2024-10-10",
          "2024-10-11",
          "2024-10-14",
          "2024-10-15"
         ],
         "y": [
          137,
          183,
          229,
          275,
          412,
          549,
          595,
          641,
          687,
          824,
          961
         ]
        },
        {
         "hovertemplate": "<b>TA:FX:DELTA</b><br>Date: %{x}<br>Value: %{y:.2f}<extra></extra>",
         "line": {
          "color": "#19D3F3"
         },
         "mode": "lines",
         "name": "TA:FX:DELTA",
         "type": "scatter",
         "x": [
          "2024-10-01",
          "2024-10-02",
          "2024-10-03",
          "2024-10-04",
          "2024-10-07",
          "2024-10-08",
          "2024-10-09",
          "2024-10-10",
          "2024-10-11",
          "2024-10-14",
          "2024-10-15"
         ],
         "y": [
          -20304,
          -44655,
          -82652,
          -99730,
          -97180,
          -59124,
          -76882,
          -97558,
          -81497,
          -82535,
          -140376
         ]
        },
        {
         "hovertemplate": "<b>TA:FX:VOL_RV</b><br>Date: %{x}<br>Value: %{y:.2f}<extra></extra>",
         "line": {
          "color": "#FF6692"
         },
         "mode": "lines",
         "name": "TA:FX:VOL_RV",
         "type": "scatter",
         "x": [
          "2024-10-01",
          "2024-10-02",
          "2024-10-03",
          "2024-10-04",
          "2024-10-07",
          "2024-10-08",
          "2024-10-09",
          "2024-10-10",
          "2024-10-11",
          "2024-10-14",
          "2024-10-15"
         ],
         "y": [
          -208,
          -584,
          -3231,
          -3660,
          -3977,
          -3482,
          -3485,
          -4424,
          -4192,
          -4176,
          -4918
         ]
        },
        {
         "hovertemplate": "<b>TA:IR:CHF</b><br>Date: %{x}<br>Value: %{y:.2f}<extra></extra>",
         "line": {
          "color": "#B6E880"
         },
         "mode": "lines",
         "name": "TA:IR:CHF",
         "type": "scatter",
         "x": [
          "2024-10-01",
          "2024-10-02",
          "2024-10-03",
          "2024-10-04",
          "2024-10-07",
          "2024-10-08",
          "2024-10-09",
          "2024-10-10",
          "2024-10-11",
          "2024-10-14",
          "2024-10-15"
         ],
         "y": [
          65,
          87,
          109,
          131,
          196,
          261,
          283,
          305,
          327,
          392,
          457
         ]
        },
        {
         "hovertemplate": "<b>TA:FX:USD</b><br>Date: %{x}<br>Value: %{y:.2f}<extra></extra>",
         "line": {
          "color": "#FF97FF"
         },
         "mode": "lines",
         "name": "TA:FX:USD",
         "type": "scatter",
         "x": [
          "2024-10-01",
          "2024-10-02",
          "2024-10-03",
          "2024-10-04",
          "2024-10-07",
          "2024-10-08",
          "2024-10-09",
          "2024-10-10",
          "2024-10-11",
          "2024-10-14",
          "2024-10-15"
         ],
         "y": [
          -86,
          -24,
          -41,
          -19,
          -133,
          -265,
          -283,
          -289,
          -303,
          -423,
          -508
         ]
        },
        {
         "hovertemplate": "<b>TA:JPY:FX</b><br>Date: %{x}<br>Value: %{y:.2f}<extra></extra>",
         "line": {
          "color": "#FECB52"
         },
         "mode": "lines",
         "name": "TA:JPY:FX",
         "type": "scatter",
         "x": [
          "2024-10-01",
          "2024-10-02",
          "2024-10-03",
          "2024-10-04",
          "2024-10-07",
          "2024-10-08",
          "2024-10-09",
          "2024-10-10",
          "2024-10-11",
          "2024-10-14",
          "2024-10-15"
         ],
         "y": [
          -141,
          -186,
          -225,
          -271,
          -412,
          -557,
          -603,
          -647,
          -696,
          -838,
          -976
         ]
        },
        {
         "hovertemplate": "<b>BROKER:ADJ</b><br>Date: %{x}<br>Value: %{y:.2f}<extra></extra>",
         "line": {
          "color": "#1f77b4"
         },
         "mode": "lines",
         "name": "BROKER:ADJ",
         "type": "scatter",
         "x": [
          "2024-10-01",
          "2024-10-02",
          "2024-10-03",
          "2024-10-04",
          "2024-10-07",
          "2024-10-08",
          "2024-10-09",
          "2024-10-10",
          "2024-10-11",
          "2024-10-14",
          "2024-10-15"
         ],
         "y": [
          -4,
          -5,
          -6,
          -7,
          -11,
          -15,
          -16,
          -17,
          -18,
          -22,
          -26
         ]
        },
        {
         "hovertemplate": "<b>CASH_USAGE</b><br>Date: %{x}<br>Value: %{y:.2f}<extra></extra>",
         "line": {
          "color": "#ff7f0e"
         },
         "mode": "lines",
         "name": "CASH_USAGE",
         "type": "scatter",
         "x": [
          "2024-10-01",
          "2024-10-02",
          "2024-10-03",
          "2024-10-04",
          "2024-10-07",
          "2024-10-08",
          "2024-10-09",
          "2024-10-10",
          "2024-10-11",
          "2024-10-14",
          "2024-10-15"
         ],
         "y": [
          -251,
          -486,
          -721,
          -956,
          -981,
          -1199,
          -1400,
          -1601,
          -1802,
          -1827,
          -1852
         ]
        },
        {
         "hovertemplate": "<b>TA:EQ:US</b><br>Date: %{x}<br>Value: %{y:.2f}<extra></extra>",
         "line": {
          "color": "#2ca02c"
         },
         "mode": "lines",
         "name": "TA:EQ:US",
         "type": "scatter",
         "x": [
          "2024-10-01",
          "2024-10-02",
          "2024-10-03",
          "2024-10-04",
          "2024-10-07",
          "2024-10-08",
          "2024-10-09",
          "2024-10-10",
          "2024-10-11",
          "2024-10-14",
          "2024-10-15"
         ],
         "y": [
          -69,
          -92,
          -115,
          -138,
          -207,
          -276,
          -299,
          -322,
          -345,
          -414,
          -483
         ]
        },
        {
         "hovertemplate": "<b>TA:IR:GBP</b><br>Date: %{x}<br>Value: %{y:.2f}<extra></extra>",
         "line": {
          "color": "#d62728"
         },
         "mode": "lines",
         "name": "TA:IR:GBP",
         "type": "scatter",
         "x": [
          "2024-10-01",
          "2024-10-02",
          "2024-10-03",
          "2024-10-04",
          "2024-10-07",
          "2024-10-08",
          "2024-10-09",
          "2024-10-10",
          "2024-10-11",
          "2024-10-14",
          "2024-10-15"
         ],
         "y": [
          1,
          1,
          1,
          1,
          2,
          3,
          3,
          3,
          3,
          4,
          5
         ]
        },
        {
         "hovertemplate": "<b>TA:IR:USD:CURVE</b><br>Date: %{x}<br>Value: %{y:.2f}<extra></extra>",
         "line": {
          "color": "#9467bd"
         },
         "mode": "lines",
         "name": "TA:IR:USD:CURVE",
         "type": "scatter",
         "x": [
          "2024-10-01",
          "2024-10-02",
          "2024-10-03",
          "2024-10-04",
          "2024-10-07",
          "2024-10-08",
          "2024-10-09",
          "2024-10-10",
          "2024-10-11",
          "2024-10-14",
          "2024-10-15"
         ],
         "y": [
          24935,
          -65057,
          -36294,
          -14098,
          2136,
          116533,
          164234,
          129911,
          162392,
          165246,
          180941
         ]
        },
        {
         "hovertemplate": "<b>TA:IR:ZER0_VAL</b><br>Date: %{x}<br>Value: %{y:.2f}<extra></extra>",
         "line": {
          "color": "#8c564b"
         },
         "mode": "lines",
         "name": "TA:IR:ZER0_VAL",
         "type": "scatter",
         "x": [
          "2024-10-01",
          "2024-10-02",
          "2024-10-03",
          "2024-10-04",
          "2024-10-07",
          "2024-10-08",
          "2024-10-09",
          "2024-10-10",
          "2024-10-11",
          "2024-10-14",
          "2024-10-15"
         ],
         "y": [
          -8,
          -11,
          -14,
          -17,
          -25,
          -33,
          -36,
          -39,
          -42,
          -50,
          -58
         ]
        },
        {
         "hovertemplate": "<b>TA:IR:ZERO_VAL</b><br>Date: %{x}<br>Value: %{y:.2f}<extra></extra>",
         "line": {
          "color": "#e377c2"
         },
         "mode": "lines",
         "name": "TA:IR:ZERO_VAL",
         "type": "scatter",
         "x": [
          "2024-10-01",
          "2024-10-02",
          "2024-10-03",
          "2024-10-04",
          "2024-10-07",
          "2024-10-08",
          "2024-10-09",
          "2024-10-10",
          "2024-10-11",
          "2024-10-14",
          "2024-10-15"
         ],
         "y": [
          331,
          974,
          1269,
          1549,
          -1905,
          15596,
          4824,
          11008,
          12745,
          21127,
          29515
         ]
        },
        {
         "hovertemplate": "<b>TA:KRW:IR</b><br>Date: %{x}<br>Value: %{y:.2f}<extra></extra>",
         "line": {
          "color": "#7f7f7f"
         },
         "mode": "lines",
         "name": "TA:KRW:IR",
         "type": "scatter",
         "x": [
          "2024-10-01",
          "2024-10-02",
          "2024-10-03",
          "2024-10-04",
          "2024-10-07",
          "2024-10-08",
          "2024-10-09",
          "2024-10-10",
          "2024-10-11",
          "2024-10-14",
          "2024-10-15"
         ],
         "y": [
          80,
          107,
          134,
          161,
          241,
          321,
          348,
          375,
          402,
          482,
          562
         ]
        },
        {
         "hovertemplate": "<b>TA:USD:IR</b><br>Date: %{x}<br>Value: %{y:.2f}<extra></extra>",
         "line": {
          "color": "#bcbd22"
         },
         "mode": "lines",
         "name": "TA:USD:IR",
         "type": "scatter",
         "x": [
          "2024-10-01",
          "2024-10-02",
          "2024-10-03",
          "2024-10-04",
          "2024-10-07",
          "2024-10-08",
          "2024-10-09",
          "2024-10-10",
          "2024-10-11",
          "2024-10-14",
          "2024-10-15"
         ],
         "y": [
          -3950,
          56937,
          -76611,
          -161536,
          -155087,
          -118902,
          -133570,
          -155575,
          -213461,
          -227535,
          -304389
         ]
        },
        {
         "hovertemplate": "<b>TA:USD:IR:HTM</b><br>Date: %{x}<br>Value: %{y:.2f}<extra></extra>",
         "line": {
          "color": "#17becf"
         },
         "mode": "lines",
         "name": "TA:USD:IR:HTM",
         "type": "scatter",
         "x": [
          "2024-10-01",
          "2024-10-02",
          "2024-10-03",
          "2024-10-04",
          "2024-10-07",
          "2024-10-08",
          "2024-10-09",
          "2024-10-10",
          "2024-10-11",
          "2024-10-14",
          "2024-10-15"
         ],
         "y": [
          444,
          592,
          740,
          888,
          1331,
          1774,
          1922,
          2070,
          2218,
          2662,
          3106
         ]
        },
        {
         "hovertemplate": "<b>TA:USD:IR:RV</b><br>Date: %{x}<br>Value: %{y:.2f}<extra></extra>",
         "line": {
          "color": "#FF3F3F"
         },
         "mode": "lines",
         "name": "TA:USD:IR:RV",
         "type": "scatter",
         "x": [
          "2024-10-01",
          "2024-10-02",
          "2024-10-03",
          "2024-10-04",
          "2024-10-07",
          "2024-10-08",
          "2024-10-09",
          "2024-10-10",
          "2024-10-11",
          "2024-10-14",
          "2024-10-15"
         ],
         "y": [
          29,
          39,
          49,
          59,
          88,
          117,
          127,
          137,
          147,
          176,
          205
         ]
        },
        {
         "hovertemplate": "<b>USD SELLDOWN</b><br>Date: %{x}<br>Value: %{y:.2f}<extra></extra>",
         "line": {
          "color": "#FFD700"
         },
         "mode": "lines",
         "name": "USD SELLDOWN",
         "type": "scatter",
         "x": [
          "2024-10-01",
          "2024-10-02",
          "2024-10-03",
          "2024-10-04",
          "2024-10-07",
          "2024-10-08",
          "2024-10-09",
          "2024-10-10",
          "2024-10-11",
          "2024-10-14",
          "2024-10-15"
         ],
         "y": [
          4073,
          5429,
          6784,
          8140,
          12208,
          16279,
          17635,
          18991,
          20349,
          24422,
          28496
         ]
        },
        {
         "hovertemplate": "<b>BNP FXPB</b><br>Date: %{x}<br>Value: %{y:.2f}<extra></extra>",
         "line": {
          "color": "#6495ED"
         },
         "mode": "lines",
         "name": "BNP FXPB",
         "type": "scatter",
         "x": [
          "2024-10-01",
          "2024-10-02",
          "2024-10-03",
          "2024-10-04",
          "2024-10-07",
          "2024-10-08",
          "2024-10-09",
          "2024-10-10",
          "2024-10-11",
          "2024-10-14",
          "2024-10-15"
         ],
         "y": [
          0,
          0,
          0,
          0,
          0,
          0,
          0,
          0,
          0,
          0,
          0
         ]
        },
        {
         "hovertemplate": "<b>FX</b><br>Date: %{x}<br>Value: %{y:.2f}<extra></extra>",
         "line": {
          "color": "#D2691E"
         },
         "mode": "lines",
         "name": "FX",
         "type": "scatter",
         "x": [
          "2024-10-01",
          "2024-10-02",
          "2024-10-03",
          "2024-10-04",
          "2024-10-07",
          "2024-10-08",
          "2024-10-09",
          "2024-10-10",
          "2024-10-11",
          "2024-10-14",
          "2024-10-15"
         ],
         "y": [
          -1190,
          -6117,
          -10779,
          -13103,
          -14892,
          -17015,
          -17738,
          -18459,
          -18401,
          -20055,
          -20238
         ]
        },
        {
         "hovertemplate": "<b>USD</b><br>Date: %{x}<br>Value: %{y:.2f}<extra></extra>",
         "line": {
          "color": "#EE82EE"
         },
         "mode": "lines",
         "name": "USD",
         "type": "scatter",
         "x": [
          "2024-10-01",
          "2024-10-02",
          "2024-10-03",
          "2024-10-04",
          "2024-10-07",
          "2024-10-08",
          "2024-10-09",
          "2024-10-10",
          "2024-10-11",
          "2024-10-14",
          "2024-10-15"
         ],
         "y": [
          21458,
          -7489,
          -112116,
          -174687,
          -151532,
          -478,
          32713,
          -23457,
          -48704,
          -59451,
          -120137
         ]
        }
       ],
       "layout": {
        "autosize": true,
        "height": 500,
        "hovermode": "x unified",
        "margin": {
         "b": 40,
         "l": 40,
         "r": 40,
         "t": 50
        },
        "template": {
         "data": {
          "bar": [
           {
            "error_x": {
             "color": "#2a3f5f"
            },
            "error_y": {
             "color": "#2a3f5f"
            },
            "marker": {
             "line": {
              "color": "white",
              "width": 0.5
             },
             "pattern": {
              "fillmode": "overlay",
              "size": 10,
              "solidity": 0.2
             }
            },
            "type": "bar"
           }
          ],
          "barpolar": [
           {
            "marker": {
             "line": {
              "color": "white",
              "width": 0.5
             },
             "pattern": {
              "fillmode": "overlay",
              "size": 10,
              "solidity": 0.2
             }
            },
            "type": "barpolar"
           }
          ],
          "carpet": [
           {
            "aaxis": {
             "endlinecolor": "#2a3f5f",
             "gridcolor": "#C8D4E3",
             "linecolor": "#C8D4E3",
             "minorgridcolor": "#C8D4E3",
             "startlinecolor": "#2a3f5f"
            },
            "baxis": {
             "endlinecolor": "#2a3f5f",
             "gridcolor": "#C8D4E3",
             "linecolor": "#C8D4E3",
             "minorgridcolor": "#C8D4E3",
             "startlinecolor": "#2a3f5f"
            },
            "type": "carpet"
           }
          ],
          "choropleth": [
           {
            "colorbar": {
             "outlinewidth": 0,
             "ticks": ""
            },
            "type": "choropleth"
           }
          ],
          "contour": [
           {
            "colorbar": {
             "outlinewidth": 0,
             "ticks": ""
            },
            "colorscale": [
             [
              0,
              "#0d0887"
             ],
             [
              0.1111111111111111,
              "#46039f"
             ],
             [
              0.2222222222222222,
              "#7201a8"
             ],
             [
              0.3333333333333333,
              "#9c179e"
             ],
             [
              0.4444444444444444,
              "#bd3786"
             ],
             [
              0.5555555555555556,
              "#d8576b"
             ],
             [
              0.6666666666666666,
              "#ed7953"
             ],
             [
              0.7777777777777778,
              "#fb9f3a"
             ],
             [
              0.8888888888888888,
              "#fdca26"
             ],
             [
              1,
              "#f0f921"
             ]
            ],
            "type": "contour"
           }
          ],
          "contourcarpet": [
           {
            "colorbar": {
             "outlinewidth": 0,
             "ticks": ""
            },
            "type": "contourcarpet"
           }
          ],
          "heatmap": [
           {
            "colorbar": {
             "outlinewidth": 0,
             "ticks": ""
            },
            "colorscale": [
             [
              0,
              "#0d0887"
             ],
             [
              0.1111111111111111,
              "#46039f"
             ],
             [
              0.2222222222222222,
              "#7201a8"
             ],
             [
              0.3333333333333333,
              "#9c179e"
             ],
             [
              0.4444444444444444,
              "#bd3786"
             ],
             [
              0.5555555555555556,
              "#d8576b"
             ],
             [
              0.6666666666666666,
              "#ed7953"
             ],
             [
              0.7777777777777778,
              "#fb9f3a"
             ],
             [
              0.8888888888888888,
              "#fdca26"
             ],
             [
              1,
              "#f0f921"
             ]
            ],
            "type": "heatmap"
           }
          ],
          "heatmapgl": [
           {
            "colorbar": {
             "outlinewidth": 0,
             "ticks": ""
            },
            "colorscale": [
             [
              0,
              "#0d0887"
             ],
             [
              0.1111111111111111,
              "#46039f"
             ],
             [
              0.2222222222222222,
              "#7201a8"
             ],
             [
              0.3333333333333333,
              "#9c179e"
             ],
             [
              0.4444444444444444,
              "#bd3786"
             ],
             [
              0.5555555555555556,
              "#d8576b"
             ],
             [
              0.6666666666666666,
              "#ed7953"
             ],
             [
              0.7777777777777778,
              "#fb9f3a"
             ],
             [
              0.8888888888888888,
              "#fdca26"
             ],
             [
              1,
              "#f0f921"
             ]
            ],
            "type": "heatmapgl"
           }
          ],
          "histogram": [
           {
            "marker": {
             "pattern": {
              "fillmode": "overlay",
              "size": 10,
              "solidity": 0.2
             }
            },
            "type": "histogram"
           }
          ],
          "histogram2d": [
           {
            "colorbar": {
             "outlinewidth": 0,
             "ticks": ""
            },
            "colorscale": [
             [
              0,
              "#0d0887"
             ],
             [
              0.1111111111111111,
              "#46039f"
             ],
             [
              0.2222222222222222,
              "#7201a8"
             ],
             [
              0.3333333333333333,
              "#9c179e"
             ],
             [
              0.4444444444444444,
              "#bd3786"
             ],
             [
              0.5555555555555556,
              "#d8576b"
             ],
             [
              0.6666666666666666,
              "#ed7953"
             ],
             [
              0.7777777777777778,
              "#fb9f3a"
             ],
             [
              0.8888888888888888,
              "#fdca26"
             ],
             [
              1,
              "#f0f921"
             ]
            ],
            "type": "histogram2d"
           }
          ],
          "histogram2dcontour": [
           {
            "colorbar": {
             "outlinewidth": 0,
             "ticks": ""
            },
            "colorscale": [
             [
              0,
              "#0d0887"
             ],
             [
              0.1111111111111111,
              "#46039f"
             ],
             [
              0.2222222222222222,
              "#7201a8"
             ],
             [
              0.3333333333333333,
              "#9c179e"
             ],
             [
              0.4444444444444444,
              "#bd3786"
             ],
             [
              0.5555555555555556,
              "#d8576b"
             ],
             [
              0.6666666666666666,
              "#ed7953"
             ],
             [
              0.7777777777777778,
              "#fb9f3a"
             ],
             [
              0.8888888888888888,
              "#fdca26"
             ],
             [
              1,
              "#f0f921"
             ]
            ],
            "type": "histogram2dcontour"
           }
          ],
          "mesh3d": [
           {
            "colorbar": {
             "outlinewidth": 0,
             "ticks": ""
            },
            "type": "mesh3d"
           }
          ],
          "parcoords": [
           {
            "line": {
             "colorbar": {
              "outlinewidth": 0,
              "ticks": ""
             }
            },
            "type": "parcoords"
           }
          ],
          "pie": [
           {
            "automargin": true,
            "type": "pie"
           }
          ],
          "scatter": [
           {
            "fillpattern": {
             "fillmode": "overlay",
             "size": 10,
             "solidity": 0.2
            },
            "type": "scatter"
           }
          ],
          "scatter3d": [
           {
            "line": {
             "colorbar": {
              "outlinewidth": 0,
              "ticks": ""
             }
            },
            "marker": {
             "colorbar": {
              "outlinewidth": 0,
              "ticks": ""
             }
            },
            "type": "scatter3d"
           }
          ],
          "scattercarpet": [
           {
            "marker": {
             "colorbar": {
              "outlinewidth": 0,
              "ticks": ""
             }
            },
            "type": "scattercarpet"
           }
          ],
          "scattergeo": [
           {
            "marker": {
             "colorbar": {
              "outlinewidth": 0,
              "ticks": ""
             }
            },
            "type": "scattergeo"
           }
          ],
          "scattergl": [
           {
            "marker": {
             "colorbar": {
              "outlinewidth": 0,
              "ticks": ""
             }
            },
            "type": "scattergl"
           }
          ],
          "scattermapbox": [
           {
            "marker": {
             "colorbar": {
              "outlinewidth": 0,
              "ticks": ""
             }
            },
            "type": "scattermapbox"
           }
          ],
          "scatterpolar": [
           {
            "marker": {
             "colorbar": {
              "outlinewidth": 0,
              "ticks": ""
             }
            },
            "type": "scatterpolar"
           }
          ],
          "scatterpolargl": [
           {
            "marker": {
             "colorbar": {
              "outlinewidth": 0,
              "ticks": ""
             }
            },
            "type": "scatterpolargl"
           }
          ],
          "scatterternary": [
           {
            "marker": {
             "colorbar": {
              "outlinewidth": 0,
              "ticks": ""
             }
            },
            "type": "scatterternary"
           }
          ],
          "surface": [
           {
            "colorbar": {
             "outlinewidth": 0,
             "ticks": ""
            },
            "colorscale": [
             [
              0,
              "#0d0887"
             ],
             [
              0.1111111111111111,
              "#46039f"
             ],
             [
              0.2222222222222222,
              "#7201a8"
             ],
             [
              0.3333333333333333,
              "#9c179e"
             ],
             [
              0.4444444444444444,
              "#bd3786"
             ],
             [
              0.5555555555555556,
              "#d8576b"
             ],
             [
              0.6666666666666666,
              "#ed7953"
             ],
             [
              0.7777777777777778,
              "#fb9f3a"
             ],
             [
              0.8888888888888888,
              "#fdca26"
             ],
             [
              1,
              "#f0f921"
             ]
            ],
            "type": "surface"
           }
          ],
          "table": [
           {
            "cells": {
             "fill": {
              "color": "#EBF0F8"
             },
             "line": {
              "color": "white"
             }
            },
            "header": {
             "fill": {
              "color": "#C8D4E3"
             },
             "line": {
              "color": "white"
             }
            },
            "type": "table"
           }
          ]
         },
         "layout": {
          "annotationdefaults": {
           "arrowcolor": "#2a3f5f",
           "arrowhead": 0,
           "arrowwidth": 1
          },
          "autotypenumbers": "strict",
          "coloraxis": {
           "colorbar": {
            "outlinewidth": 0,
            "ticks": ""
           }
          },
          "colorscale": {
           "diverging": [
            [
             0,
             "#8e0152"
            ],
            [
             0.1,
             "#c51b7d"
            ],
            [
             0.2,
             "#de77ae"
            ],
            [
             0.3,
             "#f1b6da"
            ],
            [
             0.4,
             "#fde0ef"
            ],
            [
             0.5,
             "#f7f7f7"
            ],
            [
             0.6,
             "#e6f5d0"
            ],
            [
             0.7,
             "#b8e186"
            ],
            [
             0.8,
             "#7fbc41"
            ],
            [
             0.9,
             "#4d9221"
            ],
            [
             1,
             "#276419"
            ]
           ],
           "sequential": [
            [
             0,
             "#0d0887"
            ],
            [
             0.1111111111111111,
             "#46039f"
            ],
            [
             0.2222222222222222,
             "#7201a8"
            ],
            [
             0.3333333333333333,
             "#9c179e"
            ],
            [
             0.4444444444444444,
             "#bd3786"
            ],
            [
             0.5555555555555556,
             "#d8576b"
            ],
            [
             0.6666666666666666,
             "#ed7953"
            ],
            [
             0.7777777777777778,
             "#fb9f3a"
            ],
            [
             0.8888888888888888,
             "#fdca26"
            ],
            [
             1,
             "#f0f921"
            ]
           ],
           "sequentialminus": [
            [
             0,
             "#0d0887"
            ],
            [
             0.1111111111111111,
             "#46039f"
            ],
            [
             0.2222222222222222,
             "#7201a8"
            ],
            [
             0.3333333333333333,
             "#9c179e"
            ],
            [
             0.4444444444444444,
             "#bd3786"
            ],
            [
             0.5555555555555556,
             "#d8576b"
            ],
            [
             0.6666666666666666,
             "#ed7953"
            ],
            [
             0.7777777777777778,
             "#fb9f3a"
            ],
            [
             0.8888888888888888,
             "#fdca26"
            ],
            [
             1,
             "#f0f921"
            ]
           ]
          },
          "colorway": [
           "#636efa",
           "#EF553B",
           "#00cc96",
           "#ab63fa",
           "#FFA15A",
           "#19d3f3",
           "#FF6692",
           "#B6E880",
           "#FF97FF",
           "#FECB52"
          ],
          "font": {
           "color": "#2a3f5f"
          },
          "geo": {
           "bgcolor": "white",
           "lakecolor": "white",
           "landcolor": "white",
           "showlakes": true,
           "showland": true,
           "subunitcolor": "#C8D4E3"
          },
          "hoverlabel": {
           "align": "left"
          },
          "hovermode": "closest",
          "mapbox": {
           "style": "light"
          },
          "paper_bgcolor": "white",
          "plot_bgcolor": "white",
          "polar": {
           "angularaxis": {
            "gridcolor": "#EBF0F8",
            "linecolor": "#EBF0F8",
            "ticks": ""
           },
           "bgcolor": "white",
           "radialaxis": {
            "gridcolor": "#EBF0F8",
            "linecolor": "#EBF0F8",
            "ticks": ""
           }
          },
          "scene": {
           "xaxis": {
            "backgroundcolor": "white",
            "gridcolor": "#DFE8F3",
            "gridwidth": 2,
            "linecolor": "#EBF0F8",
            "showbackground": true,
            "ticks": "",
            "zerolinecolor": "#EBF0F8"
           },
           "yaxis": {
            "backgroundcolor": "white",
            "gridcolor": "#DFE8F3",
            "gridwidth": 2,
            "linecolor": "#EBF0F8",
            "showbackground": true,
            "ticks": "",
            "zerolinecolor": "#EBF0F8"
           },
           "zaxis": {
            "backgroundcolor": "white",
            "gridcolor": "#DFE8F3",
            "gridwidth": 2,
            "linecolor": "#EBF0F8",
            "showbackground": true,
            "ticks": "",
            "zerolinecolor": "#EBF0F8"
           }
          },
          "shapedefaults": {
           "line": {
            "color": "#2a3f5f"
           }
          },
          "ternary": {
           "aaxis": {
            "gridcolor": "#DFE8F3",
            "linecolor": "#A2B1C6",
            "ticks": ""
           },
           "baxis": {
            "gridcolor": "#DFE8F3",
            "linecolor": "#A2B1C6",
            "ticks": ""
           },
           "bgcolor": "white",
           "caxis": {
            "gridcolor": "#DFE8F3",
            "linecolor": "#A2B1C6",
            "ticks": ""
           }
          },
          "title": {
           "x": 0.05
          },
          "xaxis": {
           "automargin": true,
           "gridcolor": "#EBF0F8",
           "linecolor": "#EBF0F8",
           "ticks": "",
           "title": {
            "standoff": 15
           },
           "zerolinecolor": "#EBF0F8",
           "zerolinewidth": 2
          },
          "yaxis": {
           "automargin": true,
           "gridcolor": "#EBF0F8",
           "linecolor": "#EBF0F8",
           "ticks": "",
           "title": {
            "standoff": 15
           },
           "zerolinecolor": "#EBF0F8",
           "zerolinewidth": 2
          }
         }
        },
        "title": {
         "text": "Cumulative Sum of All Columns Over Time"
        },
        "width": 900,
        "xaxis": {
         "title": {
          "text": "Date"
         }
        },
        "yaxis": {
         "title": {
          "text": "Cumulative Sum"
         }
        }
       }
      }
     },
     "metadata": {},
     "output_type": "display_data"
    }
   ],
   "source": [
    "pnl_dfs = {dt: parse_pnl_string(pnl[dt]) for dt in pnl.keys()}\n",
    "list_of_dataframes = []\n",
    "\n",
    "for date, df in pnl_dfs.items():\n",
    "    # Set the key column as columns, the value column as data, and add date as index\n",
    "    df.set_index('key', inplace=True)\n",
    "    df_transposed = df.T  # Transpose to make keys as columns\n",
    "    df_transposed['date'] = date  # Add the date as a column\n",
    "    list_of_dataframes.append(df_transposed)  # Append to the list\n",
    "\n",
    "# Concatenate all the dataframes into a single one, setting 'date' as the index\n",
    "final_df = pd.concat(list_of_dataframes).set_index('date')\n",
    "final_df['Total'] = final_df.sum(axis=1)\n",
    "\n",
    "column_expressions = {\n",
    "    'FX': 'df[\"TA:FX:DELTA\"] + df[\"TA:FX:VOL_RV\"] + df[\"TA:FX:USD\"] + df[\"TA:JPY:FX\"] + df[\"TA:CHF:FX\"]',\n",
    "    'USD': 'df[\"TA:IR:USD:CURVE\"] + df[\"TA:USD:IR\"] + df[\"TA:USD:IR:HTM\"] + df[\"TA:USD:IR:RV\"]',\n",
    "}\n",
    "plot_cumulative_sum(final_df, column_expressions)"
   ]
  },
  {
   "cell_type": "code",
   "execution_count": 37,
   "metadata": {},
   "outputs": [
    {
     "data": {
      "application/vnd.plotly.v1+json": {
       "config": {
        "plotlyServerURL": "https://plot.ly"
       },
       "data": [
        {
         "marker": {
          "color": [
           "#636EFA",
           "#EF553B",
           "#00CC96",
           "#AB63FA",
           "#FFA15A",
           "#19D3F3",
           "#FF6692",
           "#B6E880",
           "#FF97FF",
           "#FECB52"
          ],
          "size": 20
         },
         "mode": "markers",
         "name": "Plotly",
         "showlegend": true,
         "type": "scatter",
         "x": [
          0,
          0,
          0,
          0,
          0,
          0,
          0,
          0,
          0,
          0
         ],
         "y": [
          0,
          1,
          2,
          3,
          4,
          5,
          6,
          7,
          8,
          9
         ]
        },
        {
         "marker": {
          "color": [
           "#1F77B4",
           "#FF7F0E",
           "#2CA02C",
           "#D62728",
           "#9467BD",
           "#8C564B",
           "#E377C2",
           "#7F7F7F",
           "#BCBD22",
           "#17BECF"
          ],
          "size": 20
         },
         "mode": "markers",
         "name": "D3",
         "showlegend": true,
         "type": "scatter",
         "x": [
          1,
          1,
          1,
          1,
          1,
          1,
          1,
          1,
          1,
          1
         ],
         "y": [
          0,
          1,
          2,
          3,
          4,
          5,
          6,
          7,
          8,
          9
         ]
        },
        {
         "marker": {
          "color": [
           "rgb(127, 60, 141)",
           "rgb(17, 165, 121)",
           "rgb(57, 105, 172)",
           "rgb(242, 183, 1)",
           "rgb(231, 63, 116)",
           "rgb(128, 186, 90)",
           "rgb(230, 131, 16)",
           "rgb(0, 134, 149)",
           "rgb(207, 28, 144)",
           "rgb(249, 123, 114)",
           "rgb(165, 170, 153)"
          ],
          "size": 20
         },
         "mode": "markers",
         "name": "Bold",
         "showlegend": true,
         "type": "scatter",
         "x": [
          2,
          2,
          2,
          2,
          2,
          2,
          2,
          2,
          2,
          2,
          2
         ],
         "y": [
          0,
          1,
          2,
          3,
          4,
          5,
          6,
          7,
          8,
          9,
          10
         ]
        },
        {
         "marker": {
          "color": [
           "rgb(102, 197, 204)",
           "rgb(246, 207, 113)",
           "rgb(248, 156, 116)",
           "rgb(220, 176, 242)",
           "rgb(135, 197, 95)",
           "rgb(158, 185, 243)",
           "rgb(254, 136, 177)",
           "rgb(201, 219, 116)",
           "rgb(139, 224, 164)",
           "rgb(180, 151, 231)",
           "rgb(179, 179, 179)"
          ],
          "size": 20
         },
         "mode": "markers",
         "name": "Pastel",
         "showlegend": true,
         "type": "scatter",
         "x": [
          3,
          3,
          3,
          3,
          3,
          3,
          3,
          3,
          3,
          3,
          3
         ],
         "y": [
          0,
          1,
          2,
          3,
          4,
          5,
          6,
          7,
          8,
          9,
          10
         ]
        },
        {
         "marker": {
          "color": [
           "rgb(27,158,119)",
           "rgb(217,95,2)",
           "rgb(117,112,179)",
           "rgb(231,41,138)",
           "rgb(102,166,30)",
           "rgb(230,171,2)",
           "rgb(166,118,29)",
           "rgb(102,102,102)"
          ],
          "size": 20
         },
         "mode": "markers",
         "name": "Dark2",
         "showlegend": true,
         "type": "scatter",
         "x": [
          4,
          4,
          4,
          4,
          4,
          4,
          4,
          4
         ],
         "y": [
          0,
          1,
          2,
          3,
          4,
          5,
          6,
          7
         ]
        },
        {
         "marker": {
          "color": [
           "rgb(141,211,199)",
           "rgb(255,255,179)",
           "rgb(190,186,218)",
           "rgb(251,128,114)",
           "rgb(128,177,211)",
           "rgb(253,180,98)",
           "rgb(179,222,105)",
           "rgb(252,205,229)",
           "rgb(217,217,217)",
           "rgb(188,128,189)",
           "rgb(204,235,197)",
           "rgb(255,237,111)"
          ],
          "size": 20
         },
         "mode": "markers",
         "name": "Set3",
         "showlegend": true,
         "type": "scatter",
         "x": [
          5,
          5,
          5,
          5,
          5,
          5,
          5,
          5,
          5,
          5,
          5,
          5
         ],
         "y": [
          0,
          1,
          2,
          3,
          4,
          5,
          6,
          7,
          8,
          9,
          10,
          11
         ]
        }
       ],
       "layout": {
        "height": 500,
        "showlegend": true,
        "template": {
         "data": {
          "bar": [
           {
            "error_x": {
             "color": "#2a3f5f"
            },
            "error_y": {
             "color": "#2a3f5f"
            },
            "marker": {
             "line": {
              "color": "#E5ECF6",
              "width": 0.5
             },
             "pattern": {
              "fillmode": "overlay",
              "size": 10,
              "solidity": 0.2
             }
            },
            "type": "bar"
           }
          ],
          "barpolar": [
           {
            "marker": {
             "line": {
              "color": "#E5ECF6",
              "width": 0.5
             },
             "pattern": {
              "fillmode": "overlay",
              "size": 10,
              "solidity": 0.2
             }
            },
            "type": "barpolar"
           }
          ],
          "carpet": [
           {
            "aaxis": {
             "endlinecolor": "#2a3f5f",
             "gridcolor": "white",
             "linecolor": "white",
             "minorgridcolor": "white",
             "startlinecolor": "#2a3f5f"
            },
            "baxis": {
             "endlinecolor": "#2a3f5f",
             "gridcolor": "white",
             "linecolor": "white",
             "minorgridcolor": "white",
             "startlinecolor": "#2a3f5f"
            },
            "type": "carpet"
           }
          ],
          "choropleth": [
           {
            "colorbar": {
             "outlinewidth": 0,
             "ticks": ""
            },
            "type": "choropleth"
           }
          ],
          "contour": [
           {
            "colorbar": {
             "outlinewidth": 0,
             "ticks": ""
            },
            "colorscale": [
             [
              0,
              "#0d0887"
             ],
             [
              0.1111111111111111,
              "#46039f"
             ],
             [
              0.2222222222222222,
              "#7201a8"
             ],
             [
              0.3333333333333333,
              "#9c179e"
             ],
             [
              0.4444444444444444,
              "#bd3786"
             ],
             [
              0.5555555555555556,
              "#d8576b"
             ],
             [
              0.6666666666666666,
              "#ed7953"
             ],
             [
              0.7777777777777778,
              "#fb9f3a"
             ],
             [
              0.8888888888888888,
              "#fdca26"
             ],
             [
              1,
              "#f0f921"
             ]
            ],
            "type": "contour"
           }
          ],
          "contourcarpet": [
           {
            "colorbar": {
             "outlinewidth": 0,
             "ticks": ""
            },
            "type": "contourcarpet"
           }
          ],
          "heatmap": [
           {
            "colorbar": {
             "outlinewidth": 0,
             "ticks": ""
            },
            "colorscale": [
             [
              0,
              "#0d0887"
             ],
             [
              0.1111111111111111,
              "#46039f"
             ],
             [
              0.2222222222222222,
              "#7201a8"
             ],
             [
              0.3333333333333333,
              "#9c179e"
             ],
             [
              0.4444444444444444,
              "#bd3786"
             ],
             [
              0.5555555555555556,
              "#d8576b"
             ],
             [
              0.6666666666666666,
              "#ed7953"
             ],
             [
              0.7777777777777778,
              "#fb9f3a"
             ],
             [
              0.8888888888888888,
              "#fdca26"
             ],
             [
              1,
              "#f0f921"
             ]
            ],
            "type": "heatmap"
           }
          ],
          "heatmapgl": [
           {
            "colorbar": {
             "outlinewidth": 0,
             "ticks": ""
            },
            "colorscale": [
             [
              0,
              "#0d0887"
             ],
             [
              0.1111111111111111,
              "#46039f"
             ],
             [
              0.2222222222222222,
              "#7201a8"
             ],
             [
              0.3333333333333333,
              "#9c179e"
             ],
             [
              0.4444444444444444,
              "#bd3786"
             ],
             [
              0.5555555555555556,
              "#d8576b"
             ],
             [
              0.6666666666666666,
              "#ed7953"
             ],
             [
              0.7777777777777778,
              "#fb9f3a"
             ],
             [
              0.8888888888888888,
              "#fdca26"
             ],
             [
              1,
              "#f0f921"
             ]
            ],
            "type": "heatmapgl"
           }
          ],
          "histogram": [
           {
            "marker": {
             "pattern": {
              "fillmode": "overlay",
              "size": 10,
              "solidity": 0.2
             }
            },
            "type": "histogram"
           }
          ],
          "histogram2d": [
           {
            "colorbar": {
             "outlinewidth": 0,
             "ticks": ""
            },
            "colorscale": [
             [
              0,
              "#0d0887"
             ],
             [
              0.1111111111111111,
              "#46039f"
             ],
             [
              0.2222222222222222,
              "#7201a8"
             ],
             [
              0.3333333333333333,
              "#9c179e"
             ],
             [
              0.4444444444444444,
              "#bd3786"
             ],
             [
              0.5555555555555556,
              "#d8576b"
             ],
             [
              0.6666666666666666,
              "#ed7953"
             ],
             [
              0.7777777777777778,
              "#fb9f3a"
             ],
             [
              0.8888888888888888,
              "#fdca26"
             ],
             [
              1,
              "#f0f921"
             ]
            ],
            "type": "histogram2d"
           }
          ],
          "histogram2dcontour": [
           {
            "colorbar": {
             "outlinewidth": 0,
             "ticks": ""
            },
            "colorscale": [
             [
              0,
              "#0d0887"
             ],
             [
              0.1111111111111111,
              "#46039f"
             ],
             [
              0.2222222222222222,
              "#7201a8"
             ],
             [
              0.3333333333333333,
              "#9c179e"
             ],
             [
              0.4444444444444444,
              "#bd3786"
             ],
             [
              0.5555555555555556,
              "#d8576b"
             ],
             [
              0.6666666666666666,
              "#ed7953"
             ],
             [
              0.7777777777777778,
              "#fb9f3a"
             ],
             [
              0.8888888888888888,
              "#fdca26"
             ],
             [
              1,
              "#f0f921"
             ]
            ],
            "type": "histogram2dcontour"
           }
          ],
          "mesh3d": [
           {
            "colorbar": {
             "outlinewidth": 0,
             "ticks": ""
            },
            "type": "mesh3d"
           }
          ],
          "parcoords": [
           {
            "line": {
             "colorbar": {
              "outlinewidth": 0,
              "ticks": ""
             }
            },
            "type": "parcoords"
           }
          ],
          "pie": [
           {
            "automargin": true,
            "type": "pie"
           }
          ],
          "scatter": [
           {
            "fillpattern": {
             "fillmode": "overlay",
             "size": 10,
             "solidity": 0.2
            },
            "type": "scatter"
           }
          ],
          "scatter3d": [
           {
            "line": {
             "colorbar": {
              "outlinewidth": 0,
              "ticks": ""
             }
            },
            "marker": {
             "colorbar": {
              "outlinewidth": 0,
              "ticks": ""
             }
            },
            "type": "scatter3d"
           }
          ],
          "scattercarpet": [
           {
            "marker": {
             "colorbar": {
              "outlinewidth": 0,
              "ticks": ""
             }
            },
            "type": "scattercarpet"
           }
          ],
          "scattergeo": [
           {
            "marker": {
             "colorbar": {
              "outlinewidth": 0,
              "ticks": ""
             }
            },
            "type": "scattergeo"
           }
          ],
          "scattergl": [
           {
            "marker": {
             "colorbar": {
              "outlinewidth": 0,
              "ticks": ""
             }
            },
            "type": "scattergl"
           }
          ],
          "scattermapbox": [
           {
            "marker": {
             "colorbar": {
              "outlinewidth": 0,
              "ticks": ""
             }
            },
            "type": "scattermapbox"
           }
          ],
          "scatterpolar": [
           {
            "marker": {
             "colorbar": {
              "outlinewidth": 0,
              "ticks": ""
             }
            },
            "type": "scatterpolar"
           }
          ],
          "scatterpolargl": [
           {
            "marker": {
             "colorbar": {
              "outlinewidth": 0,
              "ticks": ""
             }
            },
            "type": "scatterpolargl"
           }
          ],
          "scatterternary": [
           {
            "marker": {
             "colorbar": {
              "outlinewidth": 0,
              "ticks": ""
             }
            },
            "type": "scatterternary"
           }
          ],
          "surface": [
           {
            "colorbar": {
             "outlinewidth": 0,
             "ticks": ""
            },
            "colorscale": [
             [
              0,
              "#0d0887"
             ],
             [
              0.1111111111111111,
              "#46039f"
             ],
             [
              0.2222222222222222,
              "#7201a8"
             ],
             [
              0.3333333333333333,
              "#9c179e"
             ],
             [
              0.4444444444444444,
              "#bd3786"
             ],
             [
              0.5555555555555556,
              "#d8576b"
             ],
             [
              0.6666666666666666,
              "#ed7953"
             ],
             [
              0.7777777777777778,
              "#fb9f3a"
             ],
             [
              0.8888888888888888,
              "#fdca26"
             ],
             [
              1,
              "#f0f921"
             ]
            ],
            "type": "surface"
           }
          ],
          "table": [
           {
            "cells": {
             "fill": {
              "color": "#EBF0F8"
             },
             "line": {
              "color": "white"
             }
            },
            "header": {
             "fill": {
              "color": "#C8D4E3"
             },
             "line": {
              "color": "white"
             }
            },
            "type": "table"
           }
          ]
         },
         "layout": {
          "annotationdefaults": {
           "arrowcolor": "#2a3f5f",
           "arrowhead": 0,
           "arrowwidth": 1
          },
          "autotypenumbers": "strict",
          "coloraxis": {
           "colorbar": {
            "outlinewidth": 0,
            "ticks": ""
           }
          },
          "colorscale": {
           "diverging": [
            [
             0,
             "#8e0152"
            ],
            [
             0.1,
             "#c51b7d"
            ],
            [
             0.2,
             "#de77ae"
            ],
            [
             0.3,
             "#f1b6da"
            ],
            [
             0.4,
             "#fde0ef"
            ],
            [
             0.5,
             "#f7f7f7"
            ],
            [
             0.6,
             "#e6f5d0"
            ],
            [
             0.7,
             "#b8e186"
            ],
            [
             0.8,
             "#7fbc41"
            ],
            [
             0.9,
             "#4d9221"
            ],
            [
             1,
             "#276419"
            ]
           ],
           "sequential": [
            [
             0,
             "#0d0887"
            ],
            [
             0.1111111111111111,
             "#46039f"
            ],
            [
             0.2222222222222222,
             "#7201a8"
            ],
            [
             0.3333333333333333,
             "#9c179e"
            ],
            [
             0.4444444444444444,
             "#bd3786"
            ],
            [
             0.5555555555555556,
             "#d8576b"
            ],
            [
             0.6666666666666666,
             "#ed7953"
            ],
            [
             0.7777777777777778,
             "#fb9f3a"
            ],
            [
             0.8888888888888888,
             "#fdca26"
            ],
            [
             1,
             "#f0f921"
            ]
           ],
           "sequentialminus": [
            [
             0,
             "#0d0887"
            ],
            [
             0.1111111111111111,
             "#46039f"
            ],
            [
             0.2222222222222222,
             "#7201a8"
            ],
            [
             0.3333333333333333,
             "#9c179e"
            ],
            [
             0.4444444444444444,
             "#bd3786"
            ],
            [
             0.5555555555555556,
             "#d8576b"
            ],
            [
             0.6666666666666666,
             "#ed7953"
            ],
            [
             0.7777777777777778,
             "#fb9f3a"
            ],
            [
             0.8888888888888888,
             "#fdca26"
            ],
            [
             1,
             "#f0f921"
            ]
           ]
          },
          "colorway": [
           "#636efa",
           "#EF553B",
           "#00cc96",
           "#ab63fa",
           "#FFA15A",
           "#19d3f3",
           "#FF6692",
           "#B6E880",
           "#FF97FF",
           "#FECB52"
          ],
          "font": {
           "color": "#2a3f5f"
          },
          "geo": {
           "bgcolor": "white",
           "lakecolor": "white",
           "landcolor": "#E5ECF6",
           "showlakes": true,
           "showland": true,
           "subunitcolor": "white"
          },
          "hoverlabel": {
           "align": "left"
          },
          "hovermode": "closest",
          "mapbox": {
           "style": "light"
          },
          "paper_bgcolor": "white",
          "plot_bgcolor": "#E5ECF6",
          "polar": {
           "angularaxis": {
            "gridcolor": "white",
            "linecolor": "white",
            "ticks": ""
           },
           "bgcolor": "#E5ECF6",
           "radialaxis": {
            "gridcolor": "white",
            "linecolor": "white",
            "ticks": ""
           }
          },
          "scene": {
           "xaxis": {
            "backgroundcolor": "#E5ECF6",
            "gridcolor": "white",
            "gridwidth": 2,
            "linecolor": "white",
            "showbackground": true,
            "ticks": "",
            "zerolinecolor": "white"
           },
           "yaxis": {
            "backgroundcolor": "#E5ECF6",
            "gridcolor": "white",
            "gridwidth": 2,
            "linecolor": "white",
            "showbackground": true,
            "ticks": "",
            "zerolinecolor": "white"
           },
           "zaxis": {
            "backgroundcolor": "#E5ECF6",
            "gridcolor": "white",
            "gridwidth": 2,
            "linecolor": "white",
            "showbackground": true,
            "ticks": "",
            "zerolinecolor": "white"
           }
          },
          "shapedefaults": {
           "line": {
            "color": "#2a3f5f"
           }
          },
          "ternary": {
           "aaxis": {
            "gridcolor": "white",
            "linecolor": "white",
            "ticks": ""
           },
           "baxis": {
            "gridcolor": "white",
            "linecolor": "white",
            "ticks": ""
           },
           "bgcolor": "#E5ECF6",
           "caxis": {
            "gridcolor": "white",
            "linecolor": "white",
            "ticks": ""
           }
          },
          "title": {
           "x": 0.05
          },
          "xaxis": {
           "automargin": true,
           "gridcolor": "white",
           "linecolor": "white",
           "ticks": "",
           "title": {
            "standoff": 15
           },
           "zerolinecolor": "white",
           "zerolinewidth": 2
          },
          "yaxis": {
           "automargin": true,
           "gridcolor": "white",
           "linecolor": "white",
           "ticks": "",
           "title": {
            "standoff": 15
           },
           "zerolinecolor": "white",
           "zerolinewidth": 2
          }
         }
        },
        "title": {
         "text": "Sample of Color Palettes"
        },
        "width": 800,
        "xaxis": {
         "tickmode": "array",
         "ticktext": [
          "Plotly",
          "D3",
          "Bold",
          "Pastel",
          "Dark2",
          "Set3"
         ],
         "tickvals": [
          0,
          1,
          2,
          3,
          4,
          5
         ],
         "title": {
          "text": "Palette Name"
         }
        },
        "yaxis": {
         "title": {
          "text": "Color Index"
         }
        }
       }
      }
     },
     "metadata": {},
     "output_type": "display_data"
    }
   ],
   "source": [
    "import plotly.express as px\n",
    "import plotly.graph_objects as go\n",
    "import plotly.colors as pc\n",
    "\n",
    "# Generate samples of qualitative and continuous color palettes\n",
    "color_schemes = {\n",
    "    'Plotly': pc.qualitative.Plotly,\n",
    "    'D3': pc.qualitative.D3,\n",
    "    'Bold': pc.qualitative.Bold,\n",
    "    'Pastel': pc.qualitative.Pastel,\n",
    "    'Dark2': pc.qualitative.Dark2,\n",
    "    'Set3': pc.qualitative.Set3,\n",
    "}\n",
    "\n",
    "# Create a sample plot to visualize different palettes\n",
    "fig = go.Figure()\n",
    "\n",
    "# Add a scatter plot for each color scheme\n",
    "for i, (name, colors) in enumerate(color_schemes.items()):\n",
    "    # Generate a number of sample points to display the palette\n",
    "    num_samples = min(len(colors), 20)  # Show up to 10 colors per palette\n",
    "    x = [i] * num_samples\n",
    "    y = list(range(num_samples))\n",
    "    fig.add_trace(go.Scatter(\n",
    "        x=x, \n",
    "        y=y, \n",
    "        mode='markers', \n",
    "        marker=dict(size=20, color=colors[:num_samples]), \n",
    "        name=name,\n",
    "        showlegend=True\n",
    "    ))\n",
    "\n",
    "# Update the layout for better visibility\n",
    "fig.update_layout(\n",
    "    title=\"Sample of Color Palettes\",\n",
    "    xaxis_title=\"Palette Name\",\n",
    "    yaxis_title=\"Color Index\",\n",
    "    xaxis=dict(tickmode='array', tickvals=list(range(len(color_schemes))), ticktext=list(color_schemes.keys())),\n",
    "    height=500,\n",
    "    width=800,\n",
    "    showlegend=True\n",
    ")\n",
    "\n",
    "# Show the plot\n",
    "fig.show()"
   ]
  }
 ],
 "metadata": {
  "kernelspec": {
   "display_name": "base",
   "language": "python",
   "name": "python3"
  },
  "language_info": {
   "codemirror_mode": {
    "name": "ipython",
    "version": 3
   },
   "file_extension": ".py",
   "mimetype": "text/x-python",
   "name": "python",
   "nbconvert_exporter": "python",
   "pygments_lexer": "ipython3",
   "version": "3.12.4"
  }
 },
 "nbformat": 4,
 "nbformat_minor": 2
}
