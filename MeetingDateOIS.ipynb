{
 "cells": [
  {
   "cell_type": "code",
   "execution_count": 1,
   "metadata": {},
   "outputs": [
    {
     "name": "stdout",
     "output_type": "stream",
     "text": [
      "Python 3.7.6 (default, Jan  8 2020, 20:23:39) [MSC v.1916 64 bit (AMD64)] on win32\n"
     ]
    },
    {
     "ename": "ImportError",
     "evalue": "No licenses for product [NxSDKCpp] are installed.",
     "output_type": "error",
     "traceback": [
      "\u001b[1;31m---------------------------------------------------------------------------\u001b[0m",
      "\u001b[1;31mImportError\u001b[0m                               Traceback (most recent call last)",
      "\u001b[1;32m~\\AppData\\Local\\Temp/ipykernel_18320/104449481.py\u001b[0m in \u001b[0;36m<module>\u001b[1;34m\u001b[0m\n\u001b[0;32m     19\u001b[0m \u001b[1;32mfrom\u001b[0m \u001b[0mdash\u001b[0m\u001b[1;33m.\u001b[0m\u001b[0mdependencies\u001b[0m \u001b[1;32mimport\u001b[0m \u001b[0mInput\u001b[0m\u001b[1;33m,\u001b[0m \u001b[0mOutput\u001b[0m\u001b[1;33m\u001b[0m\u001b[1;33m\u001b[0m\u001b[0m\n\u001b[0;32m     20\u001b[0m \u001b[1;33m\u001b[0m\u001b[0m\n\u001b[1;32m---> 21\u001b[1;33m \u001b[1;32mfrom\u001b[0m \u001b[0mFinAPI\u001b[0m\u001b[1;33m.\u001b[0m\u001b[0mNumerixWrapper\u001b[0m \u001b[1;32mimport\u001b[0m \u001b[0mBase\u001b[0m\u001b[1;33m,\u001b[0m \u001b[0mUSDOIS_MeetingDate\u001b[0m\u001b[1;33m,\u001b[0m \u001b[0mMeetingDates\u001b[0m\u001b[1;33m,\u001b[0m \u001b[0mCompoundIndexSwap\u001b[0m\u001b[1;33m,\u001b[0m \u001b[0mAverageIndexSwap\u001b[0m\u001b[1;33m\u001b[0m\u001b[1;33m\u001b[0m\u001b[0m\n\u001b[0m",
      "\u001b[1;32m~\\Documents\\Code\\Libraries\\FinAPI\\NumerixWrapper\\__init__.py\u001b[0m in \u001b[0;36m<module>\u001b[1;34m\u001b[0m\n\u001b[1;32m----> 1\u001b[1;33m \u001b[1;32mfrom\u001b[0m \u001b[1;33m.\u001b[0m\u001b[0mNumerixBase\u001b[0m \u001b[1;32mimport\u001b[0m \u001b[0mupdate\u001b[0m\u001b[1;33m,\u001b[0m \u001b[0madd_by_df\u001b[0m\u001b[1;33m,\u001b[0m \u001b[0mto_dict\u001b[0m\u001b[1;33m,\u001b[0m \u001b[0mto_df\u001b[0m\u001b[1;33m,\u001b[0m \u001b[0mplotly_plot_curve\u001b[0m\u001b[1;33m,\u001b[0m \u001b[0mmatplotlib_plot_curve\u001b[0m\u001b[1;33m,\u001b[0m \u001b[0mSetting\u001b[0m\u001b[1;33m,\u001b[0m\u001b[0;31m \u001b[0m\u001b[0;31m\\\u001b[0m\u001b[1;33m\u001b[0m\u001b[1;33m\u001b[0m\u001b[0m\n\u001b[0m\u001b[0;32m      2\u001b[0m     \u001b[0mNumerixBase\u001b[0m\u001b[1;33m,\u001b[0m \u001b[0mNumerixException\u001b[0m\u001b[1;33m,\u001b[0m \u001b[0mpro\u001b[0m\u001b[1;33m\u001b[0m\u001b[1;33m\u001b[0m\u001b[0m\n\u001b[0;32m      3\u001b[0m \u001b[1;32mfrom\u001b[0m \u001b[1;33m.\u001b[0m\u001b[0mNumerixInstruments\u001b[0m \u001b[1;32mimport\u001b[0m \u001b[0mNumerixInstruments\u001b[0m\u001b[1;33m\u001b[0m\u001b[1;33m\u001b[0m\u001b[0m\n\u001b[0;32m      4\u001b[0m \u001b[1;32mfrom\u001b[0m \u001b[1;33m.\u001b[0m\u001b[0mYieldCurves\u001b[0m \u001b[1;32mimport\u001b[0m \u001b[0mUSDOISCurve\u001b[0m\u001b[1;33m,\u001b[0m \u001b[0mUSDOISCurveAllSwaps\u001b[0m\u001b[1;33m,\u001b[0m \u001b[0mConstantYC\u001b[0m\u001b[1;33m,\u001b[0m \u001b[0mUSDOIS_MeetingDate\u001b[0m\u001b[1;33m,\u001b[0m \u001b[0mMeetingDates\u001b[0m\u001b[1;33m\u001b[0m\u001b[1;33m\u001b[0m\u001b[0m\n\u001b[0;32m      5\u001b[0m \u001b[1;32mfrom\u001b[0m \u001b[1;33m.\u001b[0m\u001b[0mNumerixPricer\u001b[0m \u001b[1;32mimport\u001b[0m \u001b[1;33m*\u001b[0m\u001b[1;33m\u001b[0m\u001b[1;33m\u001b[0m\u001b[0m\n",
      "\u001b[1;32m~\\Documents\\Code\\Libraries\\FinAPI\\NumerixWrapper\\NumerixBase.py\u001b[0m in \u001b[0;36m<module>\u001b[1;34m\u001b[0m\n\u001b[1;32m----> 1\u001b[1;33m \u001b[1;32mfrom\u001b[0m \u001b[0mnxpy\u001b[0m \u001b[1;32mimport\u001b[0m \u001b[0mpro\u001b[0m\u001b[1;33m\u001b[0m\u001b[1;33m\u001b[0m\u001b[0m\n\u001b[0m\u001b[0;32m      2\u001b[0m \u001b[1;32mimport\u001b[0m \u001b[0mos\u001b[0m\u001b[1;33m\u001b[0m\u001b[1;33m\u001b[0m\u001b[0m\n\u001b[0;32m      3\u001b[0m \u001b[1;32mimport\u001b[0m \u001b[0mcopy\u001b[0m\u001b[1;33m\u001b[0m\u001b[1;33m\u001b[0m\u001b[0m\n\u001b[0;32m      4\u001b[0m \u001b[1;32mimport\u001b[0m \u001b[0mpandas\u001b[0m \u001b[1;32mas\u001b[0m \u001b[0mpd\u001b[0m\u001b[1;33m\u001b[0m\u001b[1;33m\u001b[0m\u001b[0m\n\u001b[0;32m      5\u001b[0m \u001b[1;32mfrom\u001b[0m \u001b[0mfunctools\u001b[0m \u001b[1;32mimport\u001b[0m \u001b[0mwraps\u001b[0m\u001b[1;33m\u001b[0m\u001b[1;33m\u001b[0m\u001b[0m\n",
      "\u001b[1;31mImportError\u001b[0m: No licenses for product [NxSDKCpp] are installed."
     ]
    }
   ],
   "source": [
    "%load_ext autoreload\n",
    "%autoreload 2\n",
    "\n",
    "import sys; print('Python %s on %s' % (sys.version, sys.platform))\n",
    "sys.path.extend(['C:\\\\Users\\\\troy\\\\Documents\\\\Code\\\\Libraries', 'C:\\\\Users\\\\troy\\\\Documents\\\\Excel Sheets', 'C:/Users/troy/Documents/Code/Libraries'])\n",
    "from datetime import date, datetime\n",
    "import numpy as np\n",
    "import pandas as pd\n",
    "import ipywidgets as widgets\n",
    "import matplotlib.pyplot as plt\n",
    "import autoreload\n",
    "\n",
    "import dash_bootstrap_components as dbc\n",
    "import plotly.express as px\n",
    "from jupyter_dash import JupyterDash\n",
    "import dash_core_components as dcc\n",
    "import dash_html_components as html\n",
    "import dash_table\n",
    "from dash.dependencies import Input, Output\n",
    "\n",
    "from FinAPI.NumerixWrapper import Base, USDOIS_MeetingDate, MeetingDates, CompoundIndexSwap, AverageIndexSwap"
   ]
  },
  {
   "cell_type": "markdown",
   "metadata": {},
   "source": [
    "## Create Meeting Date Curve"
   ]
  },
  {
   "cell_type": "code",
   "execution_count": 2,
   "metadata": {},
   "outputs": [
    {
     "name": "stderr",
     "output_type": "stream",
     "text": [
      "[2021-12-22 20:39:28,323] DEBUG [NumerixCurve] [YieldCurves.py] [create_curve][866] [PID:15800 TID:22584] Fetching Data from Bloomberg\n",
      "[2021-12-22 20:39:29,907] DEBUG [NumerixCurve] [YieldCurves.py] [create_curve][868] [PID:15800 TID:22584] Creating Instruments and Collections ... \n",
      "[2021-12-22 20:39:29,912] DEBUG [NumerixCurve] [YieldCurves.py] [create_curve][872] [PID:15800 TID:22584] Bootstrapping Curve ... \n"
     ]
    }
   ],
   "source": [
    "objMeetingDate = USDOIS_MeetingDate(base_object=Base)\n",
    "objMeetingDate.create_curve()"
   ]
  },
  {
   "cell_type": "code",
   "execution_count": 3,
   "metadata": {},
   "outputs": [
    {
     "data": {
      "image/png": "[encoded data removed]",
      "text/plain": [
       "<Figure size 432x288 with 1 Axes>"
      ]
     },
     "metadata": {
      "needs_background": "light"
     },
     "output_type": "display_data"
    }
   ],
   "source": [
    "objMeetingDate.plot_discount_factors()"
   ]
  },
  {
   "cell_type": "markdown",
   "metadata": {},
   "source": [
    "## Extract Information from the curve"
   ]
  },
  {
   "cell_type": "markdown",
   "metadata": {},
   "source": [
    "#### Daily Index to show jumps of the index rates"
   ]
  },
  {
   "cell_type": "code",
   "execution_count": 4,
   "metadata": {},
   "outputs": [
    {
     "data": {
      "text/plain": [
       "[<matplotlib.lines.Line2D at 0x21d06217e88>]"
      ]
     },
     "execution_count": 4,
     "metadata": {},
     "output_type": "execute_result"
    },
    {
     "data": {
      "image/png": "[encoded data removed]",
      "text/plain": [
       "<Figure size 432x288 with 1 Axes>"
      ]
     },
     "metadata": {
      "needs_background": "light"
     },
     "output_type": "display_data"
    }
   ],
   "source": [
    "index_rates = objMeetingDate.index_rates()\n",
    "plt.plot(index_rates)"
   ]
  },
  {
   "cell_type": "code",
   "execution_count": 57,
   "metadata": {},
   "outputs": [
    {
     "data": {
      "text/html": [
       "<div>\n",
       "<style scoped>\n",
       "    .dataframe tbody tr th:only-of-type {\n",
       "        vertical-align: middle;\n",
       "    }\n",
       "\n",
       "    .dataframe tbody tr th {\n",
       "        vertical-align: top;\n",
       "    }\n",
       "\n",
       "    .dataframe thead th {\n",
       "        text-align: right;\n",
       "    }\n",
       "</style>\n",
       "<table border=\"1\" class=\"dataframe\">\n",
       "  <thead>\n",
       "    <tr style=\"text-align: right;\">\n",
       "      <th></th>\n",
       "      <th>OIS Rate</th>\n",
       "      <th>avg_rate</th>\n",
       "      <th>slope</th>\n",
       "      <th>cumm</th>\n",
       "      <th>marginal_perc</th>\n",
       "      <th>cumm_perc</th>\n",
       "    </tr>\n",
       "  </thead>\n",
       "  <tbody>\n",
       "    <tr>\n",
       "      <th>2021-12-22</th>\n",
       "      <td>8.364</td>\n",
       "      <td>8.364</td>\n",
       "      <td>0.000</td>\n",
       "      <td>0.000</td>\n",
       "      <td>0.00000</td>\n",
       "      <td>0.00000</td>\n",
       "    </tr>\n",
       "    <tr>\n",
       "      <th>2022-01-26</th>\n",
       "      <td>9.142</td>\n",
       "      <td>9.158</td>\n",
       "      <td>0.794</td>\n",
       "      <td>0.794</td>\n",
       "      <td>0.03176</td>\n",
       "      <td>0.03176</td>\n",
       "    </tr>\n",
       "    <tr>\n",
       "      <th>2022-03-16</th>\n",
       "      <td>22.230</td>\n",
       "      <td>22.499</td>\n",
       "      <td>13.341</td>\n",
       "      <td>14.135</td>\n",
       "      <td>0.53364</td>\n",
       "      <td>0.56540</td>\n",
       "    </tr>\n",
       "    <tr>\n",
       "      <th>2022-05-04</th>\n",
       "      <td>30.820</td>\n",
       "      <td>31.017</td>\n",
       "      <td>8.518</td>\n",
       "      <td>22.653</td>\n",
       "      <td>0.34072</td>\n",
       "      <td>0.90612</td>\n",
       "    </tr>\n",
       "    <tr>\n",
       "      <th>2022-06-15</th>\n",
       "      <td>43.251</td>\n",
       "      <td>43.538</td>\n",
       "      <td>12.521</td>\n",
       "      <td>35.174</td>\n",
       "      <td>0.50084</td>\n",
       "      <td>1.40696</td>\n",
       "    </tr>\n",
       "    <tr>\n",
       "      <th>2022-07-27</th>\n",
       "      <td>50.771</td>\n",
       "      <td>50.883</td>\n",
       "      <td>7.345</td>\n",
       "      <td>42.519</td>\n",
       "      <td>0.29380</td>\n",
       "      <td>1.70076</td>\n",
       "    </tr>\n",
       "    <tr>\n",
       "      <th>2022-09-21</th>\n",
       "      <td>60.800</td>\n",
       "      <td>61.021</td>\n",
       "      <td>10.138</td>\n",
       "      <td>52.657</td>\n",
       "      <td>0.40552</td>\n",
       "      <td>2.10628</td>\n",
       "    </tr>\n",
       "    <tr>\n",
       "      <th>2022-11-02</th>\n",
       "      <td>67.404</td>\n",
       "      <td>67.533</td>\n",
       "      <td>6.512</td>\n",
       "      <td>59.169</td>\n",
       "      <td>0.26048</td>\n",
       "      <td>2.36676</td>\n",
       "    </tr>\n",
       "    <tr>\n",
       "      <th>2022-12-14</th>\n",
       "      <td>74.521</td>\n",
       "      <td>74.629</td>\n",
       "      <td>7.096</td>\n",
       "      <td>66.265</td>\n",
       "      <td>0.28384</td>\n",
       "      <td>2.65060</td>\n",
       "    </tr>\n",
       "  </tbody>\n",
       "</table>\n",
       "</div>"
      ],
      "text/plain": [
       "            OIS Rate  avg_rate   slope    cumm  marginal_perc  cumm_perc\n",
       "2021-12-22     8.364     8.364   0.000   0.000        0.00000    0.00000\n",
       "2022-01-26     9.142     9.158   0.794   0.794        0.03176    0.03176\n",
       "2022-03-16    22.230    22.499  13.341  14.135        0.53364    0.56540\n",
       "2022-05-04    30.820    31.017   8.518  22.653        0.34072    0.90612\n",
       "2022-06-15    43.251    43.538  12.521  35.174        0.50084    1.40696\n",
       "2022-07-27    50.771    50.883   7.345  42.519        0.29380    1.70076\n",
       "2022-09-21    60.800    61.021  10.138  52.657        0.40552    2.10628\n",
       "2022-11-02    67.404    67.533   6.512  59.169        0.26048    2.36676\n",
       "2022-12-14    74.521    74.629   7.096  66.265        0.28384    2.65060"
      ]
     },
     "execution_count": 57,
     "metadata": {},
     "output_type": "execute_result"
    }
   ],
   "source": [
    "# OIS Curve Meeting date\n",
    "fed_pricing = objMeetingDate.move_pricing_table()\n",
    "fed_pricing"
   ]
  },
  {
   "cell_type": "code",
   "execution_count": 66,
   "metadata": {},
   "outputs": [
    {
     "data": {
      "text/plain": [
       "2021"
      ]
     },
     "execution_count": 66,
     "metadata": {},
     "output_type": "execute_result"
    }
   ],
   "source": []
  },
  {
   "cell_type": "markdown",
   "metadata": {},
   "source": [
    "## Scratch"
   ]
  },
  {
   "cell_type": "code",
   "execution_count": 117,
   "metadata": {},
   "outputs": [
    {
     "data": {
      "text/html": [
       "<div>\n",
       "<style scoped>\n",
       "    .dataframe tbody tr th:only-of-type {\n",
       "        vertical-align: middle;\n",
       "    }\n",
       "\n",
       "    .dataframe tbody tr th {\n",
       "        vertical-align: top;\n",
       "    }\n",
       "\n",
       "    .dataframe thead th {\n",
       "        text-align: right;\n",
       "    }\n",
       "</style>\n",
       "<table border=\"1\" class=\"dataframe\">\n",
       "  <thead>\n",
       "    <tr style=\"text-align: right;\">\n",
       "      <th>FIELD</th>\n",
       "      <th>PX_LAST</th>\n",
       "      <th>PX_MID</th>\n",
       "      <th>MID_OR_LAST</th>\n",
       "    </tr>\n",
       "    <tr>\n",
       "      <th>FUT</th>\n",
       "      <th></th>\n",
       "      <th></th>\n",
       "      <th></th>\n",
       "    </tr>\n",
       "  </thead>\n",
       "  <tbody>\n",
       "    <tr>\n",
       "      <th>FF10 Comdty</th>\n",
       "      <td>99.445</td>\n",
       "      <td>NaN</td>\n",
       "      <td>99.445</td>\n",
       "    </tr>\n",
       "    <tr>\n",
       "      <th>FF11 Comdty</th>\n",
       "      <td>99.370</td>\n",
       "      <td>99.370</td>\n",
       "      <td>99.370</td>\n",
       "    </tr>\n",
       "    <tr>\n",
       "      <th>FF12 Comdty</th>\n",
       "      <td>99.310</td>\n",
       "      <td>99.310</td>\n",
       "      <td>99.310</td>\n",
       "    </tr>\n",
       "    <tr>\n",
       "      <th>FF13 Comdty</th>\n",
       "      <td>99.245</td>\n",
       "      <td>99.280</td>\n",
       "      <td>99.280</td>\n",
       "    </tr>\n",
       "    <tr>\n",
       "      <th>FF2 Comdty</th>\n",
       "      <td>99.920</td>\n",
       "      <td>99.918</td>\n",
       "      <td>99.918</td>\n",
       "    </tr>\n",
       "    <tr>\n",
       "      <th>FF3 Comdty</th>\n",
       "      <td>99.905</td>\n",
       "      <td>99.908</td>\n",
       "      <td>99.908</td>\n",
       "    </tr>\n",
       "    <tr>\n",
       "      <th>FF4 Comdty</th>\n",
       "      <td>99.835</td>\n",
       "      <td>99.838</td>\n",
       "      <td>99.838</td>\n",
       "    </tr>\n",
       "    <tr>\n",
       "      <th>FF5 Comdty</th>\n",
       "      <td>99.760</td>\n",
       "      <td>99.757</td>\n",
       "      <td>99.757</td>\n",
       "    </tr>\n",
       "    <tr>\n",
       "      <th>FF6 Comdty</th>\n",
       "      <td>99.690</td>\n",
       "      <td>99.688</td>\n",
       "      <td>99.688</td>\n",
       "    </tr>\n",
       "    <tr>\n",
       "      <th>FF7 Comdty</th>\n",
       "      <td>99.615</td>\n",
       "      <td>99.613</td>\n",
       "      <td>99.613</td>\n",
       "    </tr>\n",
       "    <tr>\n",
       "      <th>FF8 Comdty</th>\n",
       "      <td>99.535</td>\n",
       "      <td>99.530</td>\n",
       "      <td>99.530</td>\n",
       "    </tr>\n",
       "    <tr>\n",
       "      <th>FF9 Comdty</th>\n",
       "      <td>99.475</td>\n",
       "      <td>99.473</td>\n",
       "      <td>99.473</td>\n",
       "    </tr>\n",
       "  </tbody>\n",
       "</table>\n",
       "</div>"
      ],
      "text/plain": [
       "FIELD        PX_LAST  PX_MID  MID_OR_LAST\n",
       "FUT                                      \n",
       "FF10 Comdty   99.445     NaN       99.445\n",
       "FF11 Comdty   99.370  99.370       99.370\n",
       "FF12 Comdty   99.310  99.310       99.310\n",
       "FF13 Comdty   99.245  99.280       99.280\n",
       "FF2 Comdty    99.920  99.918       99.918\n",
       "FF3 Comdty    99.905  99.908       99.908\n",
       "FF4 Comdty    99.835  99.838       99.838\n",
       "FF5 Comdty    99.760  99.757       99.757\n",
       "FF6 Comdty    99.690  99.688       99.688\n",
       "FF7 Comdty    99.615  99.613       99.613\n",
       "FF8 Comdty    99.535  99.530       99.530\n",
       "FF9 Comdty    99.475  99.473       99.473"
      ]
     },
     "execution_count": 117,
     "metadata": {},
     "output_type": "execute_result"
    }
   ],
   "source": [
    "from tia.bbg import LocalTerminal\n",
    "\n",
    "data_date = date(2021, 12, 23)\n",
    "data_date = data_date if data_date is not None else Base.today_tz(\"USNY\")\n",
    "fut_tickers = ['FF2 Comdty', 'FF3 Comdty', 'FF4 Comdty', 'FF5 Comdty', 'FF6 Comdty', 'FF7 Comdty',\n",
    "                   'FF8 Comdty', 'FF9 Comdty', 'FF10 Comdty', 'FF11 Comdty', 'FF12 Comdty', 'FF13 Comdty']\n",
    "live = True if data_date == Base.today_tz(\"USNY\") else False\n",
    "\n",
    "if live:\n",
    "    resp = LocalTerminal.get_reference_data(fut_tickers, ['PX_MID', 'PX_LAST'])\n",
    "    df_fut = resp.as_frame()\n",
    "    df_fut['MID_OR_LAST'] = (1 - np.isnan(df_fut.PX_MID)) * df_fut.PX_MID.fillna(0) + np.isnan(df_fut.PX_MID) * df_fut.PX_LAST\n",
    "else:\n",
    "    resp = LocalTerminal.get_historical(fut_tickers, ['PX_MID', 'PX_LAST'], start=data_date, end=data_date)\n",
    "    df_fut = resp.as_frame()\n",
    "    df_fut = df_fut.iloc[0].reset_index()\n",
    "    df_fut.columns = ['FUT', 'FIELD', 'VAL']\n",
    "    df_fut_pivot = df_fut.pivot(index='FUT', columns='FIELD', values='VAL')\n",
    "    df_fut_pivot['MID_OR_LAST'] = (1 - np.isnan(df_fut_pivot.PX_MID)) * df_fut_pivot.PX_MID.fillna(0) + np.isnan(df_fut_pivot.PX_MID) * df_fut_pivot.PX_LAST\n",
    "    df_fut = df_fut_pivot\n",
    " \n",
    "df_fut"
   ]
  },
  {
   "cell_type": "markdown",
   "metadata": {},
   "source": [
    "## Get History"
   ]
  },
  {
   "cell_type": "code",
   "execution_count": 86,
   "metadata": {},
   "outputs": [
    {
     "data": {
      "text/plain": [
       "('F', 'FRB')"
      ]
     },
     "execution_count": 86,
     "metadata": {},
     "output_type": "execute_result"
    }
   ],
   "source": [
    "# OIS Convention\n",
    "\n",
    "Base.generator_helper.USD_OIS_SHORT\n",
    "Base.generator_helper.USD_OIS_DEFAULT\n",
    "\n",
    "# Fed Fund Future\n",
    "Base.generator_helper.USD_FF_FUT\n",
    "\n",
    "# FEDL01 Rate Convention\n",
    "Base.generator_helper.USD_FEDFUNDS_RATECONVENTION\n",
    "\n",
    "# Retrieve the roll and calendar for CASH\n",
    "cash_conv_dict = Base.view_convention_defaults(Base.generator_helper.USD_OIS_CASH).set_index('NAME').to_dict()['VALUE']\n",
    "cash_conv_dict['Payconv'], cash_conv_dict['Paycal']\n"
   ]
  },
  {
   "cell_type": "code",
   "execution_count": null,
   "metadata": {},
   "outputs": [],
   "source": []
  },
  {
   "cell_type": "markdown",
   "metadata": {},
   "source": [
    "## Get Option related Data"
   ]
  },
  {
   "cell_type": "markdown",
   "metadata": {},
   "source": [
    "## FED FUND FUTURES"
   ]
  },
  {
   "cell_type": "code",
   "execution_count": 142,
   "metadata": {},
   "outputs": [],
   "source": [
    "from FinAPI.NumerixWrapper import AverageOvernightFutures"
   ]
  },
  {
   "cell_type": "code",
   "execution_count": 151,
   "metadata": {},
   "outputs": [
    {
     "ename": "NameError",
     "evalue": "name 'pro' is not defined",
     "output_type": "error",
     "traceback": [
      "\u001b[1;31m---------------------------------------------------------------------------\u001b[0m",
      "\u001b[1;31mNameError\u001b[0m                                 Traceback (most recent call last)",
      "\u001b[1;32m~\\AppData\\Local\\Temp/ipykernel_15800/508021738.py\u001b[0m in \u001b[0;36m<module>\u001b[1;34m\u001b[0m\n\u001b[0;32m     27\u001b[0m \u001b[1;33m\u001b[0m\u001b[0m\n\u001b[0;32m     28\u001b[0m \u001b[0mfuture_ids\u001b[0m \u001b[1;33m=\u001b[0m \u001b[1;33m[\u001b[0m\u001b[0mv\u001b[0m\u001b[1;33m.\u001b[0m\u001b[0mid\u001b[0m \u001b[1;32mfor\u001b[0m \u001b[0mk\u001b[0m\u001b[1;33m,\u001b[0m\u001b[0mv\u001b[0m \u001b[1;32min\u001b[0m \u001b[0mfut_objs\u001b[0m\u001b[1;33m.\u001b[0m\u001b[0mitems\u001b[0m\u001b[1;33m(\u001b[0m\u001b[1;33m)\u001b[0m\u001b[1;33m]\u001b[0m\u001b[1;33m\u001b[0m\u001b[1;33m\u001b[0m\u001b[0m\n\u001b[1;32m---> 29\u001b[1;33m \u001b[0mdata\u001b[0m \u001b[1;33m=\u001b[0m \u001b[0mpro\u001b[0m\u001b[1;33m.\u001b[0m\u001b[0mApplicationData\u001b[0m\u001b[1;33m(\u001b[0m\u001b[1;33m)\u001b[0m\u001b[1;33m\u001b[0m\u001b[1;33m\u001b[0m\u001b[0m\n\u001b[0m\u001b[0;32m     30\u001b[0m \u001b[0mdata\u001b[0m\u001b[1;33m.\u001b[0m\u001b[0madd_values\u001b[0m\u001b[1;33m(\u001b[0m\u001b[1;34m'ID'\u001b[0m\u001b[1;33m,\u001b[0m \u001b[0mfuture_ids\u001b[0m\u001b[1;33m)\u001b[0m\u001b[1;33m\u001b[0m\u001b[1;33m\u001b[0m\u001b[0m\n\u001b[0;32m     31\u001b[0m \u001b[0mdata_id\u001b[0m \u001b[1;33m=\u001b[0m \u001b[0mBase\u001b[0m\u001b[1;33m.\u001b[0m\u001b[0mget_unique_id\u001b[0m\u001b[1;33m(\u001b[0m\u001b[1;34m'USD_ON_FUT_DATA_'\u001b[0m\u001b[1;33m)\u001b[0m\u001b[1;33m\u001b[0m\u001b[1;33m\u001b[0m\u001b[0m\n",
      "\u001b[1;31mNameError\u001b[0m: name 'pro' is not defined"
     ]
    }
   ],
   "source": [
    "data_dt = date.today()\n",
    "tickers = [\"FF%s Comdty\" % i for i in range(1, 26)]\n",
    "cur_static_field = ['FUT_CUR_GEN_TICKER', 'INT_RATE_FUT_START_DT', 'INT_RATE_FUT_END_DT']\n",
    "snap_fields = ['PX_MID', 'PX_LAST', 'PX_YEST_CLOSE']\n",
    "resp = LocalTerminal.get_reference_data(tickers, cur_static_field)\n",
    "df = resp.as_frame().sort_values(by='INT_RATE_FUT_START_DT')\n",
    "future_code = [\"%s%s\" % (v[2], d.strftime('%y')) for v, d in zip(df['FUT_CUR_GEN_TICKER'], df['INT_RATE_FUT_START_DT'])]\n",
    "df = df.assign(Code=future_code)\n",
    "\n",
    "resp = LocalTerminal.get_reference_data(tickers, snap_fields)\n",
    "price_df = resp.as_frame()\n",
    "\n",
    "snap_df = df.join(price_df)\n",
    "table_df = snap_df[['Code', \"PX_MID\", \"PX_LAST\", \"PX_YEST_CLOSE\"]]\n",
    "\n",
    "# Create FF Future Objects\n",
    "fut_objs = dict()\n",
    "for i in table_df.index:\n",
    "    fut_data = table_df.loc[i,:].to_dict()\n",
    "    code = fut_data['Code']\n",
    "    px_mid = fut_data['PX_MID']\n",
    "    px_last = fut_data['PX_LAST']\n",
    "    px_close = fut_data['PX_YEST_CLOSE']\n",
    "    px_mid_or_last = px_last if np.isnan(px_mid) else px_mid\n",
    "    objFuture = AverageOvernightFutures(Base, \"USD\", \"FF\", \"CBOT\", code, quotedprice=px_mid_or_last, generator=\"USD FF FUT\")\n",
    "    fut_objs[code] = objFuture\n",
    "\n",
    "future_ids = [v.id for k,v in fut_objs.items()]\n",
    "data = pro.ApplicationData()\n",
    "data.add_values('ID', future_ids)\n",
    "data_id = Base.get_unique_id('USD_ON_FUT_DATA_')\n",
    "fut_coll = Base._app_data(data_id, data)\n",
    "\n",
    "# Meeting Dates \n",
    "scheduled_meetings = [date(2022, 1, 26), date(2022, 3, 16),\n",
    "                          date(2022, 5, 4), date(2022, 6, 15),\n",
    "                          date(2022, 7, 27), date(2022, 9, 21),\n",
    "                          date(2022, 11, 2), date(2022, 12, 14),\n",
    "                          date(2023, 2, 1)\n",
    "                          ]\n",
    "tentative_meetings = [date(2023, 3, 15), date(2023, 5, 3),\n",
    "                        date(2023, 6, 14), date(2023, 7, 26),\n",
    "                        date(2023, 9, 20), date(2023, 11, 1),\n",
    "                        date(2023, 12, 13), date(2024, 1, 31),\n",
    "                        date(2024, 3, 13), date(2024, 5, 1),\n",
    "                        date(2024, 6, 12), date(2024, 7, 31),\n",
    "                        date(2024, 9, 25), date(2024, 11, 6),\n",
    "                        date(2024, 12, 18)]\n",
    "\n",
    "meeting_dates = scheduled_meetings + tentative_meetings\n",
    "\n",
    "# Find the last future which covers all the meeting dates\n",
    "snap_df[snap_df['INT_RATE_FUT_END_DT']<max(meeting_dates)]\n"
   ]
  }
 ],
 "metadata": {
  "interpreter": {
   "hash": "9f8e798d97ababbf3b95e5a5b82e373ccd2408dc780abea163772be4d3605ae5"
  },
  "kernelspec": {
   "display_name": "Python 3.7.6 64-bit ('base': conda)",
   "language": "python",
   "name": "python3"
  },
  "language_info": {
   "codemirror_mode": {
    "name": "ipython",
    "version": 3
   },
   "file_extension": ".py",
   "mimetype": "text/x-python",
   "name": "python",
   "nbconvert_exporter": "python",
   "pygments_lexer": "ipython3",
   "version": "3.7.6"
  },
  "orig_nbformat": 4
 },
 "nbformat": 4,
 "nbformat_minor": 2
}
