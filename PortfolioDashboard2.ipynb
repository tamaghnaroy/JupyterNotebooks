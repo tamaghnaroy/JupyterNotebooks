{
 "cells": [
  {
   "cell_type": "code",
   "execution_count": 1,
   "source": [
    "import sys; print('Python %s on %s' % (sys.version, sys.platform))\r\n",
    "sys.path.extend(['C:\\\\Users\\\\troy\\\\Documents\\\\Code\\\\Libraries', 'C:\\\\Users\\\\troy\\\\Documents\\\\Excel Sheets', 'C:/Users/troy/Documents/Code/Libraries'])\r\n",
    "from datetime import date, datetime\r\n",
    "import numpy as np\r\n",
    "import pandas as pd\r\n",
    "import ipywidgets as widgets\r\n",
    "import matplotlib.pyplot as plt\r\n",
    "import autoreload\r\n",
    "\r\n",
    "import dash_bootstrap_components as dbc\r\n",
    "import plotly.express as px\r\n",
    "from jupyter_dash import JupyterDash\r\n",
    "import dash_core_components as dcc\r\n",
    "import dash_html_components as html\r\n",
    "import dash_table\r\n",
    "from dash.dependencies import Input, Output\r\n",
    "\r\n",
    "from FinAPI.PortfolioAnalysis.AnalyzePortfolio import Portfolio\r\n"
   ],
   "outputs": [
    {
     "output_type": "stream",
     "name": "stdout",
     "text": [
      "Python 3.7.6 (default, Jan  8 2020, 20:23:39) [MSC v.1916 64 bit (AMD64)] on win32\n"
     ]
    }
   ],
   "metadata": {}
  },
  {
   "cell_type": "code",
   "execution_count": 2,
   "source": [
    "today = date(2021, 9, 24)\r\n",
    "objPortfolio = Portfolio(today)\r\n",
    "trader_names = objPortfolio.trader_names(objPortfolio.raw_data)"
   ],
   "outputs": [
    {
     "output_type": "stream",
     "name": "stdout",
     "text": [
      "Notional\n",
      "Secondary Notional\n",
      "Currency1 Notional\n",
      "Currency2 Notional\n",
      "Trade Price\n",
      "Accrued Interest\n"
     ]
    }
   ],
   "metadata": {}
  },
  {
   "cell_type": "code",
   "execution_count": 3,
   "source": [
    "# Components\r\n",
    "trade_df = objPortfolio.raw_data\r\n",
    "\r\n",
    "positions_table = dash_table.DataTable(\r\n",
    "    id='table',\r\n",
    "    columns=[{\"name\": i, \"id\": i} for i in trade_df.columns],\r\n",
    "    data=trade_df.to_dict('records'),\r\n",
    "    filter_action='native',\r\n",
    "    style_cell={'textAlign': 'center', 'maxWidth': '100px'},\r\n",
    "    style_header={\r\n",
    "        'backgroundColor': 'gray',\r\n",
    "        'fontWeight': 'bold', \r\n",
    "        'textAlign': 'center'\r\n",
    "    },\r\n",
    "    style_data={\r\n",
    "        'whiteSpace': 'normal',\r\n",
    "        'height': 'auto',\r\n",
    "    },\r\n",
    "    style_data_conditional=[\r\n",
    "        {\r\n",
    "            'if': {\r\n",
    "                'filter_query': '{Trade Name} != \"\"',\r\n",
    "            },\r\n",
    "            'borderTop': '2px rgb(100, 100, 100) solid',\r\n",
    "        },\r\n",
    "        {\r\n",
    "            'if': {\r\n",
    "                'filter_query': '{MCMM} < 0',\r\n",
    "                'column_id': 'MCMM'\r\n",
    "            },\r\n",
    "            'color': 'tomato',\r\n",
    "            'fontWeight': 'bold'\r\n",
    "        },\r\n",
    "        {\r\n",
    "            'if': {\r\n",
    "                'filter_query': '{MassPRIM} < 0',\r\n",
    "                'column_id': 'MassPRIM'\r\n",
    "            },\r\n",
    "            'color': 'tomato',\r\n",
    "            'fontWeight': 'bold'\r\n",
    "        },\r\n",
    "        {\r\n",
    "            'if': {\r\n",
    "                'filter_query': '{PSAMF} < 0',\r\n",
    "                'column_id': 'PSAMF'\r\n",
    "            },\r\n",
    "            'color': 'tomato',\r\n",
    "            'fontWeight': 'bold'\r\n",
    "        },\r\n",
    "        {\r\n",
    "            'if': {\r\n",
    "                'filter_query': '{RVMaster} < 0',\r\n",
    "                'column_id': 'RVMaster'\r\n",
    "            },\r\n",
    "            'color': 'tomato',\r\n",
    "            'fontWeight': 'bold'\r\n",
    "        },\r\n",
    "        {\r\n",
    "            'if': {\r\n",
    "                'filter_query': '{UCITS} < 0',\r\n",
    "                'column_id': 'UCITS'\r\n",
    "            },\r\n",
    "            'color': 'tomato',\r\n",
    "            'fontWeight': 'bold'\r\n",
    "        },\r\n",
    "        {\r\n",
    "            'if': {\r\n",
    "                'filter_query': '{Total} < 0',\r\n",
    "                'column_id': 'Total'\r\n",
    "            },\r\n",
    "            'color': 'tomato',\r\n",
    "            'fontWeight': 'bold'\r\n",
    "        },\r\n",
    "        {\r\n",
    "            'if': {'column_id': 'Trade Name'},\r\n",
    "            'textAlign': 'left',\r\n",
    "            'maxWidth': '150px'\r\n",
    "        },\r\n",
    "        {\r\n",
    "            'if': {'column_id': 'Security Id'},\r\n",
    "            'textAlign': 'left',\r\n",
    "            'maxWidth': '150px'\r\n",
    "        }\r\n",
    "    ]\r\n",
    "    )\r\n",
    "\r\n",
    "dropdown = dcc.Dropdown(id=\"trader_name_filter\",options=[{'label':tname, 'value':tname} for tname in trader_names],value='troy')\r\n",
    "\r\n",
    "table_filters = dcc.Checklist(\r\n",
    "    id='trade_table_checklist',\r\n",
    "    options=[\r\n",
    "        {'label': 'Remove Closed Trades', 'value': 'NoClosed'},\r\n",
    "        {'label': 'Remove Matured ISINS', 'value': 'NoExpired'},\r\n",
    "    ],\r\n",
    "    value=['NoClosed', 'NoExpired'],\r\n",
    "    labelStyle={'display': 'inline-block'}\r\n",
    ")\r\n",
    "\r\n",
    "# Build App\r\n",
    "app = JupyterDash(__name__)\r\n",
    "app.layout = html.Div([\r\n",
    "    html.H1(\"Portfolio Dashboard (Data: %s)\" % today.strftime('%d-%m-%Y')),\r\n",
    "    dropdown,\r\n",
    "    table_filters,\r\n",
    "    positions_table\r\n",
    "])\r\n",
    "\r\n",
    "# Run app and display result inline in the notebook\r\n",
    "app.run_server(mode='inline')\r\n"
   ],
   "outputs": [
    {
     "output_type": "display_data",
     "data": {
      "text/html": [
       "\n",
       "        <iframe\n",
       "            width=\"100%\"\n",
       "            height=\"650\"\n",
       "            src=\"http://127.0.0.1:8050/\"\n",
       "            frameborder=\"0\"\n",
       "            allowfullscreen\n",
       "        ></iframe>\n",
       "        "
      ],
      "text/plain": [
       "<IPython.lib.display.IFrame at 0x16a623131c8>"
      ]
     },
     "metadata": {}
    }
   ],
   "metadata": {}
  }
 ],
 "metadata": {
  "orig_nbformat": 4,
  "language_info": {
   "name": "python",
   "version": "3.7.6",
   "mimetype": "text/x-python",
   "codemirror_mode": {
    "name": "ipython",
    "version": 3
   },
   "pygments_lexer": "ipython3",
   "nbconvert_exporter": "python",
   "file_extension": ".py"
  },
  "kernelspec": {
   "name": "python3",
   "display_name": "Python 3.7.6 64-bit ('base': conda)"
  },
  "interpreter": {
   "hash": "9f8e798d97ababbf3b95e5a5b82e373ccd2408dc780abea163772be4d3605ae5"
  }
 },
 "nbformat": 4,
 "nbformat_minor": 2
}