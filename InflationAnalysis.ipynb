{
 "cells": [
  {
   "cell_type": "code",
   "execution_count": 190,
   "metadata": {},
   "outputs": [
    {
     "name": "stdout",
     "output_type": "stream",
     "text": [
      "Python 3.7.6 (default, Jan  8 2020, 20:23:39) [MSC v.1916 64 bit (AMD64)] on win32\n",
      "The autoreload extension is already loaded. To reload it, use:\n",
      "  %reload_ext autoreload\n"
     ]
    },
    {
     "data": {
      "text/plain": [
       "RendererRegistry.enable('default')"
      ]
     },
     "execution_count": 190,
     "metadata": {},
     "output_type": "execute_result"
    }
   ],
   "source": [
    "import sys; print('Python %s on %s' % (sys.version, sys.platform))\n",
    "sys.path.extend(['C:\\\\Users\\\\troy\\\\Documents\\\\Code\\\\Libraries', 'C:\\\\Users\\\\troy\\\\Documents\\\\Excel Sheets', 'C:/Users/troy/Documents/Code/Libraries'])\n",
    "from datetime import date, datetime, timedelta\n",
    "import numpy as np\n",
    "import pandas as pd\n",
    "import ipywidgets as widgets\n",
    "import matplotlib.pyplot as plt\n",
    "import altair as alt\n",
    "\n",
    "%load_ext autoreload\n",
    "%autoreload 2\n",
    "%matplotlib qt\n",
    "\n",
    "from FinAPI.MacroData import Inflation as cpi_api\n",
    "import pandas as pd\n",
    "import numpy as np\n",
    "\n",
    "alt.renderers.enable('default')"
   ]
  },
  {
   "cell_type": "markdown",
   "metadata": {},
   "source": [
    "## Good vs. Commodity Prices"
   ]
  },
  {
   "cell_type": "code",
   "execution_count": 3,
   "metadata": {},
   "outputs": [],
   "source": [
    "dataset = cpi_api.ExogenousVariables.energy_commodity_indices\n",
    "df = cpi_api.load_historical_data_dict(dataset)\n",
    "df = df.fillna(method='FFILL')\n",
    "df = df.resample('1M').last()\n",
    "\n",
    "\n",
    "cpi_df = cpi_api.load_historical_data_dict(cpi_api.DataSet.cpi_index)\n",
    "cpi_cur_nondur_df = cpi_api.load_historical_data_dict(cpi_api.DataSet.cpi_good_dur_nondur)\n",
    "cpi_good_serv_df = cpi_api.load_historical_data_dict(cpi_api.DataSet.cpi_good_serv_indexes)\n",
    "cpi_energy_df = cpi_api.load_historical_data_dict(cpi_api.DataSet.cpi_energy_index)\n",
    "\n",
    "# Subsets based on the correlation\n",
    "INDUSTRIAL_SUBSET = ['S&P Industrial', 'FIBER Steel', 'CRB Spot Commod', 'FIBER US Commd', 'FIBER Metals']\n",
    "ENERGY_SUBSET =['S&P Energy Spot', 'US Avg Gasoline', 'US Brent Spot Avg', 'FIBER Petroleum', 'FIBER CrudOil', 'S&P GSCI', 'Bloomberg Commd']\n",
    "MISC = ['US electricity all sectors', 'US Natural Gas Spot']\n",
    "\n",
    "# Monthly Changes\n",
    "df_chg = df.pct_change(1).dropna()\n",
    "cpi_chg = cpi_df.pct_change(1).dropna()\n",
    "cpi_dur_nondur_chg = cpi_cur_nondur_df.pct_change(1).dropna()\n",
    "cpi_good_serv_chg = cpi_good_serv_df.pct_change(1).dropna()\n",
    "cpi_energy_chg = cpi_energy_df.pct_change(1).dropna()\n"
   ]
  },
  {
   "cell_type": "code",
   "execution_count": 25,
   "metadata": {},
   "outputs": [
    {
     "data": {
      "text/html": [
       "\n",
       "<div id=\"altair-viz-988942e3f1a948a8badd29d40c1e3e89\"></div>\n",
       "<script type=\"text/javascript\">\n",
       "  var VEGA_DEBUG = (typeof VEGA_DEBUG == \"undefined\") ? {} : VEGA_DEBUG;\n",
       "  (function(spec, embedOpt){\n",
       "    let outputDiv = document.currentScript.previousElementSibling;\n",
       "    if (outputDiv.id !== \"altair-viz-988942e3f1a948a8badd29d40c1e3e89\") {\n",
       "      outputDiv = document.getElementById(\"altair-viz-988942e3f1a948a8badd29d40c1e3e89\");\n",
       "    }\n",
       "    const paths = {\n",
       "      \"vega\": \"https://cdn.jsdelivr.net/npm//vega@5?noext\",\n",
       "      \"vega-lib\": \"https://cdn.jsdelivr.net/npm//vega-lib?noext\",\n",
       "      \"vega-lite\": \"https://cdn.jsdelivr.net/npm//vega-lite@4.17.0?noext\",\n",
       "      \"vega-embed\": \"https://cdn.jsdelivr.net/npm//vega-embed@6?noext\",\n",
       "    };\n",
       "\n",
       "    function maybeLoadScript(lib, version) {\n",
       "      var key = `${lib.replace(\"-\", \"\")}_version`;\n",
       "      return (VEGA_DEBUG[key] == version) ?\n",
       "        Promise.resolve(paths[lib]) :\n",
       "        new Promise(function(resolve, reject) {\n",
       "          var s = document.createElement('script');\n",
       "          document.getElementsByTagName(\"head\")[0].appendChild(s);\n",
       "          s.async = true;\n",
       "          s.onload = () => {\n",
       "            VEGA_DEBUG[key] = version;\n",
       "            return resolve(paths[lib]);\n",
       "          };\n",
       "          s.onerror = () => reject(`Error loading script: ${paths[lib]}`);\n",
       "          s.src = paths[lib];\n",
       "        });\n",
       "    }\n",
       "\n",
       "    function showError(err) {\n",
       "      outputDiv.innerHTML = `<div class=\"error\" style=\"color:red;\">${err}</div>`;\n",
       "      throw err;\n",
       "    }\n",
       "\n",
       "    function displayChart(vegaEmbed) {\n",
       "      vegaEmbed(outputDiv, spec, embedOpt)\n",
       "        .catch(err => showError(`Javascript Error: ${err.message}<br>This usually means there's a typo in your chart specification. See the javascript console for the full traceback.`));\n",
       "    }\n",
       "\n",
       "    if(typeof define === \"function\" && define.amd) {\n",
       "      requirejs.config({paths});\n",
       "      require([\"vega-embed\"], displayChart, err => showError(`Error loading script: ${err.message}`));\n",
       "    } else {\n",
       "      maybeLoadScript(\"vega\", \"5\")\n",
       "        .then(() => maybeLoadScript(\"vega-lite\", \"4.17.0\"))\n",
       "        .then(() => maybeLoadScript(\"vega-embed\", \"6\"))\n",
       "        .catch(showError)\n",
       "        .then(() => displayChart(vegaEmbed));\n",
       "    }\n",
       "  })({\"config\": {\"view\": {\"continuousWidth\": 400, \"continuousHeight\": 300}}, \"data\": {\"name\": \"data-9a97de1ff88ca3e6d43d0601e6b51eab\"}, \"mark\": \"rect\", \"encoding\": {\"color\": {\"field\": \"value\", \"type\": \"quantitative\"}, \"x\": {\"field\": \"CPI category\", \"type\": \"nominal\"}, \"y\": {\"field\": \"index\", \"type\": \"nominal\"}}, \"$schema\": \"https://vega.github.io/schema/vega-lite/v4.17.0.json\", \"datasets\": {\"data-9a97de1ff88ca3e6d43d0601e6b51eab\": [{\"index\": \"S&P Industrial\", \"CPI category\": \"Headline CPI\", \"value\": 0.05502646740104829}, {\"index\": \"FIBER Steel\", \"CPI category\": \"Headline CPI\", \"value\": 0.0678948467819754}, {\"index\": \"CRB Spot Commod\", \"CPI category\": \"Headline CPI\", \"value\": 0.35495765543374147}, {\"index\": \"FIBER US Commd\", \"CPI category\": \"Headline CPI\", \"value\": 0.24278367556390282}, {\"index\": \"FIBER Metals\", \"CPI category\": \"Headline CPI\", \"value\": 0.05646644505703922}, {\"index\": \"S&P Energy Spot\", \"CPI category\": \"Headline CPI\", \"value\": 0.3002900436219292}, {\"index\": \"US Avg Gasoline\", \"CPI category\": \"Headline CPI\", \"value\": 0.7073723260597287}, {\"index\": \"US Brent Spot Avg\", \"CPI category\": \"Headline CPI\", \"value\": 0.48023792783569474}, {\"index\": \"FIBER Petroleum\", \"CPI category\": \"Headline CPI\", \"value\": 0.3699180432137438}, {\"index\": \"FIBER CrudOil\", \"CPI category\": \"Headline CPI\", \"value\": 0.2795228922438565}, {\"index\": \"S&P GSCI\", \"CPI category\": \"Headline CPI\", \"value\": 0.3270276635683795}, {\"index\": \"Bloomberg Commd\", \"CPI category\": \"Headline CPI\", \"value\": 0.3275714144607669}, {\"index\": \"US electricity all sectors\", \"CPI category\": \"Headline CPI\", \"value\": 0.24450732074001663}, {\"index\": \"US Natural Gas Spot\", \"CPI category\": \"Headline CPI\", \"value\": -0.16148884952310377}, {\"index\": \"S&P Industrial\", \"CPI category\": \"Headline Goods\", \"value\": 0.08697778568462444}, {\"index\": \"FIBER Steel\", \"CPI category\": \"Headline Goods\", \"value\": 0.11271381026129311}, {\"index\": \"CRB Spot Commod\", \"CPI category\": \"Headline Goods\", \"value\": 0.3713153324376916}, {\"index\": \"FIBER US Commd\", \"CPI category\": \"Headline Goods\", \"value\": 0.2786807574913627}, {\"index\": \"FIBER Metals\", \"CPI category\": \"Headline Goods\", \"value\": 0.10354687264725847}, {\"index\": \"S&P Energy Spot\", \"CPI category\": \"Headline Goods\", \"value\": 0.31337577593164495}, {\"index\": \"US Avg Gasoline\", \"CPI category\": \"Headline Goods\", \"value\": 0.7475839853151398}, {\"index\": \"US Brent Spot Avg\", \"CPI category\": \"Headline Goods\", \"value\": 0.5092492994341895}, {\"index\": \"FIBER Petroleum\", \"CPI category\": \"Headline Goods\", \"value\": 0.3698787771894854}, {\"index\": \"FIBER CrudOil\", \"CPI category\": \"Headline Goods\", \"value\": 0.29734727422580315}, {\"index\": \"S&P GSCI\", \"CPI category\": \"Headline Goods\", \"value\": 0.344078031753278}, {\"index\": \"Bloomberg Commd\", \"CPI category\": \"Headline Goods\", \"value\": 0.33830901851262624}, {\"index\": \"US electricity all sectors\", \"CPI category\": \"Headline Goods\", \"value\": 0.136309214683105}, {\"index\": \"US Natural Gas Spot\", \"CPI category\": \"Headline Goods\", \"value\": -0.1565214857194425}, {\"index\": \"S&P Industrial\", \"CPI category\": \"Headline Services\", \"value\": -0.04355686758755105}, {\"index\": \"FIBER Steel\", \"CPI category\": \"Headline Services\", \"value\": -0.06611495174942542}, {\"index\": \"CRB Spot Commod\", \"CPI category\": \"Headline Services\", \"value\": 0.1989386413464749}, {\"index\": \"FIBER US Commd\", \"CPI category\": \"Headline Services\", \"value\": 0.07945696959161118}, {\"index\": \"FIBER Metals\", \"CPI category\": \"Headline Services\", \"value\": -0.07811421837798636}, {\"index\": \"S&P Energy Spot\", \"CPI category\": \"Headline Services\", \"value\": 0.17173419659521152}, {\"index\": \"US Avg Gasoline\", \"CPI category\": \"Headline Services\", \"value\": 0.3691759860530251}, {\"index\": \"US Brent Spot Avg\", \"CPI category\": \"Headline Services\", \"value\": 0.2524266413631847}, {\"index\": \"FIBER Petroleum\", \"CPI category\": \"Headline Services\", \"value\": 0.2499313811991425}, {\"index\": \"FIBER CrudOil\", \"CPI category\": \"Headline Services\", \"value\": 0.1464272105228508}, {\"index\": \"S&P GSCI\", \"CPI category\": \"Headline Services\", \"value\": 0.1795718979578904}, {\"index\": \"Bloomberg Commd\", \"CPI category\": \"Headline Services\", \"value\": 0.19460317335418545}, {\"index\": \"US electricity all sectors\", \"CPI category\": \"Headline Services\", \"value\": 0.42694008254639265}, {\"index\": \"US Natural Gas Spot\", \"CPI category\": \"Headline Services\", \"value\": -0.11879174677638041}, {\"index\": \"S&P Industrial\", \"CPI category\": \"FoodCPI\", \"value\": -0.04846658396767717}, {\"index\": \"FIBER Steel\", \"CPI category\": \"FoodCPI\", \"value\": -0.03125871041723311}, {\"index\": \"CRB Spot Commod\", \"CPI category\": \"FoodCPI\", \"value\": -0.040321883640073775}, {\"index\": \"FIBER US Commd\", \"CPI category\": \"FoodCPI\", \"value\": -0.0696918350843812}, {\"index\": \"FIBER Metals\", \"CPI category\": \"FoodCPI\", \"value\": -0.08275937598906626}, {\"index\": \"S&P Energy Spot\", \"CPI category\": \"FoodCPI\", \"value\": 0.1304699353221676}, {\"index\": \"US Avg Gasoline\", \"CPI category\": \"FoodCPI\", \"value\": 0.06842372608340445}, {\"index\": \"US Brent Spot Avg\", \"CPI category\": \"FoodCPI\", \"value\": 0.011805522232437098}, {\"index\": \"FIBER Petroleum\", \"CPI category\": \"FoodCPI\", \"value\": -0.0034757026466837745}, {\"index\": \"FIBER CrudOil\", \"CPI category\": \"FoodCPI\", \"value\": 0.05756301681369557}, {\"index\": \"S&P GSCI\", \"CPI category\": \"FoodCPI\", \"value\": 0.11469597491059447}, {\"index\": \"Bloomberg Commd\", \"CPI category\": \"FoodCPI\", \"value\": 0.1773893724183682}, {\"index\": \"US electricity all sectors\", \"CPI category\": \"FoodCPI\", \"value\": 0.09879217583139746}, {\"index\": \"US Natural Gas Spot\", \"CPI category\": \"FoodCPI\", \"value\": 0.030698387673944835}, {\"index\": \"S&P Industrial\", \"CPI category\": \"EnergyCPI\", \"value\": 0.05603434210356286}, {\"index\": \"FIBER Steel\", \"CPI category\": \"EnergyCPI\", \"value\": 0.17633936385003574}, {\"index\": \"CRB Spot Commod\", \"CPI category\": \"EnergyCPI\", \"value\": 0.36415467505496996}, {\"index\": \"FIBER US Commd\", \"CPI category\": \"EnergyCPI\", \"value\": 0.2982334410990033}, {\"index\": \"FIBER Metals\", \"CPI category\": \"EnergyCPI\", \"value\": 0.10203586096463413}, {\"index\": \"S&P Energy Spot\", \"CPI category\": \"EnergyCPI\", \"value\": 0.31711146182710587}, {\"index\": \"US Avg Gasoline\", \"CPI category\": \"EnergyCPI\", \"value\": 0.7997583401222386}, {\"index\": \"US Brent Spot Avg\", \"CPI category\": \"EnergyCPI\", \"value\": 0.5813479667004121}, {\"index\": \"FIBER Petroleum\", \"CPI category\": \"EnergyCPI\", \"value\": 0.4363608631621319}, {\"index\": \"FIBER CrudOil\", \"CPI category\": \"EnergyCPI\", \"value\": 0.3348946555644479}, {\"index\": \"S&P GSCI\", \"CPI category\": \"EnergyCPI\", \"value\": 0.33579473880873706}, {\"index\": \"Bloomberg Commd\", \"CPI category\": \"EnergyCPI\", \"value\": 0.28489912028717246}, {\"index\": \"US electricity all sectors\", \"CPI category\": \"EnergyCPI\", \"value\": 0.2949257065045128}, {\"index\": \"US Natural Gas Spot\", \"CPI category\": \"EnergyCPI\", \"value\": -0.1270525918553844}, {\"index\": \"S&P Industrial\", \"CPI category\": \"CoreCPI\", \"value\": 0.07484838597442856}, {\"index\": \"FIBER Steel\", \"CPI category\": \"CoreCPI\", \"value\": -0.07614072358460623}, {\"index\": \"CRB Spot Commod\", \"CPI category\": \"CoreCPI\", \"value\": 0.2828776363384983}, {\"index\": \"FIBER US Commd\", \"CPI category\": \"CoreCPI\", \"value\": 0.1471261297548877}, {\"index\": \"FIBER Metals\", \"CPI category\": \"CoreCPI\", \"value\": 0.02447251582314568}, {\"index\": \"S&P Energy Spot\", \"CPI category\": \"CoreCPI\", \"value\": 0.17267336836006994}, {\"index\": \"US Avg Gasoline\", \"CPI category\": \"CoreCPI\", \"value\": 0.3646321220465598}, {\"index\": \"US Brent Spot Avg\", \"CPI category\": \"CoreCPI\", \"value\": 0.24199738659233536}, {\"index\": \"FIBER Petroleum\", \"CPI category\": \"CoreCPI\", \"value\": 0.19717677035232645}, {\"index\": \"FIBER CrudOil\", \"CPI category\": \"CoreCPI\", \"value\": 0.12736988868517174}, {\"index\": \"S&P GSCI\", \"CPI category\": \"CoreCPI\", \"value\": 0.2111435765406581}, {\"index\": \"Bloomberg Commd\", \"CPI category\": \"CoreCPI\", \"value\": 0.2827952495825331}, {\"index\": \"US electricity all sectors\", \"CPI category\": \"CoreCPI\", \"value\": 0.04735817628106486}, {\"index\": \"US Natural Gas Spot\", \"CPI category\": \"CoreCPI\", \"value\": -0.15645216039355345}, {\"index\": \"S&P Industrial\", \"CPI category\": \"CoreGoods\", \"value\": 0.11519643694758393}, {\"index\": \"FIBER Steel\", \"CPI category\": \"CoreGoods\", \"value\": -0.05330831097173438}, {\"index\": \"CRB Spot Commod\", \"CPI category\": \"CoreGoods\", \"value\": 0.2708467689037502}, {\"index\": \"FIBER US Commd\", \"CPI category\": \"CoreGoods\", \"value\": 0.1396451951599459}, {\"index\": \"FIBER Metals\", \"CPI category\": \"CoreGoods\", \"value\": 0.07021573648122431}, {\"index\": \"S&P Energy Spot\", \"CPI category\": \"CoreGoods\", \"value\": 0.14237882290705878}, {\"index\": \"US Avg Gasoline\", \"CPI category\": \"CoreGoods\", \"value\": 0.2596626899001851}, {\"index\": \"US Brent Spot Avg\", \"CPI category\": \"CoreGoods\", \"value\": 0.15858953970627807}, {\"index\": \"FIBER Petroleum\", \"CPI category\": \"CoreGoods\", \"value\": 0.11500573540800621}, {\"index\": \"FIBER CrudOil\", \"CPI category\": \"CoreGoods\", \"value\": 0.0986019310295789}, {\"index\": \"S&P GSCI\", \"CPI category\": \"CoreGoods\", \"value\": 0.1827071135215849}, {\"index\": \"Bloomberg Commd\", \"CPI category\": \"CoreGoods\", \"value\": 0.257056004662399}, {\"index\": \"US electricity all sectors\", \"CPI category\": \"CoreGoods\", \"value\": -0.03336264863896254}, {\"index\": \"US Natural Gas Spot\", \"CPI category\": \"CoreGoods\", \"value\": -0.14583494079943526}, {\"index\": \"S&P Industrial\", \"CPI category\": \"CoreServices\", \"value\": 0.001377549557767594}, {\"index\": \"FIBER Steel\", \"CPI category\": \"CoreServices\", \"value\": -0.08196980489494773}, {\"index\": \"CRB Spot Commod\", \"CPI category\": \"CoreServices\", \"value\": 0.21180202940472323}, {\"index\": \"FIBER US Commd\", \"CPI category\": \"CoreServices\", \"value\": 0.11119163186396261}, {\"index\": \"FIBER Metals\", \"CPI category\": \"CoreServices\", \"value\": -0.040367981756983695}, {\"index\": \"S&P Energy Spot\", \"CPI category\": \"CoreServices\", \"value\": 0.15711778850734226}, {\"index\": \"US Avg Gasoline\", \"CPI category\": \"CoreServices\", \"value\": 0.3852082908420843}, {\"index\": \"US Brent Spot Avg\", \"CPI category\": \"CoreServices\", \"value\": 0.26880411526276216}, {\"index\": \"FIBER Petroleum\", \"CPI category\": \"CoreServices\", \"value\": 0.23691383525025184}, {\"index\": \"FIBER CrudOil\", \"CPI category\": \"CoreServices\", \"value\": 0.12446311945481202}, {\"index\": \"S&P GSCI\", \"CPI category\": \"CoreServices\", \"value\": 0.18150678867582057}, {\"index\": \"Bloomberg Commd\", \"CPI category\": \"CoreServices\", \"value\": 0.22919570757164576}, {\"index\": \"US electricity all sectors\", \"CPI category\": \"CoreServices\", \"value\": 0.129716231810125}, {\"index\": \"US Natural Gas Spot\", \"CPI category\": \"CoreServices\", \"value\": -0.12810986079703623}, {\"index\": \"S&P Industrial\", \"CPI category\": \"Durable\", \"value\": 0.09591644396720968}, {\"index\": \"FIBER Steel\", \"CPI category\": \"Durable\", \"value\": 0.06260152755566961}, {\"index\": \"CRB Spot Commod\", \"CPI category\": \"Durable\", \"value\": 0.3037320732596269}, {\"index\": \"FIBER US Commd\", \"CPI category\": \"Durable\", \"value\": 0.1350055577709919}, {\"index\": \"FIBER Metals\", \"CPI category\": \"Durable\", \"value\": 0.09477866523874887}, {\"index\": \"S&P Energy Spot\", \"CPI category\": \"Durable\", \"value\": 0.12750644721875418}, {\"index\": \"US Avg Gasoline\", \"CPI category\": \"Durable\", \"value\": 0.16044931896138676}, {\"index\": \"US Brent Spot Avg\", \"CPI category\": \"Durable\", \"value\": 0.08411472654666952}, {\"index\": \"FIBER Petroleum\", \"CPI category\": \"Durable\", \"value\": 0.10268620026963342}, {\"index\": \"FIBER CrudOil\", \"CPI category\": \"Durable\", \"value\": 0.10085608705379068}, {\"index\": \"S&P GSCI\", \"CPI category\": \"Durable\", \"value\": 0.15277273510452274}, {\"index\": \"Bloomberg Commd\", \"CPI category\": \"Durable\", \"value\": 0.21452775063899798}, {\"index\": \"US electricity all sectors\", \"CPI category\": \"Durable\", \"value\": 0.12168733826971255}, {\"index\": \"US Natural Gas Spot\", \"CPI category\": \"Durable\", \"value\": 0.04176241848504074}, {\"index\": \"S&P Industrial\", \"CPI category\": \"NonDurable\", \"value\": 0.06888159966027609}, {\"index\": \"FIBER Steel\", \"CPI category\": \"NonDurable\", \"value\": 0.10968273192322345}, {\"index\": \"CRB Spot Commod\", \"CPI category\": \"NonDurable\", \"value\": 0.3245264076229471}, {\"index\": \"FIBER US Commd\", \"CPI category\": \"NonDurable\", \"value\": 0.2679156236393436}, {\"index\": \"FIBER Metals\", \"CPI category\": \"NonDurable\", \"value\": 0.08635057337145846}, {\"index\": \"S&P Energy Spot\", \"CPI category\": \"NonDurable\", \"value\": 0.3092390344126637}, {\"index\": \"US Avg Gasoline\", \"CPI category\": \"NonDurable\", \"value\": 0.7846748354302081}, {\"index\": \"US Brent Spot Avg\", \"CPI category\": \"NonDurable\", \"value\": 0.5397770280990271}, {\"index\": \"FIBER Petroleum\", \"CPI category\": \"NonDurable\", \"value\": 0.3800809338286878}, {\"index\": \"FIBER CrudOil\", \"CPI category\": \"NonDurable\", \"value\": 0.29949189173062335}, {\"index\": \"S&P GSCI\", \"CPI category\": \"NonDurable\", \"value\": 0.33635844426220884}, {\"index\": \"Bloomberg Commd\", \"CPI category\": \"NonDurable\", \"value\": 0.314014844109729}, {\"index\": \"US electricity all sectors\", \"CPI category\": \"NonDurable\", \"value\": 0.11604641073698521}, {\"index\": \"US Natural Gas Spot\", \"CPI category\": \"NonDurable\", \"value\": -0.18018324714512376}, {\"index\": \"S&P Industrial\", \"CPI category\": \"Goods\", \"value\": 0.08697778568462444}, {\"index\": \"FIBER Steel\", \"CPI category\": \"Goods\", \"value\": 0.11271381026129311}, {\"index\": \"CRB Spot Commod\", \"CPI category\": \"Goods\", \"value\": 0.3713153324376916}, {\"index\": \"FIBER US Commd\", \"CPI category\": \"Goods\", \"value\": 0.2786807574913627}, {\"index\": \"FIBER Metals\", \"CPI category\": \"Goods\", \"value\": 0.10354687264725847}, {\"index\": \"S&P Energy Spot\", \"CPI category\": \"Goods\", \"value\": 0.31337577593164495}, {\"index\": \"US Avg Gasoline\", \"CPI category\": \"Goods\", \"value\": 0.7475839853151398}, {\"index\": \"US Brent Spot Avg\", \"CPI category\": \"Goods\", \"value\": 0.5092492994341895}, {\"index\": \"FIBER Petroleum\", \"CPI category\": \"Goods\", \"value\": 0.3698787771894854}, {\"index\": \"FIBER CrudOil\", \"CPI category\": \"Goods\", \"value\": 0.29734727422580315}, {\"index\": \"S&P GSCI\", \"CPI category\": \"Goods\", \"value\": 0.344078031753278}, {\"index\": \"Bloomberg Commd\", \"CPI category\": \"Goods\", \"value\": 0.33830901851262624}, {\"index\": \"US electricity all sectors\", \"CPI category\": \"Goods\", \"value\": 0.136309214683105}, {\"index\": \"US Natural Gas Spot\", \"CPI category\": \"Goods\", \"value\": -0.1565214857194425}, {\"index\": \"S&P Industrial\", \"CPI category\": \"Services\", \"value\": -0.04355686758755105}, {\"index\": \"FIBER Steel\", \"CPI category\": \"Services\", \"value\": -0.06611495174942542}, {\"index\": \"CRB Spot Commod\", \"CPI category\": \"Services\", \"value\": 0.1989386413464749}, {\"index\": \"FIBER US Commd\", \"CPI category\": \"Services\", \"value\": 0.07945696959161118}, {\"index\": \"FIBER Metals\", \"CPI category\": \"Services\", \"value\": -0.07811421837798636}, {\"index\": \"S&P Energy Spot\", \"CPI category\": \"Services\", \"value\": 0.17173419659521152}, {\"index\": \"US Avg Gasoline\", \"CPI category\": \"Services\", \"value\": 0.3691759860530251}, {\"index\": \"US Brent Spot Avg\", \"CPI category\": \"Services\", \"value\": 0.2524266413631847}, {\"index\": \"FIBER Petroleum\", \"CPI category\": \"Services\", \"value\": 0.2499313811991425}, {\"index\": \"FIBER CrudOil\", \"CPI category\": \"Services\", \"value\": 0.1464272105228508}, {\"index\": \"S&P GSCI\", \"CPI category\": \"Services\", \"value\": 0.1795718979578904}, {\"index\": \"Bloomberg Commd\", \"CPI category\": \"Services\", \"value\": 0.19460317335418545}, {\"index\": \"US electricity all sectors\", \"CPI category\": \"Services\", \"value\": 0.42694008254639265}, {\"index\": \"US Natural Gas Spot\", \"CPI category\": \"Services\", \"value\": -0.11879174677638041}, {\"index\": \"S&P Industrial\", \"CPI category\": \"energy_services\", \"value\": -0.09322316901203764}, {\"index\": \"FIBER Steel\", \"CPI category\": \"energy_services\", \"value\": -0.013071391928662284}, {\"index\": \"CRB Spot Commod\", \"CPI category\": \"energy_services\", \"value\": 0.07242343741811207}, {\"index\": \"FIBER US Commd\", \"CPI category\": \"energy_services\", \"value\": -0.008875567754501438}, {\"index\": \"FIBER Metals\", \"CPI category\": \"energy_services\", \"value\": -0.0967750368678951}, {\"index\": \"S&P Energy Spot\", \"CPI category\": \"energy_services\", \"value\": 0.11578721387237541}, {\"index\": \"US Avg Gasoline\", \"CPI category\": \"energy_services\", \"value\": 0.1593101927796121}, {\"index\": \"US Brent Spot Avg\", \"CPI category\": \"energy_services\", \"value\": 0.10817493063048801}, {\"index\": \"FIBER Petroleum\", \"CPI category\": \"energy_services\", \"value\": 0.15215530812984182}, {\"index\": \"FIBER CrudOil\", \"CPI category\": \"energy_services\", \"value\": 0.11420784440834325}, {\"index\": \"S&P GSCI\", \"CPI category\": \"energy_services\", \"value\": 0.09178490228972713}, {\"index\": \"Bloomberg Commd\", \"CPI category\": \"energy_services\", \"value\": 0.04643211326173943}, {\"index\": \"US electricity all sectors\", \"CPI category\": \"energy_services\", \"value\": 0.6852401710105981}, {\"index\": \"US Natural Gas Spot\", \"CPI category\": \"energy_services\", \"value\": -0.04299192718642228}, {\"index\": \"S&P Industrial\", \"CPI category\": \"energy_goods\", \"value\": 0.08639492259459007}, {\"index\": \"FIBER Steel\", \"CPI category\": \"energy_goods\", \"value\": 0.19373226292627083}, {\"index\": \"CRB Spot Commod\", \"CPI category\": \"energy_goods\", \"value\": 0.3797152676242302}, {\"index\": \"FIBER US Commd\", \"CPI category\": \"energy_goods\", \"value\": 0.3312550058917873}, {\"index\": \"FIBER Metals\", \"CPI category\": \"energy_goods\", \"value\": 0.13615720572376486}, {\"index\": \"S&P Energy Spot\", \"CPI category\": \"energy_goods\", \"value\": 0.31859385238085347}, {\"index\": \"US Avg Gasoline\", \"CPI category\": \"energy_goods\", \"value\": 0.8210625250887399}, {\"index\": \"US Brent Spot Avg\", \"CPI category\": \"energy_goods\", \"value\": 0.6087384338892082}, {\"index\": \"FIBER Petroleum\", \"CPI category\": \"energy_goods\", \"value\": 0.44081439705595865}, {\"index\": \"FIBER CrudOil\", \"CPI category\": \"energy_goods\", \"value\": 0.3403727411957404}, {\"index\": \"S&P GSCI\", \"CPI category\": \"energy_goods\", \"value\": 0.3447578455875159}, {\"index\": \"Bloomberg Commd\", \"CPI category\": \"energy_goods\", \"value\": 0.3026075183033638}, {\"index\": \"US electricity all sectors\", \"CPI category\": \"energy_goods\", \"value\": 0.15504910172228056}, {\"index\": \"US Natural Gas Spot\", \"CPI category\": \"energy_goods\", \"value\": -0.11868371092186134}]}}, {\"mode\": \"vega-lite\"});\n",
       "</script>"
      ],
      "text/plain": [
       "alt.Chart(...)"
      ]
     },
     "execution_count": 25,
     "metadata": {},
     "output_type": "execute_result"
    }
   ],
   "source": [
    "# Check the correlatin between the commodity indices and the Cpi indices\n",
    "import pandas as pd\n",
    "corr_dict = {}\n",
    "df_latest = df_chg.iloc[-120:, :]\n",
    "for col in cpi_chg:\n",
    "    corr_dict[col] = df_latest.corrwith(cpi_chg[col])\n",
    "for col in cpi_dur_nondur_chg:\n",
    "    corr_dict[col] = df_latest.corrwith(cpi_dur_nondur_chg[col])\n",
    "for col in cpi_good_serv_chg:\n",
    "    corr_dict[col] = df_latest.corrwith(cpi_good_serv_chg[col])\n",
    "for col in cpi_energy_chg:\n",
    "    corr_dict[col] = df_latest.corrwith(cpi_energy_chg[col])\n",
    "\n",
    "cpi_common_corr = pd.DataFrame(corr_dict)\n",
    "cpi_common_corr = cpi_common_corr.loc[INDUSTRIAL_SUBSET + ENERGY_SUBSET + MISC]\n",
    "\n",
    "# alt.Chart(cpi_common_corr).mark_rect().encode(x='')\n",
    "melt_df = cpi_common_corr.melt(var_name=\"CPI category\", ignore_index=False).reset_index()\n",
    "alt.Chart(melt_df).mark_rect().encode(x='CPI category:N', y='index:N', color='value:Q')"
   ]
  },
  {
   "cell_type": "markdown",
   "metadata": {},
   "source": [
    "## Run a ARD Regression to automatically select relevant variables"
   ]
  },
  {
   "cell_type": "code",
   "execution_count": null,
   "metadata": {},
   "outputs": [],
   "source": [
    "import statsmodels.graphics.tsaplots"
   ]
  },
  {
   "cell_type": "markdown",
   "metadata": {},
   "source": [
    "#### Data Definition\n",
    "\n",
    "The exogenous market variables are split into test and train and the model is trained. \n",
    "\n",
    "I have left out the the period form Aug21 -> Aug22 as test, because this has been an unusual CPI period with 40y high inflation prints\n",
    "\n",
    "The commented out part is lagged version of the exogenous variables, where the varaibles are lagged by the amount specified in the the lag_df dataframe above. I found no improvement in the prediction ability of the model."
   ]
  },
  {
   "cell_type": "code",
   "execution_count": 228,
   "metadata": {},
   "outputs": [],
   "source": [
    "endog = cpi_chg.iloc[-120:-12, :]['EnergyCPI']\n",
    "outsample = cpi_chg.iloc[-12:, :]['EnergyCPI']\n",
    "\n",
    "regressor = df_chg.copy()\n",
    "\n",
    "# Pure exogenous + contemporous model\n",
    "exog = regressor.loc[endog.index, :]\n",
    "exog_out = regressor.loc[outsample.index, :]\n"
   ]
  },
  {
   "cell_type": "markdown",
   "metadata": {},
   "source": [
    "##### Alternative 1. Creting Current + Lagged Feature set using Cross Correlation to determine the best lag"
   ]
  },
  {
   "cell_type": "code",
   "execution_count": 225,
   "metadata": {},
   "outputs": [],
   "source": [
    "# Correaltion taking into account lead and lag\n",
    "\n",
    "def lagged_max_corr(s_dep, s_indep):\n",
    "    c_max = -1.\n",
    "    lag_max = 0\n",
    "    for shift in range(0, 13):\n",
    "        t = s_indep.shift(shift).dropna()\n",
    "        x_sub = t[t.index.intersection(s_dep.index)]\n",
    "        y_sub = s_dep[t.index.intersection(s_dep.index)]\n",
    "        c = x_sub.corr(y_sub)\n",
    "        if c > c_max:\n",
    "            c_max = c\n",
    "            lag_max = shift\n",
    "    return c_max, lag_max\n",
    "\n",
    "df_latest = df_chg.iloc[-132:, :]\n",
    "\n",
    "corr_df_dict = dict()\n",
    "lag_df_dict = dict()\n",
    "\n",
    "for c in df_latest:\n",
    "    corr_dict = dict()\n",
    "    lag_dict = dict()\n",
    "    for dataset in  [cpi_chg, cpi_dur_nondur_chg, cpi_good_serv_chg, cpi_energy_chg]:\n",
    "        for col in dataset:\n",
    "            corr, lag = lagged_max_corr(dataset[col], df_latest[c])\n",
    "            corr_dict[col] = corr\n",
    "            lag_dict[col] = lag\n",
    "    corr_df_dict[c] = pd.Series(corr_dict)\n",
    "    lag_df_dict[c] = pd.Series(lag_dict)\n",
    "\n",
    "corr_df = pd.DataFrame(corr_df_dict).T\n",
    "lag_df = pd.DataFrame(lag_df_dict).T\n",
    "\n",
    "# Apply pre calclculated lags\n",
    "regressor = df_chg.copy()\n",
    "\n",
    "lags = lag_df['EnergyCPI']\n",
    "for c in regressor:\n",
    "    lag = lags[c]\n",
    "    regressor[c] = regressor[c].shift(lag)\n",
    "\n",
    "# Pure exogenous + contemporous model\n",
    "exog = regressor.loc[endog.index, :]\n",
    "exog_out = regressor.loc[outsample.index, :]"
   ]
  },
  {
   "cell_type": "code",
   "execution_count": 221,
   "metadata": {},
   "outputs": [
    {
     "data": {
      "text/html": [
       "\n",
       "<div id=\"altair-viz-4310aaa6f31b4b16a00b6ffddd5daf06\"></div>\n",
       "<script type=\"text/javascript\">\n",
       "  var VEGA_DEBUG = (typeof VEGA_DEBUG == \"undefined\") ? {} : VEGA_DEBUG;\n",
       "  (function(spec, embedOpt){\n",
       "    let outputDiv = document.currentScript.previousElementSibling;\n",
       "    if (outputDiv.id !== \"altair-viz-4310aaa6f31b4b16a00b6ffddd5daf06\") {\n",
       "      outputDiv = document.getElementById(\"altair-viz-4310aaa6f31b4b16a00b6ffddd5daf06\");\n",
       "    }\n",
       "    const paths = {\n",
       "      \"vega\": \"https://cdn.jsdelivr.net/npm//vega@5?noext\",\n",
       "      \"vega-lib\": \"https://cdn.jsdelivr.net/npm//vega-lib?noext\",\n",
       "      \"vega-lite\": \"https://cdn.jsdelivr.net/npm//vega-lite@4.17.0?noext\",\n",
       "      \"vega-embed\": \"https://cdn.jsdelivr.net/npm//vega-embed@6?noext\",\n",
       "    };\n",
       "\n",
       "    function maybeLoadScript(lib, version) {\n",
       "      var key = `${lib.replace(\"-\", \"\")}_version`;\n",
       "      return (VEGA_DEBUG[key] == version) ?\n",
       "        Promise.resolve(paths[lib]) :\n",
       "        new Promise(function(resolve, reject) {\n",
       "          var s = document.createElement('script');\n",
       "          document.getElementsByTagName(\"head\")[0].appendChild(s);\n",
       "          s.async = true;\n",
       "          s.onload = () => {\n",
       "            VEGA_DEBUG[key] = version;\n",
       "            return resolve(paths[lib]);\n",
       "          };\n",
       "          s.onerror = () => reject(`Error loading script: ${paths[lib]}`);\n",
       "          s.src = paths[lib];\n",
       "        });\n",
       "    }\n",
       "\n",
       "    function showError(err) {\n",
       "      outputDiv.innerHTML = `<div class=\"error\" style=\"color:red;\">${err}</div>`;\n",
       "      throw err;\n",
       "    }\n",
       "\n",
       "    function displayChart(vegaEmbed) {\n",
       "      vegaEmbed(outputDiv, spec, embedOpt)\n",
       "        .catch(err => showError(`Javascript Error: ${err.message}<br>This usually means there's a typo in your chart specification. See the javascript console for the full traceback.`));\n",
       "    }\n",
       "\n",
       "    if(typeof define === \"function\" && define.amd) {\n",
       "      requirejs.config({paths});\n",
       "      require([\"vega-embed\"], displayChart, err => showError(`Error loading script: ${err.message}`));\n",
       "    } else {\n",
       "      maybeLoadScript(\"vega\", \"5\")\n",
       "        .then(() => maybeLoadScript(\"vega-lite\", \"4.17.0\"))\n",
       "        .then(() => maybeLoadScript(\"vega-embed\", \"6\"))\n",
       "        .catch(showError)\n",
       "        .then(() => displayChart(vegaEmbed));\n",
       "    }\n",
       "  })({\"config\": {\"view\": {\"continuousWidth\": 400, \"continuousHeight\": 300}}, \"data\": {\"name\": \"data-c278be8a4dfc655dc52be9088d4305a0\"}, \"mark\": \"rect\", \"encoding\": {\"color\": {\"field\": \"value\", \"type\": \"quantitative\"}, \"x\": {\"field\": \"CPI category\", \"type\": \"nominal\"}, \"y\": {\"field\": \"index\", \"type\": \"nominal\"}}, \"$schema\": \"https://vega.github.io/schema/vega-lite/v4.17.0.json\", \"datasets\": {\"data-c278be8a4dfc655dc52be9088d4305a0\": [{\"index\": \"S&P Industrial\", \"CPI category\": \"Headline CPI\", \"value\": 0.26461469678318794}, {\"index\": \"FIBER Steel\", \"CPI category\": \"Headline CPI\", \"value\": 0.23332094414775484}, {\"index\": \"CRB Spot Commod\", \"CPI category\": \"Headline CPI\", \"value\": 0.4936342466112061}, {\"index\": \"FIBER US Commd\", \"CPI category\": \"Headline CPI\", \"value\": 0.476791293562154}, {\"index\": \"FIBER Metals\", \"CPI category\": \"Headline CPI\", \"value\": 0.2789351170593894}, {\"index\": \"S&P Energy Spot\", \"CPI category\": \"Headline CPI\", \"value\": 0.5639389961387133}, {\"index\": \"US Avg Gasoline\", \"CPI category\": \"Headline CPI\", \"value\": 0.6979314172298624}, {\"index\": \"US Brent Spot Avg\", \"CPI category\": \"Headline CPI\", \"value\": 0.48147050268605207}, {\"index\": \"FIBER Petroleum\", \"CPI category\": \"Headline CPI\", \"value\": 0.48024646103456353}, {\"index\": \"FIBER CrudOil\", \"CPI category\": \"Headline CPI\", \"value\": 0.44365280972148347}, {\"index\": \"S&P GSCI\", \"CPI category\": \"Headline CPI\", \"value\": 0.5885020255959545}, {\"index\": \"Bloomberg Commd\", \"CPI category\": \"Headline CPI\", \"value\": 0.5394127059705593}, {\"index\": \"US electricity all sectors\", \"CPI category\": \"Headline CPI\", \"value\": 0.24318520929284865}, {\"index\": \"US Natural Gas Spot\", \"CPI category\": \"Headline CPI\", \"value\": 0.1859310734104427}, {\"index\": \"S&P Industrial\", \"CPI category\": \"Headline Goods\", \"value\": 0.30081109412399387}, {\"index\": \"FIBER Steel\", \"CPI category\": \"Headline Goods\", \"value\": 0.20940267169630447}, {\"index\": \"CRB Spot Commod\", \"CPI category\": \"Headline Goods\", \"value\": 0.4962680864762823}, {\"index\": \"FIBER US Commd\", \"CPI category\": \"Headline Goods\", \"value\": 0.5022216281320739}, {\"index\": \"FIBER Metals\", \"CPI category\": \"Headline Goods\", \"value\": 0.31654799968522274}, {\"index\": \"S&P Energy Spot\", \"CPI category\": \"Headline Goods\", \"value\": 0.5787873404780176}, {\"index\": \"US Avg Gasoline\", \"CPI category\": \"Headline Goods\", \"value\": 0.7404622056430268}, {\"index\": \"US Brent Spot Avg\", \"CPI category\": \"Headline Goods\", \"value\": 0.5128471263294461}, {\"index\": \"FIBER Petroleum\", \"CPI category\": \"Headline Goods\", \"value\": 0.4697488773146493}, {\"index\": \"FIBER CrudOil\", \"CPI category\": \"Headline Goods\", \"value\": 0.4422660000215724}, {\"index\": \"S&P GSCI\", \"CPI category\": \"Headline Goods\", \"value\": 0.6060948072845486}, {\"index\": \"Bloomberg Commd\", \"CPI category\": \"Headline Goods\", \"value\": 0.5380711394686284}, {\"index\": \"US electricity all sectors\", \"CPI category\": \"Headline Goods\", \"value\": 0.29645274475038996}, {\"index\": \"US Natural Gas Spot\", \"CPI category\": \"Headline Goods\", \"value\": 0.2103377866638407}, {\"index\": \"S&P Industrial\", \"CPI category\": \"Headline Services\", \"value\": 0.1687664037732012}, {\"index\": \"FIBER Steel\", \"CPI category\": \"Headline Services\", \"value\": 0.21576252072046415}, {\"index\": \"CRB Spot Commod\", \"CPI category\": \"Headline Services\", \"value\": 0.32371704953790137}, {\"index\": \"FIBER US Commd\", \"CPI category\": \"Headline Services\", \"value\": 0.23543691652612467}, {\"index\": \"FIBER Metals\", \"CPI category\": \"Headline Services\", \"value\": 0.22503343440474896}, {\"index\": \"S&P Energy Spot\", \"CPI category\": \"Headline Services\", \"value\": 0.32492074503525536}, {\"index\": \"US Avg Gasoline\", \"CPI category\": \"Headline Services\", \"value\": 0.4186127813212728}, {\"index\": \"US Brent Spot Avg\", \"CPI category\": \"Headline Services\", \"value\": 0.3331241399765755}, {\"index\": \"FIBER Petroleum\", \"CPI category\": \"Headline Services\", \"value\": 0.3378240154496001}, {\"index\": \"FIBER CrudOil\", \"CPI category\": \"Headline Services\", \"value\": 0.29040033185445535}, {\"index\": \"S&P GSCI\", \"CPI category\": \"Headline Services\", \"value\": 0.3278967245003585}, {\"index\": \"Bloomberg Commd\", \"CPI category\": \"Headline Services\", \"value\": 0.33739370522937656}, {\"index\": \"US electricity all sectors\", \"CPI category\": \"Headline Services\", \"value\": 0.4628553292098901}, {\"index\": \"US Natural Gas Spot\", \"CPI category\": \"Headline Services\", \"value\": 0.1686262155640546}, {\"index\": \"S&P Industrial\", \"CPI category\": \"FoodCPI\", \"value\": 0.2275929328038334}, {\"index\": \"FIBER Steel\", \"CPI category\": \"FoodCPI\", \"value\": 0.23843618333788144}, {\"index\": \"CRB Spot Commod\", \"CPI category\": \"FoodCPI\", \"value\": 0.327383327334734}, {\"index\": \"FIBER US Commd\", \"CPI category\": \"FoodCPI\", \"value\": 0.27082047612703325}, {\"index\": \"FIBER Metals\", \"CPI category\": \"FoodCPI\", \"value\": 0.26013581927529367}, {\"index\": \"S&P Energy Spot\", \"CPI category\": \"FoodCPI\", \"value\": 0.23734607248145195}, {\"index\": \"US Avg Gasoline\", \"CPI category\": \"FoodCPI\", \"value\": 0.2988827510149376}, {\"index\": \"US Brent Spot Avg\", \"CPI category\": \"FoodCPI\", \"value\": 0.2539228849212513}, {\"index\": \"FIBER Petroleum\", \"CPI category\": \"FoodCPI\", \"value\": 0.23427746568559488}, {\"index\": \"FIBER CrudOil\", \"CPI category\": \"FoodCPI\", \"value\": 0.17808255483865282}, {\"index\": \"S&P GSCI\", \"CPI category\": \"FoodCPI\", \"value\": 0.26024923270944655}, {\"index\": \"Bloomberg Commd\", \"CPI category\": \"FoodCPI\", \"value\": 0.2960543989266872}, {\"index\": \"US electricity all sectors\", \"CPI category\": \"FoodCPI\", \"value\": 0.191696156514699}, {\"index\": \"US Natural Gas Spot\", \"CPI category\": \"FoodCPI\", \"value\": 0.11177751538514534}, {\"index\": \"S&P Industrial\", \"CPI category\": \"EnergyCPI\", \"value\": 0.3341110106340115}, {\"index\": \"FIBER Steel\", \"CPI category\": \"EnergyCPI\", \"value\": 0.26067871835212836}, {\"index\": \"CRB Spot Commod\", \"CPI category\": \"EnergyCPI\", \"value\": 0.5107112292228196}, {\"index\": \"FIBER US Commd\", \"CPI category\": \"EnergyCPI\", \"value\": 0.5438831381883668}, {\"index\": \"FIBER Metals\", \"CPI category\": \"EnergyCPI\", \"value\": 0.35141088995810293}, {\"index\": \"S&P Energy Spot\", \"CPI category\": \"EnergyCPI\", \"value\": 0.6747271692787886}, {\"index\": \"US Avg Gasoline\", \"CPI category\": \"EnergyCPI\", \"value\": 0.7898306700445227}, {\"index\": \"US Brent Spot Avg\", \"CPI category\": \"EnergyCPI\", \"value\": 0.5823110165853695}, {\"index\": \"FIBER Petroleum\", \"CPI category\": \"EnergyCPI\", \"value\": 0.5770383629845115}, {\"index\": \"FIBER CrudOil\", \"CPI category\": \"EnergyCPI\", \"value\": 0.5424085389817709}, {\"index\": \"S&P GSCI\", \"CPI category\": \"EnergyCPI\", \"value\": 0.6900472894416342}, {\"index\": \"Bloomberg Commd\", \"CPI category\": \"EnergyCPI\", \"value\": 0.5899078504692131}, {\"index\": \"US electricity all sectors\", \"CPI category\": \"EnergyCPI\", \"value\": 0.2747161786686053}, {\"index\": \"US Natural Gas Spot\", \"CPI category\": \"EnergyCPI\", \"value\": 0.22957789397712347}, {\"index\": \"S&P Industrial\", \"CPI category\": \"CoreCPI\", \"value\": 0.2089209829024423}, {\"index\": \"FIBER Steel\", \"CPI category\": \"CoreCPI\", \"value\": 0.16436958177698088}, {\"index\": \"CRB Spot Commod\", \"CPI category\": \"CoreCPI\", \"value\": 0.346161813132701}, {\"index\": \"FIBER US Commd\", \"CPI category\": \"CoreCPI\", \"value\": 0.3340247638504394}, {\"index\": \"FIBER Metals\", \"CPI category\": \"CoreCPI\", \"value\": 0.2415310870251411}, {\"index\": \"S&P Energy Spot\", \"CPI category\": \"CoreCPI\", \"value\": 0.31356705952961134}, {\"index\": \"US Avg Gasoline\", \"CPI category\": \"CoreCPI\", \"value\": 0.40737776876588355}, {\"index\": \"US Brent Spot Avg\", \"CPI category\": \"CoreCPI\", \"value\": 0.33360761960236684}, {\"index\": \"FIBER Petroleum\", \"CPI category\": \"CoreCPI\", \"value\": 0.3069662996569948}, {\"index\": \"FIBER CrudOil\", \"CPI category\": \"CoreCPI\", \"value\": 0.2830034964315842}, {\"index\": \"S&P GSCI\", \"CPI category\": \"CoreCPI\", \"value\": 0.32774471826967483}, {\"index\": \"Bloomberg Commd\", \"CPI category\": \"CoreCPI\", \"value\": 0.31936998858406}, {\"index\": \"US electricity all sectors\", \"CPI category\": \"CoreCPI\", \"value\": 0.3711149328165983}, {\"index\": \"US Natural Gas Spot\", \"CPI category\": \"CoreCPI\", \"value\": 0.1780649553980458}, {\"index\": \"S&P Industrial\", \"CPI category\": \"CoreGoods\", \"value\": 0.22322807374775194}, {\"index\": \"FIBER Steel\", \"CPI category\": \"CoreGoods\", \"value\": 0.2168430664448371}, {\"index\": \"CRB Spot Commod\", \"CPI category\": \"CoreGoods\", \"value\": 0.307988394679018}, {\"index\": \"FIBER US Commd\", \"CPI category\": \"CoreGoods\", \"value\": 0.33712685194858205}, {\"index\": \"FIBER Metals\", \"CPI category\": \"CoreGoods\", \"value\": 0.2766300763318322}, {\"index\": \"S&P Energy Spot\", \"CPI category\": \"CoreGoods\", \"value\": 0.26939196474120164}, {\"index\": \"US Avg Gasoline\", \"CPI category\": \"CoreGoods\", \"value\": 0.2764815992736533}, {\"index\": \"US Brent Spot Avg\", \"CPI category\": \"CoreGoods\", \"value\": 0.3401182495916414}, {\"index\": \"FIBER Petroleum\", \"CPI category\": \"CoreGoods\", \"value\": 0.2828667276410205}, {\"index\": \"FIBER CrudOil\", \"CPI category\": \"CoreGoods\", \"value\": 0.3170864910045599}, {\"index\": \"S&P GSCI\", \"CPI category\": \"CoreGoods\", \"value\": 0.24946032592619224}, {\"index\": \"Bloomberg Commd\", \"CPI category\": \"CoreGoods\", \"value\": 0.21899918584776537}, {\"index\": \"US electricity all sectors\", \"CPI category\": \"CoreGoods\", \"value\": 0.40192625502201024}, {\"index\": \"US Natural Gas Spot\", \"CPI category\": \"CoreGoods\", \"value\": 0.19180431606978987}, {\"index\": \"S&P Industrial\", \"CPI category\": \"CoreServices\", \"value\": 0.20239279458492485}, {\"index\": \"FIBER Steel\", \"CPI category\": \"CoreServices\", \"value\": 0.1447150295605732}, {\"index\": \"CRB Spot Commod\", \"CPI category\": \"CoreServices\", \"value\": 0.29238945265170246}, {\"index\": \"FIBER US Commd\", \"CPI category\": \"CoreServices\", \"value\": 0.2843370913089494}, {\"index\": \"FIBER Metals\", \"CPI category\": \"CoreServices\", \"value\": 0.17952182061999003}, {\"index\": \"S&P Energy Spot\", \"CPI category\": \"CoreServices\", \"value\": 0.3589610608877345}, {\"index\": \"US Avg Gasoline\", \"CPI category\": \"CoreServices\", \"value\": 0.4480398906205107}, {\"index\": \"US Brent Spot Avg\", \"CPI category\": \"CoreServices\", \"value\": 0.39897898296790774}, {\"index\": \"FIBER Petroleum\", \"CPI category\": \"CoreServices\", \"value\": 0.38470324335576617}, {\"index\": \"FIBER CrudOil\", \"CPI category\": \"CoreServices\", \"value\": 0.3155250025849961}, {\"index\": \"S&P GSCI\", \"CPI category\": \"CoreServices\", \"value\": 0.36515912688666585}, {\"index\": \"Bloomberg Commd\", \"CPI category\": \"CoreServices\", \"value\": 0.3462115073716213}, {\"index\": \"US electricity all sectors\", \"CPI category\": \"CoreServices\", \"value\": 0.22916756489300066}, {\"index\": \"US Natural Gas Spot\", \"CPI category\": \"CoreServices\", \"value\": 0.1260612487311644}, {\"index\": \"S&P Industrial\", \"CPI category\": \"Durable\", \"value\": 0.22553940122312158}, {\"index\": \"FIBER Steel\", \"CPI category\": \"Durable\", \"value\": 0.17060960853774826}, {\"index\": \"CRB Spot Commod\", \"CPI category\": \"Durable\", \"value\": 0.34787872640244116}, {\"index\": \"FIBER US Commd\", \"CPI category\": \"Durable\", \"value\": 0.3771581917690492}, {\"index\": \"FIBER Metals\", \"CPI category\": \"Durable\", \"value\": 0.24335519138881068}, {\"index\": \"S&P Energy Spot\", \"CPI category\": \"Durable\", \"value\": 0.34623882209123763}, {\"index\": \"US Avg Gasoline\", \"CPI category\": \"Durable\", \"value\": 0.3211754360413182}, {\"index\": \"US Brent Spot Avg\", \"CPI category\": \"Durable\", \"value\": 0.42910291436691744}, {\"index\": \"FIBER Petroleum\", \"CPI category\": \"Durable\", \"value\": 0.3719598683481395}, {\"index\": \"FIBER CrudOil\", \"CPI category\": \"Durable\", \"value\": 0.40107675702393625}, {\"index\": \"S&P GSCI\", \"CPI category\": \"Durable\", \"value\": 0.3284732911947077}, {\"index\": \"Bloomberg Commd\", \"CPI category\": \"Durable\", \"value\": 0.2916882319323553}, {\"index\": \"US electricity all sectors\", \"CPI category\": \"Durable\", \"value\": 0.21417825287115064}, {\"index\": \"US Natural Gas Spot\", \"CPI category\": \"Durable\", \"value\": 0.12201567790547767}, {\"index\": \"S&P Industrial\", \"CPI category\": \"NonDurable\", \"value\": 0.29789678291619226}, {\"index\": \"FIBER Steel\", \"CPI category\": \"NonDurable\", \"value\": 0.21834378280094746}, {\"index\": \"CRB Spot Commod\", \"CPI category\": \"NonDurable\", \"value\": 0.45636232037032315}, {\"index\": \"FIBER US Commd\", \"CPI category\": \"NonDurable\", \"value\": 0.49138261845396863}, {\"index\": \"FIBER Metals\", \"CPI category\": \"NonDurable\", \"value\": 0.3115182188749448}, {\"index\": \"S&P Energy Spot\", \"CPI category\": \"NonDurable\", \"value\": 0.6043063662671123}, {\"index\": \"US Avg Gasoline\", \"CPI category\": \"NonDurable\", \"value\": 0.7738706107549925}, {\"index\": \"US Brent Spot Avg\", \"CPI category\": \"NonDurable\", \"value\": 0.5423003668662337}, {\"index\": \"FIBER Petroleum\", \"CPI category\": \"NonDurable\", \"value\": 0.48219215171412955}, {\"index\": \"FIBER CrudOil\", \"CPI category\": \"NonDurable\", \"value\": 0.46508583717513513}, {\"index\": \"S&P GSCI\", \"CPI category\": \"NonDurable\", \"value\": 0.6264092162627254}, {\"index\": \"Bloomberg Commd\", \"CPI category\": \"NonDurable\", \"value\": 0.5446945796987519}, {\"index\": \"US electricity all sectors\", \"CPI category\": \"NonDurable\", \"value\": 0.3062353511861166}, {\"index\": \"US Natural Gas Spot\", \"CPI category\": \"NonDurable\", \"value\": 0.20817969639451916}, {\"index\": \"S&P Industrial\", \"CPI category\": \"Goods\", \"value\": 0.30081109412399387}, {\"index\": \"FIBER Steel\", \"CPI category\": \"Goods\", \"value\": 0.20940267169630447}, {\"index\": \"CRB Spot Commod\", \"CPI category\": \"Goods\", \"value\": 0.4962680864762823}, {\"index\": \"FIBER US Commd\", \"CPI category\": \"Goods\", \"value\": 0.5022216281320739}, {\"index\": \"FIBER Metals\", \"CPI category\": \"Goods\", \"value\": 0.31654799968522274}, {\"index\": \"S&P Energy Spot\", \"CPI category\": \"Goods\", \"value\": 0.5787873404780176}, {\"index\": \"US Avg Gasoline\", \"CPI category\": \"Goods\", \"value\": 0.7404622056430268}, {\"index\": \"US Brent Spot Avg\", \"CPI category\": \"Goods\", \"value\": 0.5128471263294461}, {\"index\": \"FIBER Petroleum\", \"CPI category\": \"Goods\", \"value\": 0.4697488773146493}, {\"index\": \"FIBER CrudOil\", \"CPI category\": \"Goods\", \"value\": 0.4422660000215724}, {\"index\": \"S&P GSCI\", \"CPI category\": \"Goods\", \"value\": 0.6060948072845486}, {\"index\": \"Bloomberg Commd\", \"CPI category\": \"Goods\", \"value\": 0.5380711394686284}, {\"index\": \"US electricity all sectors\", \"CPI category\": \"Goods\", \"value\": 0.29645274475038996}, {\"index\": \"US Natural Gas Spot\", \"CPI category\": \"Goods\", \"value\": 0.2103377866638407}, {\"index\": \"S&P Industrial\", \"CPI category\": \"Services\", \"value\": 0.1687664037732012}, {\"index\": \"FIBER Steel\", \"CPI category\": \"Services\", \"value\": 0.21576252072046415}, {\"index\": \"CRB Spot Commod\", \"CPI category\": \"Services\", \"value\": 0.32371704953790137}, {\"index\": \"FIBER US Commd\", \"CPI category\": \"Services\", \"value\": 0.23543691652612467}, {\"index\": \"FIBER Metals\", \"CPI category\": \"Services\", \"value\": 0.22503343440474896}, {\"index\": \"S&P Energy Spot\", \"CPI category\": \"Services\", \"value\": 0.32492074503525536}, {\"index\": \"US Avg Gasoline\", \"CPI category\": \"Services\", \"value\": 0.4186127813212728}, {\"index\": \"US Brent Spot Avg\", \"CPI category\": \"Services\", \"value\": 0.3331241399765755}, {\"index\": \"FIBER Petroleum\", \"CPI category\": \"Services\", \"value\": 0.3378240154496001}, {\"index\": \"FIBER CrudOil\", \"CPI category\": \"Services\", \"value\": 0.29040033185445535}, {\"index\": \"S&P GSCI\", \"CPI category\": \"Services\", \"value\": 0.3278967245003585}, {\"index\": \"Bloomberg Commd\", \"CPI category\": \"Services\", \"value\": 0.33739370522937656}, {\"index\": \"US electricity all sectors\", \"CPI category\": \"Services\", \"value\": 0.4628553292098901}, {\"index\": \"US Natural Gas Spot\", \"CPI category\": \"Services\", \"value\": 0.1686262155640546}, {\"index\": \"S&P Industrial\", \"CPI category\": \"energy_services\", \"value\": 0.23354056998191006}, {\"index\": \"FIBER Steel\", \"CPI category\": \"energy_services\", \"value\": 0.22222147555322247}, {\"index\": \"CRB Spot Commod\", \"CPI category\": \"energy_services\", \"value\": 0.25473113013623483}, {\"index\": \"FIBER US Commd\", \"CPI category\": \"energy_services\", \"value\": 0.2669079289251487}, {\"index\": \"FIBER Metals\", \"CPI category\": \"energy_services\", \"value\": 0.31804204477598036}, {\"index\": \"S&P Energy Spot\", \"CPI category\": \"energy_services\", \"value\": 0.19646693825022368}, {\"index\": \"US Avg Gasoline\", \"CPI category\": \"energy_services\", \"value\": 0.3290652963858198}, {\"index\": \"US Brent Spot Avg\", \"CPI category\": \"energy_services\", \"value\": 0.21663674706942765}, {\"index\": \"FIBER Petroleum\", \"CPI category\": \"energy_services\", \"value\": 0.11854385669563378}, {\"index\": \"FIBER CrudOil\", \"CPI category\": \"energy_services\", \"value\": 0.13718463132885608}, {\"index\": \"S&P GSCI\", \"CPI category\": \"energy_services\", \"value\": 0.21520818343310666}, {\"index\": \"Bloomberg Commd\", \"CPI category\": \"energy_services\", \"value\": 0.1991565879288706}, {\"index\": \"US electricity all sectors\", \"CPI category\": \"energy_services\", \"value\": 0.7066647972089977}, {\"index\": \"US Natural Gas Spot\", \"CPI category\": \"energy_services\", \"value\": 0.21636050209194485}, {\"index\": \"S&P Industrial\", \"CPI category\": \"energy_goods\", \"value\": 0.35936079864726417}, {\"index\": \"FIBER Steel\", \"CPI category\": \"energy_goods\", \"value\": 0.23390955128993207}, {\"index\": \"CRB Spot Commod\", \"CPI category\": \"energy_goods\", \"value\": 0.4908403377174525}, {\"index\": \"FIBER US Commd\", \"CPI category\": \"energy_goods\", \"value\": 0.5718734190675093}, {\"index\": \"FIBER Metals\", \"CPI category\": \"energy_goods\", \"value\": 0.37538086625950673}, {\"index\": \"S&P Energy Spot\", \"CPI category\": \"energy_goods\", \"value\": 0.7026638219281597}, {\"index\": \"US Avg Gasoline\", \"CPI category\": \"energy_goods\", \"value\": 0.8150731348386798}, {\"index\": \"US Brent Spot Avg\", \"CPI category\": \"energy_goods\", \"value\": 0.6124826880449875}, {\"index\": \"FIBER Petroleum\", \"CPI category\": \"energy_goods\", \"value\": 0.6066465053884973}, {\"index\": \"FIBER CrudOil\", \"CPI category\": \"energy_goods\", \"value\": 0.5650462898864287}, {\"index\": \"S&P GSCI\", \"CPI category\": \"energy_goods\", \"value\": 0.7132241421672967}, {\"index\": \"Bloomberg Commd\", \"CPI category\": \"energy_goods\", \"value\": 0.5870399198487856}, {\"index\": \"US electricity all sectors\", \"CPI category\": \"energy_goods\", \"value\": 0.26545745364541334}, {\"index\": \"US Natural Gas Spot\", \"CPI category\": \"energy_goods\", \"value\": 0.20586986571610066}]}}, {\"mode\": \"vega-lite\"});\n",
       "</script>"
      ],
      "text/plain": [
       "alt.Chart(...)"
      ]
     },
     "execution_count": 221,
     "metadata": {},
     "output_type": "execute_result"
    }
   ],
   "source": [
    "corr_df = corr_df.loc[INDUSTRIAL_SUBSET + ENERGY_SUBSET + MISC]\n",
    "\n",
    "# alt.Chart(cpi_common_corr).mark_rect().encode(x='')\n",
    "melt_df = corr_df.melt(var_name=\"CPI category\", ignore_index=False).reset_index()\n",
    "alt.Chart(melt_df).mark_rect().encode(x='CPI category:N', y='index:N', color='value:Q')"
   ]
  },
  {
   "cell_type": "markdown",
   "metadata": {},
   "source": [
    "##### Alternative 2: Creating Current + Lagged Feature set using Xgboost to compute feature importance\n",
    "\n",
    "This did not improve the forecasting ability of the model. This produced good insample fit but poor outsample fit."
   ]
  },
  {
   "cell_type": "code",
   "execution_count": 217,
   "metadata": {},
   "outputs": [
    {
     "name": "stdout",
     "output_type": "stream",
     "text": [
      "exhaustive list of regressor done ...\n",
      "Running xgbboost ...\n",
      "relevant columns determined ...\n"
     ]
    },
    {
     "name": "stderr",
     "output_type": "stream",
     "text": [
      "C:\\Users\\troy\\Anaconda3\\lib\\site-packages\\ipykernel_launcher.py:7: PerformanceWarning: DataFrame is highly fragmented.  This is usually the result of calling `frame.insert` many times, which has poor performance.  Consider joining all columns at once using pd.concat(axis=1) instead.  To get a de-fragmented frame, use `newframe = frame.copy()`\n",
      "  import sys\n"
     ]
    }
   ],
   "source": [
    "from xgboost import XGBRegressor\n",
    "\n",
    "# Apply all lags upto 12 months and then leave it to the algorithm to figure out\n",
    "regressor = df_chg.copy()\n",
    "for c in regressor:\n",
    "    for lag in range(1, 13):\n",
    "        regressor[\"%s - %s\" % (c, lag)] = regressor[c].shift(lag)\n",
    "regressor = regressor.copy()\n",
    "print(\"exhaustive list of regressor done ...\")\n",
    "\n",
    "# Pure exogenous + contemporous model\n",
    "exog = regressor.loc[endog.index, :]\n",
    "exog_out = regressor.loc[outsample.index, :]\n",
    "\n",
    "# determin the relevant columns\n",
    "print(\"Running xgbboost ...\")\n",
    "model = XGBRegressor()\n",
    "model.fit(exog, endog)\n",
    "feature_importance = model.feature_importances_\n",
    "ind = np.argpartition(feature_importance, -20)[-20:]\n",
    "relevant_cols = exog.columns[ind]\n",
    "rel_col_weights = feature_importance[ind]\n",
    "print(\"relevant columns determined ...\")\n",
    "plt.bar(relevant_cols, rel_col_weights)\n",
    "\n",
    "# Select the cols and define exogenous variables\n",
    "regressor = regressor[relevant_cols]\n",
    "\n",
    "exog = regressor.loc[endog.index, :]\n",
    "exog_out = regressor.loc[outsample.index, :]"
   ]
  },
  {
   "cell_type": "markdown",
   "metadata": {},
   "source": [
    "#### ARD Regression"
   ]
  },
  {
   "cell_type": "code",
   "execution_count": 229,
   "metadata": {},
   "outputs": [
    {
     "name": "stdout",
     "output_type": "stream",
     "text": [
      "In sample Rsq of the model is - 0.72\n",
      "Out Sample Rsq of the model is - 0.79\n",
      "Coefs Selected \n",
      "S&P Industrial                0.000000\n",
      "Bloomberg Commd               0.000000\n",
      "FIBER Steel                   0.026393\n",
      "CRB Spot Commod               0.105283\n",
      "S&P Energy Spot              -0.111958\n",
      "FIBER US Commd                0.000000\n",
      "US Avg Gasoline               0.540573\n",
      "US electricity all sectors    0.199568\n",
      "US Natural Gas Spot          -0.010388\n",
      "US Brent Spot Avg             0.004386\n",
      "FIBER Petroleum               0.036934\n",
      "FIBER Metals                 -0.006454\n",
      "FIBER CrudOil                 0.000000\n",
      "S&P GSCI                      0.001098\n",
      "dtype: float64\n"
     ]
    },
    {
     "data": {
      "text/html": [
       "\n",
       "<div id=\"altair-viz-205f7088b0e74f168276f3dc3b765571\"></div>\n",
       "<script type=\"text/javascript\">\n",
       "  var VEGA_DEBUG = (typeof VEGA_DEBUG == \"undefined\") ? {} : VEGA_DEBUG;\n",
       "  (function(spec, embedOpt){\n",
       "    let outputDiv = document.currentScript.previousElementSibling;\n",
       "    if (outputDiv.id !== \"altair-viz-205f7088b0e74f168276f3dc3b765571\") {\n",
       "      outputDiv = document.getElementById(\"altair-viz-205f7088b0e74f168276f3dc3b765571\");\n",
       "    }\n",
       "    const paths = {\n",
       "      \"vega\": \"https://cdn.jsdelivr.net/npm//vega@5?noext\",\n",
       "      \"vega-lib\": \"https://cdn.jsdelivr.net/npm//vega-lib?noext\",\n",
       "      \"vega-lite\": \"https://cdn.jsdelivr.net/npm//vega-lite@4.17.0?noext\",\n",
       "      \"vega-embed\": \"https://cdn.jsdelivr.net/npm//vega-embed@6?noext\",\n",
       "    };\n",
       "\n",
       "    function maybeLoadScript(lib, version) {\n",
       "      var key = `${lib.replace(\"-\", \"\")}_version`;\n",
       "      return (VEGA_DEBUG[key] == version) ?\n",
       "        Promise.resolve(paths[lib]) :\n",
       "        new Promise(function(resolve, reject) {\n",
       "          var s = document.createElement('script');\n",
       "          document.getElementsByTagName(\"head\")[0].appendChild(s);\n",
       "          s.async = true;\n",
       "          s.onload = () => {\n",
       "            VEGA_DEBUG[key] = version;\n",
       "            return resolve(paths[lib]);\n",
       "          };\n",
       "          s.onerror = () => reject(`Error loading script: ${paths[lib]}`);\n",
       "          s.src = paths[lib];\n",
       "        });\n",
       "    }\n",
       "\n",
       "    function showError(err) {\n",
       "      outputDiv.innerHTML = `<div class=\"error\" style=\"color:red;\">${err}</div>`;\n",
       "      throw err;\n",
       "    }\n",
       "\n",
       "    function displayChart(vegaEmbed) {\n",
       "      vegaEmbed(outputDiv, spec, embedOpt)\n",
       "        .catch(err => showError(`Javascript Error: ${err.message}<br>This usually means there's a typo in your chart specification. See the javascript console for the full traceback.`));\n",
       "    }\n",
       "\n",
       "    if(typeof define === \"function\" && define.amd) {\n",
       "      requirejs.config({paths});\n",
       "      require([\"vega-embed\"], displayChart, err => showError(`Error loading script: ${err.message}`));\n",
       "    } else {\n",
       "      maybeLoadScript(\"vega\", \"5\")\n",
       "        .then(() => maybeLoadScript(\"vega-lite\", \"4.17.0\"))\n",
       "        .then(() => maybeLoadScript(\"vega-embed\", \"6\"))\n",
       "        .catch(showError)\n",
       "        .then(() => displayChart(vegaEmbed));\n",
       "    }\n",
       "  })({\"config\": {\"view\": {\"continuousWidth\": 400, \"continuousHeight\": 300}}, \"hconcat\": [{\"layer\": [{\"mark\": \"line\", \"encoding\": {\"x\": {\"field\": \"dates\", \"type\": \"temporal\"}, \"y\": {\"field\": \"energy_cpi\", \"title\": \"Energy CPI\", \"type\": \"quantitative\"}}, \"width\": \"container\"}, {\"mark\": {\"type\": \"line\", \"color\": \"red\"}, \"encoding\": {\"x\": {\"field\": \"dates\", \"type\": \"temporal\"}, \"y\": {\"field\": \"fitted\", \"type\": \"quantitative\"}}, \"width\": \"container\"}]}, {\"mark\": {\"type\": \"line\", \"color\": \"red\"}, \"encoding\": {\"x\": {\"field\": \"dates\", \"type\": \"temporal\"}, \"y\": {\"field\": \"resid\", \"type\": \"quantitative\"}}, \"width\": \"container\"}], \"data\": {\"name\": \"data-f0d9f473ec91c4611a09320c94d3058f\"}, \"$schema\": \"https://vega.github.io/schema/vega-lite/v4.17.0.json\", \"datasets\": {\"data-f0d9f473ec91c4611a09320c94d3058f\": [{\"dates\": \"2012-08-31T00:00:00\", \"energy_cpi\": 0.043063357391695645, \"fitted\": 0.03787323061406186, \"resid\": 0.005190126777633787}, {\"dates\": \"2012-09-30T00:00:00\", \"energy_cpi\": 0.024074532771887203, \"fitted\": 0.002733202950243676, \"resid\": 0.021341329821643527}, {\"dates\": \"2012-10-31T00:00:00\", \"energy_cpi\": -0.02266201644741972, \"fitted\": -0.03902097472601025, \"resid\": 0.016358958278590532}, {\"dates\": \"2012-11-30T00:00:00\", \"energy_cpi\": -0.04621132590620425, \"fitted\": -0.024320599722019123, \"resid\": -0.021890726184185125}, {\"dates\": \"2012-12-31T00:00:00\", \"energy_cpi\": -0.0229047567232763, \"fitted\": -0.012240262036203016, \"resid\": -0.010664494687073282}, {\"dates\": \"2013-01-31T00:00:00\", \"energy_cpi\": 0.004929906241835091, \"fitted\": 0.008830734301189577, \"resid\": -0.003900828059354485}, {\"dates\": \"2013-02-28T00:00:00\", \"energy_cpi\": 0.05763263775231864, \"fitted\": 0.05129862698722357, \"resid\": 0.006334010765095072}, {\"dates\": \"2013-03-31T00:00:00\", \"energy_cpi\": 0.005718407711589268, \"fitted\": -0.019285830539588187, \"resid\": 0.025004238251177455}, {\"dates\": \"2013-04-30T00:00:00\", \"energy_cpi\": -0.019265522008294456, \"fitted\": -0.008353633513526427, \"resid\": -0.010911888494768028}, {\"dates\": \"2013-05-31T00:00:00\", \"energy_cpi\": 0.012453167835853485, \"fitted\": 0.012629893209341797, \"resid\": -0.0001767253734883123}, {\"dates\": \"2013-06-30T00:00:00\", \"energy_cpi\": 0.016609834345553853, \"fitted\": -0.002994457380945704, \"resid\": 0.019604291726499558}, {\"dates\": \"2013-07-31T00:00:00\", \"energy_cpi\": -0.002187193604344162, \"fitted\": 0.014291628386945567, \"resid\": -0.01647882199128973}, {\"dates\": \"2013-08-31T00:00:00\", \"energy_cpi\": -0.005406373075546034, \"fitted\": -0.00540130017917475, \"resid\": -5.072896371283685e-06}, {\"dates\": \"2013-09-30T00:00:00\", \"energy_cpi\": -0.005991736363599953, \"fitted\": -0.01802979815399954, \"resid\": 0.012038061790399585}, {\"dates\": \"2013-10-31T00:00:00\", \"energy_cpi\": -0.040195080337849576, \"fitted\": -0.02539591134415318, \"resid\": -0.014799168993696397}, {\"dates\": \"2013-11-30T00:00:00\", \"energy_cpi\": -0.022588921869497458, \"fitted\": -0.0022876156195245773, \"resid\": -0.02030130624997288}, {\"dates\": \"2013-12-31T00:00:00\", \"energy_cpi\": 0.006030814631802883, \"fitted\": -0.014165490566882566, \"resid\": 0.020196305198685448}, {\"dates\": \"2014-01-31T00:00:00\", \"energy_cpi\": 0.021356516103725465, \"fitted\": 0.008932144297746077, \"resid\": 0.012424371805979387}, {\"dates\": \"2014-02-28T00:00:00\", \"energy_cpi\": 0.010394446276575708, \"fitted\": 0.0171283005275064, \"resid\": -0.00673385425093069}, {\"dates\": \"2014-03-31T00:00:00\", \"energy_cpi\": 0.035126280258303444, \"fitted\": 0.021824652779011865, \"resid\": 0.013301627479291579}, {\"dates\": \"2014-04-30T00:00:00\", \"energy_cpi\": 0.008677153223199285, \"fitted\": 0.011746684587340198, \"resid\": -0.003069531364140912}, {\"dates\": \"2014-05-31T00:00:00\", \"energy_cpi\": 0.012919589896999373, \"fitted\": 0.001116714770195229, \"resid\": 0.011802875126804144}, {\"dates\": \"2014-06-30T00:00:00\", \"energy_cpi\": 0.01514168965005358, \"fitted\": 0.007067994639272475, \"resid\": 0.008073695010781104}, {\"dates\": \"2014-07-31T00:00:00\", \"energy_cpi\": -0.007507946647784647, \"fitted\": -0.005203084787215815, \"resid\": -0.0023048618605688315}, {\"dates\": \"2014-08-31T00:00:00\", \"energy_cpi\": -0.02697096240117558, \"fitted\": -0.01171496941597375, \"resid\": -0.01525599298520183}, {\"dates\": \"2014-09-30T00:00:00\", \"energy_cpi\": -0.015437276599814309, \"fitted\": -0.012577230378978546, \"resid\": -0.0028600462208357626}, {\"dates\": \"2014-10-31T00:00:00\", \"energy_cpi\": -0.049911566030023, \"fitted\": -0.04603707172547289, \"resid\": -0.0038744943045501135}, {\"dates\": \"2014-11-30T00:00:00\", \"energy_cpi\": -0.05495750708215297, \"fitted\": -0.02263644072596766, \"resid\": -0.032321066356185306}, {\"dates\": \"2014-12-31T00:00:00\", \"energy_cpi\": -0.054358017345522036, \"fitted\": -0.07586555926716086, \"resid\": 0.021507541921638826}, {\"dates\": \"2015-01-31T00:00:00\", \"energy_cpi\": -0.08182663202802865, \"fitted\": -0.04665416939675553, \"resid\": -0.03517246263127312}, {\"dates\": \"2015-02-28T00:00:00\", \"energy_cpi\": 0.02065216827000449, \"fitted\": 0.03472144894412066, \"resid\": -0.014069280674116169}, {\"dates\": \"2015-03-31T00:00:00\", \"energy_cpi\": 0.04137397823974931, \"fitted\": 0.015923366167326137, \"resid\": 0.025450612072423173}, {\"dates\": \"2015-04-30T00:00:00\", \"energy_cpi\": -0.004962609472918045, \"fitted\": 0.009061114925639645, \"resid\": -0.01402372439855769}, {\"dates\": \"2015-05-31T00:00:00\", \"energy_cpi\": 0.05210711042387661, \"fitted\": 0.029271604298597015, \"resid\": 0.022835506125279598}, {\"dates\": \"2015-06-30T00:00:00\", \"energy_cpi\": 0.03047170251481357, \"fitted\": 0.018366763407643705, \"resid\": 0.012104939107169865}, {\"dates\": \"2015-07-31T00:00:00\", \"energy_cpi\": -0.004568484250275007, \"fitted\": -0.0003489315959860008, \"resid\": -0.004219552654289006}, {\"dates\": \"2015-08-31T00:00:00\", \"energy_cpi\": -0.03003838946200177, \"fitted\": -0.043030845396183584, \"resid\": 0.012992455934181815}, {\"dates\": \"2015-09-30T00:00:00\", \"energy_cpi\": -0.05442958433373346, \"fitted\": -0.021879988335549657, \"resid\": -0.0325495959981838}, {\"dates\": \"2015-10-31T00:00:00\", \"energy_cpi\": -0.035409465336910584, \"fitted\": -0.0343501276403036, \"resid\": -0.001059337696606981}, {\"dates\": \"2015-11-30T00:00:00\", \"energy_cpi\": -0.02690988735276434, \"fitted\": -0.02553358601799602, \"resid\": -0.0013763013347683206}, {\"dates\": \"2015-12-31T00:00:00\", \"energy_cpi\": -0.031114774366371334, \"fitted\": -0.010263784929060589, \"resid\": -0.020850989437310744}, {\"dates\": \"2016-01-31T00:00:00\", \"energy_cpi\": -0.01748846644635671, \"fitted\": -0.03197683930651576, \"resid\": 0.014488372860159048}, {\"dates\": \"2016-02-29T00:00:00\", \"energy_cpi\": -0.045012793401823736, \"fitted\": -0.01585814737929811, \"resid\": -0.029154646022525627}, {\"dates\": \"2016-03-31T00:00:00\", \"energy_cpi\": 0.040427522797147564, \"fitted\": 0.06372031300199109, \"resid\": -0.023292790204843525}, {\"dates\": \"2016-04-30T00:00:00\", \"energy_cpi\": 0.0370635191071238, \"fitted\": 0.022946303287851817, \"resid\": 0.014117215819271983}, {\"dates\": \"2016-05-31T00:00:00\", \"energy_cpi\": 0.03781806821364708, \"fitted\": 0.029161857199216597, \"resid\": 0.008656211014430485}, {\"dates\": \"2016-06-30T00:00:00\", \"energy_cpi\": 0.038209816632325255, \"fitted\": 0.003580878547173825, \"resid\": 0.03462893808515143}, {\"dates\": \"2016-07-31T00:00:00\", \"energy_cpi\": -0.02047141750193715, \"fitted\": -0.011927690207005112, \"resid\": -0.008543727294932038}, {\"dates\": \"2016-08-31T00:00:00\", \"energy_cpi\": -0.012330305195467961, \"fitted\": 0.012034820746979038, \"resid\": -0.024365125942446997}, {\"dates\": \"2016-09-30T00:00:00\", \"energy_cpi\": 0.012029515718980699, \"fitted\": -0.012541095090446253, \"resid\": 0.024570610809426952}, {\"dates\": \"2016-10-31T00:00:00\", \"energy_cpi\": -0.005442885444110868, \"fitted\": -0.006559498235372577, \"resid\": 0.0011166127912617093}, {\"dates\": \"2016-11-30T00:00:00\", \"energy_cpi\": -0.017372911810910496, \"fitted\": -0.012710365347679222, \"resid\": -0.004662546463231275}, {\"dates\": \"2016-12-31T00:00:00\", \"energy_cpi\": 0.00994764944984916, \"fitted\": 0.0256922571797693, \"resid\": -0.01574460772992014}, {\"dates\": \"2017-01-31T00:00:00\", \"energy_cpi\": 0.032601160853775735, \"fitted\": 0.010157396600370946, \"resid\": 0.022443764253404788}, {\"dates\": \"2017-02-28T00:00:00\", \"energy_cpi\": -0.007078874594204643, \"fitted\": 0.006615730362945995, \"resid\": -0.013694604957150637}, {\"dates\": \"2017-03-31T00:00:00\", \"energy_cpi\": 0.002028305456747148, \"fitted\": 0.004419545813463871, \"resid\": -0.002391240356716723}, {\"dates\": \"2017-04-30T00:00:00\", \"energy_cpi\": 0.021510898956177638, \"fitted\": 0.009918853399518321, \"resid\": 0.011592045556659316}, {\"dates\": \"2017-05-31T00:00:00\", \"energy_cpi\": 0.0012964030975655128, \"fitted\": 0.009207783024150804, \"resid\": -0.00791137992658529}, {\"dates\": \"2017-06-30T00:00:00\", \"energy_cpi\": 0.007453281609987483, \"fitted\": -0.007799546884751039, \"resid\": 0.015252828494738522}, {\"dates\": \"2017-07-31T00:00:00\", \"energy_cpi\": -0.010222530613840375, \"fitted\": 0.007535716287367536, \"resid\": -0.017758246901207912}, {\"dates\": \"2017-08-31T00:00:00\", \"energy_cpi\": 0.016489429979166026, \"fitted\": 0.032840083157704494, \"resid\": -0.01635065317853847}, {\"dates\": \"2017-09-30T00:00:00\", \"energy_cpi\": 0.04767987410997887, \"fitted\": 0.012457007249528496, \"resid\": 0.035222866860450376}, {\"dates\": \"2017-10-31T00:00:00\", \"energy_cpi\": -0.03903834296813802, \"fitted\": -0.024882159244400796, \"resid\": -0.014156183723737222}, {\"dates\": \"2017-11-30T00:00:00\", \"energy_cpi\": 0.010096965603743735, \"fitted\": 0.002380236147130651, \"resid\": 0.0077167294566130844}, {\"dates\": \"2017-12-31T00:00:00\", \"energy_cpi\": -0.013300984320599119, \"fitted\": -0.022835704361846024, \"resid\": 0.009534720041246905}, {\"dates\": \"2018-01-31T00:00:00\", \"energy_cpi\": 0.019675892312607024, \"fitted\": 0.032090873570903455, \"resid\": -0.012414981258296431}, {\"dates\": \"2018-02-28T00:00:00\", \"energy_cpi\": 0.013557197989205516, \"fitted\": 0.0032929367028253337, \"resid\": 0.010264261286380182}, {\"dates\": \"2018-03-31T00:00:00\", \"energy_cpi\": -0.004519504119071427, \"fitted\": 0.007816123630681123, \"resid\": -0.01233562774975255}, {\"dates\": \"2018-04-30T00:00:00\", \"energy_cpi\": 0.02952661441327864, \"fitted\": 0.022897786565495674, \"resid\": 0.006628827847782966}, {\"dates\": \"2018-05-31T00:00:00\", \"energy_cpi\": 0.03646666362016182, \"fitted\": 0.0261759896320647, \"resid\": 0.010290673988097122}, {\"dates\": \"2018-06-30T00:00:00\", \"energy_cpi\": 0.010259688726246718, \"fitted\": -0.012716834294766789, \"resid\": 0.02297652302101351}, {\"dates\": \"2018-07-31T00:00:00\", \"energy_cpi\": -0.00885932869855155, \"fitted\": 0.012452302072831427, \"resid\": -0.021311630771382976}, {\"dates\": \"2018-08-31T00:00:00\", \"energy_cpi\": -0.0007397394179836647, \"fitted\": -0.011615906268105068, \"resid\": 0.010876166850121403}, {\"dates\": \"2018-09-30T00:00:00\", \"energy_cpi\": -0.0034106081369883468, \"fitted\": -0.0044632176112194555, \"resid\": 0.0010526094742311087}, {\"dates\": \"2018-10-31T00:00:00\", \"energy_cpi\": -0.001803992660225906, \"fitted\": 0.0011838378006753902, \"resid\": -0.002987830460901296}, {\"dates\": \"2018-11-30T00:00:00\", \"energy_cpi\": -0.0436176951323769, \"fitted\": -0.03828732816432307, \"resid\": -0.005330366968053828}, {\"dates\": \"2018-12-31T00:00:00\", \"energy_cpi\": -0.046338752257885196, \"fitted\": -0.03468284470339248, \"resid\": -0.011655907554492716}, {\"dates\": \"2019-01-31T00:00:00\", \"energy_cpi\": -0.025944003302493912, \"fitted\": -0.015511785277402951, \"resid\": -0.01043221802509096}, {\"dates\": \"2019-02-28T00:00:00\", \"energy_cpi\": 0.010854444738062519, \"fitted\": 0.02620500628584352, \"resid\": -0.015350561547781}, {\"dates\": \"2019-03-31T00:00:00\", \"energy_cpi\": 0.04431291309065788, \"fitted\": 0.04179274832665751, \"resid\": 0.0025201647640003683}, {\"dates\": \"2019-04-30T00:00:00\", \"energy_cpi\": 0.050891726965294426, \"fitted\": 0.02533594559908339, \"resid\": 0.025555781366211037}, {\"dates\": \"2019-05-31T00:00:00\", \"energy_cpi\": 0.014714672874934331, \"fitted\": 0.008978368648174818, \"resid\": 0.005736304226759513}, {\"dates\": \"2019-06-30T00:00:00\", \"energy_cpi\": -0.019488601382804838, \"fitted\": -0.017954849511658127, \"resid\": -0.0015337518711467102}, {\"dates\": \"2019-07-31T00:00:00\", \"energy_cpi\": 0.0050548169831008405, \"fitted\": 0.00396563220581456, \"resid\": 0.0010891847772862805}, {\"dates\": \"2019-08-31T00:00:00\", \"energy_cpi\": -0.024782913542958807, \"fitted\": -0.015178157152579589, \"resid\": -0.009604756390379218}, {\"dates\": \"2019-09-30T00:00:00\", \"energy_cpi\": -0.007189668998700327, \"fitted\": 0.008259402314230672, \"resid\": -0.015449071312930999}, {\"dates\": \"2019-10-31T00:00:00\", \"energy_cpi\": 0.00433111439155498, \"fitted\": -0.01728920651821334, \"resid\": 0.02162032090976832}, {\"dates\": \"2019-11-30T00:00:00\", \"energy_cpi\": -0.007926933547799608, \"fitted\": -0.002019065556134205, \"resid\": -0.005907867991665403}, {\"dates\": \"2019-12-31T00:00:00\", \"energy_cpi\": -0.007706069811215244, \"fitted\": -0.0034109747416582155, \"resid\": -0.004295095069557028}, {\"dates\": \"2020-01-31T00:00:00\", \"energy_cpi\": 0.00028640918011846317, \"fitted\": 0.0017988431898306582, \"resid\": -0.001512434009712195}, {\"dates\": \"2020-02-29T00:00:00\", \"energy_cpi\": -0.02200964124613336, \"fitted\": -0.0009475915325945339, \"resid\": -0.021062049713538825}, {\"dates\": \"2020-03-31T00:00:00\", \"energy_cpi\": -0.04214461925377, \"fitted\": -0.045618447059626116, \"resid\": 0.0034738278058561167}, {\"dates\": \"2020-04-30T00:00:00\", \"energy_cpi\": -0.08263642877543564, \"fitted\": -0.05965368092107726, \"resid\": -0.022982747854358387}, {\"dates\": \"2020-05-31T00:00:00\", \"energy_cpi\": -2.7310316198847495e-05, \"fitted\": 0.0064346200737505485, \"resid\": -0.006461930389949396}, {\"dates\": \"2020-06-30T00:00:00\", \"energy_cpi\": 0.056277174506762284, \"fitted\": 0.04117216923819625, \"resid\": 0.015105005268566035}, {\"dates\": \"2020-07-31T00:00:00\", \"energy_cpi\": 0.02216373029129337, \"fitted\": 0.009848834054775395, \"resid\": 0.012314896236517976}, {\"dates\": \"2020-08-31T00:00:00\", \"energy_cpi\": -0.0015328965674247241, \"fitted\": 0.005044765490220948, \"resid\": -0.006577662057645672}, {\"dates\": \"2020-09-30T00:00:00\", \"energy_cpi\": 0.007579979935347314, \"fitted\": 0.0037131195466018957, \"resid\": 0.0038668603887454184}, {\"dates\": \"2020-10-31T00:00:00\", \"energy_cpi\": -0.012068913496062539, \"fitted\": -0.018868194245468553, \"resid\": 0.006799280749406014}, {\"dates\": \"2020-11-30T00:00:00\", \"energy_cpi\": -0.0105366032434413, \"fitted\": -0.013146751269316595, \"resid\": 0.0026101480258752946}, {\"dates\": \"2020-12-31T00:00:00\", \"energy_cpi\": 0.019378768236722355, \"fitted\": 0.0333357479416708, \"resid\": -0.013956979704948448}, {\"dates\": \"2021-01-31T00:00:00\", \"energy_cpi\": 0.03592137468143619, \"fitted\": 0.027200343217418755, \"resid\": 0.008721031464017436}, {\"dates\": \"2021-02-28T00:00:00\", \"energy_cpi\": 0.0389919765385609, \"fitted\": 0.06712098063157226, \"resid\": -0.02812900409301136}, {\"dates\": \"2021-03-31T00:00:00\", \"energy_cpi\": 0.059003080500944716, \"fitted\": 0.03382000169560072, \"resid\": 0.025183078805343997}, {\"dates\": \"2021-04-30T00:00:00\", \"energy_cpi\": 0.01441151858886669, \"fitted\": -0.0008377319016729608, \"resid\": 0.015249250490539651}, {\"dates\": \"2021-05-31T00:00:00\", \"energy_cpi\": 0.027160914122104085, \"fitted\": 0.026990884079701724, \"resid\": 0.00017003004240236097}, {\"dates\": \"2021-06-30T00:00:00\", \"energy_cpi\": 0.022864888522514226, \"fitted\": 0.010668240398611226, \"resid\": 0.012196648123903}, {\"dates\": \"2021-07-31T00:00:00\", \"energy_cpi\": 0.016949152542372836, \"fitted\": 0.010963539097136895, \"resid\": 0.005985613445235941}]}}, {\"mode\": \"vega-lite\"});\n",
       "</script>"
      ],
      "text/plain": [
       "alt.HConcatChart(...)"
      ]
     },
     "execution_count": 229,
     "metadata": {},
     "output_type": "execute_result"
    }
   ],
   "source": [
    "from sklearn.linear_model import ARDRegression\n",
    "\n",
    "ard = ARDRegression(compute_score=True, n_iter=30, fit_intercept=True).fit(exog, endog.values)\n",
    "coef_series = pd.Series(ard.coef_, exog.columns)\n",
    "\n",
    "y_ard, y_ard_std = ard.predict(exog.values, return_std=True)\n",
    "resid = endog.values - y_ard\n",
    "\n",
    "data_df = pd.DataFrame(dict(dates=endog.index, \n",
    "                            energy_cpi=endog, \n",
    "                            fitted=pd.Series(y_ard, endog.index), \n",
    "                            resid=pd.Series(resid, endog.index)))\n",
    "\n",
    "print(\"In sample Rsq of the model is - %s\" % np.round(ard.score(y=endog.values, X=exog), 2))\n",
    "print(\"Out Sample Rsq of the model is - %s\" % np.round(ard.score(y=outsample.values, X=exog_out), 2))\n",
    "print(\"Coefs Selected \")\n",
    "print(pd.Series(ard.coef_, exog.columns.values))\n",
    "\n",
    "statsmodels.graphics.tsaplots.plot_pacf(resid)\n",
    "\n",
    "line1 = alt.Chart(data_df).mark_line().encode(x='dates:T', y=alt.Y('energy_cpi', title=\"Energy CPI\")).properties(width=\"container\")\n",
    "line2 = alt.Chart(data_df).mark_line(color='red').encode(x='dates:T', y=alt.Y('fitted')).properties(width=\"container\")\n",
    "line3 = alt.Chart(data_df).mark_line(color='red').encode(x='dates:T', y=alt.Y('resid')).properties(width=\"container\")\n",
    "line1 + line2 | line3"
   ]
  },
  {
   "cell_type": "code",
   "execution_count": 132,
   "metadata": {},
   "outputs": [],
   "source": [
    "import pmdarima as pm\n",
    "from pmdarima import model_selection\n",
    "\n",
    "modl = pm.auto_arima(resid, start_p=1, start_q=1, start_P=1, start_Q=1,\n",
    "                     max_p=5, max_q=5, max_P=5, max_Q=5, seasonal=True,\n",
    "                     stepwise=True, suppress_warnings=True, D=10, max_D=10,\n",
    "                     error_action='ignore')"
   ]
  },
  {
   "cell_type": "code",
   "execution_count": null,
   "metadata": {},
   "outputs": [],
   "source": []
  },
  {
   "cell_type": "markdown",
   "metadata": {},
   "source": [
    "#### Lasso CV"
   ]
  },
  {
   "cell_type": "code",
   "execution_count": 230,
   "metadata": {},
   "outputs": [
    {
     "name": "stdout",
     "output_type": "stream",
     "text": [
      "Insample score (Rsq): 0.7403592197277638\n",
      "Insample score (Rsq): 0.7563107720595983\n",
      "Coefs Selected \n",
      "S&P Industrial                0.031090\n",
      "Bloomberg Commd              -0.009719\n",
      "FIBER Steel                   0.050922\n",
      "CRB Spot Commod               0.086035\n",
      "S&P Energy Spot              -0.295732\n",
      "FIBER US Commd                0.000000\n",
      "US Avg Gasoline               0.495803\n",
      "US electricity all sectors    0.258684\n",
      "US Natural Gas Spot          -0.011462\n",
      "US Brent Spot Avg             0.024059\n",
      "FIBER Petroleum               0.058839\n",
      "FIBER Metals                 -0.109722\n",
      "FIBER CrudOil                 0.005222\n",
      "S&P GSCI                      0.280049\n",
      "dtype: float64\n"
     ]
    },
    {
     "data": {
      "text/html": [
       "\n",
       "<div id=\"altair-viz-2cffdb9a0da94e2e8cd3ad34cf1f2ff6\"></div>\n",
       "<script type=\"text/javascript\">\n",
       "  var VEGA_DEBUG = (typeof VEGA_DEBUG == \"undefined\") ? {} : VEGA_DEBUG;\n",
       "  (function(spec, embedOpt){\n",
       "    let outputDiv = document.currentScript.previousElementSibling;\n",
       "    if (outputDiv.id !== \"altair-viz-2cffdb9a0da94e2e8cd3ad34cf1f2ff6\") {\n",
       "      outputDiv = document.getElementById(\"altair-viz-2cffdb9a0da94e2e8cd3ad34cf1f2ff6\");\n",
       "    }\n",
       "    const paths = {\n",
       "      \"vega\": \"https://cdn.jsdelivr.net/npm//vega@5?noext\",\n",
       "      \"vega-lib\": \"https://cdn.jsdelivr.net/npm//vega-lib?noext\",\n",
       "      \"vega-lite\": \"https://cdn.jsdelivr.net/npm//vega-lite@4.17.0?noext\",\n",
       "      \"vega-embed\": \"https://cdn.jsdelivr.net/npm//vega-embed@6?noext\",\n",
       "    };\n",
       "\n",
       "    function maybeLoadScript(lib, version) {\n",
       "      var key = `${lib.replace(\"-\", \"\")}_version`;\n",
       "      return (VEGA_DEBUG[key] == version) ?\n",
       "        Promise.resolve(paths[lib]) :\n",
       "        new Promise(function(resolve, reject) {\n",
       "          var s = document.createElement('script');\n",
       "          document.getElementsByTagName(\"head\")[0].appendChild(s);\n",
       "          s.async = true;\n",
       "          s.onload = () => {\n",
       "            VEGA_DEBUG[key] = version;\n",
       "            return resolve(paths[lib]);\n",
       "          };\n",
       "          s.onerror = () => reject(`Error loading script: ${paths[lib]}`);\n",
       "          s.src = paths[lib];\n",
       "        });\n",
       "    }\n",
       "\n",
       "    function showError(err) {\n",
       "      outputDiv.innerHTML = `<div class=\"error\" style=\"color:red;\">${err}</div>`;\n",
       "      throw err;\n",
       "    }\n",
       "\n",
       "    function displayChart(vegaEmbed) {\n",
       "      vegaEmbed(outputDiv, spec, embedOpt)\n",
       "        .catch(err => showError(`Javascript Error: ${err.message}<br>This usually means there's a typo in your chart specification. See the javascript console for the full traceback.`));\n",
       "    }\n",
       "\n",
       "    if(typeof define === \"function\" && define.amd) {\n",
       "      requirejs.config({paths});\n",
       "      require([\"vega-embed\"], displayChart, err => showError(`Error loading script: ${err.message}`));\n",
       "    } else {\n",
       "      maybeLoadScript(\"vega\", \"5\")\n",
       "        .then(() => maybeLoadScript(\"vega-lite\", \"4.17.0\"))\n",
       "        .then(() => maybeLoadScript(\"vega-embed\", \"6\"))\n",
       "        .catch(showError)\n",
       "        .then(() => displayChart(vegaEmbed));\n",
       "    }\n",
       "  })({\"config\": {\"view\": {\"continuousWidth\": 400, \"continuousHeight\": 300}}, \"hconcat\": [{\"layer\": [{\"mark\": \"line\", \"encoding\": {\"x\": {\"field\": \"dates\", \"type\": \"temporal\"}, \"y\": {\"field\": \"energy_cpi\", \"title\": \"Energy CPI\", \"type\": \"quantitative\"}}, \"width\": \"container\"}, {\"mark\": {\"type\": \"line\", \"color\": \"red\"}, \"encoding\": {\"x\": {\"field\": \"dates\", \"type\": \"temporal\"}, \"y\": {\"field\": \"fitted\", \"type\": \"quantitative\"}}, \"width\": \"container\"}]}, {\"mark\": {\"type\": \"line\", \"color\": \"red\"}, \"encoding\": {\"x\": {\"field\": \"dates\", \"type\": \"temporal\"}, \"y\": {\"field\": \"resid\", \"type\": \"quantitative\"}}, \"width\": \"container\"}], \"data\": {\"name\": \"data-21dbde72a3e3d9f799a566ed900c0c47\"}, \"$schema\": \"https://vega.github.io/schema/vega-lite/v4.17.0.json\", \"datasets\": {\"data-21dbde72a3e3d9f799a566ed900c0c47\": [{\"dates\": \"2012-08-31T00:00:00\", \"energy_cpi\": 0.043063357391695645, \"fitted\": 0.0355829491266546, \"resid\": 0.0074804082650410456}, {\"dates\": \"2012-09-30T00:00:00\", \"energy_cpi\": 0.024074532771887203, \"fitted\": -0.0014055407975599073, \"resid\": 0.02548007356944711}, {\"dates\": \"2012-10-31T00:00:00\", \"energy_cpi\": -0.02266201644741972, \"fitted\": -0.03780036547191686, \"resid\": 0.015138349024497143}, {\"dates\": \"2012-11-30T00:00:00\", \"energy_cpi\": -0.04621132590620425, \"fitted\": -0.027968528949674075, \"resid\": -0.018242796956530173}, {\"dates\": \"2012-12-31T00:00:00\", \"energy_cpi\": -0.0229047567232763, \"fitted\": -0.013153121191369865, \"resid\": -0.009751635531906434}, {\"dates\": \"2013-01-31T00:00:00\", \"energy_cpi\": 0.004929906241835091, \"fitted\": 0.00753754992279899, \"resid\": -0.0026076436809638988}, {\"dates\": \"2013-02-28T00:00:00\", \"energy_cpi\": 0.05763263775231864, \"fitted\": 0.04772580743486136, \"resid\": 0.009906830317457281}, {\"dates\": \"2013-03-31T00:00:00\", \"energy_cpi\": 0.005718407711589268, \"fitted\": -0.01689939793519988, \"resid\": 0.022617805646789148}, {\"dates\": \"2013-04-30T00:00:00\", \"energy_cpi\": -0.019265522008294456, \"fitted\": -0.0076273828904486795, \"resid\": -0.011638139117845777}, {\"dates\": \"2013-05-31T00:00:00\", \"energy_cpi\": 0.012453167835853485, \"fitted\": 0.012457483829499582, \"resid\": -4.3159936460972215e-06}, {\"dates\": \"2013-06-30T00:00:00\", \"energy_cpi\": 0.016609834345553853, \"fitted\": -0.0008469617565108256, \"resid\": 0.01745679610206468}, {\"dates\": \"2013-07-31T00:00:00\", \"energy_cpi\": -0.002187193604344162, \"fitted\": 0.01668239990471865, \"resid\": -0.018869593509062813}, {\"dates\": \"2013-08-31T00:00:00\", \"energy_cpi\": -0.005406373075546034, \"fitted\": -0.0068265915695105, \"resid\": 0.0014202184939644666}, {\"dates\": \"2013-09-30T00:00:00\", \"energy_cpi\": -0.005991736363599953, \"fitted\": -0.017915768330435893, \"resid\": 0.01192403196683594}, {\"dates\": \"2013-10-31T00:00:00\", \"energy_cpi\": -0.040195080337849576, \"fitted\": -0.029268939912662186, \"resid\": -0.01092614042518739}, {\"dates\": \"2013-11-30T00:00:00\", \"energy_cpi\": -0.022588921869497458, \"fitted\": -0.0016571290873766296, \"resid\": -0.020931792782120828}, {\"dates\": \"2013-12-31T00:00:00\", \"energy_cpi\": 0.006030814631802883, \"fitted\": -0.018133144961338093, \"resid\": 0.024163959593140976}, {\"dates\": \"2014-01-31T00:00:00\", \"energy_cpi\": 0.021356516103725465, \"fitted\": 0.013670725939079212, \"resid\": 0.007685790164646253}, {\"dates\": \"2014-02-28T00:00:00\", \"energy_cpi\": 0.010394446276575708, \"fitted\": 0.019081934323298168, \"resid\": -0.00868748804672246}, {\"dates\": \"2014-03-31T00:00:00\", \"energy_cpi\": 0.035126280258303444, \"fitted\": 0.025014665204855128, \"resid\": 0.010111615053448316}, {\"dates\": \"2014-04-30T00:00:00\", \"energy_cpi\": 0.008677153223199285, \"fitted\": 0.008809996310327181, \"resid\": -0.00013284308712789572}, {\"dates\": \"2014-05-31T00:00:00\", \"energy_cpi\": 0.012919589896999373, \"fitted\": 0.0013276426999073343, \"resid\": 0.011591947197092039}, {\"dates\": \"2014-06-30T00:00:00\", \"energy_cpi\": 0.01514168965005358, \"fitted\": 0.01068065038554893, \"resid\": 0.004461039264504651}, {\"dates\": \"2014-07-31T00:00:00\", \"energy_cpi\": -0.007507946647784647, \"fitted\": -0.009764062253615716, \"resid\": 0.002256115605831069}, {\"dates\": \"2014-08-31T00:00:00\", \"energy_cpi\": -0.02697096240117558, \"fitted\": -0.013525723759836239, \"resid\": -0.013445238641339341}, {\"dates\": \"2014-09-30T00:00:00\", \"energy_cpi\": -0.015437276599814309, \"fitted\": -0.0137388378256297, \"resid\": -0.0016984387741846088}, {\"dates\": \"2014-10-31T00:00:00\", \"energy_cpi\": -0.049911566030023, \"fitted\": -0.047632516392647234, \"resid\": -0.0022790496373757685}, {\"dates\": \"2014-11-30T00:00:00\", \"energy_cpi\": -0.05495750708215297, \"fitted\": -0.028209858897329847, \"resid\": -0.02674764818482312}, {\"dates\": \"2014-12-31T00:00:00\", \"energy_cpi\": -0.054358017345522036, \"fitted\": -0.07237257763896511, \"resid\": 0.018014560293443074}, {\"dates\": \"2015-01-31T00:00:00\", \"energy_cpi\": -0.08182663202802865, \"fitted\": -0.051511177999462775, \"resid\": -0.03031545402856587}, {\"dates\": \"2015-02-28T00:00:00\", \"energy_cpi\": 0.02065216827000449, \"fitted\": 0.03124500811555004, \"resid\": -0.01059283984554555}, {\"dates\": \"2015-03-31T00:00:00\", \"energy_cpi\": 0.04137397823974931, \"fitted\": 0.017246503493216235, \"resid\": 0.024127474746533074}, {\"dates\": \"2015-04-30T00:00:00\", \"energy_cpi\": -0.004962609472918045, \"fitted\": 0.007856061066583313, \"resid\": -0.012818670539501358}, {\"dates\": \"2015-05-31T00:00:00\", \"energy_cpi\": 0.05210711042387661, \"fitted\": 0.027681480479006197, \"resid\": 0.024425629944870415}, {\"dates\": \"2015-06-30T00:00:00\", \"energy_cpi\": 0.03047170251481357, \"fitted\": 0.030139462171105833, \"resid\": 0.0003322403437077369}, {\"dates\": \"2015-07-31T00:00:00\", \"energy_cpi\": -0.004568484250275007, \"fitted\": -0.00812457062527882, \"resid\": 0.0035560863750038127}, {\"dates\": \"2015-08-31T00:00:00\", \"energy_cpi\": -0.03003838946200177, \"fitted\": -0.043599192313638666, \"resid\": 0.013560802851636897}, {\"dates\": \"2015-09-30T00:00:00\", \"energy_cpi\": -0.05442958433373346, \"fitted\": -0.01871038315611925, \"resid\": -0.03571920117761421}, {\"dates\": \"2015-10-31T00:00:00\", \"energy_cpi\": -0.035409465336910584, \"fitted\": -0.03502996774798064, \"resid\": -0.00037949758892994595}, {\"dates\": \"2015-11-30T00:00:00\", \"energy_cpi\": -0.02690988735276434, \"fitted\": -0.028316806970355376, \"resid\": 0.0014069196175910369}, {\"dates\": \"2015-12-31T00:00:00\", \"energy_cpi\": -0.031114774366371334, \"fitted\": -0.010573608999914677, \"resid\": -0.020541165366456657}, {\"dates\": \"2016-01-31T00:00:00\", \"energy_cpi\": -0.01748846644635671, \"fitted\": -0.02766328844719875, \"resid\": 0.010174822000842042}, {\"dates\": \"2016-02-29T00:00:00\", \"energy_cpi\": -0.045012793401823736, \"fitted\": -0.014603719731865646, \"resid\": -0.03040907366995809}, {\"dates\": \"2016-03-31T00:00:00\", \"energy_cpi\": 0.040427522797147564, \"fitted\": 0.06001020603446091, \"resid\": -0.019582683237313346}, {\"dates\": \"2016-04-30T00:00:00\", \"energy_cpi\": 0.0370635191071238, \"fitted\": 0.02521343933999238, \"resid\": 0.01185007976713142}, {\"dates\": \"2016-05-31T00:00:00\", \"energy_cpi\": 0.03781806821364708, \"fitted\": 0.03095399562765852, \"resid\": 0.006864072585988562}, {\"dates\": \"2016-06-30T00:00:00\", \"energy_cpi\": 0.038209816632325255, \"fitted\": 0.0070195774392714265, \"resid\": 0.031190239193053828}, {\"dates\": \"2016-07-31T00:00:00\", \"energy_cpi\": -0.02047141750193715, \"fitted\": -0.015504622273511078, \"resid\": -0.004966795228426073}, {\"dates\": \"2016-08-31T00:00:00\", \"energy_cpi\": -0.012330305195467961, \"fitted\": 0.006441580366110215, \"resid\": -0.018771885561578175}, {\"dates\": \"2016-09-30T00:00:00\", \"energy_cpi\": 0.012029515718980699, \"fitted\": -0.01551781114066176, \"resid\": 0.02754732685964246}, {\"dates\": \"2016-10-31T00:00:00\", \"energy_cpi\": -0.005442885444110868, \"fitted\": -0.007446290309777366, \"resid\": 0.002003404865666498}, {\"dates\": \"2016-11-30T00:00:00\", \"energy_cpi\": -0.017372911810910496, \"fitted\": -0.020321155083775848, \"resid\": 0.0029482432728653515}, {\"dates\": \"2016-12-31T00:00:00\", \"energy_cpi\": 0.00994764944984916, \"fitted\": 0.03326798814491045, \"resid\": -0.02332033869506129}, {\"dates\": \"2017-01-31T00:00:00\", \"energy_cpi\": 0.032601160853775735, \"fitted\": 0.015298066546320217, \"resid\": 0.017303094307455517}, {\"dates\": \"2017-02-28T00:00:00\", \"energy_cpi\": -0.007078874594204643, \"fitted\": 0.008974771708971329, \"resid\": -0.01605364630317597}, {\"dates\": \"2017-03-31T00:00:00\", \"energy_cpi\": 0.002028305456747148, \"fitted\": -0.0012006221685980185, \"resid\": 0.0032289276253451666}, {\"dates\": \"2017-04-30T00:00:00\", \"energy_cpi\": 0.021510898956177638, \"fitted\": 0.011883527084624482, \"resid\": 0.009627371871553155}, {\"dates\": \"2017-05-31T00:00:00\", \"energy_cpi\": 0.0012964030975655128, \"fitted\": 0.010592980904981827, \"resid\": -0.009296577807416315}, {\"dates\": \"2017-06-30T00:00:00\", \"energy_cpi\": 0.007453281609987483, \"fitted\": -0.004562335392432266, \"resid\": 0.01201561700241975}, {\"dates\": \"2017-07-31T00:00:00\", \"energy_cpi\": -0.010222530613840375, \"fitted\": 0.00595092540548184, \"resid\": -0.016173456019322213}, {\"dates\": \"2017-08-31T00:00:00\", \"energy_cpi\": 0.016489429979166026, \"fitted\": 0.028705990260328728, \"resid\": -0.012216560281162702}, {\"dates\": \"2017-09-30T00:00:00\", \"energy_cpi\": 0.04767987410997887, \"fitted\": 0.013032032582706313, \"resid\": 0.03464784152727256}, {\"dates\": \"2017-10-31T00:00:00\", \"energy_cpi\": -0.03903834296813802, \"fitted\": -0.023377723921487834, \"resid\": -0.015660619046650184}, {\"dates\": \"2017-11-30T00:00:00\", \"energy_cpi\": 0.010096965603743735, \"fitted\": 0.004416504991904735, \"resid\": 0.005680460611839}, {\"dates\": \"2017-12-31T00:00:00\", \"energy_cpi\": -0.013300984320599119, \"fitted\": -0.023423901576014462, \"resid\": 0.010122917255415344}, {\"dates\": \"2018-01-31T00:00:00\", \"energy_cpi\": 0.019675892312607024, \"fitted\": 0.03230482245478422, \"resid\": -0.012628930142177197}, {\"dates\": \"2018-02-28T00:00:00\", \"energy_cpi\": 0.013557197989205516, \"fitted\": 0.005334828864998294, \"resid\": 0.008222369124207221}, {\"dates\": \"2018-03-31T00:00:00\", \"energy_cpi\": -0.004519504119071427, \"fitted\": 0.006657673735472122, \"resid\": -0.011177177854543549}, {\"dates\": \"2018-04-30T00:00:00\", \"energy_cpi\": 0.02952661441327864, \"fitted\": 0.025661143017797677, \"resid\": 0.0038654713954809627}, {\"dates\": \"2018-05-31T00:00:00\", \"energy_cpi\": 0.03646666362016182, \"fitted\": 0.028081320636659832, \"resid\": 0.008385342983501989}, {\"dates\": \"2018-06-30T00:00:00\", \"energy_cpi\": 0.010259688726246718, \"fitted\": -0.012708871388020702, \"resid\": 0.02296856011426742}, {\"dates\": \"2018-07-31T00:00:00\", \"energy_cpi\": -0.00885932869855155, \"fitted\": 0.01673236212250514, \"resid\": -0.025591690821056688}, {\"dates\": \"2018-08-31T00:00:00\", \"energy_cpi\": -0.0007397394179836647, \"fitted\": -0.012125103657994265, \"resid\": 0.0113853642400106}, {\"dates\": \"2018-09-30T00:00:00\", \"energy_cpi\": -0.0034106081369883468, \"fitted\": -0.0034623103745166387, \"resid\": 5.1702237528292e-05}, {\"dates\": \"2018-10-31T00:00:00\", \"energy_cpi\": -0.001803992660225906, \"fitted\": -0.0007695653926364726, \"resid\": -0.0010344272675894333}, {\"dates\": \"2018-11-30T00:00:00\", \"energy_cpi\": -0.0436176951323769, \"fitted\": -0.03897203838814557, \"resid\": -0.004645656744231327}, {\"dates\": \"2018-12-31T00:00:00\", \"energy_cpi\": -0.046338752257885196, \"fitted\": -0.03839760989108773, \"resid\": -0.007941142366797466}, {\"dates\": \"2019-01-31T00:00:00\", \"energy_cpi\": -0.025944003302493912, \"fitted\": -0.012461591050512623, \"resid\": -0.01348241225198129}, {\"dates\": \"2019-02-28T00:00:00\", \"energy_cpi\": 0.010854444738062519, \"fitted\": 0.02348047133685649, \"resid\": -0.012626026598793971}, {\"dates\": \"2019-03-31T00:00:00\", \"energy_cpi\": 0.04431291309065788, \"fitted\": 0.04056385591972255, \"resid\": 0.0037490571709353285}, {\"dates\": \"2019-04-30T00:00:00\", \"energy_cpi\": 0.050891726965294426, \"fitted\": 0.024152210911251942, \"resid\": 0.026739516054042484}, {\"dates\": \"2019-05-31T00:00:00\", \"energy_cpi\": 0.014714672874934331, \"fitted\": 0.014889370696639034, \"resid\": -0.00017469782170470224}, {\"dates\": \"2019-06-30T00:00:00\", \"energy_cpi\": -0.019488601382804838, \"fitted\": -0.013785451091658265, \"resid\": -0.005703150291146573}, {\"dates\": \"2019-07-31T00:00:00\", \"energy_cpi\": 0.0050548169831008405, \"fitted\": 0.004279383191424256, \"resid\": 0.0007754337916765844}, {\"dates\": \"2019-08-31T00:00:00\", \"energy_cpi\": -0.024782913542958807, \"fitted\": -0.013809897018591498, \"resid\": -0.010973016524367309}, {\"dates\": \"2019-09-30T00:00:00\", \"energy_cpi\": -0.007189668998700327, \"fitted\": 0.010177285785839568, \"resid\": -0.017366954784539895}, {\"dates\": \"2019-10-31T00:00:00\", \"energy_cpi\": 0.00433111439155498, \"fitted\": -0.023260562523570043, \"resid\": 0.027591676915125023}, {\"dates\": \"2019-11-30T00:00:00\", \"energy_cpi\": -0.007926933547799608, \"fitted\": 0.005388725227205591, \"resid\": -0.0133156587750052}, {\"dates\": \"2019-12-31T00:00:00\", \"energy_cpi\": -0.007706069811215244, \"fitted\": 0.0003164712272798074, \"resid\": -0.008022541038495052}, {\"dates\": \"2020-01-31T00:00:00\", \"energy_cpi\": 0.00028640918011846317, \"fitted\": 0.0017528810726663005, \"resid\": -0.0014664718925478373}, {\"dates\": \"2020-02-29T00:00:00\", \"energy_cpi\": -0.02200964124613336, \"fitted\": -0.003229612787648891, \"resid\": -0.01878002845848447}, {\"dates\": \"2020-03-31T00:00:00\", \"energy_cpi\": -0.04214461925377, \"fitted\": -0.043819371492130485, \"resid\": 0.0016747522383604857}, {\"dates\": \"2020-04-30T00:00:00\", \"energy_cpi\": -0.08263642877543564, \"fitted\": -0.07161590975622077, \"resid\": -0.011020519019214872}, {\"dates\": \"2020-05-31T00:00:00\", \"energy_cpi\": -2.7310316198847495e-05, \"fitted\": 0.0050205907180014475, \"resid\": -0.005047901034200295}, {\"dates\": \"2020-06-30T00:00:00\", \"energy_cpi\": 0.056277174506762284, \"fitted\": 0.04639655748761234, \"resid\": 0.009880617019149947}, {\"dates\": \"2020-07-31T00:00:00\", \"energy_cpi\": 0.02216373029129337, \"fitted\": 0.014953359266261668, \"resid\": 0.0072103710250317025}, {\"dates\": \"2020-08-31T00:00:00\", \"energy_cpi\": -0.0015328965674247241, \"fitted\": 0.005397914205225012, \"resid\": -0.006930810772649736}, {\"dates\": \"2020-09-30T00:00:00\", \"energy_cpi\": 0.007579979935347314, \"fitted\": 0.009449823143670079, \"resid\": -0.0018698432083227648}, {\"dates\": \"2020-10-31T00:00:00\", \"energy_cpi\": -0.012068913496062539, \"fitted\": -0.01683438311867841, \"resid\": 0.00476546962261587}, {\"dates\": \"2020-11-30T00:00:00\", \"energy_cpi\": -0.0105366032434413, \"fitted\": -0.018617800955880295, \"resid\": 0.008081197712438995}, {\"dates\": \"2020-12-31T00:00:00\", \"energy_cpi\": 0.019378768236722355, \"fitted\": 0.04156334599353185, \"resid\": -0.022184577756809494}, {\"dates\": \"2021-01-31T00:00:00\", \"energy_cpi\": 0.03592137468143619, \"fitted\": 0.028897675985523105, \"resid\": 0.007023698695913086}, {\"dates\": \"2021-02-28T00:00:00\", \"energy_cpi\": 0.0389919765385609, \"fitted\": 0.060330868960883084, \"resid\": -0.021338892422322182}, {\"dates\": \"2021-03-31T00:00:00\", \"energy_cpi\": 0.059003080500944716, \"fitted\": 0.034983686452666043, \"resid\": 0.024019394048278672}, {\"dates\": \"2021-04-30T00:00:00\", \"energy_cpi\": 0.01441151858886669, \"fitted\": 0.0024208177471285513, \"resid\": 0.011990700841738137}, {\"dates\": \"2021-05-31T00:00:00\", \"energy_cpi\": 0.027160914122104085, \"fitted\": 0.027339844420136636, \"resid\": -0.00017893029803255078}, {\"dates\": \"2021-06-30T00:00:00\", \"energy_cpi\": 0.022864888522514226, \"fitted\": 0.004632968642791254, \"resid\": 0.018231919879722974}, {\"dates\": \"2021-07-31T00:00:00\", \"energy_cpi\": 0.016949152542372836, \"fitted\": 0.009602193925907061, \"resid\": 0.007346958616465775}]}}, {\"mode\": \"vega-lite\"});\n",
       "</script>"
      ],
      "text/plain": [
       "alt.HConcatChart(...)"
      ]
     },
     "execution_count": 230,
     "metadata": {},
     "output_type": "execute_result"
    }
   ],
   "source": [
    "from sklearn.linear_model import LassoCV, LassoLarsCV\n",
    "\n",
    "lassocv = LassoCV(cv=5, random_state=0).fit(exog, endog)\n",
    "\n",
    "print(\"Insample score (Rsq): %s\" % lassocv.score(exog, endog))\n",
    "print(\"Insample score (Rsq): %s\" % lassocv.score(exog_out, outsample))\n",
    "\n",
    "print(\"Coefs Selected \")\n",
    "print(pd.Series(lassocv.coef_, exog.columns.values))\n",
    "\n",
    "y_lasso = lassocv.predict(exog.values)\n",
    "resid = endog.values - y_lasso\n",
    "\n",
    "data_df = pd.DataFrame(dict(dates=endog.index, \n",
    "                            energy_cpi=endog, \n",
    "                            fitted=pd.Series(y_lasso, endog.index), \n",
    "                            resid=pd.Series(resid, endog.index)))\n",
    "\n",
    "statsmodels.graphics.tsaplots.plot_pacf(resid)\n",
    "\n",
    "line1 = alt.Chart(data_df).mark_line().encode(x='dates:T', y=alt.Y('energy_cpi', title=\"Energy CPI\")).properties(width=\"container\")\n",
    "line2 = alt.Chart(data_df).mark_line(color='red').encode(x='dates:T', y=alt.Y('fitted')).properties(width=\"container\")\n",
    "line3 = alt.Chart(data_df).mark_line(color='red').encode(x='dates:T', y=alt.Y('resid')).properties(width=\"container\")\n",
    "line1 + line2 | line3"
   ]
  },
  {
   "cell_type": "code",
   "execution_count": 244,
   "metadata": {},
   "outputs": [
    {
     "name": "stdout",
     "output_type": "stream",
     "text": [
      "0.0001240093723842503\n",
      "0.00012352894850655054\n",
      "0.0001234584118279751\n",
      "0.00012340884432403252\n",
      "0.00012330280708110336\n",
      "S&P Industrial                0.000000\n",
      "Bloomberg Commd              -0.000000\n",
      "FIBER Steel                   0.106553\n",
      "CRB Spot Commod               0.149422\n",
      "S&P Energy Spot              -0.265095\n",
      "FIBER US Commd                0.000000\n",
      "US Avg Gasoline               0.350196\n",
      "US electricity all sectors    0.252904\n",
      "US Natural Gas Spot          -0.052624\n",
      "US Brent Spot Avg             0.081081\n",
      "FIBER Petroleum               0.121780\n",
      "FIBER Metals                 -0.136600\n",
      "FIBER CrudOil                 0.000000\n",
      "S&P GSCI                      0.257055\n",
      "dtype: float64\n"
     ]
    }
   ],
   "source": [
    "# Adaptive Lasso \n",
    "\n",
    "from sklearn.linear_model import Lasso\n",
    "\n",
    "alpha = lassocv.alpha_\n",
    "\n",
    "g = lambda w: np.sqrt(np.abs(w))\n",
    "gprime = lambda w: 1. / (2. * np.sqrt(np.abs(w)) + np.finfo(float).eps)\n",
    "\n",
    "# Or another option:\n",
    "# ll = 0.01\n",
    "# g = lambda w: np.log(ll + np.abs(w))\n",
    "# gprime = lambda w: 1. / (ll + np.abs(w))\n",
    "\n",
    "n_samples, n_features = exog.shape\n",
    "p_obj = lambda w: 1. / (2 * n_samples) * np.sum((endog - np.dot(exog, w)) ** 2) \\\n",
    "                  + alpha * np.sum(g(w))\n",
    "\n",
    "weights = np.ones(n_features)\n",
    "n_lasso_iterations = 5\n",
    "\n",
    "for k in range(n_lasso_iterations):\n",
    "    X_w = exog / weights[np.newaxis, :]\n",
    "    clf = Lasso(alpha=alpha, fit_intercept=False)\n",
    "    clf.fit(X_w, endog)\n",
    "    coef_ = clf.coef_ / weights\n",
    "    weights = gprime(coef_)\n",
    "    print(p_obj(coef_))  # should go down\n",
    "    \n",
    "print(pd.Series(clf.coef_, exog.columns.values))"
   ]
  },
  {
   "cell_type": "markdown",
   "metadata": {},
   "source": [
    "#### Stacking Regression"
   ]
  },
  {
   "cell_type": "code",
   "execution_count": 231,
   "metadata": {},
   "outputs": [],
   "source": [
    "X = pd.DataFrame(dict(LASSO=pd.Series(y_lasso-y_ard, endog.index), ARD=pd.Series(y_ard, endog.index)))\n",
    "y = endog\n",
    "\n",
    "y_lasso_out = lassocv.predict(exog_out.values)\n",
    "y_ard_out = ard.predict(exog_out.values)\n",
    "X_out = pd.DataFrame(dict(LASSO=pd.Series(y_lasso_out-y_ard_out, outsample.index), ARD=pd.Series(y_ard_out, outsample.index)))\n",
    "y_out = outsample"
   ]
  },
  {
   "cell_type": "code",
   "execution_count": 232,
   "metadata": {},
   "outputs": [
    {
     "name": "stdout",
     "output_type": "stream",
     "text": [
      "Insample score (Rsq): 0.7406312842891172\n",
      "Outsample score (Rsq): 0.7517415294084934\n"
     ]
    },
    {
     "data": {
      "text/html": [
       "\n",
       "<div id=\"altair-viz-d79fa617ff844a58a323d7dd8ec151b4\"></div>\n",
       "<script type=\"text/javascript\">\n",
       "  var VEGA_DEBUG = (typeof VEGA_DEBUG == \"undefined\") ? {} : VEGA_DEBUG;\n",
       "  (function(spec, embedOpt){\n",
       "    let outputDiv = document.currentScript.previousElementSibling;\n",
       "    if (outputDiv.id !== \"altair-viz-d79fa617ff844a58a323d7dd8ec151b4\") {\n",
       "      outputDiv = document.getElementById(\"altair-viz-d79fa617ff844a58a323d7dd8ec151b4\");\n",
       "    }\n",
       "    const paths = {\n",
       "      \"vega\": \"https://cdn.jsdelivr.net/npm//vega@5?noext\",\n",
       "      \"vega-lib\": \"https://cdn.jsdelivr.net/npm//vega-lib?noext\",\n",
       "      \"vega-lite\": \"https://cdn.jsdelivr.net/npm//vega-lite@4.17.0?noext\",\n",
       "      \"vega-embed\": \"https://cdn.jsdelivr.net/npm//vega-embed@6?noext\",\n",
       "    };\n",
       "\n",
       "    function maybeLoadScript(lib, version) {\n",
       "      var key = `${lib.replace(\"-\", \"\")}_version`;\n",
       "      return (VEGA_DEBUG[key] == version) ?\n",
       "        Promise.resolve(paths[lib]) :\n",
       "        new Promise(function(resolve, reject) {\n",
       "          var s = document.createElement('script');\n",
       "          document.getElementsByTagName(\"head\")[0].appendChild(s);\n",
       "          s.async = true;\n",
       "          s.onload = () => {\n",
       "            VEGA_DEBUG[key] = version;\n",
       "            return resolve(paths[lib]);\n",
       "          };\n",
       "          s.onerror = () => reject(`Error loading script: ${paths[lib]}`);\n",
       "          s.src = paths[lib];\n",
       "        });\n",
       "    }\n",
       "\n",
       "    function showError(err) {\n",
       "      outputDiv.innerHTML = `<div class=\"error\" style=\"color:red;\">${err}</div>`;\n",
       "      throw err;\n",
       "    }\n",
       "\n",
       "    function displayChart(vegaEmbed) {\n",
       "      vegaEmbed(outputDiv, spec, embedOpt)\n",
       "        .catch(err => showError(`Javascript Error: ${err.message}<br>This usually means there's a typo in your chart specification. See the javascript console for the full traceback.`));\n",
       "    }\n",
       "\n",
       "    if(typeof define === \"function\" && define.amd) {\n",
       "      requirejs.config({paths});\n",
       "      require([\"vega-embed\"], displayChart, err => showError(`Error loading script: ${err.message}`));\n",
       "    } else {\n",
       "      maybeLoadScript(\"vega\", \"5\")\n",
       "        .then(() => maybeLoadScript(\"vega-lite\", \"4.17.0\"))\n",
       "        .then(() => maybeLoadScript(\"vega-embed\", \"6\"))\n",
       "        .catch(showError)\n",
       "        .then(() => displayChart(vegaEmbed));\n",
       "    }\n",
       "  })({\"config\": {\"view\": {\"continuousWidth\": 400, \"continuousHeight\": 300}}, \"hconcat\": [{\"layer\": [{\"mark\": \"line\", \"encoding\": {\"x\": {\"field\": \"dates\", \"type\": \"temporal\"}, \"y\": {\"field\": \"energy_cpi\", \"title\": \"Energy CPI\", \"type\": \"quantitative\"}}, \"width\": \"container\"}, {\"mark\": {\"type\": \"line\", \"color\": \"red\"}, \"encoding\": {\"x\": {\"field\": \"dates\", \"type\": \"temporal\"}, \"y\": {\"field\": \"fitted\", \"type\": \"quantitative\"}}, \"width\": \"container\"}]}, {\"mark\": {\"type\": \"line\", \"color\": \"red\"}, \"encoding\": {\"x\": {\"field\": \"dates\", \"type\": \"temporal\"}, \"y\": {\"field\": \"resid\", \"type\": \"quantitative\"}}, \"width\": \"container\"}], \"data\": {\"name\": \"data-d1cc8d4f0866c29a2e7570d64ae3b2c0\"}, \"$schema\": \"https://vega.github.io/schema/vega-lite/v4.17.0.json\", \"datasets\": {\"data-d1cc8d4f0866c29a2e7570d64ae3b2c0\": [{\"dates\": \"2012-08-31T00:00:00\", \"energy_cpi\": 0.043063357391695645, \"fitted\": 0.035370987274986145, \"resid\": 0.0076923701167095}, {\"dates\": \"2012-09-30T00:00:00\", \"energy_cpi\": 0.024074532771887203, \"fitted\": -0.0019305945164788127, \"resid\": 0.026005127288366015}, {\"dates\": \"2012-10-31T00:00:00\", \"energy_cpi\": -0.02266201644741972, \"fitted\": -0.037730502740308335, \"resid\": 0.015068486292888615}, {\"dates\": \"2012-11-30T00:00:00\", \"energy_cpi\": -0.04621132590620425, \"fitted\": -0.028489695387477563, \"resid\": -0.017721630518726685}, {\"dates\": \"2012-12-31T00:00:00\", \"energy_cpi\": -0.0229047567232763, \"fitted\": -0.01329795781810085, \"resid\": -0.009606798905175448}, {\"dates\": \"2013-01-31T00:00:00\", \"energy_cpi\": 0.004929906241835091, \"fitted\": 0.007389934991702217, \"resid\": -0.0024600287498671254}, {\"dates\": \"2013-02-28T00:00:00\", \"energy_cpi\": 0.05763263775231864, \"fitted\": 0.0473789549017118, \"resid\": 0.010253682850606835}, {\"dates\": \"2013-03-31T00:00:00\", \"energy_cpi\": 0.005718407711589268, \"fitted\": -0.01663735596142651, \"resid\": 0.02235576367301578}, {\"dates\": \"2013-04-30T00:00:00\", \"energy_cpi\": -0.019265522008294456, \"fitted\": -0.0075539905581005215, \"resid\": -0.011711531450193935}, {\"dates\": \"2013-05-31T00:00:00\", \"energy_cpi\": 0.012453167835853485, \"fitted\": 0.012461573879339997, \"resid\": -8.406043486512e-06}, {\"dates\": \"2013-06-30T00:00:00\", \"energy_cpi\": 0.016609834345553853, \"fitted\": -0.0005800142604745919, \"resid\": 0.017189848606028447}, {\"dates\": \"2013-07-31T00:00:00\", \"energy_cpi\": -0.002187193604344162, \"fitted\": 0.01701813024279217, \"resid\": -0.019205323847136333}, {\"dates\": \"2013-08-31T00:00:00\", \"energy_cpi\": -0.005406373075546034, \"fitted\": -0.0070221107466620645, \"resid\": 0.0016157376711160307}, {\"dates\": \"2013-09-30T00:00:00\", \"energy_cpi\": -0.005991736363599953, \"fitted\": -0.017941799536819892, \"resid\": 0.011950063173219939}, {\"dates\": \"2013-10-31T00:00:00\", \"energy_cpi\": -0.040195080337849576, \"fitted\": -0.029821255326083315, \"resid\": -0.010373825011766261}, {\"dates\": \"2013-11-30T00:00:00\", \"energy_cpi\": -0.022588921869497458, \"fitted\": -0.0015827800474719142, \"resid\": -0.021006141822025544}, {\"dates\": \"2013-12-31T00:00:00\", \"energy_cpi\": 0.006030814631802883, \"fitted\": -0.01867310971542677, \"resid\": 0.024703924347229653}, {\"dates\": \"2014-01-31T00:00:00\", \"energy_cpi\": 0.021356516103725465, \"fitted\": 0.014295242162102508, \"resid\": 0.0070612739416229565}, {\"dates\": \"2014-02-28T00:00:00\", \"energy_cpi\": 0.010394446276575708, \"fitted\": 0.01936790071147072, \"resid\": -0.008973454434895011}, {\"dates\": \"2014-03-31T00:00:00\", \"energy_cpi\": 0.035126280258303444, \"fitted\": 0.02546908497755021, \"resid\": 0.009657195280753234}, {\"dates\": \"2014-04-30T00:00:00\", \"energy_cpi\": 0.008677153223199285, \"fitted\": 0.00845840638445208, \"resid\": 0.00021874683874720594}, {\"dates\": \"2014-05-31T00:00:00\", \"energy_cpi\": 0.012919589896999373, \"fitted\": 0.0013557138463927872, \"resid\": 0.011563876050606586}, {\"dates\": \"2014-06-30T00:00:00\", \"energy_cpi\": 0.01514168965005358, \"fitted\": 0.011157016976148078, \"resid\": 0.0039846726739055024}, {\"dates\": \"2014-07-31T00:00:00\", \"energy_cpi\": -0.007507946647784647, \"fitted\": -0.010360436547449151, \"resid\": 0.002852489899664504}, {\"dates\": \"2014-08-31T00:00:00\", \"energy_cpi\": -0.02697096240117558, \"fitted\": -0.013784323673325091, \"resid\": -0.013186638727850489}, {\"dates\": \"2014-09-30T00:00:00\", \"energy_cpi\": -0.015437276599814309, \"fitted\": -0.013916241740694807, \"resid\": -0.0015210348591195022}, {\"dates\": \"2014-10-31T00:00:00\", \"energy_cpi\": -0.049911566030023, \"fitted\": -0.047938317187487776, \"resid\": -0.001973248842535226}, {\"dates\": \"2014-11-30T00:00:00\", \"energy_cpi\": -0.05495750708215297, \"fitted\": -0.02897377002578016, \"resid\": -0.02598373705637281}, {\"dates\": \"2014-12-31T00:00:00\", \"energy_cpi\": -0.054358017345522036, \"fitted\": -0.07209215895821422, \"resid\": 0.017734141612692184}, {\"dates\": \"2015-01-31T00:00:00\", \"energy_cpi\": -0.08182663202802865, \"fitted\": -0.0522357188117767, \"resid\": -0.029590913216251943}, {\"dates\": \"2015-02-28T00:00:00\", \"energy_cpi\": 0.02065216827000449, \"fitted\": 0.030874383790075736, \"resid\": -0.010222215520071246}, {\"dates\": \"2015-03-31T00:00:00\", \"energy_cpi\": 0.04137397823974931, \"fitted\": 0.017449158219026685, \"resid\": 0.023924820020722624}, {\"dates\": \"2015-04-30T00:00:00\", \"energy_cpi\": -0.004962609472918045, \"fitted\": 0.007720226344509254, \"resid\": -0.0126828358174273}, {\"dates\": \"2015-05-31T00:00:00\", \"energy_cpi\": 0.05210711042387661, \"fitted\": 0.027540386028936187, \"resid\": 0.024566724394940426}, {\"dates\": \"2015-06-30T00:00:00\", \"energy_cpi\": 0.03047170251481357, \"fitted\": 0.0316847127192233, \"resid\": -0.0012130102044097327}, {\"dates\": \"2015-07-31T00:00:00\", \"energy_cpi\": -0.004568484250275007, \"fitted\": -0.009121766033296608, \"resid\": 0.004553281783021602}, {\"dates\": \"2015-08-31T00:00:00\", \"energy_cpi\": -0.03003838946200177, \"fitted\": -0.043767003436137535, \"resid\": 0.013728613974135766}, {\"dates\": \"2015-09-30T00:00:00\", \"energy_cpi\": -0.05442958433373346, \"fitted\": -0.01835376550139193, \"resid\": -0.03607581883234153}, {\"dates\": \"2015-10-31T00:00:00\", \"energy_cpi\": -0.035409465336910584, \"fitted\": -0.035193140156893676, \"resid\": -0.00021632518001690748}, {\"dates\": \"2015-11-30T00:00:00\", \"energy_cpi\": -0.02690988735276434, \"fitted\": -0.02872995501454949, \"resid\": 0.0018200676617851526}, {\"dates\": \"2015-12-31T00:00:00\", \"energy_cpi\": -0.031114774366371334, \"fitted\": -0.010636967860403157, \"resid\": -0.020477806505968178}, {\"dates\": \"2016-01-31T00:00:00\", \"energy_cpi\": -0.01748846644635671, \"fitted\": -0.02718226664743568, \"resid\": 0.009693800201078972}, {\"dates\": \"2016-02-29T00:00:00\", \"energy_cpi\": -0.045012793401823736, \"fitted\": -0.014479079522518245, \"resid\": -0.030533713879305494}, {\"dates\": \"2016-03-31T00:00:00\", \"energy_cpi\": 0.040427522797147564, \"fitted\": 0.059672839203965856, \"resid\": -0.019245316406818293}, {\"dates\": \"2016-04-30T00:00:00\", \"energy_cpi\": 0.0370635191071238, \"fitted\": 0.025552197771559742, \"resid\": 0.011511321335564057}, {\"dates\": \"2016-05-31T00:00:00\", \"energy_cpi\": 0.03781806821364708, \"fitted\": 0.03124550436400623, \"resid\": 0.006572563849640854}, {\"dates\": \"2016-06-30T00:00:00\", \"energy_cpi\": 0.038209816632325255, \"fitted\": 0.007466086961813014, \"resid\": 0.03074372967051224}, {\"dates\": \"2016-07-31T00:00:00\", \"energy_cpi\": -0.02047141750193715, \"fitted\": -0.015989710638290338, \"resid\": -0.004481706863646812}, {\"dates\": \"2016-08-31T00:00:00\", \"energy_cpi\": -0.012330305195467961, \"fitted\": 0.005750647949418545, \"resid\": -0.018080953144886506}, {\"dates\": \"2016-09-30T00:00:00\", \"energy_cpi\": 0.012029515718980699, \"fitted\": -0.015927423377282885, \"resid\": 0.027956939096263584}, {\"dates\": \"2016-10-31T00:00:00\", \"energy_cpi\": -0.005442885444110868, \"fitted\": -0.007575418084651886, \"resid\": 0.002132532640541018}, {\"dates\": \"2016-11-30T00:00:00\", \"energy_cpi\": -0.017372911810910496, \"fitted\": -0.021324177753928548, \"resid\": 0.0039512659430180515}, {\"dates\": \"2016-12-31T00:00:00\", \"energy_cpi\": 0.00994764944984916, \"fitted\": 0.034292090431048895, \"resid\": -0.024344440981199734}, {\"dates\": \"2017-01-31T00:00:00\", \"energy_cpi\": 0.032601160853775735, \"fitted\": 0.015976708338555714, \"resid\": 0.01662445251522002}, {\"dates\": \"2017-02-28T00:00:00\", \"energy_cpi\": -0.007078874594204643, \"fitted\": 0.009289722980868456, \"resid\": -0.0163685975750731}, {\"dates\": \"2017-03-31T00:00:00\", \"energy_cpi\": 0.002028305456747148, \"fitted\": -0.0019115870068619392, \"resid\": 0.003939892463609087}, {\"dates\": \"2017-04-30T00:00:00\", \"energy_cpi\": 0.021510898956177638, \"fitted\": 0.012155203819250823, \"resid\": 0.009355695136926814}, {\"dates\": \"2017-05-31T00:00:00\", \"energy_cpi\": 0.0012964030975655128, \"fitted\": 0.0107889509610291, \"resid\": -0.009492547863463588}, {\"dates\": \"2017-06-30T00:00:00\", \"energy_cpi\": 0.007453281609987483, \"fitted\": -0.004166398091279257, \"resid\": 0.01161967970126674}, {\"dates\": \"2017-07-31T00:00:00\", \"energy_cpi\": -0.010222530613840375, \"fitted\": 0.0057631717698946915, \"resid\": -0.015985702383735065}, {\"dates\": \"2017-08-31T00:00:00\", \"energy_cpi\": 0.016489429979166026, \"fitted\": 0.028247105761485102, \"resid\": -0.011757675782319076}, {\"dates\": \"2017-09-30T00:00:00\", \"energy_cpi\": 0.04767987410997887, \"fitted\": 0.013131398420384102, \"resid\": 0.034548475689594765}, {\"dates\": \"2017-10-31T00:00:00\", \"energy_cpi\": -0.03903834296813802, \"fitted\": -0.023240743857557835, \"resid\": -0.015797599110580183}, {\"dates\": \"2017-11-30T00:00:00\", \"energy_cpi\": 0.010096965603743735, \"fitted\": 0.004680924637581497, \"resid\": 0.005416040966162238}, {\"dates\": \"2017-12-31T00:00:00\", \"energy_cpi\": -0.013300984320599119, \"fitted\": -0.02355026717072855, \"resid\": 0.01024928285012943}, {\"dates\": \"2018-01-31T00:00:00\", \"energy_cpi\": 0.019675892312607024, \"fitted\": 0.03240074320539222, \"resid\": -0.012724850892785196}, {\"dates\": \"2018-02-28T00:00:00\", \"energy_cpi\": 0.013557197989205516, \"fitted\": 0.005601956049669241, \"resid\": 0.007955241939536275}, {\"dates\": \"2018-03-31T00:00:00\", \"energy_cpi\": -0.004519504119071427, \"fitted\": 0.0065250914746384225, \"resid\": -0.01104459559370985}, {\"dates\": \"2018-04-30T00:00:00\", \"energy_cpi\": 0.02952661441327864, \"fitted\": 0.02606329917416414, \"resid\": 0.0034633152391145006}, {\"dates\": \"2018-05-31T00:00:00\", \"energy_cpi\": 0.03646666362016182, \"fitted\": 0.0283808117563764, \"resid\": 0.00808585186378542}, {\"dates\": \"2018-06-30T00:00:00\", \"energy_cpi\": 0.010259688726246718, \"fitted\": -0.012736904565348706, \"resid\": 0.022996593291595424}, {\"dates\": \"2018-07-31T00:00:00\", \"energy_cpi\": -0.00885932869855155, \"fitted\": 0.017305866472555474, \"resid\": -0.026165195171107023}, {\"dates\": \"2018-08-31T00:00:00\", \"energy_cpi\": -0.0007397394179836647, \"fitted\": -0.0122169221307089, \"resid\": 0.011477182712725235}, {\"dates\": \"2018-09-30T00:00:00\", \"energy_cpi\": -0.0034106081369883468, \"fitted\": -0.003345295601812674, \"resid\": -6.531253517567254e-05}, {\"dates\": \"2018-10-31T00:00:00\", \"energy_cpi\": -0.001803992660225906, \"fitted\": -0.0010183265388711616, \"resid\": -0.0007856661213547444}, {\"dates\": \"2018-11-30T00:00:00\", \"energy_cpi\": -0.0436176951323769, \"fitted\": -0.03914440943187046, \"resid\": -0.004473285700506438}, {\"dates\": \"2018-12-31T00:00:00\", \"energy_cpi\": -0.046338752257885196, \"fitted\": -0.03894989900422622, \"resid\": -0.0073888532536589765}, {\"dates\": \"2019-01-31T00:00:00\", \"energy_cpi\": -0.025944003302493912, \"fitted\": -0.012106384704033791, \"resid\": -0.013837618598460121}, {\"dates\": \"2019-02-28T00:00:00\", \"energy_cpi\": 0.010854444738062519, \"fitted\": 0.023187522381210246, \"resid\": -0.012333077643147727}, {\"dates\": \"2019-03-31T00:00:00\", \"energy_cpi\": 0.04431291309065788, \"fitted\": 0.04049626133158906, \"resid\": 0.003816651759068819}, {\"dates\": \"2019-04-30T00:00:00\", \"energy_cpi\": 0.050891726965294426, \"fitted\": 0.024054551747406422, \"resid\": 0.026837175217888004}, {\"dates\": \"2019-05-31T00:00:00\", \"energy_cpi\": 0.014714672874934331, \"fitted\": 0.01566402713233011, \"resid\": -0.0009493542573957778}, {\"dates\": \"2019-06-30T00:00:00\", \"energy_cpi\": -0.019488601382804838, \"fitted\": -0.013292336607165469, \"resid\": -0.006196264775639369}, {\"dates\": \"2019-07-31T00:00:00\", \"energy_cpi\": 0.0050548169831008405, \"fitted\": 0.004326818093740694, \"resid\": 0.0007279988893601468}, {\"dates\": \"2019-08-31T00:00:00\", \"energy_cpi\": -0.024782913542958807, \"fitted\": -0.013669208143850751, \"resid\": -0.011113705399108055}, {\"dates\": \"2019-09-30T00:00:00\", \"energy_cpi\": -0.007189668998700327, \"fitted\": 0.010439360228350243, \"resid\": -0.01762902922705057}, {\"dates\": \"2019-10-31T00:00:00\", \"energy_cpi\": 0.00433111439155498, \"fitted\": -0.02406375292050001, \"resid\": 0.02839486731205499}, {\"dates\": \"2019-11-30T00:00:00\", \"energy_cpi\": -0.007926933547799608, \"fitted\": 0.006330979099167129, \"resid\": -0.014257912646966738}, {\"dates\": \"2019-12-31T00:00:00\", \"energy_cpi\": -0.007706069811215244, \"fitted\": 0.0007847043728230629, \"resid\": -0.008490774184038307}, {\"dates\": \"2020-01-31T00:00:00\", \"energy_cpi\": 0.00028640918011846317, \"fitted\": 0.0017495626313227181, \"resid\": -0.001463153451204255}, {\"dates\": \"2020-02-29T00:00:00\", \"energy_cpi\": -0.02200964124613336, \"fitted\": -0.0035250709004746488, \"resid\": -0.018484570345658712}, {\"dates\": \"2020-03-31T00:00:00\", \"energy_cpi\": -0.04214461925377, \"fitted\": -0.04368984957925275, \"resid\": 0.0015452303254827535}, {\"dates\": \"2020-04-30T00:00:00\", \"energy_cpi\": -0.08263642877543564, \"fitted\": -0.07327804873873904, \"resid\": -0.009358380036696604}, {\"dates\": \"2020-05-31T00:00:00\", \"energy_cpi\": -2.7310316198847495e-05, \"fitted\": 0.004852291914677106, \"resid\": -0.004879602230875953}, {\"dates\": \"2020-06-30T00:00:00\", \"energy_cpi\": 0.056277174506762284, \"fitted\": 0.04715346451927362, \"resid\": 0.009123709987488661}, {\"dates\": \"2020-07-31T00:00:00\", \"energy_cpi\": 0.02216373029129337, \"fitted\": 0.015626703403934083, \"resid\": 0.006537026887359288}, {\"dates\": \"2020-08-31T00:00:00\", \"energy_cpi\": -0.0015328965674247241, \"fitted\": 0.005452741396412468, \"resid\": -0.006985637963837192}, {\"dates\": \"2020-09-30T00:00:00\", \"energy_cpi\": 0.007579979935347314, \"fitted\": 0.010190705948383314, \"resid\": -0.002610726013036}, {\"dates\": \"2020-10-31T00:00:00\", \"energy_cpi\": -0.012068913496062539, \"fitted\": -0.01661655795838064, \"resid\": 0.0045476444623181005}, {\"dates\": \"2020-11-30T00:00:00\", \"energy_cpi\": -0.0105366032434413, \"fitted\": -0.019347942625512402, \"resid\": 0.008811339382071102}, {\"dates\": \"2020-12-31T00:00:00\", \"energy_cpi\": 0.019378768236722355, \"fitted\": 0.042687518271443826, \"resid\": -0.023308750034721472}, {\"dates\": \"2021-01-31T00:00:00\", \"energy_cpi\": 0.03592137468143619, \"fitted\": 0.029172779787076067, \"resid\": 0.006748594894360124}, {\"dates\": \"2021-02-28T00:00:00\", \"energy_cpi\": 0.0389919765385609, \"fitted\": 0.059606747864990504, \"resid\": -0.020614771326429603}, {\"dates\": \"2021-03-31T00:00:00\", \"energy_cpi\": 0.059003080500944716, \"fitted\": 0.03520491498055182, \"resid\": 0.0237981655203929}, {\"dates\": \"2021-04-30T00:00:00\", \"energy_cpi\": 0.01441151858886669, \"fitted\": 0.002834648902458192, \"resid\": 0.011576869686408498}, {\"dates\": \"2021-05-31T00:00:00\", \"energy_cpi\": 0.027160914122104085, \"fitted\": 0.02744193516226573, \"resid\": -0.0002810210401616442}, {\"dates\": \"2021-06-30T00:00:00\", \"energy_cpi\": 0.022864888522514226, \"fitted\": 0.003882491157088625, \"resid\": 0.0189823973654256}, {\"dates\": \"2021-07-31T00:00:00\", \"energy_cpi\": 0.016949152542372836, \"fitted\": 0.009450501510723536, \"resid\": 0.0074986510316493}]}}, {\"mode\": \"vega-lite\"});\n",
       "</script>"
      ],
      "text/plain": [
       "alt.HConcatChart(...)"
      ]
     },
     "execution_count": 232,
     "metadata": {},
     "output_type": "execute_result"
    }
   ],
   "source": [
    "from sklearn.linear_model import LinearRegression\n",
    "\n",
    "ridgecv = LinearRegression().fit(X, y)\n",
    "\n",
    "print(\"Insample score (Rsq): %s\" % ridgecv.score(X, y))\n",
    "print(\"Outsample score (Rsq): %s\" % ridgecv.score(X_out, y_out))\n",
    "\n",
    "y_ridge = ridgecv.predict(X)\n",
    "resid = y.values - y_ridge\n",
    "\n",
    "data_df = pd.DataFrame(dict(dates=y.index, \n",
    "                            energy_cpi=y, \n",
    "                            fitted=pd.Series(y_ridge, y.index), \n",
    "                            resid=pd.Series(resid, y.index)))\n",
    "\n",
    "statsmodels.graphics.tsaplots.plot_pacf(resid)\n",
    "\n",
    "line1 = alt.Chart(data_df).mark_line().encode(x='dates:T', y=alt.Y('energy_cpi', title=\"Energy CPI\")).properties(width=\"container\")\n",
    "line2 = alt.Chart(data_df).mark_line(color='red').encode(x='dates:T', y=alt.Y('fitted')).properties(width=\"container\")\n",
    "line3 = alt.Chart(data_df).mark_line(color='red').encode(x='dates:T', y=alt.Y('resid')).properties(width=\"container\")\n",
    "line1 + line2 | line3"
   ]
  },
  {
   "cell_type": "markdown",
   "metadata": {},
   "source": [
    "### Model and Monitor Process"
   ]
  },
  {
   "cell_type": "code",
   "execution_count": 144,
   "metadata": {},
   "outputs": [
    {
     "data": {
      "text/plain": [
       "{'Bloomberg Commd': 'BCOM Index',\n",
       " 'FIBER Steel': 'FJPPSTL Index',\n",
       " 'CRB Spot Commod': 'CRB CMDT Index',\n",
       " 'FIBER US Commd': 'FIBEINDX Index',\n",
       " 'FIBER Petroleum': 'FIBEPTRO Index',\n",
       " 'FIBER Metals': 'FIBEMETL Index',\n",
       " 'FIBER CrudOil': 'FJPPPETR Index',\n",
       " 'S&P GSCI': 'SPGSCI Index',\n",
       " 'S&P Industrial': 'SPGSIN Index',\n",
       " 'S&P Energy Spot': 'SPGSEN Index',\n",
       " 'US Avg Gasoline': 'AUTMUSAG Index',\n",
       " 'US electricity all sectors': 'ST27AU Index',\n",
       " 'US Natural Gas Spot': 'NGUSAVER Index',\n",
       " 'US Brent Spot Avg': 'ST13SA Index'}"
      ]
     },
     "execution_count": 144,
     "metadata": {},
     "output_type": "execute_result"
    }
   ],
   "source": [
    "dataset"
   ]
  },
  {
   "cell_type": "code",
   "execution_count": 145,
   "metadata": {},
   "outputs": [],
   "source": [
    "from tia.bbg import LocalTerminal\n",
    "\n",
    "index_freq_dict = dict()\n",
    "for k in dataset:\n",
    "    tick = dataset[k]\n",
    "    v = LocalTerminal.get_reference_data(tick, \"INDX_FREQ\", ignore_field_error=True).as_map()[tick][\"INDX_FREQ\"]\n",
    "    index_freq_dict[k] = v\n"
   ]
  },
  {
   "cell_type": "code",
   "execution_count": 192,
   "metadata": {},
   "outputs": [
    {
     "data": {
      "text/plain": [
       "datetime.datetime(2022, 8, 31, 0, 0)"
      ]
     },
     "execution_count": 192,
     "metadata": {},
     "output_type": "execute_result"
    }
   ],
   "source": [
    "# Find the next \n",
    "last_cpi_update = cpi_api.current_data_date()\n",
    "next_month_end = datetime(last_cpi_update.year, (last_cpi_update.month+2)%12, 1) - timedelta(days=1)\n"
   ]
  },
  {
   "cell_type": "code",
   "execution_count": null,
   "metadata": {},
   "outputs": [],
   "source": []
  }
 ],
 "metadata": {
  "kernelspec": {
   "display_name": "Python 3 (ipykernel)",
   "language": "python",
   "name": "python3"
  },
  "language_info": {
   "codemirror_mode": {
    "name": "ipython",
    "version": 3
   },
   "file_extension": ".py",
   "mimetype": "text/x-python",
   "name": "python",
   "nbconvert_exporter": "python",
   "pygments_lexer": "ipython3",
   "version": "3.7.6"
  }
 },
 "nbformat": 4,
 "nbformat_minor": 4
}
